{
 "cells": [
  {
   "cell_type": "markdown",
   "metadata": {
    "jp-MarkdownHeadingCollapsed": true,
    "toc": true
   },
   "source": [
    "<h1>Содержание<span class=\"tocSkip\"></span></h1>\n",
    "<div class=\"toc\"><ul class=\"toc-item\"><li><ul class=\"toc-item\"><li><span><a href=\"#Описание-проекта\" data-toc-modified-id=\"Описание-проекта-0.1\"><span class=\"toc-item-num\">0.1&nbsp;&nbsp;</span>Описание проекта</a></span><ul class=\"toc-item\"><li><span><a href=\"#Инструкция-по-выполнению-проекта\" data-toc-modified-id=\"Инструкция-по-выполнению-проекта-0.1.1\"><span class=\"toc-item-num\">0.1.1&nbsp;&nbsp;</span>Инструкция по выполнению проекта</a></span></li></ul></li></ul></li><li><span><a href=\"#Подготовка-данных\" data-toc-modified-id=\"Подготовка-данных-1\"><span class=\"toc-item-num\">1&nbsp;&nbsp;</span>Подготовка данных</a></span><ul class=\"toc-item\"><li><span><a href=\"#Откроем-файлы-и-изучим-их.\" data-toc-modified-id=\"Откроем-файлы-и-изучим-их.-1.1\"><span class=\"toc-item-num\">1.1&nbsp;&nbsp;</span>Откроем файлы и изучим их.</a></span></li><li><span><a href=\"#Проверим,-что-эффективность-обогащения-рассчитана-правильно.-Вычислим-её-на-обучающей-выборке-для-признака-rougher.output.recovery.-Найдем-MAE-между-нашими-расчётами-и-значением-признака.-Опишим-выводы.\" data-toc-modified-id=\"Проверим,-что-эффективность-обогащения-рассчитана-правильно.-Вычислим-её-на-обучающей-выборке-для-признака-rougher.output.recovery.-Найдем-MAE-между-нашими-расчётами-и-значением-признака.-Опишим-выводы.-1.2\"><span class=\"toc-item-num\">1.2&nbsp;&nbsp;</span>Проверим, что эффективность обогащения рассчитана правильно. Вычислим её на обучающей выборке для признака rougher.output.recovery. Найдем MAE между нашими расчётами и значением признака. Опишим выводы.</a></span></li><li><span><a href=\"#Проанализируем-признаки,-недоступные-в-тестовой-выборке.-Что-это-за-параметры?-К-какому-типу-относятся?\" data-toc-modified-id=\"Проанализируем-признаки,-недоступные-в-тестовой-выборке.-Что-это-за-параметры?-К-какому-типу-относятся?-1.3\"><span class=\"toc-item-num\">1.3&nbsp;&nbsp;</span>Проанализируем признаки, недоступные в тестовой выборке. Что это за параметры? К какому типу относятся?</a></span></li><li><span><a href=\"#Проведем-предобработку-данных\" data-toc-modified-id=\"Проведем-предобработку-данных-1.4\"><span class=\"toc-item-num\">1.4&nbsp;&nbsp;</span>Проведем предобработку данных</a></span></li></ul></li><li><span><a href=\"#Анализ-данных\" data-toc-modified-id=\"Анализ-данных-2\"><span class=\"toc-item-num\">2&nbsp;&nbsp;</span>Анализ данных</a></span><ul class=\"toc-item\"><li><span><a href=\"#Посмотрим,-как-меняется-концентрация-металлов-(Au,-Ag,-Pb)-на-различных-этапах-очистки.-Опишем-выводы.\" data-toc-modified-id=\"Посмотрим,-как-меняется-концентрация-металлов-(Au,-Ag,-Pb)-на-различных-этапах-очистки.-Опишем-выводы.-2.1\"><span class=\"toc-item-num\">2.1&nbsp;&nbsp;</span>Посмотрим, как меняется концентрация металлов (Au, Ag, Pb) на различных этапах очистки. Опишем выводы.</a></span></li><li><span><a href=\"#Сравним-распределения-размеров-гранул-сырья-на-обучающей-и-тестовой-выборках.-Если-распределения-сильно-отличаются-друг-от-друга,-оценка-модели-будет-неправильной.\" data-toc-modified-id=\"Сравним-распределения-размеров-гранул-сырья-на-обучающей-и-тестовой-выборках.-Если-распределения-сильно-отличаются-друг-от-друга,-оценка-модели-будет-неправильной.-2.2\"><span class=\"toc-item-num\">2.2&nbsp;&nbsp;</span>Сравним распределения размеров гранул сырья на обучающей и тестовой выборках. Если распределения сильно отличаются друг от друга, оценка модели будет неправильной.</a></span></li><li><span><a href=\"#Исследуем-суммарную-концентрацию-всех-веществ-на-разных-стадиях:-в-сырье,-в-черновом-и-финальном-концентратах.\" data-toc-modified-id=\"Исследуем-суммарную-концентрацию-всех-веществ-на-разных-стадиях:-в-сырье,-в-черновом-и-финальном-концентратах.-2.3\"><span class=\"toc-item-num\">2.3&nbsp;&nbsp;</span>Исследуем суммарную концентрацию всех веществ на разных стадиях: в сырье, в черновом и финальном концентратах.</a></span></li></ul></li><li><span><a href=\"#Модель\" data-toc-modified-id=\"Модель-3\"><span class=\"toc-item-num\">3&nbsp;&nbsp;</span>Модель</a></span><ul class=\"toc-item\"><li><span><a href=\"#Напишите-функцию-для-вычисления-итоговой-sMAPE\" data-toc-modified-id=\"Напишите-функцию-для-вычисления-итоговой-sMAPE-3.1\"><span class=\"toc-item-num\">3.1&nbsp;&nbsp;</span>Напишите функцию для вычисления итоговой sMAPE</a></span></li><li><span><a href=\"#Обучим-разные-модели-и-оценим-их-качество-кросс-валидацией.-Выберем-лучшую-модель-и-проверим-её-на-тестовой-выборке.-Опишем-выводы.\" data-toc-modified-id=\"Обучим-разные-модели-и-оценим-их-качество-кросс-валидацией.-Выберем-лучшую-модель-и-проверим-её-на-тестовой-выборке.-Опишем-выводы.-3.2\"><span class=\"toc-item-num\">3.2&nbsp;&nbsp;</span>Обучим разные модели и оценим их качество кросс-валидацией. Выберем лучшую модель и проверим её на тестовой выборке. Опишем выводы.</a></span><ul class=\"toc-item\"><li><span><a href=\"#Модель-дерева-решений\" data-toc-modified-id=\"Модель-дерева-решений-3.2.1\"><span class=\"toc-item-num\">3.2.1&nbsp;&nbsp;</span>Модель дерева решений</a></span></li><li><span><a href=\"#Модель-случайного-леса\" data-toc-modified-id=\"Модель-случайного-леса-3.2.2\"><span class=\"toc-item-num\">3.2.2&nbsp;&nbsp;</span>Модель случайного леса</a></span></li><li><span><a href=\"#Модель-линейной-регрессии\" data-toc-modified-id=\"Модель-линейной-регрессии-3.2.3\"><span class=\"toc-item-num\">3.2.3&nbsp;&nbsp;</span>Модель линейной регрессии</a></span></li><li><span><a href=\"#Выберем-лучшую-модель\" data-toc-modified-id=\"Выберем-лучшую-модель-3.2.4\"><span class=\"toc-item-num\">3.2.4&nbsp;&nbsp;</span>Выберем лучшую модель</a></span></li><li><span><a href=\"#Проверим-модель-на-тестовой-выборке\" data-toc-modified-id=\"Проверим-модель-на-тестовой-выборке-3.2.5\"><span class=\"toc-item-num\">3.2.5&nbsp;&nbsp;</span>Проверим модель на тестовой выборке</a></span></li><li><span><a href=\"#Посчитаем-итоговое-sMAPE\" data-toc-modified-id=\"Посчитаем-итоговое-sMAPE-3.2.6\"><span class=\"toc-item-num\">3.2.6&nbsp;&nbsp;</span>Посчитаем итоговое sMAPE</a></span></li><li><span><a href=\"#Сравним-с-константной-моделью-DummyRegressor\" data-toc-modified-id=\"Сравним-с-константной-моделью-DummyRegressor-3.2.7\"><span class=\"toc-item-num\">3.2.7&nbsp;&nbsp;</span>Сравним с константной моделью DummyRegressor</a></span></li></ul></li></ul></li><li><span><a href=\"#Чек-лист-готовности-проекта\" data-toc-modified-id=\"Чек-лист-готовности-проекта-4\"><span class=\"toc-item-num\">4&nbsp;&nbsp;</span>Чек-лист готовности проекта</a></span></li></ul></div>"
   ]
  },
  {
   "cell_type": "markdown",
   "metadata": {},
   "source": [
    "# Восстановление золота из руды"
   ]
  },
  {
   "cell_type": "markdown",
   "metadata": {},
   "source": [
    "Подготовьте прототип модели машинного обучения для «Цифры». Компания разрабатывает решения для эффективной работы промышленных предприятий.\n",
    "\n",
    "Модель должна предсказать коэффициент восстановления золота из золотосодержащей руды. Используйте данные с параметрами добычи и очистки. \n",
    "\n",
    "Модель поможет оптимизировать производство, чтобы не запускать предприятие с убыточными характеристиками.\n",
    "\n",
    "Вам нужно:\n",
    "\n",
    "1. Подготовить данные;\n",
    "2. Провести исследовательский анализ данных;\n",
    "3. Построить и обучить модель.\n",
    "\n",
    "Чтобы выполнить проект, обращайтесь к библиотекам *pandas*, *matplotlib* и *sklearn.* Вам поможет их документация."
   ]
  },
  {
   "cell_type": "markdown",
   "metadata": {},
   "source": [
    "### Описание проекта\n",
    "Данные находятся в трёх файлах:\n",
    "- gold_recovery_train_new.csv — обучающая выборка;\n",
    "- gold_recovery_test_new.csv — тестовая выборка;\n",
    "- gold_recovery_full_new.csv — исходные данные.\n",
    "\n",
    "Данные индексируются датой и временем получения информации (признак date). Соседние по времени параметры часто похожи.\n",
    "\n",
    "Некоторые параметры недоступны, потому что замеряются и/или рассчитываются значительно позже. Из-за этого в тестовой выборке отсутствуют некоторые признаки, которые могут быть в обучающей. Также в тестовом наборе нет целевых признаков.\n",
    "\n",
    "Исходный датасет содержит обучающую и тестовую выборки со всеми признаками.\n",
    "\n",
    "В вашем распоряжении сырые данные: их просто выгрузили из хранилища. Прежде чем приступить к построению модели, проверьте по нашей инструкции их на корректность.\n",
    "\n",
    "#### Инструкция по выполнению проекта\n",
    "1. Подготовьте данные\n",
    "    \n",
    "    1.1. Откройте файлы и изучите их.\n",
    "    Путь к файлам:\n",
    "    /datasets/gold_recovery_train_new.csv.\n",
    "    /datasets/gold_recovery_test_new.csv.\n",
    "    /datasets/gold_recovery_full_new.csv.\n",
    "   \n",
    "    1.2. Проверьте, что эффективность обогащения рассчитана правильно. Вычислите её на обучающей выборке для признака rougher.output.recovery. Найдите MAE между вашими расчётами и значением признака. Опишите выводы.\n",
    "    \n",
    "    1.3. Проанализируйте признаки, недоступные в тестовой выборке. Что это за параметры? К какому типу относятся?\n",
    "    \n",
    "    1.4. Проведите предобработку данных.\n",
    "2. Проанализируйте данные\n",
    "    \n",
    "    2.1. Посмотрите, как меняется концентрация металлов (Au, Ag, Pb) на различных этапах очистки. Опишите выводы.\n",
    "    \n",
    "    2.2.  Сравните распределения размеров гранул сырья на обучающей и тестовой выборках. Если распределения сильно отличаются друг от друга, оценка модели будет неправильной.\n",
    "    \n",
    "    2.3. Исследуйте суммарную концентрацию всех веществ на разных стадиях: в сырье, в черновом и финальном концентратах. \n",
    "3. Постройте модель\n",
    "    \n",
    "    3.1. Напишите функцию для вычисления итоговой sMAPE.\n",
    "    \n",
    "    3.2. Обучите разные модели и оцените их качество кросс-валидацией. Выберите лучшую модель и проверьте её на тестовой выборке. Опишите выводы."
   ]
  },
  {
   "cell_type": "markdown",
   "metadata": {},
   "source": [
    "## Подготовка данных"
   ]
  },
  {
   "cell_type": "code",
   "execution_count": 1,
   "metadata": {},
   "outputs": [],
   "source": [
    "import pandas as pd\n",
    "import numpy as np\n",
    "import matplotlib.pyplot as plt\n",
    "from sklearn.metrics import mean_absolute_error\n",
    "from sklearn.metrics import make_scorer\n",
    "from sklearn.model_selection import train_test_split, cross_val_score\n",
    "from sklearn.tree import DecisionTreeRegressor\n",
    "from sklearn.ensemble import RandomForestRegressor\n",
    "from sklearn.linear_model import LinearRegression\n",
    "from sklearn.preprocessing import StandardScaler\n",
    "from sklearn.dummy import DummyRegressor"
   ]
  },
  {
   "cell_type": "markdown",
   "metadata": {},
   "source": [
    "### Откроем файлы и изучим их."
   ]
  },
  {
   "cell_type": "code",
   "execution_count": 2,
   "metadata": {},
   "outputs": [],
   "source": [
    "#Считываем данные из csv-файла в датафрейм\n",
    "try:\n",
    "    data_recovery_train = pd.read_csv('/datasets/gold_recovery_train_new.csv')\n",
    "except:\n",
    "    data_recovery_train = pd.read_csv('https://code.s3.yandex.net/datasets/gold_recovery_train_new.csv')\n",
    "    \n",
    "try:\n",
    "    data_recovery_test = pd.read_csv('/datasets/gold_recovery_test_new.csv')\n",
    "except:\n",
    "    data_recovery_test = pd.read_csv('https://code.s3.yandex.net/datasets/gold_recovery_test_new.csv')\n",
    "    \n",
    "try:\n",
    "    data_recovery_full = pd.read_csv('/datasets/gold_recovery_full_new.csv')\n",
    "except:\n",
    "    data_recovery_full = pd.read_csv('https://code.s3.yandex.net/datasets/gold_recovery_full_new.csv')"
   ]
  },
  {
   "cell_type": "code",
   "execution_count": 3,
   "metadata": {
    "scrolled": true
   },
   "outputs": [
    {
     "name": "stdout",
     "output_type": "stream",
     "text": [
      "------------- Первые 5 строк ------------\n"
     ]
    },
    {
     "data": {
      "text/html": [
       "<div>\n",
       "<style scoped>\n",
       "    .dataframe tbody tr th:only-of-type {\n",
       "        vertical-align: middle;\n",
       "    }\n",
       "\n",
       "    .dataframe tbody tr th {\n",
       "        vertical-align: top;\n",
       "    }\n",
       "\n",
       "    .dataframe thead th {\n",
       "        text-align: right;\n",
       "    }\n",
       "</style>\n",
       "<table border=\"1\" class=\"dataframe\">\n",
       "  <thead>\n",
       "    <tr style=\"text-align: right;\">\n",
       "      <th></th>\n",
       "      <th>date</th>\n",
       "      <th>final.output.concentrate_ag</th>\n",
       "      <th>final.output.concentrate_pb</th>\n",
       "      <th>final.output.concentrate_sol</th>\n",
       "      <th>final.output.concentrate_au</th>\n",
       "      <th>final.output.recovery</th>\n",
       "      <th>final.output.tail_ag</th>\n",
       "      <th>final.output.tail_pb</th>\n",
       "      <th>final.output.tail_sol</th>\n",
       "      <th>final.output.tail_au</th>\n",
       "      <th>primary_cleaner.input.sulfate</th>\n",
       "      <th>primary_cleaner.input.depressant</th>\n",
       "      <th>primary_cleaner.input.feed_size</th>\n",
       "      <th>primary_cleaner.input.xanthate</th>\n",
       "      <th>primary_cleaner.output.concentrate_ag</th>\n",
       "      <th>primary_cleaner.output.concentrate_pb</th>\n",
       "      <th>primary_cleaner.output.concentrate_sol</th>\n",
       "      <th>primary_cleaner.output.concentrate_au</th>\n",
       "      <th>primary_cleaner.output.tail_ag</th>\n",
       "      <th>primary_cleaner.output.tail_pb</th>\n",
       "      <th>primary_cleaner.output.tail_sol</th>\n",
       "      <th>primary_cleaner.output.tail_au</th>\n",
       "      <th>primary_cleaner.state.floatbank8_a_air</th>\n",
       "      <th>primary_cleaner.state.floatbank8_a_level</th>\n",
       "      <th>primary_cleaner.state.floatbank8_b_air</th>\n",
       "      <th>primary_cleaner.state.floatbank8_b_level</th>\n",
       "      <th>primary_cleaner.state.floatbank8_c_air</th>\n",
       "      <th>primary_cleaner.state.floatbank8_c_level</th>\n",
       "      <th>primary_cleaner.state.floatbank8_d_air</th>\n",
       "      <th>primary_cleaner.state.floatbank8_d_level</th>\n",
       "      <th>rougher.calculation.sulfate_to_au_concentrate</th>\n",
       "      <th>rougher.calculation.floatbank10_sulfate_to_au_feed</th>\n",
       "      <th>rougher.calculation.floatbank11_sulfate_to_au_feed</th>\n",
       "      <th>rougher.calculation.au_pb_ratio</th>\n",
       "      <th>rougher.input.feed_ag</th>\n",
       "      <th>rougher.input.feed_pb</th>\n",
       "      <th>rougher.input.feed_rate</th>\n",
       "      <th>rougher.input.feed_size</th>\n",
       "      <th>rougher.input.feed_sol</th>\n",
       "      <th>rougher.input.feed_au</th>\n",
       "      <th>rougher.input.floatbank10_sulfate</th>\n",
       "      <th>rougher.input.floatbank10_xanthate</th>\n",
       "      <th>rougher.input.floatbank11_sulfate</th>\n",
       "      <th>rougher.input.floatbank11_xanthate</th>\n",
       "      <th>rougher.output.concentrate_ag</th>\n",
       "      <th>rougher.output.concentrate_pb</th>\n",
       "      <th>rougher.output.concentrate_sol</th>\n",
       "      <th>rougher.output.concentrate_au</th>\n",
       "      <th>rougher.output.recovery</th>\n",
       "      <th>rougher.output.tail_ag</th>\n",
       "      <th>rougher.output.tail_pb</th>\n",
       "      <th>rougher.output.tail_sol</th>\n",
       "      <th>rougher.output.tail_au</th>\n",
       "      <th>rougher.state.floatbank10_a_air</th>\n",
       "      <th>rougher.state.floatbank10_a_level</th>\n",
       "      <th>rougher.state.floatbank10_b_air</th>\n",
       "      <th>rougher.state.floatbank10_b_level</th>\n",
       "      <th>rougher.state.floatbank10_c_air</th>\n",
       "      <th>rougher.state.floatbank10_c_level</th>\n",
       "      <th>rougher.state.floatbank10_d_air</th>\n",
       "      <th>rougher.state.floatbank10_d_level</th>\n",
       "      <th>rougher.state.floatbank10_e_air</th>\n",
       "      <th>rougher.state.floatbank10_e_level</th>\n",
       "      <th>rougher.state.floatbank10_f_air</th>\n",
       "      <th>rougher.state.floatbank10_f_level</th>\n",
       "      <th>secondary_cleaner.output.tail_ag</th>\n",
       "      <th>secondary_cleaner.output.tail_pb</th>\n",
       "      <th>secondary_cleaner.output.tail_sol</th>\n",
       "      <th>secondary_cleaner.output.tail_au</th>\n",
       "      <th>secondary_cleaner.state.floatbank2_a_air</th>\n",
       "      <th>secondary_cleaner.state.floatbank2_a_level</th>\n",
       "      <th>secondary_cleaner.state.floatbank2_b_air</th>\n",
       "      <th>secondary_cleaner.state.floatbank2_b_level</th>\n",
       "      <th>secondary_cleaner.state.floatbank3_a_air</th>\n",
       "      <th>secondary_cleaner.state.floatbank3_a_level</th>\n",
       "      <th>secondary_cleaner.state.floatbank3_b_air</th>\n",
       "      <th>secondary_cleaner.state.floatbank3_b_level</th>\n",
       "      <th>secondary_cleaner.state.floatbank4_a_air</th>\n",
       "      <th>secondary_cleaner.state.floatbank4_a_level</th>\n",
       "      <th>secondary_cleaner.state.floatbank4_b_air</th>\n",
       "      <th>secondary_cleaner.state.floatbank4_b_level</th>\n",
       "      <th>secondary_cleaner.state.floatbank5_a_air</th>\n",
       "      <th>secondary_cleaner.state.floatbank5_a_level</th>\n",
       "      <th>secondary_cleaner.state.floatbank5_b_air</th>\n",
       "      <th>secondary_cleaner.state.floatbank5_b_level</th>\n",
       "      <th>secondary_cleaner.state.floatbank6_a_air</th>\n",
       "      <th>secondary_cleaner.state.floatbank6_a_level</th>\n",
       "    </tr>\n",
       "  </thead>\n",
       "  <tbody>\n",
       "    <tr>\n",
       "      <th>0</th>\n",
       "      <td>2016-01-15 00:00:00</td>\n",
       "      <td>6.055403</td>\n",
       "      <td>9.889648</td>\n",
       "      <td>5.507324</td>\n",
       "      <td>42.192020</td>\n",
       "      <td>70.541216</td>\n",
       "      <td>10.411962</td>\n",
       "      <td>0.895447</td>\n",
       "      <td>16.904297</td>\n",
       "      <td>2.143149</td>\n",
       "      <td>127.092003</td>\n",
       "      <td>10.128295</td>\n",
       "      <td>7.25</td>\n",
       "      <td>0.988759</td>\n",
       "      <td>8.547551</td>\n",
       "      <td>10.389648</td>\n",
       "      <td>19.529297</td>\n",
       "      <td>34.174427</td>\n",
       "      <td>14.936526</td>\n",
       "      <td>2.534912</td>\n",
       "      <td>7.476074</td>\n",
       "      <td>2.106679</td>\n",
       "      <td>1549.775757</td>\n",
       "      <td>-498.912140</td>\n",
       "      <td>1551.434204</td>\n",
       "      <td>-516.403442</td>\n",
       "      <td>1549.873901</td>\n",
       "      <td>-498.666595</td>\n",
       "      <td>1554.367432</td>\n",
       "      <td>-493.428131</td>\n",
       "      <td>41885.707031</td>\n",
       "      <td>3481.779053</td>\n",
       "      <td>3520.337158</td>\n",
       "      <td>2.838687</td>\n",
       "      <td>6.100378</td>\n",
       "      <td>2.284912</td>\n",
       "      <td>523.546326</td>\n",
       "      <td>55.486599</td>\n",
       "      <td>36.808594</td>\n",
       "      <td>6.486150</td>\n",
       "      <td>11.986616</td>\n",
       "      <td>6.007990</td>\n",
       "      <td>11.836743</td>\n",
       "      <td>6.005818</td>\n",
       "      <td>11.500771</td>\n",
       "      <td>7.101074</td>\n",
       "      <td>28.029297</td>\n",
       "      <td>19.793808</td>\n",
       "      <td>87.107763</td>\n",
       "      <td>5.008018</td>\n",
       "      <td>0.508728</td>\n",
       "      <td>19.154297</td>\n",
       "      <td>1.170244</td>\n",
       "      <td>999.706909</td>\n",
       "      <td>-404.066986</td>\n",
       "      <td>1603.011353</td>\n",
       "      <td>-434.715027</td>\n",
       "      <td>1602.375000</td>\n",
       "      <td>-442.204468</td>\n",
       "      <td>1598.937256</td>\n",
       "      <td>-451.294128</td>\n",
       "      <td>1404.472046</td>\n",
       "      <td>-455.462982</td>\n",
       "      <td>1416.354980</td>\n",
       "      <td>-451.939636</td>\n",
       "      <td>14.500184</td>\n",
       "      <td>4.694824</td>\n",
       "      <td>8.764648</td>\n",
       "      <td>2.606185</td>\n",
       "      <td>25.853109</td>\n",
       "      <td>-498.526489</td>\n",
       "      <td>23.893660</td>\n",
       "      <td>-501.406281</td>\n",
       "      <td>23.961798</td>\n",
       "      <td>-495.262817</td>\n",
       "      <td>21.940409</td>\n",
       "      <td>-499.340973</td>\n",
       "      <td>14.016835</td>\n",
       "      <td>-502.488007</td>\n",
       "      <td>12.099931</td>\n",
       "      <td>-504.715942</td>\n",
       "      <td>9.925633</td>\n",
       "      <td>-498.310211</td>\n",
       "      <td>8.079666</td>\n",
       "      <td>-500.470978</td>\n",
       "      <td>14.151341</td>\n",
       "      <td>-605.841980</td>\n",
       "    </tr>\n",
       "    <tr>\n",
       "      <th>1</th>\n",
       "      <td>2016-01-15 01:00:00</td>\n",
       "      <td>6.029369</td>\n",
       "      <td>9.968944</td>\n",
       "      <td>5.257781</td>\n",
       "      <td>42.701629</td>\n",
       "      <td>69.266198</td>\n",
       "      <td>10.462676</td>\n",
       "      <td>0.927452</td>\n",
       "      <td>16.634514</td>\n",
       "      <td>2.224930</td>\n",
       "      <td>125.629232</td>\n",
       "      <td>10.296251</td>\n",
       "      <td>7.25</td>\n",
       "      <td>1.002663</td>\n",
       "      <td>8.558743</td>\n",
       "      <td>10.497069</td>\n",
       "      <td>19.369147</td>\n",
       "      <td>34.118526</td>\n",
       "      <td>16.250511</td>\n",
       "      <td>3.049646</td>\n",
       "      <td>6.733907</td>\n",
       "      <td>2.353017</td>\n",
       "      <td>1576.166671</td>\n",
       "      <td>-500.904965</td>\n",
       "      <td>1575.950626</td>\n",
       "      <td>-499.865889</td>\n",
       "      <td>1575.994189</td>\n",
       "      <td>-499.315107</td>\n",
       "      <td>1574.479259</td>\n",
       "      <td>-498.931665</td>\n",
       "      <td>42050.861809</td>\n",
       "      <td>3498.370979</td>\n",
       "      <td>3489.981857</td>\n",
       "      <td>2.858998</td>\n",
       "      <td>6.161113</td>\n",
       "      <td>2.266033</td>\n",
       "      <td>525.290581</td>\n",
       "      <td>57.278666</td>\n",
       "      <td>35.753385</td>\n",
       "      <td>6.478583</td>\n",
       "      <td>11.971193</td>\n",
       "      <td>6.005766</td>\n",
       "      <td>11.996163</td>\n",
       "      <td>6.012594</td>\n",
       "      <td>11.615865</td>\n",
       "      <td>7.278807</td>\n",
       "      <td>28.067063</td>\n",
       "      <td>20.050975</td>\n",
       "      <td>86.843261</td>\n",
       "      <td>4.955378</td>\n",
       "      <td>0.536689</td>\n",
       "      <td>18.965234</td>\n",
       "      <td>1.184827</td>\n",
       "      <td>1000.286398</td>\n",
       "      <td>-400.065196</td>\n",
       "      <td>1600.754587</td>\n",
       "      <td>-449.953435</td>\n",
       "      <td>1600.479580</td>\n",
       "      <td>-449.830646</td>\n",
       "      <td>1600.527589</td>\n",
       "      <td>-449.953649</td>\n",
       "      <td>1399.227084</td>\n",
       "      <td>-450.869848</td>\n",
       "      <td>1399.719514</td>\n",
       "      <td>-450.119001</td>\n",
       "      <td>14.265474</td>\n",
       "      <td>4.592547</td>\n",
       "      <td>9.001494</td>\n",
       "      <td>2.488248</td>\n",
       "      <td>25.880539</td>\n",
       "      <td>-499.989656</td>\n",
       "      <td>23.889530</td>\n",
       "      <td>-500.372428</td>\n",
       "      <td>23.970550</td>\n",
       "      <td>-500.085473</td>\n",
       "      <td>22.085714</td>\n",
       "      <td>-499.446897</td>\n",
       "      <td>13.992281</td>\n",
       "      <td>-505.503262</td>\n",
       "      <td>11.950531</td>\n",
       "      <td>-501.331529</td>\n",
       "      <td>10.039245</td>\n",
       "      <td>-500.169983</td>\n",
       "      <td>7.984757</td>\n",
       "      <td>-500.582168</td>\n",
       "      <td>13.998353</td>\n",
       "      <td>-599.787184</td>\n",
       "    </tr>\n",
       "    <tr>\n",
       "      <th>2</th>\n",
       "      <td>2016-01-15 02:00:00</td>\n",
       "      <td>6.055926</td>\n",
       "      <td>10.213995</td>\n",
       "      <td>5.383759</td>\n",
       "      <td>42.657501</td>\n",
       "      <td>68.116445</td>\n",
       "      <td>10.507046</td>\n",
       "      <td>0.953716</td>\n",
       "      <td>16.208849</td>\n",
       "      <td>2.257889</td>\n",
       "      <td>123.819808</td>\n",
       "      <td>11.316280</td>\n",
       "      <td>7.25</td>\n",
       "      <td>0.991265</td>\n",
       "      <td>8.603505</td>\n",
       "      <td>10.354494</td>\n",
       "      <td>19.167579</td>\n",
       "      <td>33.969464</td>\n",
       "      <td>16.491823</td>\n",
       "      <td>3.124664</td>\n",
       "      <td>6.471768</td>\n",
       "      <td>2.416800</td>\n",
       "      <td>1601.556163</td>\n",
       "      <td>-499.997791</td>\n",
       "      <td>1600.386685</td>\n",
       "      <td>-500.607762</td>\n",
       "      <td>1602.003542</td>\n",
       "      <td>-500.870069</td>\n",
       "      <td>1599.541515</td>\n",
       "      <td>-499.827444</td>\n",
       "      <td>42018.101184</td>\n",
       "      <td>3495.348910</td>\n",
       "      <td>3502.359819</td>\n",
       "      <td>2.945989</td>\n",
       "      <td>6.116455</td>\n",
       "      <td>2.159622</td>\n",
       "      <td>530.026610</td>\n",
       "      <td>57.510649</td>\n",
       "      <td>35.971630</td>\n",
       "      <td>6.362222</td>\n",
       "      <td>11.920603</td>\n",
       "      <td>6.197377</td>\n",
       "      <td>11.920305</td>\n",
       "      <td>6.204633</td>\n",
       "      <td>11.695753</td>\n",
       "      <td>7.216833</td>\n",
       "      <td>27.454037</td>\n",
       "      <td>19.737170</td>\n",
       "      <td>86.842308</td>\n",
       "      <td>4.843460</td>\n",
       "      <td>0.546416</td>\n",
       "      <td>18.808533</td>\n",
       "      <td>1.162562</td>\n",
       "      <td>999.719565</td>\n",
       "      <td>-400.074028</td>\n",
       "      <td>1599.337330</td>\n",
       "      <td>-450.008530</td>\n",
       "      <td>1599.672797</td>\n",
       "      <td>-449.954491</td>\n",
       "      <td>1599.849325</td>\n",
       "      <td>-449.954185</td>\n",
       "      <td>1399.180945</td>\n",
       "      <td>-449.937588</td>\n",
       "      <td>1400.316682</td>\n",
       "      <td>-450.527147</td>\n",
       "      <td>14.115662</td>\n",
       "      <td>4.624775</td>\n",
       "      <td>8.842896</td>\n",
       "      <td>2.458187</td>\n",
       "      <td>26.005245</td>\n",
       "      <td>-499.929616</td>\n",
       "      <td>23.886657</td>\n",
       "      <td>-499.951928</td>\n",
       "      <td>23.913535</td>\n",
       "      <td>-499.442343</td>\n",
       "      <td>23.957717</td>\n",
       "      <td>-499.901982</td>\n",
       "      <td>14.015015</td>\n",
       "      <td>-502.520901</td>\n",
       "      <td>11.912783</td>\n",
       "      <td>-501.133383</td>\n",
       "      <td>10.070913</td>\n",
       "      <td>-500.129135</td>\n",
       "      <td>8.013877</td>\n",
       "      <td>-500.517572</td>\n",
       "      <td>14.028663</td>\n",
       "      <td>-601.427363</td>\n",
       "    </tr>\n",
       "    <tr>\n",
       "      <th>3</th>\n",
       "      <td>2016-01-15 03:00:00</td>\n",
       "      <td>6.047977</td>\n",
       "      <td>9.977019</td>\n",
       "      <td>4.858634</td>\n",
       "      <td>42.689819</td>\n",
       "      <td>68.347543</td>\n",
       "      <td>10.422762</td>\n",
       "      <td>0.883763</td>\n",
       "      <td>16.532835</td>\n",
       "      <td>2.146849</td>\n",
       "      <td>122.270188</td>\n",
       "      <td>11.322140</td>\n",
       "      <td>7.25</td>\n",
       "      <td>0.996739</td>\n",
       "      <td>7.221879</td>\n",
       "      <td>8.496563</td>\n",
       "      <td>15.978538</td>\n",
       "      <td>28.260743</td>\n",
       "      <td>16.024359</td>\n",
       "      <td>2.960362</td>\n",
       "      <td>6.843791</td>\n",
       "      <td>2.262051</td>\n",
       "      <td>1599.968720</td>\n",
       "      <td>-500.951778</td>\n",
       "      <td>1600.659236</td>\n",
       "      <td>-499.677094</td>\n",
       "      <td>1600.304144</td>\n",
       "      <td>-500.727997</td>\n",
       "      <td>1600.449520</td>\n",
       "      <td>-500.052575</td>\n",
       "      <td>42029.447991</td>\n",
       "      <td>3498.578313</td>\n",
       "      <td>3499.162912</td>\n",
       "      <td>3.002340</td>\n",
       "      <td>6.043309</td>\n",
       "      <td>2.037807</td>\n",
       "      <td>542.590390</td>\n",
       "      <td>57.792734</td>\n",
       "      <td>36.862241</td>\n",
       "      <td>6.118189</td>\n",
       "      <td>11.630094</td>\n",
       "      <td>6.203177</td>\n",
       "      <td>11.692450</td>\n",
       "      <td>6.196578</td>\n",
       "      <td>11.915047</td>\n",
       "      <td>7.175616</td>\n",
       "      <td>27.341277</td>\n",
       "      <td>19.320810</td>\n",
       "      <td>87.226430</td>\n",
       "      <td>4.655288</td>\n",
       "      <td>0.542525</td>\n",
       "      <td>19.330200</td>\n",
       "      <td>1.079755</td>\n",
       "      <td>999.814770</td>\n",
       "      <td>-400.200179</td>\n",
       "      <td>1600.059442</td>\n",
       "      <td>-450.619948</td>\n",
       "      <td>1600.012842</td>\n",
       "      <td>-449.910497</td>\n",
       "      <td>1597.725177</td>\n",
       "      <td>-450.130127</td>\n",
       "      <td>1400.943157</td>\n",
       "      <td>-450.030142</td>\n",
       "      <td>1400.234743</td>\n",
       "      <td>-449.790835</td>\n",
       "      <td>13.732071</td>\n",
       "      <td>4.482453</td>\n",
       "      <td>9.122857</td>\n",
       "      <td>2.322062</td>\n",
       "      <td>25.942508</td>\n",
       "      <td>-499.176749</td>\n",
       "      <td>23.955516</td>\n",
       "      <td>-499.848796</td>\n",
       "      <td>23.966838</td>\n",
       "      <td>-500.008812</td>\n",
       "      <td>23.954443</td>\n",
       "      <td>-499.944710</td>\n",
       "      <td>14.036510</td>\n",
       "      <td>-500.857308</td>\n",
       "      <td>11.999550</td>\n",
       "      <td>-501.193686</td>\n",
       "      <td>9.970366</td>\n",
       "      <td>-499.201640</td>\n",
       "      <td>7.977324</td>\n",
       "      <td>-500.255908</td>\n",
       "      <td>14.005551</td>\n",
       "      <td>-599.996129</td>\n",
       "    </tr>\n",
       "    <tr>\n",
       "      <th>4</th>\n",
       "      <td>2016-01-15 04:00:00</td>\n",
       "      <td>6.148599</td>\n",
       "      <td>10.142511</td>\n",
       "      <td>4.939416</td>\n",
       "      <td>42.774141</td>\n",
       "      <td>66.927016</td>\n",
       "      <td>10.360302</td>\n",
       "      <td>0.792826</td>\n",
       "      <td>16.525686</td>\n",
       "      <td>2.055292</td>\n",
       "      <td>117.988169</td>\n",
       "      <td>11.913613</td>\n",
       "      <td>7.25</td>\n",
       "      <td>1.009869</td>\n",
       "      <td>9.089428</td>\n",
       "      <td>9.986786</td>\n",
       "      <td>19.199864</td>\n",
       "      <td>33.044932</td>\n",
       "      <td>16.480185</td>\n",
       "      <td>3.112100</td>\n",
       "      <td>6.550154</td>\n",
       "      <td>2.277073</td>\n",
       "      <td>1601.339707</td>\n",
       "      <td>-498.975456</td>\n",
       "      <td>1601.437854</td>\n",
       "      <td>-500.323246</td>\n",
       "      <td>1599.581894</td>\n",
       "      <td>-500.888152</td>\n",
       "      <td>1602.649541</td>\n",
       "      <td>-500.593010</td>\n",
       "      <td>42125.354245</td>\n",
       "      <td>3494.800771</td>\n",
       "      <td>3506.679315</td>\n",
       "      <td>3.169615</td>\n",
       "      <td>6.060915</td>\n",
       "      <td>1.786875</td>\n",
       "      <td>540.531893</td>\n",
       "      <td>56.047189</td>\n",
       "      <td>34.347666</td>\n",
       "      <td>5.663707</td>\n",
       "      <td>10.957755</td>\n",
       "      <td>6.198826</td>\n",
       "      <td>10.960521</td>\n",
       "      <td>6.194897</td>\n",
       "      <td>12.411054</td>\n",
       "      <td>7.240205</td>\n",
       "      <td>27.041023</td>\n",
       "      <td>19.216101</td>\n",
       "      <td>86.688794</td>\n",
       "      <td>4.552800</td>\n",
       "      <td>0.515438</td>\n",
       "      <td>19.267422</td>\n",
       "      <td>1.012642</td>\n",
       "      <td>999.678690</td>\n",
       "      <td>-399.752729</td>\n",
       "      <td>1600.208824</td>\n",
       "      <td>-449.599614</td>\n",
       "      <td>1600.357732</td>\n",
       "      <td>-450.034364</td>\n",
       "      <td>1599.759049</td>\n",
       "      <td>-449.909799</td>\n",
       "      <td>1401.560902</td>\n",
       "      <td>-448.877187</td>\n",
       "      <td>1401.160227</td>\n",
       "      <td>-450.407128</td>\n",
       "      <td>14.079996</td>\n",
       "      <td>4.470737</td>\n",
       "      <td>8.871028</td>\n",
       "      <td>2.330448</td>\n",
       "      <td>26.024787</td>\n",
       "      <td>-500.279091</td>\n",
       "      <td>23.955345</td>\n",
       "      <td>-500.593614</td>\n",
       "      <td>23.985703</td>\n",
       "      <td>-500.083811</td>\n",
       "      <td>23.958945</td>\n",
       "      <td>-499.990309</td>\n",
       "      <td>14.027298</td>\n",
       "      <td>-499.838632</td>\n",
       "      <td>11.953070</td>\n",
       "      <td>-501.053894</td>\n",
       "      <td>9.925709</td>\n",
       "      <td>-501.686727</td>\n",
       "      <td>7.894242</td>\n",
       "      <td>-500.356035</td>\n",
       "      <td>13.996647</td>\n",
       "      <td>-601.496691</td>\n",
       "    </tr>\n",
       "  </tbody>\n",
       "</table>\n",
       "</div>"
      ],
      "text/plain": [
       "                  date  final.output.concentrate_ag  \\\n",
       "0  2016-01-15 00:00:00                     6.055403   \n",
       "1  2016-01-15 01:00:00                     6.029369   \n",
       "2  2016-01-15 02:00:00                     6.055926   \n",
       "3  2016-01-15 03:00:00                     6.047977   \n",
       "4  2016-01-15 04:00:00                     6.148599   \n",
       "\n",
       "   final.output.concentrate_pb  final.output.concentrate_sol  \\\n",
       "0                     9.889648                      5.507324   \n",
       "1                     9.968944                      5.257781   \n",
       "2                    10.213995                      5.383759   \n",
       "3                     9.977019                      4.858634   \n",
       "4                    10.142511                      4.939416   \n",
       "\n",
       "   final.output.concentrate_au  final.output.recovery  final.output.tail_ag  \\\n",
       "0                    42.192020              70.541216             10.411962   \n",
       "1                    42.701629              69.266198             10.462676   \n",
       "2                    42.657501              68.116445             10.507046   \n",
       "3                    42.689819              68.347543             10.422762   \n",
       "4                    42.774141              66.927016             10.360302   \n",
       "\n",
       "   final.output.tail_pb  final.output.tail_sol  final.output.tail_au  \\\n",
       "0              0.895447              16.904297              2.143149   \n",
       "1              0.927452              16.634514              2.224930   \n",
       "2              0.953716              16.208849              2.257889   \n",
       "3              0.883763              16.532835              2.146849   \n",
       "4              0.792826              16.525686              2.055292   \n",
       "\n",
       "   primary_cleaner.input.sulfate  primary_cleaner.input.depressant  \\\n",
       "0                     127.092003                         10.128295   \n",
       "1                     125.629232                         10.296251   \n",
       "2                     123.819808                         11.316280   \n",
       "3                     122.270188                         11.322140   \n",
       "4                     117.988169                         11.913613   \n",
       "\n",
       "   primary_cleaner.input.feed_size  primary_cleaner.input.xanthate  \\\n",
       "0                             7.25                        0.988759   \n",
       "1                             7.25                        1.002663   \n",
       "2                             7.25                        0.991265   \n",
       "3                             7.25                        0.996739   \n",
       "4                             7.25                        1.009869   \n",
       "\n",
       "   primary_cleaner.output.concentrate_ag  \\\n",
       "0                               8.547551   \n",
       "1                               8.558743   \n",
       "2                               8.603505   \n",
       "3                               7.221879   \n",
       "4                               9.089428   \n",
       "\n",
       "   primary_cleaner.output.concentrate_pb  \\\n",
       "0                              10.389648   \n",
       "1                              10.497069   \n",
       "2                              10.354494   \n",
       "3                               8.496563   \n",
       "4                               9.986786   \n",
       "\n",
       "   primary_cleaner.output.concentrate_sol  \\\n",
       "0                               19.529297   \n",
       "1                               19.369147   \n",
       "2                               19.167579   \n",
       "3                               15.978538   \n",
       "4                               19.199864   \n",
       "\n",
       "   primary_cleaner.output.concentrate_au  primary_cleaner.output.tail_ag  \\\n",
       "0                              34.174427                       14.936526   \n",
       "1                              34.118526                       16.250511   \n",
       "2                              33.969464                       16.491823   \n",
       "3                              28.260743                       16.024359   \n",
       "4                              33.044932                       16.480185   \n",
       "\n",
       "   primary_cleaner.output.tail_pb  primary_cleaner.output.tail_sol  \\\n",
       "0                        2.534912                         7.476074   \n",
       "1                        3.049646                         6.733907   \n",
       "2                        3.124664                         6.471768   \n",
       "3                        2.960362                         6.843791   \n",
       "4                        3.112100                         6.550154   \n",
       "\n",
       "   primary_cleaner.output.tail_au  primary_cleaner.state.floatbank8_a_air  \\\n",
       "0                        2.106679                             1549.775757   \n",
       "1                        2.353017                             1576.166671   \n",
       "2                        2.416800                             1601.556163   \n",
       "3                        2.262051                             1599.968720   \n",
       "4                        2.277073                             1601.339707   \n",
       "\n",
       "   primary_cleaner.state.floatbank8_a_level  \\\n",
       "0                               -498.912140   \n",
       "1                               -500.904965   \n",
       "2                               -499.997791   \n",
       "3                               -500.951778   \n",
       "4                               -498.975456   \n",
       "\n",
       "   primary_cleaner.state.floatbank8_b_air  \\\n",
       "0                             1551.434204   \n",
       "1                             1575.950626   \n",
       "2                             1600.386685   \n",
       "3                             1600.659236   \n",
       "4                             1601.437854   \n",
       "\n",
       "   primary_cleaner.state.floatbank8_b_level  \\\n",
       "0                               -516.403442   \n",
       "1                               -499.865889   \n",
       "2                               -500.607762   \n",
       "3                               -499.677094   \n",
       "4                               -500.323246   \n",
       "\n",
       "   primary_cleaner.state.floatbank8_c_air  \\\n",
       "0                             1549.873901   \n",
       "1                             1575.994189   \n",
       "2                             1602.003542   \n",
       "3                             1600.304144   \n",
       "4                             1599.581894   \n",
       "\n",
       "   primary_cleaner.state.floatbank8_c_level  \\\n",
       "0                               -498.666595   \n",
       "1                               -499.315107   \n",
       "2                               -500.870069   \n",
       "3                               -500.727997   \n",
       "4                               -500.888152   \n",
       "\n",
       "   primary_cleaner.state.floatbank8_d_air  \\\n",
       "0                             1554.367432   \n",
       "1                             1574.479259   \n",
       "2                             1599.541515   \n",
       "3                             1600.449520   \n",
       "4                             1602.649541   \n",
       "\n",
       "   primary_cleaner.state.floatbank8_d_level  \\\n",
       "0                               -493.428131   \n",
       "1                               -498.931665   \n",
       "2                               -499.827444   \n",
       "3                               -500.052575   \n",
       "4                               -500.593010   \n",
       "\n",
       "   rougher.calculation.sulfate_to_au_concentrate  \\\n",
       "0                                   41885.707031   \n",
       "1                                   42050.861809   \n",
       "2                                   42018.101184   \n",
       "3                                   42029.447991   \n",
       "4                                   42125.354245   \n",
       "\n",
       "   rougher.calculation.floatbank10_sulfate_to_au_feed  \\\n",
       "0                                        3481.779053    \n",
       "1                                        3498.370979    \n",
       "2                                        3495.348910    \n",
       "3                                        3498.578313    \n",
       "4                                        3494.800771    \n",
       "\n",
       "   rougher.calculation.floatbank11_sulfate_to_au_feed  \\\n",
       "0                                        3520.337158    \n",
       "1                                        3489.981857    \n",
       "2                                        3502.359819    \n",
       "3                                        3499.162912    \n",
       "4                                        3506.679315    \n",
       "\n",
       "   rougher.calculation.au_pb_ratio  rougher.input.feed_ag  \\\n",
       "0                         2.838687               6.100378   \n",
       "1                         2.858998               6.161113   \n",
       "2                         2.945989               6.116455   \n",
       "3                         3.002340               6.043309   \n",
       "4                         3.169615               6.060915   \n",
       "\n",
       "   rougher.input.feed_pb  rougher.input.feed_rate  rougher.input.feed_size  \\\n",
       "0               2.284912               523.546326                55.486599   \n",
       "1               2.266033               525.290581                57.278666   \n",
       "2               2.159622               530.026610                57.510649   \n",
       "3               2.037807               542.590390                57.792734   \n",
       "4               1.786875               540.531893                56.047189   \n",
       "\n",
       "   rougher.input.feed_sol  rougher.input.feed_au  \\\n",
       "0               36.808594               6.486150   \n",
       "1               35.753385               6.478583   \n",
       "2               35.971630               6.362222   \n",
       "3               36.862241               6.118189   \n",
       "4               34.347666               5.663707   \n",
       "\n",
       "   rougher.input.floatbank10_sulfate  rougher.input.floatbank10_xanthate  \\\n",
       "0                          11.986616                            6.007990   \n",
       "1                          11.971193                            6.005766   \n",
       "2                          11.920603                            6.197377   \n",
       "3                          11.630094                            6.203177   \n",
       "4                          10.957755                            6.198826   \n",
       "\n",
       "   rougher.input.floatbank11_sulfate  rougher.input.floatbank11_xanthate  \\\n",
       "0                          11.836743                            6.005818   \n",
       "1                          11.996163                            6.012594   \n",
       "2                          11.920305                            6.204633   \n",
       "3                          11.692450                            6.196578   \n",
       "4                          10.960521                            6.194897   \n",
       "\n",
       "   rougher.output.concentrate_ag  rougher.output.concentrate_pb  \\\n",
       "0                      11.500771                       7.101074   \n",
       "1                      11.615865                       7.278807   \n",
       "2                      11.695753                       7.216833   \n",
       "3                      11.915047                       7.175616   \n",
       "4                      12.411054                       7.240205   \n",
       "\n",
       "   rougher.output.concentrate_sol  rougher.output.concentrate_au  \\\n",
       "0                       28.029297                      19.793808   \n",
       "1                       28.067063                      20.050975   \n",
       "2                       27.454037                      19.737170   \n",
       "3                       27.341277                      19.320810   \n",
       "4                       27.041023                      19.216101   \n",
       "\n",
       "   rougher.output.recovery  rougher.output.tail_ag  rougher.output.tail_pb  \\\n",
       "0                87.107763                5.008018                0.508728   \n",
       "1                86.843261                4.955378                0.536689   \n",
       "2                86.842308                4.843460                0.546416   \n",
       "3                87.226430                4.655288                0.542525   \n",
       "4                86.688794                4.552800                0.515438   \n",
       "\n",
       "   rougher.output.tail_sol  rougher.output.tail_au  \\\n",
       "0                19.154297                1.170244   \n",
       "1                18.965234                1.184827   \n",
       "2                18.808533                1.162562   \n",
       "3                19.330200                1.079755   \n",
       "4                19.267422                1.012642   \n",
       "\n",
       "   rougher.state.floatbank10_a_air  rougher.state.floatbank10_a_level  \\\n",
       "0                       999.706909                        -404.066986   \n",
       "1                      1000.286398                        -400.065196   \n",
       "2                       999.719565                        -400.074028   \n",
       "3                       999.814770                        -400.200179   \n",
       "4                       999.678690                        -399.752729   \n",
       "\n",
       "   rougher.state.floatbank10_b_air  rougher.state.floatbank10_b_level  \\\n",
       "0                      1603.011353                        -434.715027   \n",
       "1                      1600.754587                        -449.953435   \n",
       "2                      1599.337330                        -450.008530   \n",
       "3                      1600.059442                        -450.619948   \n",
       "4                      1600.208824                        -449.599614   \n",
       "\n",
       "   rougher.state.floatbank10_c_air  rougher.state.floatbank10_c_level  \\\n",
       "0                      1602.375000                        -442.204468   \n",
       "1                      1600.479580                        -449.830646   \n",
       "2                      1599.672797                        -449.954491   \n",
       "3                      1600.012842                        -449.910497   \n",
       "4                      1600.357732                        -450.034364   \n",
       "\n",
       "   rougher.state.floatbank10_d_air  rougher.state.floatbank10_d_level  \\\n",
       "0                      1598.937256                        -451.294128   \n",
       "1                      1600.527589                        -449.953649   \n",
       "2                      1599.849325                        -449.954185   \n",
       "3                      1597.725177                        -450.130127   \n",
       "4                      1599.759049                        -449.909799   \n",
       "\n",
       "   rougher.state.floatbank10_e_air  rougher.state.floatbank10_e_level  \\\n",
       "0                      1404.472046                        -455.462982   \n",
       "1                      1399.227084                        -450.869848   \n",
       "2                      1399.180945                        -449.937588   \n",
       "3                      1400.943157                        -450.030142   \n",
       "4                      1401.560902                        -448.877187   \n",
       "\n",
       "   rougher.state.floatbank10_f_air  rougher.state.floatbank10_f_level  \\\n",
       "0                      1416.354980                        -451.939636   \n",
       "1                      1399.719514                        -450.119001   \n",
       "2                      1400.316682                        -450.527147   \n",
       "3                      1400.234743                        -449.790835   \n",
       "4                      1401.160227                        -450.407128   \n",
       "\n",
       "   secondary_cleaner.output.tail_ag  secondary_cleaner.output.tail_pb  \\\n",
       "0                         14.500184                          4.694824   \n",
       "1                         14.265474                          4.592547   \n",
       "2                         14.115662                          4.624775   \n",
       "3                         13.732071                          4.482453   \n",
       "4                         14.079996                          4.470737   \n",
       "\n",
       "   secondary_cleaner.output.tail_sol  secondary_cleaner.output.tail_au  \\\n",
       "0                           8.764648                          2.606185   \n",
       "1                           9.001494                          2.488248   \n",
       "2                           8.842896                          2.458187   \n",
       "3                           9.122857                          2.322062   \n",
       "4                           8.871028                          2.330448   \n",
       "\n",
       "   secondary_cleaner.state.floatbank2_a_air  \\\n",
       "0                                 25.853109   \n",
       "1                                 25.880539   \n",
       "2                                 26.005245   \n",
       "3                                 25.942508   \n",
       "4                                 26.024787   \n",
       "\n",
       "   secondary_cleaner.state.floatbank2_a_level  \\\n",
       "0                                 -498.526489   \n",
       "1                                 -499.989656   \n",
       "2                                 -499.929616   \n",
       "3                                 -499.176749   \n",
       "4                                 -500.279091   \n",
       "\n",
       "   secondary_cleaner.state.floatbank2_b_air  \\\n",
       "0                                 23.893660   \n",
       "1                                 23.889530   \n",
       "2                                 23.886657   \n",
       "3                                 23.955516   \n",
       "4                                 23.955345   \n",
       "\n",
       "   secondary_cleaner.state.floatbank2_b_level  \\\n",
       "0                                 -501.406281   \n",
       "1                                 -500.372428   \n",
       "2                                 -499.951928   \n",
       "3                                 -499.848796   \n",
       "4                                 -500.593614   \n",
       "\n",
       "   secondary_cleaner.state.floatbank3_a_air  \\\n",
       "0                                 23.961798   \n",
       "1                                 23.970550   \n",
       "2                                 23.913535   \n",
       "3                                 23.966838   \n",
       "4                                 23.985703   \n",
       "\n",
       "   secondary_cleaner.state.floatbank3_a_level  \\\n",
       "0                                 -495.262817   \n",
       "1                                 -500.085473   \n",
       "2                                 -499.442343   \n",
       "3                                 -500.008812   \n",
       "4                                 -500.083811   \n",
       "\n",
       "   secondary_cleaner.state.floatbank3_b_air  \\\n",
       "0                                 21.940409   \n",
       "1                                 22.085714   \n",
       "2                                 23.957717   \n",
       "3                                 23.954443   \n",
       "4                                 23.958945   \n",
       "\n",
       "   secondary_cleaner.state.floatbank3_b_level  \\\n",
       "0                                 -499.340973   \n",
       "1                                 -499.446897   \n",
       "2                                 -499.901982   \n",
       "3                                 -499.944710   \n",
       "4                                 -499.990309   \n",
       "\n",
       "   secondary_cleaner.state.floatbank4_a_air  \\\n",
       "0                                 14.016835   \n",
       "1                                 13.992281   \n",
       "2                                 14.015015   \n",
       "3                                 14.036510   \n",
       "4                                 14.027298   \n",
       "\n",
       "   secondary_cleaner.state.floatbank4_a_level  \\\n",
       "0                                 -502.488007   \n",
       "1                                 -505.503262   \n",
       "2                                 -502.520901   \n",
       "3                                 -500.857308   \n",
       "4                                 -499.838632   \n",
       "\n",
       "   secondary_cleaner.state.floatbank4_b_air  \\\n",
       "0                                 12.099931   \n",
       "1                                 11.950531   \n",
       "2                                 11.912783   \n",
       "3                                 11.999550   \n",
       "4                                 11.953070   \n",
       "\n",
       "   secondary_cleaner.state.floatbank4_b_level  \\\n",
       "0                                 -504.715942   \n",
       "1                                 -501.331529   \n",
       "2                                 -501.133383   \n",
       "3                                 -501.193686   \n",
       "4                                 -501.053894   \n",
       "\n",
       "   secondary_cleaner.state.floatbank5_a_air  \\\n",
       "0                                  9.925633   \n",
       "1                                 10.039245   \n",
       "2                                 10.070913   \n",
       "3                                  9.970366   \n",
       "4                                  9.925709   \n",
       "\n",
       "   secondary_cleaner.state.floatbank5_a_level  \\\n",
       "0                                 -498.310211   \n",
       "1                                 -500.169983   \n",
       "2                                 -500.129135   \n",
       "3                                 -499.201640   \n",
       "4                                 -501.686727   \n",
       "\n",
       "   secondary_cleaner.state.floatbank5_b_air  \\\n",
       "0                                  8.079666   \n",
       "1                                  7.984757   \n",
       "2                                  8.013877   \n",
       "3                                  7.977324   \n",
       "4                                  7.894242   \n",
       "\n",
       "   secondary_cleaner.state.floatbank5_b_level  \\\n",
       "0                                 -500.470978   \n",
       "1                                 -500.582168   \n",
       "2                                 -500.517572   \n",
       "3                                 -500.255908   \n",
       "4                                 -500.356035   \n",
       "\n",
       "   secondary_cleaner.state.floatbank6_a_air  \\\n",
       "0                                 14.151341   \n",
       "1                                 13.998353   \n",
       "2                                 14.028663   \n",
       "3                                 14.005551   \n",
       "4                                 13.996647   \n",
       "\n",
       "   secondary_cleaner.state.floatbank6_a_level  \n",
       "0                                 -605.841980  \n",
       "1                                 -599.787184  \n",
       "2                                 -601.427363  \n",
       "3                                 -599.996129  \n",
       "4                                 -601.496691  "
      ]
     },
     "metadata": {},
     "output_type": "display_data"
    },
    {
     "name": "stdout",
     "output_type": "stream",
     "text": [
      "\n",
      "\n",
      "------------- Типы данных ------------\n",
      "<class 'pandas.core.frame.DataFrame'>\n",
      "RangeIndex: 14149 entries, 0 to 14148\n",
      "Data columns (total 87 columns):\n",
      " #   Column                                              Non-Null Count  Dtype  \n",
      "---  ------                                              --------------  -----  \n",
      " 0   date                                                14149 non-null  object \n",
      " 1   final.output.concentrate_ag                         14148 non-null  float64\n",
      " 2   final.output.concentrate_pb                         14148 non-null  float64\n",
      " 3   final.output.concentrate_sol                        13938 non-null  float64\n",
      " 4   final.output.concentrate_au                         14149 non-null  float64\n",
      " 5   final.output.recovery                               14149 non-null  float64\n",
      " 6   final.output.tail_ag                                14149 non-null  float64\n",
      " 7   final.output.tail_pb                                14049 non-null  float64\n",
      " 8   final.output.tail_sol                               14144 non-null  float64\n",
      " 9   final.output.tail_au                                14149 non-null  float64\n",
      " 10  primary_cleaner.input.sulfate                       14129 non-null  float64\n",
      " 11  primary_cleaner.input.depressant                    14117 non-null  float64\n",
      " 12  primary_cleaner.input.feed_size                     14149 non-null  float64\n",
      " 13  primary_cleaner.input.xanthate                      14049 non-null  float64\n",
      " 14  primary_cleaner.output.concentrate_ag               14149 non-null  float64\n",
      " 15  primary_cleaner.output.concentrate_pb               14063 non-null  float64\n",
      " 16  primary_cleaner.output.concentrate_sol              13863 non-null  float64\n",
      " 17  primary_cleaner.output.concentrate_au               14149 non-null  float64\n",
      " 18  primary_cleaner.output.tail_ag                      14148 non-null  float64\n",
      " 19  primary_cleaner.output.tail_pb                      14134 non-null  float64\n",
      " 20  primary_cleaner.output.tail_sol                     14103 non-null  float64\n",
      " 21  primary_cleaner.output.tail_au                      14149 non-null  float64\n",
      " 22  primary_cleaner.state.floatbank8_a_air              14145 non-null  float64\n",
      " 23  primary_cleaner.state.floatbank8_a_level            14148 non-null  float64\n",
      " 24  primary_cleaner.state.floatbank8_b_air              14145 non-null  float64\n",
      " 25  primary_cleaner.state.floatbank8_b_level            14148 non-null  float64\n",
      " 26  primary_cleaner.state.floatbank8_c_air              14147 non-null  float64\n",
      " 27  primary_cleaner.state.floatbank8_c_level            14148 non-null  float64\n",
      " 28  primary_cleaner.state.floatbank8_d_air              14146 non-null  float64\n",
      " 29  primary_cleaner.state.floatbank8_d_level            14148 non-null  float64\n",
      " 30  rougher.calculation.sulfate_to_au_concentrate       14148 non-null  float64\n",
      " 31  rougher.calculation.floatbank10_sulfate_to_au_feed  14148 non-null  float64\n",
      " 32  rougher.calculation.floatbank11_sulfate_to_au_feed  14148 non-null  float64\n",
      " 33  rougher.calculation.au_pb_ratio                     14149 non-null  float64\n",
      " 34  rougher.input.feed_ag                               14149 non-null  float64\n",
      " 35  rougher.input.feed_pb                               14049 non-null  float64\n",
      " 36  rougher.input.feed_rate                             14141 non-null  float64\n",
      " 37  rougher.input.feed_size                             14005 non-null  float64\n",
      " 38  rougher.input.feed_sol                              14071 non-null  float64\n",
      " 39  rougher.input.feed_au                               14149 non-null  float64\n",
      " 40  rougher.input.floatbank10_sulfate                   14120 non-null  float64\n",
      " 41  rougher.input.floatbank10_xanthate                  14141 non-null  float64\n",
      " 42  rougher.input.floatbank11_sulfate                   14113 non-null  float64\n",
      " 43  rougher.input.floatbank11_xanthate                  13721 non-null  float64\n",
      " 44  rougher.output.concentrate_ag                       14149 non-null  float64\n",
      " 45  rougher.output.concentrate_pb                       14149 non-null  float64\n",
      " 46  rougher.output.concentrate_sol                      14127 non-null  float64\n",
      " 47  rougher.output.concentrate_au                       14149 non-null  float64\n",
      " 48  rougher.output.recovery                             14149 non-null  float64\n",
      " 49  rougher.output.tail_ag                              14148 non-null  float64\n",
      " 50  rougher.output.tail_pb                              14149 non-null  float64\n",
      " 51  rougher.output.tail_sol                             14149 non-null  float64\n",
      " 52  rougher.output.tail_au                              14149 non-null  float64\n",
      " 53  rougher.state.floatbank10_a_air                     14148 non-null  float64\n",
      " 54  rougher.state.floatbank10_a_level                   14148 non-null  float64\n",
      " 55  rougher.state.floatbank10_b_air                     14148 non-null  float64\n",
      " 56  rougher.state.floatbank10_b_level                   14148 non-null  float64\n",
      " 57  rougher.state.floatbank10_c_air                     14148 non-null  float64\n",
      " 58  rougher.state.floatbank10_c_level                   14148 non-null  float64\n",
      " 59  rougher.state.floatbank10_d_air                     14149 non-null  float64\n",
      " 60  rougher.state.floatbank10_d_level                   14149 non-null  float64\n",
      " 61  rougher.state.floatbank10_e_air                     13713 non-null  float64\n",
      " 62  rougher.state.floatbank10_e_level                   14149 non-null  float64\n",
      " 63  rougher.state.floatbank10_f_air                     14149 non-null  float64\n",
      " 64  rougher.state.floatbank10_f_level                   14149 non-null  float64\n",
      " 65  secondary_cleaner.output.tail_ag                    14147 non-null  float64\n",
      " 66  secondary_cleaner.output.tail_pb                    14139 non-null  float64\n",
      " 67  secondary_cleaner.output.tail_sol                   12544 non-null  float64\n",
      " 68  secondary_cleaner.output.tail_au                    14149 non-null  float64\n",
      " 69  secondary_cleaner.state.floatbank2_a_air            13932 non-null  float64\n",
      " 70  secondary_cleaner.state.floatbank2_a_level          14148 non-null  float64\n",
      " 71  secondary_cleaner.state.floatbank2_b_air            14128 non-null  float64\n",
      " 72  secondary_cleaner.state.floatbank2_b_level          14148 non-null  float64\n",
      " 73  secondary_cleaner.state.floatbank3_a_air            14145 non-null  float64\n",
      " 74  secondary_cleaner.state.floatbank3_a_level          14148 non-null  float64\n",
      " 75  secondary_cleaner.state.floatbank3_b_air            14148 non-null  float64\n",
      " 76  secondary_cleaner.state.floatbank3_b_level          14148 non-null  float64\n",
      " 77  secondary_cleaner.state.floatbank4_a_air            14143 non-null  float64\n",
      " 78  secondary_cleaner.state.floatbank4_a_level          14148 non-null  float64\n",
      " 79  secondary_cleaner.state.floatbank4_b_air            14148 non-null  float64\n",
      " 80  secondary_cleaner.state.floatbank4_b_level          14148 non-null  float64\n",
      " 81  secondary_cleaner.state.floatbank5_a_air            14148 non-null  float64\n",
      " 82  secondary_cleaner.state.floatbank5_a_level          14148 non-null  float64\n",
      " 83  secondary_cleaner.state.floatbank5_b_air            14148 non-null  float64\n",
      " 84  secondary_cleaner.state.floatbank5_b_level          14148 non-null  float64\n",
      " 85  secondary_cleaner.state.floatbank6_a_air            14147 non-null  float64\n",
      " 86  secondary_cleaner.state.floatbank6_a_level          14148 non-null  float64\n",
      "dtypes: float64(86), object(1)\n",
      "memory usage: 9.4+ MB\n",
      "\n",
      "\n",
      "------------- Пропуски ------------\n",
      "date Пропусков НЕТ\n",
      "final.output.concentrate_ag  -  1 пропусков\n",
      "final.output.concentrate_pb  -  1 пропусков\n",
      "final.output.concentrate_sol  -  211 пропусков\n",
      "final.output.tail_pb  -  100 пропусков\n",
      "final.output.tail_sol  -  5 пропусков\n",
      "primary_cleaner.input.sulfate  -  20 пропусков\n",
      "primary_cleaner.input.depressant  -  32 пропусков\n",
      "primary_cleaner.input.xanthate  -  100 пропусков\n",
      "primary_cleaner.output.concentrate_pb  -  86 пропусков\n",
      "primary_cleaner.output.concentrate_sol  -  286 пропусков\n",
      "primary_cleaner.output.tail_ag  -  1 пропусков\n",
      "primary_cleaner.output.tail_pb  -  15 пропусков\n",
      "primary_cleaner.output.tail_sol  -  46 пропусков\n",
      "primary_cleaner.state.floatbank8_a_air  -  4 пропусков\n",
      "primary_cleaner.state.floatbank8_a_level  -  1 пропусков\n",
      "primary_cleaner.state.floatbank8_b_air  -  4 пропусков\n",
      "primary_cleaner.state.floatbank8_b_level  -  1 пропусков\n",
      "primary_cleaner.state.floatbank8_c_air  -  2 пропусков\n",
      "primary_cleaner.state.floatbank8_c_level  -  1 пропусков\n",
      "primary_cleaner.state.floatbank8_d_air  -  3 пропусков\n",
      "primary_cleaner.state.floatbank8_d_level  -  1 пропусков\n",
      "rougher.calculation.sulfate_to_au_concentrate  -  1 пропусков\n",
      "rougher.calculation.floatbank10_sulfate_to_au_feed  -  1 пропусков\n",
      "rougher.calculation.floatbank11_sulfate_to_au_feed  -  1 пропусков\n",
      "rougher.input.feed_pb  -  100 пропусков\n",
      "rougher.input.feed_rate  -  8 пропусков\n",
      "rougher.input.feed_size  -  144 пропусков\n",
      "rougher.input.feed_sol  -  78 пропусков\n",
      "rougher.input.floatbank10_sulfate  -  29 пропусков\n",
      "rougher.input.floatbank10_xanthate  -  8 пропусков\n",
      "rougher.input.floatbank11_sulfate  -  36 пропусков\n",
      "rougher.input.floatbank11_xanthate  -  428 пропусков\n",
      "rougher.output.concentrate_sol  -  22 пропусков\n",
      "rougher.output.tail_ag  -  1 пропусков\n",
      "rougher.state.floatbank10_a_air  -  1 пропусков\n",
      "rougher.state.floatbank10_a_level  -  1 пропусков\n",
      "rougher.state.floatbank10_b_air  -  1 пропусков\n",
      "rougher.state.floatbank10_b_level  -  1 пропусков\n",
      "rougher.state.floatbank10_c_air  -  1 пропусков\n",
      "rougher.state.floatbank10_c_level  -  1 пропусков\n",
      "rougher.state.floatbank10_e_air  -  436 пропусков\n",
      "secondary_cleaner.output.tail_ag  -  2 пропусков\n",
      "secondary_cleaner.output.tail_pb  -  10 пропусков\n",
      "secondary_cleaner.output.tail_sol  -  1605 пропусков\n",
      "secondary_cleaner.state.floatbank2_a_air  -  217 пропусков\n",
      "secondary_cleaner.state.floatbank2_a_level  -  1 пропусков\n",
      "secondary_cleaner.state.floatbank2_b_air  -  21 пропусков\n",
      "secondary_cleaner.state.floatbank2_b_level  -  1 пропусков\n",
      "secondary_cleaner.state.floatbank3_a_air  -  4 пропусков\n",
      "secondary_cleaner.state.floatbank3_a_level  -  1 пропусков\n",
      "secondary_cleaner.state.floatbank3_b_air  -  1 пропусков\n",
      "secondary_cleaner.state.floatbank3_b_level  -  1 пропусков\n",
      "secondary_cleaner.state.floatbank4_a_air  -  6 пропусков\n",
      "secondary_cleaner.state.floatbank4_a_level  -  1 пропусков\n",
      "secondary_cleaner.state.floatbank4_b_air  -  1 пропусков\n",
      "secondary_cleaner.state.floatbank4_b_level  -  1 пропусков\n",
      "secondary_cleaner.state.floatbank5_a_air  -  1 пропусков\n",
      "secondary_cleaner.state.floatbank5_a_level  -  1 пропусков\n",
      "secondary_cleaner.state.floatbank5_b_air  -  1 пропусков\n",
      "secondary_cleaner.state.floatbank5_b_level  -  1 пропусков\n",
      "secondary_cleaner.state.floatbank6_a_air  -  2 пропусков\n",
      "secondary_cleaner.state.floatbank6_a_level  -  1 пропусков\n",
      "\n",
      "\n",
      "------------- Дубликаты ------------\n",
      "Дубликатов НЕТ\n"
     ]
    }
   ],
   "source": [
    "#Функция получения первичной информации о датафрейме\n",
    "def studying_the_data (data):\n",
    "    pd.set_option('display.max_columns', None)\n",
    "    print ('------------- Первые 5 строк ------------')\n",
    "    display(data.head())\n",
    "    print('')\n",
    "    print('')\n",
    "    print ('------------- Типы данных ------------')\n",
    "    data.info()\n",
    "    print('')\n",
    "    print('')\n",
    "    print ('------------- Пропуски ------------')\n",
    "    count = 0\n",
    "    for element in data.columns:\n",
    "        if data[element].isna().sum() > 0: \n",
    "            print(element, ' - ', data[element].isna().sum(), 'пропусков')\n",
    "            count = +1\n",
    "        if count == 0:\n",
    "            print(element, 'Пропусков НЕТ')\n",
    "    print('')\n",
    "    print('')\n",
    "    print ('------------- Дубликаты ------------')\n",
    "    if data.duplicated().sum() > 0:\n",
    "        print('Дубликатов: ', data.duplicated().sum())\n",
    "    else:\n",
    "        print('Дубликатов НЕТ')\n",
    "\n",
    "#Посмотрим обучающую выборку        \n",
    "studying_the_data (data_recovery_train)"
   ]
  },
  {
   "cell_type": "code",
   "execution_count": 4,
   "metadata": {},
   "outputs": [
    {
     "name": "stdout",
     "output_type": "stream",
     "text": [
      "------------- Первые 5 строк ------------\n"
     ]
    },
    {
     "data": {
      "text/html": [
       "<div>\n",
       "<style scoped>\n",
       "    .dataframe tbody tr th:only-of-type {\n",
       "        vertical-align: middle;\n",
       "    }\n",
       "\n",
       "    .dataframe tbody tr th {\n",
       "        vertical-align: top;\n",
       "    }\n",
       "\n",
       "    .dataframe thead th {\n",
       "        text-align: right;\n",
       "    }\n",
       "</style>\n",
       "<table border=\"1\" class=\"dataframe\">\n",
       "  <thead>\n",
       "    <tr style=\"text-align: right;\">\n",
       "      <th></th>\n",
       "      <th>date</th>\n",
       "      <th>primary_cleaner.input.sulfate</th>\n",
       "      <th>primary_cleaner.input.depressant</th>\n",
       "      <th>primary_cleaner.input.feed_size</th>\n",
       "      <th>primary_cleaner.input.xanthate</th>\n",
       "      <th>primary_cleaner.state.floatbank8_a_air</th>\n",
       "      <th>primary_cleaner.state.floatbank8_a_level</th>\n",
       "      <th>primary_cleaner.state.floatbank8_b_air</th>\n",
       "      <th>primary_cleaner.state.floatbank8_b_level</th>\n",
       "      <th>primary_cleaner.state.floatbank8_c_air</th>\n",
       "      <th>primary_cleaner.state.floatbank8_c_level</th>\n",
       "      <th>primary_cleaner.state.floatbank8_d_air</th>\n",
       "      <th>primary_cleaner.state.floatbank8_d_level</th>\n",
       "      <th>rougher.input.feed_ag</th>\n",
       "      <th>rougher.input.feed_pb</th>\n",
       "      <th>rougher.input.feed_rate</th>\n",
       "      <th>rougher.input.feed_size</th>\n",
       "      <th>rougher.input.feed_sol</th>\n",
       "      <th>rougher.input.feed_au</th>\n",
       "      <th>rougher.input.floatbank10_sulfate</th>\n",
       "      <th>rougher.input.floatbank10_xanthate</th>\n",
       "      <th>rougher.input.floatbank11_sulfate</th>\n",
       "      <th>rougher.input.floatbank11_xanthate</th>\n",
       "      <th>rougher.state.floatbank10_a_air</th>\n",
       "      <th>rougher.state.floatbank10_a_level</th>\n",
       "      <th>rougher.state.floatbank10_b_air</th>\n",
       "      <th>rougher.state.floatbank10_b_level</th>\n",
       "      <th>rougher.state.floatbank10_c_air</th>\n",
       "      <th>rougher.state.floatbank10_c_level</th>\n",
       "      <th>rougher.state.floatbank10_d_air</th>\n",
       "      <th>rougher.state.floatbank10_d_level</th>\n",
       "      <th>rougher.state.floatbank10_e_air</th>\n",
       "      <th>rougher.state.floatbank10_e_level</th>\n",
       "      <th>rougher.state.floatbank10_f_air</th>\n",
       "      <th>rougher.state.floatbank10_f_level</th>\n",
       "      <th>secondary_cleaner.state.floatbank2_a_air</th>\n",
       "      <th>secondary_cleaner.state.floatbank2_a_level</th>\n",
       "      <th>secondary_cleaner.state.floatbank2_b_air</th>\n",
       "      <th>secondary_cleaner.state.floatbank2_b_level</th>\n",
       "      <th>secondary_cleaner.state.floatbank3_a_air</th>\n",
       "      <th>secondary_cleaner.state.floatbank3_a_level</th>\n",
       "      <th>secondary_cleaner.state.floatbank3_b_air</th>\n",
       "      <th>secondary_cleaner.state.floatbank3_b_level</th>\n",
       "      <th>secondary_cleaner.state.floatbank4_a_air</th>\n",
       "      <th>secondary_cleaner.state.floatbank4_a_level</th>\n",
       "      <th>secondary_cleaner.state.floatbank4_b_air</th>\n",
       "      <th>secondary_cleaner.state.floatbank4_b_level</th>\n",
       "      <th>secondary_cleaner.state.floatbank5_a_air</th>\n",
       "      <th>secondary_cleaner.state.floatbank5_a_level</th>\n",
       "      <th>secondary_cleaner.state.floatbank5_b_air</th>\n",
       "      <th>secondary_cleaner.state.floatbank5_b_level</th>\n",
       "      <th>secondary_cleaner.state.floatbank6_a_air</th>\n",
       "      <th>secondary_cleaner.state.floatbank6_a_level</th>\n",
       "    </tr>\n",
       "  </thead>\n",
       "  <tbody>\n",
       "    <tr>\n",
       "      <th>0</th>\n",
       "      <td>2016-09-01 00:59:59</td>\n",
       "      <td>210.800909</td>\n",
       "      <td>14.993118</td>\n",
       "      <td>8.080000</td>\n",
       "      <td>1.005021</td>\n",
       "      <td>1398.981301</td>\n",
       "      <td>-500.225577</td>\n",
       "      <td>1399.144926</td>\n",
       "      <td>-499.919735</td>\n",
       "      <td>1400.102998</td>\n",
       "      <td>-500.704369</td>\n",
       "      <td>1399.001695</td>\n",
       "      <td>-499.485144</td>\n",
       "      <td>13.128569</td>\n",
       "      <td>5.636710</td>\n",
       "      <td>489.793655</td>\n",
       "      <td>62.710452</td>\n",
       "      <td>42.022440</td>\n",
       "      <td>12.084103</td>\n",
       "      <td>16.922877</td>\n",
       "      <td>6.153479</td>\n",
       "      <td>16.867518</td>\n",
       "      <td>6.150709</td>\n",
       "      <td>1001.849317</td>\n",
       "      <td>-350.301265</td>\n",
       "      <td>1249.738612</td>\n",
       "      <td>-399.107531</td>\n",
       "      <td>1249.750520</td>\n",
       "      <td>-399.396730</td>\n",
       "      <td>1198.287855</td>\n",
       "      <td>-399.488594</td>\n",
       "      <td>999.472250</td>\n",
       "      <td>-399.530962</td>\n",
       "      <td>949.566189</td>\n",
       "      <td>-398.180807</td>\n",
       "      <td>24.938200</td>\n",
       "      <td>-500.490963</td>\n",
       "      <td>14.947607</td>\n",
       "      <td>-500.013837</td>\n",
       "      <td>20.018166</td>\n",
       "      <td>-450.395995</td>\n",
       "      <td>13.987058</td>\n",
       "      <td>-449.831513</td>\n",
       "      <td>12.023554</td>\n",
       "      <td>-497.795834</td>\n",
       "      <td>8.016656</td>\n",
       "      <td>-501.289139</td>\n",
       "      <td>7.946562</td>\n",
       "      <td>-432.317850</td>\n",
       "      <td>4.872511</td>\n",
       "      <td>-500.037437</td>\n",
       "      <td>26.705889</td>\n",
       "      <td>-499.709414</td>\n",
       "    </tr>\n",
       "    <tr>\n",
       "      <th>1</th>\n",
       "      <td>2016-09-01 01:59:59</td>\n",
       "      <td>215.392455</td>\n",
       "      <td>14.987471</td>\n",
       "      <td>8.080000</td>\n",
       "      <td>0.990469</td>\n",
       "      <td>1398.777912</td>\n",
       "      <td>-500.057435</td>\n",
       "      <td>1398.055362</td>\n",
       "      <td>-499.778182</td>\n",
       "      <td>1396.151033</td>\n",
       "      <td>-499.240168</td>\n",
       "      <td>1399.508091</td>\n",
       "      <td>-500.416324</td>\n",
       "      <td>13.036280</td>\n",
       "      <td>5.526065</td>\n",
       "      <td>490.104534</td>\n",
       "      <td>61.961163</td>\n",
       "      <td>41.187903</td>\n",
       "      <td>11.918977</td>\n",
       "      <td>17.002532</td>\n",
       "      <td>5.999043</td>\n",
       "      <td>16.996063</td>\n",
       "      <td>6.002315</td>\n",
       "      <td>998.690785</td>\n",
       "      <td>-350.425704</td>\n",
       "      <td>1248.395457</td>\n",
       "      <td>-399.946025</td>\n",
       "      <td>1249.514451</td>\n",
       "      <td>-399.630810</td>\n",
       "      <td>1200.506459</td>\n",
       "      <td>-399.942434</td>\n",
       "      <td>1000.002114</td>\n",
       "      <td>-399.491528</td>\n",
       "      <td>950.200009</td>\n",
       "      <td>-405.787514</td>\n",
       "      <td>24.923466</td>\n",
       "      <td>-499.813963</td>\n",
       "      <td>14.930873</td>\n",
       "      <td>-500.764452</td>\n",
       "      <td>19.988503</td>\n",
       "      <td>-450.114024</td>\n",
       "      <td>14.092981</td>\n",
       "      <td>-450.059163</td>\n",
       "      <td>12.058140</td>\n",
       "      <td>-498.695773</td>\n",
       "      <td>8.130979</td>\n",
       "      <td>-499.634209</td>\n",
       "      <td>7.958270</td>\n",
       "      <td>-525.839648</td>\n",
       "      <td>4.878850</td>\n",
       "      <td>-500.162375</td>\n",
       "      <td>25.019940</td>\n",
       "      <td>-499.819438</td>\n",
       "    </tr>\n",
       "    <tr>\n",
       "      <th>2</th>\n",
       "      <td>2016-09-01 02:59:59</td>\n",
       "      <td>215.259946</td>\n",
       "      <td>12.884934</td>\n",
       "      <td>7.786667</td>\n",
       "      <td>0.996043</td>\n",
       "      <td>1398.493666</td>\n",
       "      <td>-500.868360</td>\n",
       "      <td>1398.860436</td>\n",
       "      <td>-499.764529</td>\n",
       "      <td>1398.075709</td>\n",
       "      <td>-502.151509</td>\n",
       "      <td>1399.497088</td>\n",
       "      <td>-499.715479</td>\n",
       "      <td>13.138412</td>\n",
       "      <td>5.426561</td>\n",
       "      <td>489.617969</td>\n",
       "      <td>66.903807</td>\n",
       "      <td>42.546294</td>\n",
       "      <td>12.091332</td>\n",
       "      <td>16.992520</td>\n",
       "      <td>5.850632</td>\n",
       "      <td>16.982096</td>\n",
       "      <td>5.853594</td>\n",
       "      <td>998.516720</td>\n",
       "      <td>-349.783538</td>\n",
       "      <td>1247.440748</td>\n",
       "      <td>-400.264330</td>\n",
       "      <td>1248.207204</td>\n",
       "      <td>-401.074405</td>\n",
       "      <td>1199.770026</td>\n",
       "      <td>-400.790582</td>\n",
       "      <td>999.925519</td>\n",
       "      <td>-399.236999</td>\n",
       "      <td>950.320481</td>\n",
       "      <td>-400.864340</td>\n",
       "      <td>24.908732</td>\n",
       "      <td>-500.304035</td>\n",
       "      <td>14.996511</td>\n",
       "      <td>-500.993821</td>\n",
       "      <td>20.039689</td>\n",
       "      <td>-450.263164</td>\n",
       "      <td>14.077881</td>\n",
       "      <td>-449.660997</td>\n",
       "      <td>11.962366</td>\n",
       "      <td>-498.767484</td>\n",
       "      <td>8.096893</td>\n",
       "      <td>-500.827423</td>\n",
       "      <td>8.071056</td>\n",
       "      <td>-500.801673</td>\n",
       "      <td>4.905125</td>\n",
       "      <td>-499.828510</td>\n",
       "      <td>24.994862</td>\n",
       "      <td>-500.622559</td>\n",
       "    </tr>\n",
       "    <tr>\n",
       "      <th>3</th>\n",
       "      <td>2016-09-01 03:59:59</td>\n",
       "      <td>215.336236</td>\n",
       "      <td>12.006805</td>\n",
       "      <td>7.640000</td>\n",
       "      <td>0.863514</td>\n",
       "      <td>1399.618111</td>\n",
       "      <td>-498.863574</td>\n",
       "      <td>1397.440120</td>\n",
       "      <td>-499.211024</td>\n",
       "      <td>1400.129303</td>\n",
       "      <td>-498.355873</td>\n",
       "      <td>1401.065165</td>\n",
       "      <td>-501.038738</td>\n",
       "      <td>12.400507</td>\n",
       "      <td>5.114758</td>\n",
       "      <td>476.618130</td>\n",
       "      <td>59.865919</td>\n",
       "      <td>41.060195</td>\n",
       "      <td>12.181597</td>\n",
       "      <td>16.532144</td>\n",
       "      <td>5.801935</td>\n",
       "      <td>16.515277</td>\n",
       "      <td>5.803657</td>\n",
       "      <td>1000.276604</td>\n",
       "      <td>-350.172597</td>\n",
       "      <td>1251.322675</td>\n",
       "      <td>-398.655289</td>\n",
       "      <td>1250.493702</td>\n",
       "      <td>-399.746728</td>\n",
       "      <td>1199.398691</td>\n",
       "      <td>-397.503052</td>\n",
       "      <td>1001.930679</td>\n",
       "      <td>-400.437573</td>\n",
       "      <td>950.735324</td>\n",
       "      <td>-399.802986</td>\n",
       "      <td>24.893998</td>\n",
       "      <td>-499.382374</td>\n",
       "      <td>14.916674</td>\n",
       "      <td>-499.862299</td>\n",
       "      <td>20.031100</td>\n",
       "      <td>-449.372570</td>\n",
       "      <td>14.013968</td>\n",
       "      <td>-449.526900</td>\n",
       "      <td>12.033091</td>\n",
       "      <td>-498.350935</td>\n",
       "      <td>8.074946</td>\n",
       "      <td>-499.474407</td>\n",
       "      <td>7.897085</td>\n",
       "      <td>-500.868509</td>\n",
       "      <td>4.931400</td>\n",
       "      <td>-499.963623</td>\n",
       "      <td>24.948919</td>\n",
       "      <td>-498.709987</td>\n",
       "    </tr>\n",
       "    <tr>\n",
       "      <th>4</th>\n",
       "      <td>2016-09-01 04:59:59</td>\n",
       "      <td>199.099327</td>\n",
       "      <td>10.682530</td>\n",
       "      <td>7.530000</td>\n",
       "      <td>0.805575</td>\n",
       "      <td>1401.268123</td>\n",
       "      <td>-500.808305</td>\n",
       "      <td>1398.128818</td>\n",
       "      <td>-499.504543</td>\n",
       "      <td>1402.172226</td>\n",
       "      <td>-500.810606</td>\n",
       "      <td>1399.480508</td>\n",
       "      <td>-499.374053</td>\n",
       "      <td>11.327427</td>\n",
       "      <td>4.767383</td>\n",
       "      <td>488.248117</td>\n",
       "      <td>63.315324</td>\n",
       "      <td>41.269161</td>\n",
       "      <td>11.290425</td>\n",
       "      <td>13.607257</td>\n",
       "      <td>5.738081</td>\n",
       "      <td>13.650053</td>\n",
       "      <td>5.739634</td>\n",
       "      <td>996.541302</td>\n",
       "      <td>-350.562517</td>\n",
       "      <td>1304.658848</td>\n",
       "      <td>-399.511519</td>\n",
       "      <td>1306.455515</td>\n",
       "      <td>-399.050685</td>\n",
       "      <td>1248.699349</td>\n",
       "      <td>-400.876894</td>\n",
       "      <td>1058.839106</td>\n",
       "      <td>-398.988239</td>\n",
       "      <td>949.645313</td>\n",
       "      <td>-399.277632</td>\n",
       "      <td>24.886905</td>\n",
       "      <td>-499.357375</td>\n",
       "      <td>14.979233</td>\n",
       "      <td>-500.186804</td>\n",
       "      <td>19.962364</td>\n",
       "      <td>-450.638828</td>\n",
       "      <td>14.009245</td>\n",
       "      <td>-450.022259</td>\n",
       "      <td>12.025367</td>\n",
       "      <td>-500.786497</td>\n",
       "      <td>8.054678</td>\n",
       "      <td>-500.397500</td>\n",
       "      <td>8.107890</td>\n",
       "      <td>-509.526725</td>\n",
       "      <td>4.957674</td>\n",
       "      <td>-500.360026</td>\n",
       "      <td>25.003331</td>\n",
       "      <td>-500.856333</td>\n",
       "    </tr>\n",
       "  </tbody>\n",
       "</table>\n",
       "</div>"
      ],
      "text/plain": [
       "                  date  primary_cleaner.input.sulfate  \\\n",
       "0  2016-09-01 00:59:59                     210.800909   \n",
       "1  2016-09-01 01:59:59                     215.392455   \n",
       "2  2016-09-01 02:59:59                     215.259946   \n",
       "3  2016-09-01 03:59:59                     215.336236   \n",
       "4  2016-09-01 04:59:59                     199.099327   \n",
       "\n",
       "   primary_cleaner.input.depressant  primary_cleaner.input.feed_size  \\\n",
       "0                         14.993118                         8.080000   \n",
       "1                         14.987471                         8.080000   \n",
       "2                         12.884934                         7.786667   \n",
       "3                         12.006805                         7.640000   \n",
       "4                         10.682530                         7.530000   \n",
       "\n",
       "   primary_cleaner.input.xanthate  primary_cleaner.state.floatbank8_a_air  \\\n",
       "0                        1.005021                             1398.981301   \n",
       "1                        0.990469                             1398.777912   \n",
       "2                        0.996043                             1398.493666   \n",
       "3                        0.863514                             1399.618111   \n",
       "4                        0.805575                             1401.268123   \n",
       "\n",
       "   primary_cleaner.state.floatbank8_a_level  \\\n",
       "0                               -500.225577   \n",
       "1                               -500.057435   \n",
       "2                               -500.868360   \n",
       "3                               -498.863574   \n",
       "4                               -500.808305   \n",
       "\n",
       "   primary_cleaner.state.floatbank8_b_air  \\\n",
       "0                             1399.144926   \n",
       "1                             1398.055362   \n",
       "2                             1398.860436   \n",
       "3                             1397.440120   \n",
       "4                             1398.128818   \n",
       "\n",
       "   primary_cleaner.state.floatbank8_b_level  \\\n",
       "0                               -499.919735   \n",
       "1                               -499.778182   \n",
       "2                               -499.764529   \n",
       "3                               -499.211024   \n",
       "4                               -499.504543   \n",
       "\n",
       "   primary_cleaner.state.floatbank8_c_air  \\\n",
       "0                             1400.102998   \n",
       "1                             1396.151033   \n",
       "2                             1398.075709   \n",
       "3                             1400.129303   \n",
       "4                             1402.172226   \n",
       "\n",
       "   primary_cleaner.state.floatbank8_c_level  \\\n",
       "0                               -500.704369   \n",
       "1                               -499.240168   \n",
       "2                               -502.151509   \n",
       "3                               -498.355873   \n",
       "4                               -500.810606   \n",
       "\n",
       "   primary_cleaner.state.floatbank8_d_air  \\\n",
       "0                             1399.001695   \n",
       "1                             1399.508091   \n",
       "2                             1399.497088   \n",
       "3                             1401.065165   \n",
       "4                             1399.480508   \n",
       "\n",
       "   primary_cleaner.state.floatbank8_d_level  rougher.input.feed_ag  \\\n",
       "0                               -499.485144              13.128569   \n",
       "1                               -500.416324              13.036280   \n",
       "2                               -499.715479              13.138412   \n",
       "3                               -501.038738              12.400507   \n",
       "4                               -499.374053              11.327427   \n",
       "\n",
       "   rougher.input.feed_pb  rougher.input.feed_rate  rougher.input.feed_size  \\\n",
       "0               5.636710               489.793655                62.710452   \n",
       "1               5.526065               490.104534                61.961163   \n",
       "2               5.426561               489.617969                66.903807   \n",
       "3               5.114758               476.618130                59.865919   \n",
       "4               4.767383               488.248117                63.315324   \n",
       "\n",
       "   rougher.input.feed_sol  rougher.input.feed_au  \\\n",
       "0               42.022440              12.084103   \n",
       "1               41.187903              11.918977   \n",
       "2               42.546294              12.091332   \n",
       "3               41.060195              12.181597   \n",
       "4               41.269161              11.290425   \n",
       "\n",
       "   rougher.input.floatbank10_sulfate  rougher.input.floatbank10_xanthate  \\\n",
       "0                          16.922877                            6.153479   \n",
       "1                          17.002532                            5.999043   \n",
       "2                          16.992520                            5.850632   \n",
       "3                          16.532144                            5.801935   \n",
       "4                          13.607257                            5.738081   \n",
       "\n",
       "   rougher.input.floatbank11_sulfate  rougher.input.floatbank11_xanthate  \\\n",
       "0                          16.867518                            6.150709   \n",
       "1                          16.996063                            6.002315   \n",
       "2                          16.982096                            5.853594   \n",
       "3                          16.515277                            5.803657   \n",
       "4                          13.650053                            5.739634   \n",
       "\n",
       "   rougher.state.floatbank10_a_air  rougher.state.floatbank10_a_level  \\\n",
       "0                      1001.849317                        -350.301265   \n",
       "1                       998.690785                        -350.425704   \n",
       "2                       998.516720                        -349.783538   \n",
       "3                      1000.276604                        -350.172597   \n",
       "4                       996.541302                        -350.562517   \n",
       "\n",
       "   rougher.state.floatbank10_b_air  rougher.state.floatbank10_b_level  \\\n",
       "0                      1249.738612                        -399.107531   \n",
       "1                      1248.395457                        -399.946025   \n",
       "2                      1247.440748                        -400.264330   \n",
       "3                      1251.322675                        -398.655289   \n",
       "4                      1304.658848                        -399.511519   \n",
       "\n",
       "   rougher.state.floatbank10_c_air  rougher.state.floatbank10_c_level  \\\n",
       "0                      1249.750520                        -399.396730   \n",
       "1                      1249.514451                        -399.630810   \n",
       "2                      1248.207204                        -401.074405   \n",
       "3                      1250.493702                        -399.746728   \n",
       "4                      1306.455515                        -399.050685   \n",
       "\n",
       "   rougher.state.floatbank10_d_air  rougher.state.floatbank10_d_level  \\\n",
       "0                      1198.287855                        -399.488594   \n",
       "1                      1200.506459                        -399.942434   \n",
       "2                      1199.770026                        -400.790582   \n",
       "3                      1199.398691                        -397.503052   \n",
       "4                      1248.699349                        -400.876894   \n",
       "\n",
       "   rougher.state.floatbank10_e_air  rougher.state.floatbank10_e_level  \\\n",
       "0                       999.472250                        -399.530962   \n",
       "1                      1000.002114                        -399.491528   \n",
       "2                       999.925519                        -399.236999   \n",
       "3                      1001.930679                        -400.437573   \n",
       "4                      1058.839106                        -398.988239   \n",
       "\n",
       "   rougher.state.floatbank10_f_air  rougher.state.floatbank10_f_level  \\\n",
       "0                       949.566189                        -398.180807   \n",
       "1                       950.200009                        -405.787514   \n",
       "2                       950.320481                        -400.864340   \n",
       "3                       950.735324                        -399.802986   \n",
       "4                       949.645313                        -399.277632   \n",
       "\n",
       "   secondary_cleaner.state.floatbank2_a_air  \\\n",
       "0                                 24.938200   \n",
       "1                                 24.923466   \n",
       "2                                 24.908732   \n",
       "3                                 24.893998   \n",
       "4                                 24.886905   \n",
       "\n",
       "   secondary_cleaner.state.floatbank2_a_level  \\\n",
       "0                                 -500.490963   \n",
       "1                                 -499.813963   \n",
       "2                                 -500.304035   \n",
       "3                                 -499.382374   \n",
       "4                                 -499.357375   \n",
       "\n",
       "   secondary_cleaner.state.floatbank2_b_air  \\\n",
       "0                                 14.947607   \n",
       "1                                 14.930873   \n",
       "2                                 14.996511   \n",
       "3                                 14.916674   \n",
       "4                                 14.979233   \n",
       "\n",
       "   secondary_cleaner.state.floatbank2_b_level  \\\n",
       "0                                 -500.013837   \n",
       "1                                 -500.764452   \n",
       "2                                 -500.993821   \n",
       "3                                 -499.862299   \n",
       "4                                 -500.186804   \n",
       "\n",
       "   secondary_cleaner.state.floatbank3_a_air  \\\n",
       "0                                 20.018166   \n",
       "1                                 19.988503   \n",
       "2                                 20.039689   \n",
       "3                                 20.031100   \n",
       "4                                 19.962364   \n",
       "\n",
       "   secondary_cleaner.state.floatbank3_a_level  \\\n",
       "0                                 -450.395995   \n",
       "1                                 -450.114024   \n",
       "2                                 -450.263164   \n",
       "3                                 -449.372570   \n",
       "4                                 -450.638828   \n",
       "\n",
       "   secondary_cleaner.state.floatbank3_b_air  \\\n",
       "0                                 13.987058   \n",
       "1                                 14.092981   \n",
       "2                                 14.077881   \n",
       "3                                 14.013968   \n",
       "4                                 14.009245   \n",
       "\n",
       "   secondary_cleaner.state.floatbank3_b_level  \\\n",
       "0                                 -449.831513   \n",
       "1                                 -450.059163   \n",
       "2                                 -449.660997   \n",
       "3                                 -449.526900   \n",
       "4                                 -450.022259   \n",
       "\n",
       "   secondary_cleaner.state.floatbank4_a_air  \\\n",
       "0                                 12.023554   \n",
       "1                                 12.058140   \n",
       "2                                 11.962366   \n",
       "3                                 12.033091   \n",
       "4                                 12.025367   \n",
       "\n",
       "   secondary_cleaner.state.floatbank4_a_level  \\\n",
       "0                                 -497.795834   \n",
       "1                                 -498.695773   \n",
       "2                                 -498.767484   \n",
       "3                                 -498.350935   \n",
       "4                                 -500.786497   \n",
       "\n",
       "   secondary_cleaner.state.floatbank4_b_air  \\\n",
       "0                                  8.016656   \n",
       "1                                  8.130979   \n",
       "2                                  8.096893   \n",
       "3                                  8.074946   \n",
       "4                                  8.054678   \n",
       "\n",
       "   secondary_cleaner.state.floatbank4_b_level  \\\n",
       "0                                 -501.289139   \n",
       "1                                 -499.634209   \n",
       "2                                 -500.827423   \n",
       "3                                 -499.474407   \n",
       "4                                 -500.397500   \n",
       "\n",
       "   secondary_cleaner.state.floatbank5_a_air  \\\n",
       "0                                  7.946562   \n",
       "1                                  7.958270   \n",
       "2                                  8.071056   \n",
       "3                                  7.897085   \n",
       "4                                  8.107890   \n",
       "\n",
       "   secondary_cleaner.state.floatbank5_a_level  \\\n",
       "0                                 -432.317850   \n",
       "1                                 -525.839648   \n",
       "2                                 -500.801673   \n",
       "3                                 -500.868509   \n",
       "4                                 -509.526725   \n",
       "\n",
       "   secondary_cleaner.state.floatbank5_b_air  \\\n",
       "0                                  4.872511   \n",
       "1                                  4.878850   \n",
       "2                                  4.905125   \n",
       "3                                  4.931400   \n",
       "4                                  4.957674   \n",
       "\n",
       "   secondary_cleaner.state.floatbank5_b_level  \\\n",
       "0                                 -500.037437   \n",
       "1                                 -500.162375   \n",
       "2                                 -499.828510   \n",
       "3                                 -499.963623   \n",
       "4                                 -500.360026   \n",
       "\n",
       "   secondary_cleaner.state.floatbank6_a_air  \\\n",
       "0                                 26.705889   \n",
       "1                                 25.019940   \n",
       "2                                 24.994862   \n",
       "3                                 24.948919   \n",
       "4                                 25.003331   \n",
       "\n",
       "   secondary_cleaner.state.floatbank6_a_level  \n",
       "0                                 -499.709414  \n",
       "1                                 -499.819438  \n",
       "2                                 -500.622559  \n",
       "3                                 -498.709987  \n",
       "4                                 -500.856333  "
      ]
     },
     "metadata": {},
     "output_type": "display_data"
    },
    {
     "name": "stdout",
     "output_type": "stream",
     "text": [
      "\n",
      "\n",
      "------------- Типы данных ------------\n",
      "<class 'pandas.core.frame.DataFrame'>\n",
      "RangeIndex: 5290 entries, 0 to 5289\n",
      "Data columns (total 53 columns):\n",
      " #   Column                                      Non-Null Count  Dtype  \n",
      "---  ------                                      --------------  -----  \n",
      " 0   date                                        5290 non-null   object \n",
      " 1   primary_cleaner.input.sulfate               5286 non-null   float64\n",
      " 2   primary_cleaner.input.depressant            5285 non-null   float64\n",
      " 3   primary_cleaner.input.feed_size             5290 non-null   float64\n",
      " 4   primary_cleaner.input.xanthate              5286 non-null   float64\n",
      " 5   primary_cleaner.state.floatbank8_a_air      5290 non-null   float64\n",
      " 6   primary_cleaner.state.floatbank8_a_level    5290 non-null   float64\n",
      " 7   primary_cleaner.state.floatbank8_b_air      5290 non-null   float64\n",
      " 8   primary_cleaner.state.floatbank8_b_level    5290 non-null   float64\n",
      " 9   primary_cleaner.state.floatbank8_c_air      5290 non-null   float64\n",
      " 10  primary_cleaner.state.floatbank8_c_level    5290 non-null   float64\n",
      " 11  primary_cleaner.state.floatbank8_d_air      5290 non-null   float64\n",
      " 12  primary_cleaner.state.floatbank8_d_level    5290 non-null   float64\n",
      " 13  rougher.input.feed_ag                       5290 non-null   float64\n",
      " 14  rougher.input.feed_pb                       5290 non-null   float64\n",
      " 15  rougher.input.feed_rate                     5287 non-null   float64\n",
      " 16  rougher.input.feed_size                     5289 non-null   float64\n",
      " 17  rougher.input.feed_sol                      5269 non-null   float64\n",
      " 18  rougher.input.feed_au                       5290 non-null   float64\n",
      " 19  rougher.input.floatbank10_sulfate           5285 non-null   float64\n",
      " 20  rougher.input.floatbank10_xanthate          5290 non-null   float64\n",
      " 21  rougher.input.floatbank11_sulfate           5282 non-null   float64\n",
      " 22  rougher.input.floatbank11_xanthate          5265 non-null   float64\n",
      " 23  rougher.state.floatbank10_a_air             5290 non-null   float64\n",
      " 24  rougher.state.floatbank10_a_level           5290 non-null   float64\n",
      " 25  rougher.state.floatbank10_b_air             5290 non-null   float64\n",
      " 26  rougher.state.floatbank10_b_level           5290 non-null   float64\n",
      " 27  rougher.state.floatbank10_c_air             5290 non-null   float64\n",
      " 28  rougher.state.floatbank10_c_level           5290 non-null   float64\n",
      " 29  rougher.state.floatbank10_d_air             5290 non-null   float64\n",
      " 30  rougher.state.floatbank10_d_level           5290 non-null   float64\n",
      " 31  rougher.state.floatbank10_e_air             5290 non-null   float64\n",
      " 32  rougher.state.floatbank10_e_level           5290 non-null   float64\n",
      " 33  rougher.state.floatbank10_f_air             5290 non-null   float64\n",
      " 34  rougher.state.floatbank10_f_level           5290 non-null   float64\n",
      " 35  secondary_cleaner.state.floatbank2_a_air    5287 non-null   float64\n",
      " 36  secondary_cleaner.state.floatbank2_a_level  5290 non-null   float64\n",
      " 37  secondary_cleaner.state.floatbank2_b_air    5288 non-null   float64\n",
      " 38  secondary_cleaner.state.floatbank2_b_level  5290 non-null   float64\n",
      " 39  secondary_cleaner.state.floatbank3_a_air    5281 non-null   float64\n",
      " 40  secondary_cleaner.state.floatbank3_a_level  5290 non-null   float64\n",
      " 41  secondary_cleaner.state.floatbank3_b_air    5290 non-null   float64\n",
      " 42  secondary_cleaner.state.floatbank3_b_level  5290 non-null   float64\n",
      " 43  secondary_cleaner.state.floatbank4_a_air    5290 non-null   float64\n",
      " 44  secondary_cleaner.state.floatbank4_a_level  5290 non-null   float64\n",
      " 45  secondary_cleaner.state.floatbank4_b_air    5290 non-null   float64\n",
      " 46  secondary_cleaner.state.floatbank4_b_level  5290 non-null   float64\n",
      " 47  secondary_cleaner.state.floatbank5_a_air    5290 non-null   float64\n",
      " 48  secondary_cleaner.state.floatbank5_a_level  5290 non-null   float64\n",
      " 49  secondary_cleaner.state.floatbank5_b_air    5290 non-null   float64\n",
      " 50  secondary_cleaner.state.floatbank5_b_level  5290 non-null   float64\n",
      " 51  secondary_cleaner.state.floatbank6_a_air    5290 non-null   float64\n",
      " 52  secondary_cleaner.state.floatbank6_a_level  5290 non-null   float64\n",
      "dtypes: float64(52), object(1)\n",
      "memory usage: 2.1+ MB\n",
      "\n",
      "\n",
      "------------- Пропуски ------------\n",
      "date Пропусков НЕТ\n",
      "primary_cleaner.input.sulfate  -  4 пропусков\n",
      "primary_cleaner.input.depressant  -  5 пропусков\n",
      "primary_cleaner.input.xanthate  -  4 пропусков\n",
      "rougher.input.feed_rate  -  3 пропусков\n",
      "rougher.input.feed_size  -  1 пропусков\n",
      "rougher.input.feed_sol  -  21 пропусков\n",
      "rougher.input.floatbank10_sulfate  -  5 пропусков\n",
      "rougher.input.floatbank11_sulfate  -  8 пропусков\n",
      "rougher.input.floatbank11_xanthate  -  25 пропусков\n",
      "secondary_cleaner.state.floatbank2_a_air  -  3 пропусков\n",
      "secondary_cleaner.state.floatbank2_b_air  -  2 пропусков\n",
      "secondary_cleaner.state.floatbank3_a_air  -  9 пропусков\n",
      "\n",
      "\n",
      "------------- Дубликаты ------------\n",
      "Дубликатов НЕТ\n"
     ]
    }
   ],
   "source": [
    "#Посмотрим тестовую выборку        \n",
    "studying_the_data (data_recovery_test)"
   ]
  },
  {
   "cell_type": "code",
   "execution_count": 5,
   "metadata": {},
   "outputs": [
    {
     "name": "stdout",
     "output_type": "stream",
     "text": [
      "------------- Первые 5 строк ------------\n"
     ]
    },
    {
     "data": {
      "text/html": [
       "<div>\n",
       "<style scoped>\n",
       "    .dataframe tbody tr th:only-of-type {\n",
       "        vertical-align: middle;\n",
       "    }\n",
       "\n",
       "    .dataframe tbody tr th {\n",
       "        vertical-align: top;\n",
       "    }\n",
       "\n",
       "    .dataframe thead th {\n",
       "        text-align: right;\n",
       "    }\n",
       "</style>\n",
       "<table border=\"1\" class=\"dataframe\">\n",
       "  <thead>\n",
       "    <tr style=\"text-align: right;\">\n",
       "      <th></th>\n",
       "      <th>date</th>\n",
       "      <th>final.output.concentrate_ag</th>\n",
       "      <th>final.output.concentrate_pb</th>\n",
       "      <th>final.output.concentrate_sol</th>\n",
       "      <th>final.output.concentrate_au</th>\n",
       "      <th>final.output.recovery</th>\n",
       "      <th>final.output.tail_ag</th>\n",
       "      <th>final.output.tail_pb</th>\n",
       "      <th>final.output.tail_sol</th>\n",
       "      <th>final.output.tail_au</th>\n",
       "      <th>primary_cleaner.input.sulfate</th>\n",
       "      <th>primary_cleaner.input.depressant</th>\n",
       "      <th>primary_cleaner.input.feed_size</th>\n",
       "      <th>primary_cleaner.input.xanthate</th>\n",
       "      <th>primary_cleaner.output.concentrate_ag</th>\n",
       "      <th>primary_cleaner.output.concentrate_pb</th>\n",
       "      <th>primary_cleaner.output.concentrate_sol</th>\n",
       "      <th>primary_cleaner.output.concentrate_au</th>\n",
       "      <th>primary_cleaner.output.tail_ag</th>\n",
       "      <th>primary_cleaner.output.tail_pb</th>\n",
       "      <th>primary_cleaner.output.tail_sol</th>\n",
       "      <th>primary_cleaner.output.tail_au</th>\n",
       "      <th>primary_cleaner.state.floatbank8_a_air</th>\n",
       "      <th>primary_cleaner.state.floatbank8_a_level</th>\n",
       "      <th>primary_cleaner.state.floatbank8_b_air</th>\n",
       "      <th>primary_cleaner.state.floatbank8_b_level</th>\n",
       "      <th>primary_cleaner.state.floatbank8_c_air</th>\n",
       "      <th>primary_cleaner.state.floatbank8_c_level</th>\n",
       "      <th>primary_cleaner.state.floatbank8_d_air</th>\n",
       "      <th>primary_cleaner.state.floatbank8_d_level</th>\n",
       "      <th>rougher.calculation.sulfate_to_au_concentrate</th>\n",
       "      <th>rougher.calculation.floatbank10_sulfate_to_au_feed</th>\n",
       "      <th>rougher.calculation.floatbank11_sulfate_to_au_feed</th>\n",
       "      <th>rougher.calculation.au_pb_ratio</th>\n",
       "      <th>rougher.input.feed_ag</th>\n",
       "      <th>rougher.input.feed_pb</th>\n",
       "      <th>rougher.input.feed_rate</th>\n",
       "      <th>rougher.input.feed_size</th>\n",
       "      <th>rougher.input.feed_sol</th>\n",
       "      <th>rougher.input.feed_au</th>\n",
       "      <th>rougher.input.floatbank10_sulfate</th>\n",
       "      <th>rougher.input.floatbank10_xanthate</th>\n",
       "      <th>rougher.input.floatbank11_sulfate</th>\n",
       "      <th>rougher.input.floatbank11_xanthate</th>\n",
       "      <th>rougher.output.concentrate_ag</th>\n",
       "      <th>rougher.output.concentrate_pb</th>\n",
       "      <th>rougher.output.concentrate_sol</th>\n",
       "      <th>rougher.output.concentrate_au</th>\n",
       "      <th>rougher.output.recovery</th>\n",
       "      <th>rougher.output.tail_ag</th>\n",
       "      <th>rougher.output.tail_pb</th>\n",
       "      <th>rougher.output.tail_sol</th>\n",
       "      <th>rougher.output.tail_au</th>\n",
       "      <th>rougher.state.floatbank10_a_air</th>\n",
       "      <th>rougher.state.floatbank10_a_level</th>\n",
       "      <th>rougher.state.floatbank10_b_air</th>\n",
       "      <th>rougher.state.floatbank10_b_level</th>\n",
       "      <th>rougher.state.floatbank10_c_air</th>\n",
       "      <th>rougher.state.floatbank10_c_level</th>\n",
       "      <th>rougher.state.floatbank10_d_air</th>\n",
       "      <th>rougher.state.floatbank10_d_level</th>\n",
       "      <th>rougher.state.floatbank10_e_air</th>\n",
       "      <th>rougher.state.floatbank10_e_level</th>\n",
       "      <th>rougher.state.floatbank10_f_air</th>\n",
       "      <th>rougher.state.floatbank10_f_level</th>\n",
       "      <th>secondary_cleaner.output.tail_ag</th>\n",
       "      <th>secondary_cleaner.output.tail_pb</th>\n",
       "      <th>secondary_cleaner.output.tail_sol</th>\n",
       "      <th>secondary_cleaner.output.tail_au</th>\n",
       "      <th>secondary_cleaner.state.floatbank2_a_air</th>\n",
       "      <th>secondary_cleaner.state.floatbank2_a_level</th>\n",
       "      <th>secondary_cleaner.state.floatbank2_b_air</th>\n",
       "      <th>secondary_cleaner.state.floatbank2_b_level</th>\n",
       "      <th>secondary_cleaner.state.floatbank3_a_air</th>\n",
       "      <th>secondary_cleaner.state.floatbank3_a_level</th>\n",
       "      <th>secondary_cleaner.state.floatbank3_b_air</th>\n",
       "      <th>secondary_cleaner.state.floatbank3_b_level</th>\n",
       "      <th>secondary_cleaner.state.floatbank4_a_air</th>\n",
       "      <th>secondary_cleaner.state.floatbank4_a_level</th>\n",
       "      <th>secondary_cleaner.state.floatbank4_b_air</th>\n",
       "      <th>secondary_cleaner.state.floatbank4_b_level</th>\n",
       "      <th>secondary_cleaner.state.floatbank5_a_air</th>\n",
       "      <th>secondary_cleaner.state.floatbank5_a_level</th>\n",
       "      <th>secondary_cleaner.state.floatbank5_b_air</th>\n",
       "      <th>secondary_cleaner.state.floatbank5_b_level</th>\n",
       "      <th>secondary_cleaner.state.floatbank6_a_air</th>\n",
       "      <th>secondary_cleaner.state.floatbank6_a_level</th>\n",
       "    </tr>\n",
       "  </thead>\n",
       "  <tbody>\n",
       "    <tr>\n",
       "      <th>0</th>\n",
       "      <td>2016-01-15 00:00:00</td>\n",
       "      <td>6.055403</td>\n",
       "      <td>9.889648</td>\n",
       "      <td>5.507324</td>\n",
       "      <td>42.192020</td>\n",
       "      <td>70.541216</td>\n",
       "      <td>10.411962</td>\n",
       "      <td>0.895447</td>\n",
       "      <td>16.904297</td>\n",
       "      <td>2.143149</td>\n",
       "      <td>127.092003</td>\n",
       "      <td>10.128295</td>\n",
       "      <td>7.25</td>\n",
       "      <td>0.988759</td>\n",
       "      <td>8.547551</td>\n",
       "      <td>10.389648</td>\n",
       "      <td>19.529297</td>\n",
       "      <td>34.174427</td>\n",
       "      <td>14.936526</td>\n",
       "      <td>2.534912</td>\n",
       "      <td>7.476074</td>\n",
       "      <td>2.106679</td>\n",
       "      <td>1549.775757</td>\n",
       "      <td>-498.912140</td>\n",
       "      <td>1551.434204</td>\n",
       "      <td>-516.403442</td>\n",
       "      <td>1549.873901</td>\n",
       "      <td>-498.666595</td>\n",
       "      <td>1554.367432</td>\n",
       "      <td>-493.428131</td>\n",
       "      <td>41885.707031</td>\n",
       "      <td>3481.779053</td>\n",
       "      <td>3520.337158</td>\n",
       "      <td>2.838687</td>\n",
       "      <td>6.100378</td>\n",
       "      <td>2.284912</td>\n",
       "      <td>523.546326</td>\n",
       "      <td>55.486599</td>\n",
       "      <td>36.808594</td>\n",
       "      <td>6.486150</td>\n",
       "      <td>11.986616</td>\n",
       "      <td>6.007990</td>\n",
       "      <td>11.836743</td>\n",
       "      <td>6.005818</td>\n",
       "      <td>11.500771</td>\n",
       "      <td>7.101074</td>\n",
       "      <td>28.029297</td>\n",
       "      <td>19.793808</td>\n",
       "      <td>87.107763</td>\n",
       "      <td>5.008018</td>\n",
       "      <td>0.508728</td>\n",
       "      <td>19.154297</td>\n",
       "      <td>1.170244</td>\n",
       "      <td>999.706909</td>\n",
       "      <td>-404.066986</td>\n",
       "      <td>1603.011353</td>\n",
       "      <td>-434.715027</td>\n",
       "      <td>1602.375000</td>\n",
       "      <td>-442.204468</td>\n",
       "      <td>1598.937256</td>\n",
       "      <td>-451.294128</td>\n",
       "      <td>1404.472046</td>\n",
       "      <td>-455.462982</td>\n",
       "      <td>1416.354980</td>\n",
       "      <td>-451.939636</td>\n",
       "      <td>14.500184</td>\n",
       "      <td>4.694824</td>\n",
       "      <td>8.764648</td>\n",
       "      <td>2.606185</td>\n",
       "      <td>25.853109</td>\n",
       "      <td>-498.526489</td>\n",
       "      <td>23.893660</td>\n",
       "      <td>-501.406281</td>\n",
       "      <td>23.961798</td>\n",
       "      <td>-495.262817</td>\n",
       "      <td>21.940409</td>\n",
       "      <td>-499.340973</td>\n",
       "      <td>14.016835</td>\n",
       "      <td>-502.488007</td>\n",
       "      <td>12.099931</td>\n",
       "      <td>-504.715942</td>\n",
       "      <td>9.925633</td>\n",
       "      <td>-498.310211</td>\n",
       "      <td>8.079666</td>\n",
       "      <td>-500.470978</td>\n",
       "      <td>14.151341</td>\n",
       "      <td>-605.841980</td>\n",
       "    </tr>\n",
       "    <tr>\n",
       "      <th>1</th>\n",
       "      <td>2016-01-15 01:00:00</td>\n",
       "      <td>6.029369</td>\n",
       "      <td>9.968944</td>\n",
       "      <td>5.257781</td>\n",
       "      <td>42.701629</td>\n",
       "      <td>69.266198</td>\n",
       "      <td>10.462676</td>\n",
       "      <td>0.927452</td>\n",
       "      <td>16.634514</td>\n",
       "      <td>2.224930</td>\n",
       "      <td>125.629232</td>\n",
       "      <td>10.296251</td>\n",
       "      <td>7.25</td>\n",
       "      <td>1.002663</td>\n",
       "      <td>8.558743</td>\n",
       "      <td>10.497069</td>\n",
       "      <td>19.369147</td>\n",
       "      <td>34.118526</td>\n",
       "      <td>16.250511</td>\n",
       "      <td>3.049646</td>\n",
       "      <td>6.733907</td>\n",
       "      <td>2.353017</td>\n",
       "      <td>1576.166671</td>\n",
       "      <td>-500.904965</td>\n",
       "      <td>1575.950626</td>\n",
       "      <td>-499.865889</td>\n",
       "      <td>1575.994189</td>\n",
       "      <td>-499.315107</td>\n",
       "      <td>1574.479259</td>\n",
       "      <td>-498.931665</td>\n",
       "      <td>42050.861809</td>\n",
       "      <td>3498.370979</td>\n",
       "      <td>3489.981857</td>\n",
       "      <td>2.858998</td>\n",
       "      <td>6.161113</td>\n",
       "      <td>2.266033</td>\n",
       "      <td>525.290581</td>\n",
       "      <td>57.278666</td>\n",
       "      <td>35.753385</td>\n",
       "      <td>6.478583</td>\n",
       "      <td>11.971193</td>\n",
       "      <td>6.005766</td>\n",
       "      <td>11.996163</td>\n",
       "      <td>6.012594</td>\n",
       "      <td>11.615865</td>\n",
       "      <td>7.278807</td>\n",
       "      <td>28.067063</td>\n",
       "      <td>20.050975</td>\n",
       "      <td>86.843261</td>\n",
       "      <td>4.955378</td>\n",
       "      <td>0.536689</td>\n",
       "      <td>18.965234</td>\n",
       "      <td>1.184827</td>\n",
       "      <td>1000.286398</td>\n",
       "      <td>-400.065196</td>\n",
       "      <td>1600.754587</td>\n",
       "      <td>-449.953435</td>\n",
       "      <td>1600.479580</td>\n",
       "      <td>-449.830646</td>\n",
       "      <td>1600.527589</td>\n",
       "      <td>-449.953649</td>\n",
       "      <td>1399.227084</td>\n",
       "      <td>-450.869848</td>\n",
       "      <td>1399.719514</td>\n",
       "      <td>-450.119001</td>\n",
       "      <td>14.265474</td>\n",
       "      <td>4.592547</td>\n",
       "      <td>9.001494</td>\n",
       "      <td>2.488248</td>\n",
       "      <td>25.880539</td>\n",
       "      <td>-499.989656</td>\n",
       "      <td>23.889530</td>\n",
       "      <td>-500.372428</td>\n",
       "      <td>23.970550</td>\n",
       "      <td>-500.085473</td>\n",
       "      <td>22.085714</td>\n",
       "      <td>-499.446897</td>\n",
       "      <td>13.992281</td>\n",
       "      <td>-505.503262</td>\n",
       "      <td>11.950531</td>\n",
       "      <td>-501.331529</td>\n",
       "      <td>10.039245</td>\n",
       "      <td>-500.169983</td>\n",
       "      <td>7.984757</td>\n",
       "      <td>-500.582168</td>\n",
       "      <td>13.998353</td>\n",
       "      <td>-599.787184</td>\n",
       "    </tr>\n",
       "    <tr>\n",
       "      <th>2</th>\n",
       "      <td>2016-01-15 02:00:00</td>\n",
       "      <td>6.055926</td>\n",
       "      <td>10.213995</td>\n",
       "      <td>5.383759</td>\n",
       "      <td>42.657501</td>\n",
       "      <td>68.116445</td>\n",
       "      <td>10.507046</td>\n",
       "      <td>0.953716</td>\n",
       "      <td>16.208849</td>\n",
       "      <td>2.257889</td>\n",
       "      <td>123.819808</td>\n",
       "      <td>11.316280</td>\n",
       "      <td>7.25</td>\n",
       "      <td>0.991265</td>\n",
       "      <td>8.603505</td>\n",
       "      <td>10.354494</td>\n",
       "      <td>19.167579</td>\n",
       "      <td>33.969464</td>\n",
       "      <td>16.491823</td>\n",
       "      <td>3.124664</td>\n",
       "      <td>6.471768</td>\n",
       "      <td>2.416800</td>\n",
       "      <td>1601.556163</td>\n",
       "      <td>-499.997791</td>\n",
       "      <td>1600.386685</td>\n",
       "      <td>-500.607762</td>\n",
       "      <td>1602.003542</td>\n",
       "      <td>-500.870069</td>\n",
       "      <td>1599.541515</td>\n",
       "      <td>-499.827444</td>\n",
       "      <td>42018.101184</td>\n",
       "      <td>3495.348910</td>\n",
       "      <td>3502.359819</td>\n",
       "      <td>2.945989</td>\n",
       "      <td>6.116455</td>\n",
       "      <td>2.159622</td>\n",
       "      <td>530.026610</td>\n",
       "      <td>57.510649</td>\n",
       "      <td>35.971630</td>\n",
       "      <td>6.362222</td>\n",
       "      <td>11.920603</td>\n",
       "      <td>6.197377</td>\n",
       "      <td>11.920305</td>\n",
       "      <td>6.204633</td>\n",
       "      <td>11.695753</td>\n",
       "      <td>7.216833</td>\n",
       "      <td>27.454037</td>\n",
       "      <td>19.737170</td>\n",
       "      <td>86.842308</td>\n",
       "      <td>4.843460</td>\n",
       "      <td>0.546416</td>\n",
       "      <td>18.808533</td>\n",
       "      <td>1.162562</td>\n",
       "      <td>999.719565</td>\n",
       "      <td>-400.074028</td>\n",
       "      <td>1599.337330</td>\n",
       "      <td>-450.008530</td>\n",
       "      <td>1599.672797</td>\n",
       "      <td>-449.954491</td>\n",
       "      <td>1599.849325</td>\n",
       "      <td>-449.954185</td>\n",
       "      <td>1399.180945</td>\n",
       "      <td>-449.937588</td>\n",
       "      <td>1400.316682</td>\n",
       "      <td>-450.527147</td>\n",
       "      <td>14.115662</td>\n",
       "      <td>4.624775</td>\n",
       "      <td>8.842896</td>\n",
       "      <td>2.458187</td>\n",
       "      <td>26.005245</td>\n",
       "      <td>-499.929616</td>\n",
       "      <td>23.886657</td>\n",
       "      <td>-499.951928</td>\n",
       "      <td>23.913535</td>\n",
       "      <td>-499.442343</td>\n",
       "      <td>23.957717</td>\n",
       "      <td>-499.901982</td>\n",
       "      <td>14.015015</td>\n",
       "      <td>-502.520901</td>\n",
       "      <td>11.912783</td>\n",
       "      <td>-501.133383</td>\n",
       "      <td>10.070913</td>\n",
       "      <td>-500.129135</td>\n",
       "      <td>8.013877</td>\n",
       "      <td>-500.517572</td>\n",
       "      <td>14.028663</td>\n",
       "      <td>-601.427363</td>\n",
       "    </tr>\n",
       "    <tr>\n",
       "      <th>3</th>\n",
       "      <td>2016-01-15 03:00:00</td>\n",
       "      <td>6.047977</td>\n",
       "      <td>9.977019</td>\n",
       "      <td>4.858634</td>\n",
       "      <td>42.689819</td>\n",
       "      <td>68.347543</td>\n",
       "      <td>10.422762</td>\n",
       "      <td>0.883763</td>\n",
       "      <td>16.532835</td>\n",
       "      <td>2.146849</td>\n",
       "      <td>122.270188</td>\n",
       "      <td>11.322140</td>\n",
       "      <td>7.25</td>\n",
       "      <td>0.996739</td>\n",
       "      <td>7.221879</td>\n",
       "      <td>8.496563</td>\n",
       "      <td>15.978538</td>\n",
       "      <td>28.260743</td>\n",
       "      <td>16.024359</td>\n",
       "      <td>2.960362</td>\n",
       "      <td>6.843791</td>\n",
       "      <td>2.262051</td>\n",
       "      <td>1599.968720</td>\n",
       "      <td>-500.951778</td>\n",
       "      <td>1600.659236</td>\n",
       "      <td>-499.677094</td>\n",
       "      <td>1600.304144</td>\n",
       "      <td>-500.727997</td>\n",
       "      <td>1600.449520</td>\n",
       "      <td>-500.052575</td>\n",
       "      <td>42029.447991</td>\n",
       "      <td>3498.578313</td>\n",
       "      <td>3499.162912</td>\n",
       "      <td>3.002340</td>\n",
       "      <td>6.043309</td>\n",
       "      <td>2.037807</td>\n",
       "      <td>542.590390</td>\n",
       "      <td>57.792734</td>\n",
       "      <td>36.862241</td>\n",
       "      <td>6.118189</td>\n",
       "      <td>11.630094</td>\n",
       "      <td>6.203177</td>\n",
       "      <td>11.692450</td>\n",
       "      <td>6.196578</td>\n",
       "      <td>11.915047</td>\n",
       "      <td>7.175616</td>\n",
       "      <td>27.341277</td>\n",
       "      <td>19.320810</td>\n",
       "      <td>87.226430</td>\n",
       "      <td>4.655288</td>\n",
       "      <td>0.542525</td>\n",
       "      <td>19.330200</td>\n",
       "      <td>1.079755</td>\n",
       "      <td>999.814770</td>\n",
       "      <td>-400.200179</td>\n",
       "      <td>1600.059442</td>\n",
       "      <td>-450.619948</td>\n",
       "      <td>1600.012842</td>\n",
       "      <td>-449.910497</td>\n",
       "      <td>1597.725177</td>\n",
       "      <td>-450.130127</td>\n",
       "      <td>1400.943157</td>\n",
       "      <td>-450.030142</td>\n",
       "      <td>1400.234743</td>\n",
       "      <td>-449.790835</td>\n",
       "      <td>13.732071</td>\n",
       "      <td>4.482453</td>\n",
       "      <td>9.122857</td>\n",
       "      <td>2.322062</td>\n",
       "      <td>25.942508</td>\n",
       "      <td>-499.176749</td>\n",
       "      <td>23.955516</td>\n",
       "      <td>-499.848796</td>\n",
       "      <td>23.966838</td>\n",
       "      <td>-500.008812</td>\n",
       "      <td>23.954443</td>\n",
       "      <td>-499.944710</td>\n",
       "      <td>14.036510</td>\n",
       "      <td>-500.857308</td>\n",
       "      <td>11.999550</td>\n",
       "      <td>-501.193686</td>\n",
       "      <td>9.970366</td>\n",
       "      <td>-499.201640</td>\n",
       "      <td>7.977324</td>\n",
       "      <td>-500.255908</td>\n",
       "      <td>14.005551</td>\n",
       "      <td>-599.996129</td>\n",
       "    </tr>\n",
       "    <tr>\n",
       "      <th>4</th>\n",
       "      <td>2016-01-15 04:00:00</td>\n",
       "      <td>6.148599</td>\n",
       "      <td>10.142511</td>\n",
       "      <td>4.939416</td>\n",
       "      <td>42.774141</td>\n",
       "      <td>66.927016</td>\n",
       "      <td>10.360302</td>\n",
       "      <td>0.792826</td>\n",
       "      <td>16.525686</td>\n",
       "      <td>2.055292</td>\n",
       "      <td>117.988169</td>\n",
       "      <td>11.913613</td>\n",
       "      <td>7.25</td>\n",
       "      <td>1.009869</td>\n",
       "      <td>9.089428</td>\n",
       "      <td>9.986786</td>\n",
       "      <td>19.199864</td>\n",
       "      <td>33.044932</td>\n",
       "      <td>16.480185</td>\n",
       "      <td>3.112100</td>\n",
       "      <td>6.550154</td>\n",
       "      <td>2.277073</td>\n",
       "      <td>1601.339707</td>\n",
       "      <td>-498.975456</td>\n",
       "      <td>1601.437854</td>\n",
       "      <td>-500.323246</td>\n",
       "      <td>1599.581894</td>\n",
       "      <td>-500.888152</td>\n",
       "      <td>1602.649541</td>\n",
       "      <td>-500.593010</td>\n",
       "      <td>42125.354245</td>\n",
       "      <td>3494.800771</td>\n",
       "      <td>3506.679315</td>\n",
       "      <td>3.169615</td>\n",
       "      <td>6.060915</td>\n",
       "      <td>1.786875</td>\n",
       "      <td>540.531893</td>\n",
       "      <td>56.047189</td>\n",
       "      <td>34.347666</td>\n",
       "      <td>5.663707</td>\n",
       "      <td>10.957755</td>\n",
       "      <td>6.198826</td>\n",
       "      <td>10.960521</td>\n",
       "      <td>6.194897</td>\n",
       "      <td>12.411054</td>\n",
       "      <td>7.240205</td>\n",
       "      <td>27.041023</td>\n",
       "      <td>19.216101</td>\n",
       "      <td>86.688794</td>\n",
       "      <td>4.552800</td>\n",
       "      <td>0.515438</td>\n",
       "      <td>19.267422</td>\n",
       "      <td>1.012642</td>\n",
       "      <td>999.678690</td>\n",
       "      <td>-399.752729</td>\n",
       "      <td>1600.208824</td>\n",
       "      <td>-449.599614</td>\n",
       "      <td>1600.357732</td>\n",
       "      <td>-450.034364</td>\n",
       "      <td>1599.759049</td>\n",
       "      <td>-449.909799</td>\n",
       "      <td>1401.560902</td>\n",
       "      <td>-448.877187</td>\n",
       "      <td>1401.160227</td>\n",
       "      <td>-450.407128</td>\n",
       "      <td>14.079996</td>\n",
       "      <td>4.470737</td>\n",
       "      <td>8.871028</td>\n",
       "      <td>2.330448</td>\n",
       "      <td>26.024787</td>\n",
       "      <td>-500.279091</td>\n",
       "      <td>23.955345</td>\n",
       "      <td>-500.593614</td>\n",
       "      <td>23.985703</td>\n",
       "      <td>-500.083811</td>\n",
       "      <td>23.958945</td>\n",
       "      <td>-499.990309</td>\n",
       "      <td>14.027298</td>\n",
       "      <td>-499.838632</td>\n",
       "      <td>11.953070</td>\n",
       "      <td>-501.053894</td>\n",
       "      <td>9.925709</td>\n",
       "      <td>-501.686727</td>\n",
       "      <td>7.894242</td>\n",
       "      <td>-500.356035</td>\n",
       "      <td>13.996647</td>\n",
       "      <td>-601.496691</td>\n",
       "    </tr>\n",
       "  </tbody>\n",
       "</table>\n",
       "</div>"
      ],
      "text/plain": [
       "                  date  final.output.concentrate_ag  \\\n",
       "0  2016-01-15 00:00:00                     6.055403   \n",
       "1  2016-01-15 01:00:00                     6.029369   \n",
       "2  2016-01-15 02:00:00                     6.055926   \n",
       "3  2016-01-15 03:00:00                     6.047977   \n",
       "4  2016-01-15 04:00:00                     6.148599   \n",
       "\n",
       "   final.output.concentrate_pb  final.output.concentrate_sol  \\\n",
       "0                     9.889648                      5.507324   \n",
       "1                     9.968944                      5.257781   \n",
       "2                    10.213995                      5.383759   \n",
       "3                     9.977019                      4.858634   \n",
       "4                    10.142511                      4.939416   \n",
       "\n",
       "   final.output.concentrate_au  final.output.recovery  final.output.tail_ag  \\\n",
       "0                    42.192020              70.541216             10.411962   \n",
       "1                    42.701629              69.266198             10.462676   \n",
       "2                    42.657501              68.116445             10.507046   \n",
       "3                    42.689819              68.347543             10.422762   \n",
       "4                    42.774141              66.927016             10.360302   \n",
       "\n",
       "   final.output.tail_pb  final.output.tail_sol  final.output.tail_au  \\\n",
       "0              0.895447              16.904297              2.143149   \n",
       "1              0.927452              16.634514              2.224930   \n",
       "2              0.953716              16.208849              2.257889   \n",
       "3              0.883763              16.532835              2.146849   \n",
       "4              0.792826              16.525686              2.055292   \n",
       "\n",
       "   primary_cleaner.input.sulfate  primary_cleaner.input.depressant  \\\n",
       "0                     127.092003                         10.128295   \n",
       "1                     125.629232                         10.296251   \n",
       "2                     123.819808                         11.316280   \n",
       "3                     122.270188                         11.322140   \n",
       "4                     117.988169                         11.913613   \n",
       "\n",
       "   primary_cleaner.input.feed_size  primary_cleaner.input.xanthate  \\\n",
       "0                             7.25                        0.988759   \n",
       "1                             7.25                        1.002663   \n",
       "2                             7.25                        0.991265   \n",
       "3                             7.25                        0.996739   \n",
       "4                             7.25                        1.009869   \n",
       "\n",
       "   primary_cleaner.output.concentrate_ag  \\\n",
       "0                               8.547551   \n",
       "1                               8.558743   \n",
       "2                               8.603505   \n",
       "3                               7.221879   \n",
       "4                               9.089428   \n",
       "\n",
       "   primary_cleaner.output.concentrate_pb  \\\n",
       "0                              10.389648   \n",
       "1                              10.497069   \n",
       "2                              10.354494   \n",
       "3                               8.496563   \n",
       "4                               9.986786   \n",
       "\n",
       "   primary_cleaner.output.concentrate_sol  \\\n",
       "0                               19.529297   \n",
       "1                               19.369147   \n",
       "2                               19.167579   \n",
       "3                               15.978538   \n",
       "4                               19.199864   \n",
       "\n",
       "   primary_cleaner.output.concentrate_au  primary_cleaner.output.tail_ag  \\\n",
       "0                              34.174427                       14.936526   \n",
       "1                              34.118526                       16.250511   \n",
       "2                              33.969464                       16.491823   \n",
       "3                              28.260743                       16.024359   \n",
       "4                              33.044932                       16.480185   \n",
       "\n",
       "   primary_cleaner.output.tail_pb  primary_cleaner.output.tail_sol  \\\n",
       "0                        2.534912                         7.476074   \n",
       "1                        3.049646                         6.733907   \n",
       "2                        3.124664                         6.471768   \n",
       "3                        2.960362                         6.843791   \n",
       "4                        3.112100                         6.550154   \n",
       "\n",
       "   primary_cleaner.output.tail_au  primary_cleaner.state.floatbank8_a_air  \\\n",
       "0                        2.106679                             1549.775757   \n",
       "1                        2.353017                             1576.166671   \n",
       "2                        2.416800                             1601.556163   \n",
       "3                        2.262051                             1599.968720   \n",
       "4                        2.277073                             1601.339707   \n",
       "\n",
       "   primary_cleaner.state.floatbank8_a_level  \\\n",
       "0                               -498.912140   \n",
       "1                               -500.904965   \n",
       "2                               -499.997791   \n",
       "3                               -500.951778   \n",
       "4                               -498.975456   \n",
       "\n",
       "   primary_cleaner.state.floatbank8_b_air  \\\n",
       "0                             1551.434204   \n",
       "1                             1575.950626   \n",
       "2                             1600.386685   \n",
       "3                             1600.659236   \n",
       "4                             1601.437854   \n",
       "\n",
       "   primary_cleaner.state.floatbank8_b_level  \\\n",
       "0                               -516.403442   \n",
       "1                               -499.865889   \n",
       "2                               -500.607762   \n",
       "3                               -499.677094   \n",
       "4                               -500.323246   \n",
       "\n",
       "   primary_cleaner.state.floatbank8_c_air  \\\n",
       "0                             1549.873901   \n",
       "1                             1575.994189   \n",
       "2                             1602.003542   \n",
       "3                             1600.304144   \n",
       "4                             1599.581894   \n",
       "\n",
       "   primary_cleaner.state.floatbank8_c_level  \\\n",
       "0                               -498.666595   \n",
       "1                               -499.315107   \n",
       "2                               -500.870069   \n",
       "3                               -500.727997   \n",
       "4                               -500.888152   \n",
       "\n",
       "   primary_cleaner.state.floatbank8_d_air  \\\n",
       "0                             1554.367432   \n",
       "1                             1574.479259   \n",
       "2                             1599.541515   \n",
       "3                             1600.449520   \n",
       "4                             1602.649541   \n",
       "\n",
       "   primary_cleaner.state.floatbank8_d_level  \\\n",
       "0                               -493.428131   \n",
       "1                               -498.931665   \n",
       "2                               -499.827444   \n",
       "3                               -500.052575   \n",
       "4                               -500.593010   \n",
       "\n",
       "   rougher.calculation.sulfate_to_au_concentrate  \\\n",
       "0                                   41885.707031   \n",
       "1                                   42050.861809   \n",
       "2                                   42018.101184   \n",
       "3                                   42029.447991   \n",
       "4                                   42125.354245   \n",
       "\n",
       "   rougher.calculation.floatbank10_sulfate_to_au_feed  \\\n",
       "0                                        3481.779053    \n",
       "1                                        3498.370979    \n",
       "2                                        3495.348910    \n",
       "3                                        3498.578313    \n",
       "4                                        3494.800771    \n",
       "\n",
       "   rougher.calculation.floatbank11_sulfate_to_au_feed  \\\n",
       "0                                        3520.337158    \n",
       "1                                        3489.981857    \n",
       "2                                        3502.359819    \n",
       "3                                        3499.162912    \n",
       "4                                        3506.679315    \n",
       "\n",
       "   rougher.calculation.au_pb_ratio  rougher.input.feed_ag  \\\n",
       "0                         2.838687               6.100378   \n",
       "1                         2.858998               6.161113   \n",
       "2                         2.945989               6.116455   \n",
       "3                         3.002340               6.043309   \n",
       "4                         3.169615               6.060915   \n",
       "\n",
       "   rougher.input.feed_pb  rougher.input.feed_rate  rougher.input.feed_size  \\\n",
       "0               2.284912               523.546326                55.486599   \n",
       "1               2.266033               525.290581                57.278666   \n",
       "2               2.159622               530.026610                57.510649   \n",
       "3               2.037807               542.590390                57.792734   \n",
       "4               1.786875               540.531893                56.047189   \n",
       "\n",
       "   rougher.input.feed_sol  rougher.input.feed_au  \\\n",
       "0               36.808594               6.486150   \n",
       "1               35.753385               6.478583   \n",
       "2               35.971630               6.362222   \n",
       "3               36.862241               6.118189   \n",
       "4               34.347666               5.663707   \n",
       "\n",
       "   rougher.input.floatbank10_sulfate  rougher.input.floatbank10_xanthate  \\\n",
       "0                          11.986616                            6.007990   \n",
       "1                          11.971193                            6.005766   \n",
       "2                          11.920603                            6.197377   \n",
       "3                          11.630094                            6.203177   \n",
       "4                          10.957755                            6.198826   \n",
       "\n",
       "   rougher.input.floatbank11_sulfate  rougher.input.floatbank11_xanthate  \\\n",
       "0                          11.836743                            6.005818   \n",
       "1                          11.996163                            6.012594   \n",
       "2                          11.920305                            6.204633   \n",
       "3                          11.692450                            6.196578   \n",
       "4                          10.960521                            6.194897   \n",
       "\n",
       "   rougher.output.concentrate_ag  rougher.output.concentrate_pb  \\\n",
       "0                      11.500771                       7.101074   \n",
       "1                      11.615865                       7.278807   \n",
       "2                      11.695753                       7.216833   \n",
       "3                      11.915047                       7.175616   \n",
       "4                      12.411054                       7.240205   \n",
       "\n",
       "   rougher.output.concentrate_sol  rougher.output.concentrate_au  \\\n",
       "0                       28.029297                      19.793808   \n",
       "1                       28.067063                      20.050975   \n",
       "2                       27.454037                      19.737170   \n",
       "3                       27.341277                      19.320810   \n",
       "4                       27.041023                      19.216101   \n",
       "\n",
       "   rougher.output.recovery  rougher.output.tail_ag  rougher.output.tail_pb  \\\n",
       "0                87.107763                5.008018                0.508728   \n",
       "1                86.843261                4.955378                0.536689   \n",
       "2                86.842308                4.843460                0.546416   \n",
       "3                87.226430                4.655288                0.542525   \n",
       "4                86.688794                4.552800                0.515438   \n",
       "\n",
       "   rougher.output.tail_sol  rougher.output.tail_au  \\\n",
       "0                19.154297                1.170244   \n",
       "1                18.965234                1.184827   \n",
       "2                18.808533                1.162562   \n",
       "3                19.330200                1.079755   \n",
       "4                19.267422                1.012642   \n",
       "\n",
       "   rougher.state.floatbank10_a_air  rougher.state.floatbank10_a_level  \\\n",
       "0                       999.706909                        -404.066986   \n",
       "1                      1000.286398                        -400.065196   \n",
       "2                       999.719565                        -400.074028   \n",
       "3                       999.814770                        -400.200179   \n",
       "4                       999.678690                        -399.752729   \n",
       "\n",
       "   rougher.state.floatbank10_b_air  rougher.state.floatbank10_b_level  \\\n",
       "0                      1603.011353                        -434.715027   \n",
       "1                      1600.754587                        -449.953435   \n",
       "2                      1599.337330                        -450.008530   \n",
       "3                      1600.059442                        -450.619948   \n",
       "4                      1600.208824                        -449.599614   \n",
       "\n",
       "   rougher.state.floatbank10_c_air  rougher.state.floatbank10_c_level  \\\n",
       "0                      1602.375000                        -442.204468   \n",
       "1                      1600.479580                        -449.830646   \n",
       "2                      1599.672797                        -449.954491   \n",
       "3                      1600.012842                        -449.910497   \n",
       "4                      1600.357732                        -450.034364   \n",
       "\n",
       "   rougher.state.floatbank10_d_air  rougher.state.floatbank10_d_level  \\\n",
       "0                      1598.937256                        -451.294128   \n",
       "1                      1600.527589                        -449.953649   \n",
       "2                      1599.849325                        -449.954185   \n",
       "3                      1597.725177                        -450.130127   \n",
       "4                      1599.759049                        -449.909799   \n",
       "\n",
       "   rougher.state.floatbank10_e_air  rougher.state.floatbank10_e_level  \\\n",
       "0                      1404.472046                        -455.462982   \n",
       "1                      1399.227084                        -450.869848   \n",
       "2                      1399.180945                        -449.937588   \n",
       "3                      1400.943157                        -450.030142   \n",
       "4                      1401.560902                        -448.877187   \n",
       "\n",
       "   rougher.state.floatbank10_f_air  rougher.state.floatbank10_f_level  \\\n",
       "0                      1416.354980                        -451.939636   \n",
       "1                      1399.719514                        -450.119001   \n",
       "2                      1400.316682                        -450.527147   \n",
       "3                      1400.234743                        -449.790835   \n",
       "4                      1401.160227                        -450.407128   \n",
       "\n",
       "   secondary_cleaner.output.tail_ag  secondary_cleaner.output.tail_pb  \\\n",
       "0                         14.500184                          4.694824   \n",
       "1                         14.265474                          4.592547   \n",
       "2                         14.115662                          4.624775   \n",
       "3                         13.732071                          4.482453   \n",
       "4                         14.079996                          4.470737   \n",
       "\n",
       "   secondary_cleaner.output.tail_sol  secondary_cleaner.output.tail_au  \\\n",
       "0                           8.764648                          2.606185   \n",
       "1                           9.001494                          2.488248   \n",
       "2                           8.842896                          2.458187   \n",
       "3                           9.122857                          2.322062   \n",
       "4                           8.871028                          2.330448   \n",
       "\n",
       "   secondary_cleaner.state.floatbank2_a_air  \\\n",
       "0                                 25.853109   \n",
       "1                                 25.880539   \n",
       "2                                 26.005245   \n",
       "3                                 25.942508   \n",
       "4                                 26.024787   \n",
       "\n",
       "   secondary_cleaner.state.floatbank2_a_level  \\\n",
       "0                                 -498.526489   \n",
       "1                                 -499.989656   \n",
       "2                                 -499.929616   \n",
       "3                                 -499.176749   \n",
       "4                                 -500.279091   \n",
       "\n",
       "   secondary_cleaner.state.floatbank2_b_air  \\\n",
       "0                                 23.893660   \n",
       "1                                 23.889530   \n",
       "2                                 23.886657   \n",
       "3                                 23.955516   \n",
       "4                                 23.955345   \n",
       "\n",
       "   secondary_cleaner.state.floatbank2_b_level  \\\n",
       "0                                 -501.406281   \n",
       "1                                 -500.372428   \n",
       "2                                 -499.951928   \n",
       "3                                 -499.848796   \n",
       "4                                 -500.593614   \n",
       "\n",
       "   secondary_cleaner.state.floatbank3_a_air  \\\n",
       "0                                 23.961798   \n",
       "1                                 23.970550   \n",
       "2                                 23.913535   \n",
       "3                                 23.966838   \n",
       "4                                 23.985703   \n",
       "\n",
       "   secondary_cleaner.state.floatbank3_a_level  \\\n",
       "0                                 -495.262817   \n",
       "1                                 -500.085473   \n",
       "2                                 -499.442343   \n",
       "3                                 -500.008812   \n",
       "4                                 -500.083811   \n",
       "\n",
       "   secondary_cleaner.state.floatbank3_b_air  \\\n",
       "0                                 21.940409   \n",
       "1                                 22.085714   \n",
       "2                                 23.957717   \n",
       "3                                 23.954443   \n",
       "4                                 23.958945   \n",
       "\n",
       "   secondary_cleaner.state.floatbank3_b_level  \\\n",
       "0                                 -499.340973   \n",
       "1                                 -499.446897   \n",
       "2                                 -499.901982   \n",
       "3                                 -499.944710   \n",
       "4                                 -499.990309   \n",
       "\n",
       "   secondary_cleaner.state.floatbank4_a_air  \\\n",
       "0                                 14.016835   \n",
       "1                                 13.992281   \n",
       "2                                 14.015015   \n",
       "3                                 14.036510   \n",
       "4                                 14.027298   \n",
       "\n",
       "   secondary_cleaner.state.floatbank4_a_level  \\\n",
       "0                                 -502.488007   \n",
       "1                                 -505.503262   \n",
       "2                                 -502.520901   \n",
       "3                                 -500.857308   \n",
       "4                                 -499.838632   \n",
       "\n",
       "   secondary_cleaner.state.floatbank4_b_air  \\\n",
       "0                                 12.099931   \n",
       "1                                 11.950531   \n",
       "2                                 11.912783   \n",
       "3                                 11.999550   \n",
       "4                                 11.953070   \n",
       "\n",
       "   secondary_cleaner.state.floatbank4_b_level  \\\n",
       "0                                 -504.715942   \n",
       "1                                 -501.331529   \n",
       "2                                 -501.133383   \n",
       "3                                 -501.193686   \n",
       "4                                 -501.053894   \n",
       "\n",
       "   secondary_cleaner.state.floatbank5_a_air  \\\n",
       "0                                  9.925633   \n",
       "1                                 10.039245   \n",
       "2                                 10.070913   \n",
       "3                                  9.970366   \n",
       "4                                  9.925709   \n",
       "\n",
       "   secondary_cleaner.state.floatbank5_a_level  \\\n",
       "0                                 -498.310211   \n",
       "1                                 -500.169983   \n",
       "2                                 -500.129135   \n",
       "3                                 -499.201640   \n",
       "4                                 -501.686727   \n",
       "\n",
       "   secondary_cleaner.state.floatbank5_b_air  \\\n",
       "0                                  8.079666   \n",
       "1                                  7.984757   \n",
       "2                                  8.013877   \n",
       "3                                  7.977324   \n",
       "4                                  7.894242   \n",
       "\n",
       "   secondary_cleaner.state.floatbank5_b_level  \\\n",
       "0                                 -500.470978   \n",
       "1                                 -500.582168   \n",
       "2                                 -500.517572   \n",
       "3                                 -500.255908   \n",
       "4                                 -500.356035   \n",
       "\n",
       "   secondary_cleaner.state.floatbank6_a_air  \\\n",
       "0                                 14.151341   \n",
       "1                                 13.998353   \n",
       "2                                 14.028663   \n",
       "3                                 14.005551   \n",
       "4                                 13.996647   \n",
       "\n",
       "   secondary_cleaner.state.floatbank6_a_level  \n",
       "0                                 -605.841980  \n",
       "1                                 -599.787184  \n",
       "2                                 -601.427363  \n",
       "3                                 -599.996129  \n",
       "4                                 -601.496691  "
      ]
     },
     "metadata": {},
     "output_type": "display_data"
    },
    {
     "name": "stdout",
     "output_type": "stream",
     "text": [
      "\n",
      "\n",
      "------------- Типы данных ------------\n",
      "<class 'pandas.core.frame.DataFrame'>\n",
      "RangeIndex: 19439 entries, 0 to 19438\n",
      "Data columns (total 87 columns):\n",
      " #   Column                                              Non-Null Count  Dtype  \n",
      "---  ------                                              --------------  -----  \n",
      " 0   date                                                19439 non-null  object \n",
      " 1   final.output.concentrate_ag                         19438 non-null  float64\n",
      " 2   final.output.concentrate_pb                         19438 non-null  float64\n",
      " 3   final.output.concentrate_sol                        19228 non-null  float64\n",
      " 4   final.output.concentrate_au                         19439 non-null  float64\n",
      " 5   final.output.recovery                               19439 non-null  float64\n",
      " 6   final.output.tail_ag                                19438 non-null  float64\n",
      " 7   final.output.tail_pb                                19338 non-null  float64\n",
      " 8   final.output.tail_sol                               19433 non-null  float64\n",
      " 9   final.output.tail_au                                19439 non-null  float64\n",
      " 10  primary_cleaner.input.sulfate                       19415 non-null  float64\n",
      " 11  primary_cleaner.input.depressant                    19402 non-null  float64\n",
      " 12  primary_cleaner.input.feed_size                     19439 non-null  float64\n",
      " 13  primary_cleaner.input.xanthate                      19335 non-null  float64\n",
      " 14  primary_cleaner.output.concentrate_ag               19439 non-null  float64\n",
      " 15  primary_cleaner.output.concentrate_pb               19323 non-null  float64\n",
      " 16  primary_cleaner.output.concentrate_sol              19069 non-null  float64\n",
      " 17  primary_cleaner.output.concentrate_au               19439 non-null  float64\n",
      " 18  primary_cleaner.output.tail_ag                      19435 non-null  float64\n",
      " 19  primary_cleaner.output.tail_pb                      19418 non-null  float64\n",
      " 20  primary_cleaner.output.tail_sol                     19377 non-null  float64\n",
      " 21  primary_cleaner.output.tail_au                      19439 non-null  float64\n",
      " 22  primary_cleaner.state.floatbank8_a_air              19435 non-null  float64\n",
      " 23  primary_cleaner.state.floatbank8_a_level            19438 non-null  float64\n",
      " 24  primary_cleaner.state.floatbank8_b_air              19435 non-null  float64\n",
      " 25  primary_cleaner.state.floatbank8_b_level            19438 non-null  float64\n",
      " 26  primary_cleaner.state.floatbank8_c_air              19437 non-null  float64\n",
      " 27  primary_cleaner.state.floatbank8_c_level            19438 non-null  float64\n",
      " 28  primary_cleaner.state.floatbank8_d_air              19436 non-null  float64\n",
      " 29  primary_cleaner.state.floatbank8_d_level            19438 non-null  float64\n",
      " 30  rougher.calculation.sulfate_to_au_concentrate       19437 non-null  float64\n",
      " 31  rougher.calculation.floatbank10_sulfate_to_au_feed  19437 non-null  float64\n",
      " 32  rougher.calculation.floatbank11_sulfate_to_au_feed  19437 non-null  float64\n",
      " 33  rougher.calculation.au_pb_ratio                     19439 non-null  float64\n",
      " 34  rougher.input.feed_ag                               19439 non-null  float64\n",
      " 35  rougher.input.feed_pb                               19339 non-null  float64\n",
      " 36  rougher.input.feed_rate                             19428 non-null  float64\n",
      " 37  rougher.input.feed_size                             19294 non-null  float64\n",
      " 38  rougher.input.feed_sol                              19340 non-null  float64\n",
      " 39  rougher.input.feed_au                               19439 non-null  float64\n",
      " 40  rougher.input.floatbank10_sulfate                   19405 non-null  float64\n",
      " 41  rougher.input.floatbank10_xanthate                  19431 non-null  float64\n",
      " 42  rougher.input.floatbank11_sulfate                   19395 non-null  float64\n",
      " 43  rougher.input.floatbank11_xanthate                  18986 non-null  float64\n",
      " 44  rougher.output.concentrate_ag                       19439 non-null  float64\n",
      " 45  rougher.output.concentrate_pb                       19439 non-null  float64\n",
      " 46  rougher.output.concentrate_sol                      19416 non-null  float64\n",
      " 47  rougher.output.concentrate_au                       19439 non-null  float64\n",
      " 48  rougher.output.recovery                             19439 non-null  float64\n",
      " 49  rougher.output.tail_ag                              19438 non-null  float64\n",
      " 50  rougher.output.tail_pb                              19439 non-null  float64\n",
      " 51  rougher.output.tail_sol                             19439 non-null  float64\n",
      " 52  rougher.output.tail_au                              19439 non-null  float64\n",
      " 53  rougher.state.floatbank10_a_air                     19438 non-null  float64\n",
      " 54  rougher.state.floatbank10_a_level                   19438 non-null  float64\n",
      " 55  rougher.state.floatbank10_b_air                     19438 non-null  float64\n",
      " 56  rougher.state.floatbank10_b_level                   19438 non-null  float64\n",
      " 57  rougher.state.floatbank10_c_air                     19438 non-null  float64\n",
      " 58  rougher.state.floatbank10_c_level                   19438 non-null  float64\n",
      " 59  rougher.state.floatbank10_d_air                     19439 non-null  float64\n",
      " 60  rougher.state.floatbank10_d_level                   19439 non-null  float64\n",
      " 61  rougher.state.floatbank10_e_air                     19003 non-null  float64\n",
      " 62  rougher.state.floatbank10_e_level                   19439 non-null  float64\n",
      " 63  rougher.state.floatbank10_f_air                     19439 non-null  float64\n",
      " 64  rougher.state.floatbank10_f_level                   19439 non-null  float64\n",
      " 65  secondary_cleaner.output.tail_ag                    19437 non-null  float64\n",
      " 66  secondary_cleaner.output.tail_pb                    19427 non-null  float64\n",
      " 67  secondary_cleaner.output.tail_sol                   17691 non-null  float64\n",
      " 68  secondary_cleaner.output.tail_au                    19439 non-null  float64\n",
      " 69  secondary_cleaner.state.floatbank2_a_air            19219 non-null  float64\n",
      " 70  secondary_cleaner.state.floatbank2_a_level          19438 non-null  float64\n",
      " 71  secondary_cleaner.state.floatbank2_b_air            19416 non-null  float64\n",
      " 72  secondary_cleaner.state.floatbank2_b_level          19438 non-null  float64\n",
      " 73  secondary_cleaner.state.floatbank3_a_air            19426 non-null  float64\n",
      " 74  secondary_cleaner.state.floatbank3_a_level          19438 non-null  float64\n",
      " 75  secondary_cleaner.state.floatbank3_b_air            19438 non-null  float64\n",
      " 76  secondary_cleaner.state.floatbank3_b_level          19438 non-null  float64\n",
      " 77  secondary_cleaner.state.floatbank4_a_air            19433 non-null  float64\n",
      " 78  secondary_cleaner.state.floatbank4_a_level          19438 non-null  float64\n",
      " 79  secondary_cleaner.state.floatbank4_b_air            19438 non-null  float64\n",
      " 80  secondary_cleaner.state.floatbank4_b_level          19438 non-null  float64\n",
      " 81  secondary_cleaner.state.floatbank5_a_air            19438 non-null  float64\n",
      " 82  secondary_cleaner.state.floatbank5_a_level          19438 non-null  float64\n",
      " 83  secondary_cleaner.state.floatbank5_b_air            19438 non-null  float64\n",
      " 84  secondary_cleaner.state.floatbank5_b_level          19438 non-null  float64\n",
      " 85  secondary_cleaner.state.floatbank6_a_air            19437 non-null  float64\n",
      " 86  secondary_cleaner.state.floatbank6_a_level          19438 non-null  float64\n",
      "dtypes: float64(86), object(1)\n",
      "memory usage: 12.9+ MB\n",
      "\n",
      "\n",
      "------------- Пропуски ------------\n",
      "date Пропусков НЕТ\n",
      "final.output.concentrate_ag  -  1 пропусков\n",
      "final.output.concentrate_pb  -  1 пропусков\n",
      "final.output.concentrate_sol  -  211 пропусков\n",
      "final.output.tail_ag  -  1 пропусков\n",
      "final.output.tail_pb  -  101 пропусков\n",
      "final.output.tail_sol  -  6 пропусков\n",
      "primary_cleaner.input.sulfate  -  24 пропусков\n",
      "primary_cleaner.input.depressant  -  37 пропусков\n",
      "primary_cleaner.input.xanthate  -  104 пропусков\n",
      "primary_cleaner.output.concentrate_pb  -  116 пропусков\n",
      "primary_cleaner.output.concentrate_sol  -  370 пропусков\n",
      "primary_cleaner.output.tail_ag  -  4 пропусков\n",
      "primary_cleaner.output.tail_pb  -  21 пропусков\n",
      "primary_cleaner.output.tail_sol  -  62 пропусков\n",
      "primary_cleaner.state.floatbank8_a_air  -  4 пропусков\n",
      "primary_cleaner.state.floatbank8_a_level  -  1 пропусков\n",
      "primary_cleaner.state.floatbank8_b_air  -  4 пропусков\n",
      "primary_cleaner.state.floatbank8_b_level  -  1 пропусков\n",
      "primary_cleaner.state.floatbank8_c_air  -  2 пропусков\n",
      "primary_cleaner.state.floatbank8_c_level  -  1 пропусков\n",
      "primary_cleaner.state.floatbank8_d_air  -  3 пропусков\n",
      "primary_cleaner.state.floatbank8_d_level  -  1 пропусков\n",
      "rougher.calculation.sulfate_to_au_concentrate  -  2 пропусков\n",
      "rougher.calculation.floatbank10_sulfate_to_au_feed  -  2 пропусков\n",
      "rougher.calculation.floatbank11_sulfate_to_au_feed  -  2 пропусков\n",
      "rougher.input.feed_pb  -  100 пропусков\n",
      "rougher.input.feed_rate  -  11 пропусков\n",
      "rougher.input.feed_size  -  145 пропусков\n",
      "rougher.input.feed_sol  -  99 пропусков\n",
      "rougher.input.floatbank10_sulfate  -  34 пропусков\n",
      "rougher.input.floatbank10_xanthate  -  8 пропусков\n",
      "rougher.input.floatbank11_sulfate  -  44 пропусков\n",
      "rougher.input.floatbank11_xanthate  -  453 пропусков\n",
      "rougher.output.concentrate_sol  -  23 пропусков\n",
      "rougher.output.tail_ag  -  1 пропусков\n",
      "rougher.state.floatbank10_a_air  -  1 пропусков\n",
      "rougher.state.floatbank10_a_level  -  1 пропусков\n",
      "rougher.state.floatbank10_b_air  -  1 пропусков\n",
      "rougher.state.floatbank10_b_level  -  1 пропусков\n",
      "rougher.state.floatbank10_c_air  -  1 пропусков\n",
      "rougher.state.floatbank10_c_level  -  1 пропусков\n",
      "rougher.state.floatbank10_e_air  -  436 пропусков\n",
      "secondary_cleaner.output.tail_ag  -  2 пропусков\n",
      "secondary_cleaner.output.tail_pb  -  12 пропусков\n",
      "secondary_cleaner.output.tail_sol  -  1748 пропусков\n",
      "secondary_cleaner.state.floatbank2_a_air  -  220 пропусков\n",
      "secondary_cleaner.state.floatbank2_a_level  -  1 пропусков\n",
      "secondary_cleaner.state.floatbank2_b_air  -  23 пропусков\n",
      "secondary_cleaner.state.floatbank2_b_level  -  1 пропусков\n",
      "secondary_cleaner.state.floatbank3_a_air  -  13 пропусков\n",
      "secondary_cleaner.state.floatbank3_a_level  -  1 пропусков\n",
      "secondary_cleaner.state.floatbank3_b_air  -  1 пропусков\n",
      "secondary_cleaner.state.floatbank3_b_level  -  1 пропусков\n",
      "secondary_cleaner.state.floatbank4_a_air  -  6 пропусков\n",
      "secondary_cleaner.state.floatbank4_a_level  -  1 пропусков\n",
      "secondary_cleaner.state.floatbank4_b_air  -  1 пропусков\n",
      "secondary_cleaner.state.floatbank4_b_level  -  1 пропусков\n",
      "secondary_cleaner.state.floatbank5_a_air  -  1 пропусков\n",
      "secondary_cleaner.state.floatbank5_a_level  -  1 пропусков\n",
      "secondary_cleaner.state.floatbank5_b_air  -  1 пропусков\n",
      "secondary_cleaner.state.floatbank5_b_level  -  1 пропусков\n",
      "secondary_cleaner.state.floatbank6_a_air  -  2 пропусков\n",
      "secondary_cleaner.state.floatbank6_a_level  -  1 пропусков\n",
      "\n",
      "\n",
      "------------- Дубликаты ------------\n",
      "Дубликатов НЕТ\n"
     ]
    }
   ],
   "source": [
    "#Посмотрим исходную выборку        \n",
    "studying_the_data (data_recovery_full)"
   ]
  },
  {
   "cell_type": "markdown",
   "metadata": {},
   "source": [
    "### Проверим, что эффективность обогащения рассчитана правильно. Вычислим её на обучающей выборке для признака rougher.output.recovery. Найдем MAE между нашими расчётами и значением признака. Опишим выводы."
   ]
  },
  {
   "cell_type": "code",
   "execution_count": 6,
   "metadata": {},
   "outputs": [
    {
     "name": "stdout",
     "output_type": "stream",
     "text": [
      "9.73512347450521e-15\n"
     ]
    }
   ],
   "source": [
    "#Расчитаем эффект обогощения\n",
    "C = data_recovery_train['rougher.output.concentrate_au']\n",
    "F = data_recovery_train['rougher.input.feed_au']\n",
    "T = data_recovery_train['rougher.output.tail_au']\n",
    "\n",
    "recovery = (C * (F - T)) / (F * (C - T)) * 100\n",
    "\n",
    "#Найдем MAE между нашими расчётами и значением признака\n",
    "print(mean_absolute_error(data_recovery_train['rougher.output.recovery'], recovery))\n"
   ]
  },
  {
   "cell_type": "markdown",
   "metadata": {},
   "source": [
    "Отклонения на 9.7⋅10−15 единицы."
   ]
  },
  {
   "cell_type": "markdown",
   "metadata": {},
   "source": [
    "### Проанализируем признаки, недоступные в тестовой выборке. Что это за параметры? К какому типу относятся?"
   ]
  },
  {
   "cell_type": "code",
   "execution_count": 7,
   "metadata": {},
   "outputs": [
    {
     "name": "stdout",
     "output_type": "stream",
     "text": [
      "{'final.output.tail_sol', 'rougher.output.concentrate_ag', 'rougher.calculation.au_pb_ratio', 'rougher.calculation.sulfate_to_au_concentrate', 'rougher.output.tail_ag', 'primary_cleaner.output.tail_pb', 'rougher.output.concentrate_pb', 'secondary_cleaner.output.tail_ag', 'primary_cleaner.output.concentrate_sol', 'rougher.output.recovery', 'rougher.calculation.floatbank10_sulfate_to_au_feed', 'final.output.concentrate_ag', 'primary_cleaner.output.tail_ag', 'primary_cleaner.output.concentrate_au', 'rougher.output.concentrate_sol', 'rougher.output.tail_pb', 'rougher.output.concentrate_au', 'rougher.calculation.floatbank11_sulfate_to_au_feed', 'primary_cleaner.output.concentrate_pb', 'primary_cleaner.output.tail_sol', 'final.output.tail_ag', 'rougher.output.tail_sol', 'primary_cleaner.output.tail_au', 'secondary_cleaner.output.tail_pb', 'primary_cleaner.output.concentrate_ag', 'final.output.tail_pb', 'final.output.concentrate_sol', 'final.output.concentrate_pb', 'final.output.concentrate_au', 'rougher.output.tail_au', 'final.output.recovery', 'secondary_cleaner.output.tail_au', 'final.output.tail_au', 'secondary_cleaner.output.tail_sol'}\n"
     ]
    }
   ],
   "source": [
    "column = set(data_recovery_train.columns) - set(data_recovery_test.columns)\n",
    "print(column)"
   ]
  },
  {
   "cell_type": "markdown",
   "metadata": {},
   "source": [
    "В тестовой выборке недоступны финальные характеристики. Параметры продукты. Некоторые параметры недоступны, потому что замеряются и/или рассчитываются значительно позже. Из-за этого в тестовой выборке отсутствуют некоторые признаки, которые могут быть в обучающей."
   ]
  },
  {
   "cell_type": "markdown",
   "metadata": {},
   "source": [
    "### Проведем предобработку данных"
   ]
  },
  {
   "cell_type": "code",
   "execution_count": 8,
   "metadata": {},
   "outputs": [],
   "source": [
    "#Заменим пропуски в обучающей и тестовой выборке средним значением\n",
    "#data_recovery_train.fillna(data_recovery_train.mean(), inplace=True)\n",
    "#data_recovery_test.fillna(data_recovery_test.mean(), inplace=True)\n",
    "\n",
    "#Заменим пропуски в обучающей и тестовой выборке методом ffill, так как соседние данные похожи\n",
    "data_recovery_train = data_recovery_train.ffill(axis = 0)\n",
    "data_recovery_test = data_recovery_test.ffill(axis = 0)"
   ]
  },
  {
   "cell_type": "code",
   "execution_count": 9,
   "metadata": {},
   "outputs": [
    {
     "data": {
      "text/plain": [
       "date                                          0\n",
       "final.output.concentrate_ag                   0\n",
       "final.output.concentrate_pb                   0\n",
       "final.output.concentrate_sol                  0\n",
       "final.output.concentrate_au                   0\n",
       "                                             ..\n",
       "secondary_cleaner.state.floatbank5_a_level    0\n",
       "secondary_cleaner.state.floatbank5_b_air      0\n",
       "secondary_cleaner.state.floatbank5_b_level    0\n",
       "secondary_cleaner.state.floatbank6_a_air      0\n",
       "secondary_cleaner.state.floatbank6_a_level    0\n",
       "Length: 87, dtype: int64"
      ]
     },
     "execution_count": 9,
     "metadata": {},
     "output_type": "execute_result"
    }
   ],
   "source": [
    "#Проверим пропуски\n",
    "data_recovery_train.isna().sum()"
   ]
  },
  {
   "cell_type": "code",
   "execution_count": 10,
   "metadata": {},
   "outputs": [
    {
     "data": {
      "text/plain": [
       "date                                          0\n",
       "primary_cleaner.input.sulfate                 0\n",
       "primary_cleaner.input.depressant              0\n",
       "primary_cleaner.input.feed_size               0\n",
       "primary_cleaner.input.xanthate                0\n",
       "primary_cleaner.state.floatbank8_a_air        0\n",
       "primary_cleaner.state.floatbank8_a_level      0\n",
       "primary_cleaner.state.floatbank8_b_air        0\n",
       "primary_cleaner.state.floatbank8_b_level      0\n",
       "primary_cleaner.state.floatbank8_c_air        0\n",
       "primary_cleaner.state.floatbank8_c_level      0\n",
       "primary_cleaner.state.floatbank8_d_air        0\n",
       "primary_cleaner.state.floatbank8_d_level      0\n",
       "rougher.input.feed_ag                         0\n",
       "rougher.input.feed_pb                         0\n",
       "rougher.input.feed_rate                       0\n",
       "rougher.input.feed_size                       0\n",
       "rougher.input.feed_sol                        0\n",
       "rougher.input.feed_au                         0\n",
       "rougher.input.floatbank10_sulfate             0\n",
       "rougher.input.floatbank10_xanthate            0\n",
       "rougher.input.floatbank11_sulfate             0\n",
       "rougher.input.floatbank11_xanthate            0\n",
       "rougher.state.floatbank10_a_air               0\n",
       "rougher.state.floatbank10_a_level             0\n",
       "rougher.state.floatbank10_b_air               0\n",
       "rougher.state.floatbank10_b_level             0\n",
       "rougher.state.floatbank10_c_air               0\n",
       "rougher.state.floatbank10_c_level             0\n",
       "rougher.state.floatbank10_d_air               0\n",
       "rougher.state.floatbank10_d_level             0\n",
       "rougher.state.floatbank10_e_air               0\n",
       "rougher.state.floatbank10_e_level             0\n",
       "rougher.state.floatbank10_f_air               0\n",
       "rougher.state.floatbank10_f_level             0\n",
       "secondary_cleaner.state.floatbank2_a_air      0\n",
       "secondary_cleaner.state.floatbank2_a_level    0\n",
       "secondary_cleaner.state.floatbank2_b_air      0\n",
       "secondary_cleaner.state.floatbank2_b_level    0\n",
       "secondary_cleaner.state.floatbank3_a_air      0\n",
       "secondary_cleaner.state.floatbank3_a_level    0\n",
       "secondary_cleaner.state.floatbank3_b_air      0\n",
       "secondary_cleaner.state.floatbank3_b_level    0\n",
       "secondary_cleaner.state.floatbank4_a_air      0\n",
       "secondary_cleaner.state.floatbank4_a_level    0\n",
       "secondary_cleaner.state.floatbank4_b_air      0\n",
       "secondary_cleaner.state.floatbank4_b_level    0\n",
       "secondary_cleaner.state.floatbank5_a_air      0\n",
       "secondary_cleaner.state.floatbank5_a_level    0\n",
       "secondary_cleaner.state.floatbank5_b_air      0\n",
       "secondary_cleaner.state.floatbank5_b_level    0\n",
       "secondary_cleaner.state.floatbank6_a_air      0\n",
       "secondary_cleaner.state.floatbank6_a_level    0\n",
       "dtype: int64"
      ]
     },
     "execution_count": 10,
     "metadata": {},
     "output_type": "execute_result"
    }
   ],
   "source": [
    "data_recovery_test.isna().sum()"
   ]
  },
  {
   "cell_type": "code",
   "execution_count": 11,
   "metadata": {},
   "outputs": [
    {
     "name": "stdout",
     "output_type": "stream",
     "text": [
      "<class 'pandas.core.frame.DataFrame'>\n",
      "RangeIndex: 5290 entries, 0 to 5289\n",
      "Data columns (total 55 columns):\n",
      " #   Column                                      Non-Null Count  Dtype  \n",
      "---  ------                                      --------------  -----  \n",
      " 0   date                                        5290 non-null   object \n",
      " 1   primary_cleaner.input.sulfate               5290 non-null   float64\n",
      " 2   primary_cleaner.input.depressant            5290 non-null   float64\n",
      " 3   primary_cleaner.input.feed_size             5290 non-null   float64\n",
      " 4   primary_cleaner.input.xanthate              5290 non-null   float64\n",
      " 5   primary_cleaner.state.floatbank8_a_air      5290 non-null   float64\n",
      " 6   primary_cleaner.state.floatbank8_a_level    5290 non-null   float64\n",
      " 7   primary_cleaner.state.floatbank8_b_air      5290 non-null   float64\n",
      " 8   primary_cleaner.state.floatbank8_b_level    5290 non-null   float64\n",
      " 9   primary_cleaner.state.floatbank8_c_air      5290 non-null   float64\n",
      " 10  primary_cleaner.state.floatbank8_c_level    5290 non-null   float64\n",
      " 11  primary_cleaner.state.floatbank8_d_air      5290 non-null   float64\n",
      " 12  primary_cleaner.state.floatbank8_d_level    5290 non-null   float64\n",
      " 13  rougher.input.feed_ag                       5290 non-null   float64\n",
      " 14  rougher.input.feed_pb                       5290 non-null   float64\n",
      " 15  rougher.input.feed_rate                     5290 non-null   float64\n",
      " 16  rougher.input.feed_size                     5290 non-null   float64\n",
      " 17  rougher.input.feed_sol                      5290 non-null   float64\n",
      " 18  rougher.input.feed_au                       5290 non-null   float64\n",
      " 19  rougher.input.floatbank10_sulfate           5290 non-null   float64\n",
      " 20  rougher.input.floatbank10_xanthate          5290 non-null   float64\n",
      " 21  rougher.input.floatbank11_sulfate           5290 non-null   float64\n",
      " 22  rougher.input.floatbank11_xanthate          5290 non-null   float64\n",
      " 23  rougher.state.floatbank10_a_air             5290 non-null   float64\n",
      " 24  rougher.state.floatbank10_a_level           5290 non-null   float64\n",
      " 25  rougher.state.floatbank10_b_air             5290 non-null   float64\n",
      " 26  rougher.state.floatbank10_b_level           5290 non-null   float64\n",
      " 27  rougher.state.floatbank10_c_air             5290 non-null   float64\n",
      " 28  rougher.state.floatbank10_c_level           5290 non-null   float64\n",
      " 29  rougher.state.floatbank10_d_air             5290 non-null   float64\n",
      " 30  rougher.state.floatbank10_d_level           5290 non-null   float64\n",
      " 31  rougher.state.floatbank10_e_air             5290 non-null   float64\n",
      " 32  rougher.state.floatbank10_e_level           5290 non-null   float64\n",
      " 33  rougher.state.floatbank10_f_air             5290 non-null   float64\n",
      " 34  rougher.state.floatbank10_f_level           5290 non-null   float64\n",
      " 35  secondary_cleaner.state.floatbank2_a_air    5290 non-null   float64\n",
      " 36  secondary_cleaner.state.floatbank2_a_level  5290 non-null   float64\n",
      " 37  secondary_cleaner.state.floatbank2_b_air    5290 non-null   float64\n",
      " 38  secondary_cleaner.state.floatbank2_b_level  5290 non-null   float64\n",
      " 39  secondary_cleaner.state.floatbank3_a_air    5290 non-null   float64\n",
      " 40  secondary_cleaner.state.floatbank3_a_level  5290 non-null   float64\n",
      " 41  secondary_cleaner.state.floatbank3_b_air    5290 non-null   float64\n",
      " 42  secondary_cleaner.state.floatbank3_b_level  5290 non-null   float64\n",
      " 43  secondary_cleaner.state.floatbank4_a_air    5290 non-null   float64\n",
      " 44  secondary_cleaner.state.floatbank4_a_level  5290 non-null   float64\n",
      " 45  secondary_cleaner.state.floatbank4_b_air    5290 non-null   float64\n",
      " 46  secondary_cleaner.state.floatbank4_b_level  5290 non-null   float64\n",
      " 47  secondary_cleaner.state.floatbank5_a_air    5290 non-null   float64\n",
      " 48  secondary_cleaner.state.floatbank5_a_level  5290 non-null   float64\n",
      " 49  secondary_cleaner.state.floatbank5_b_air    5290 non-null   float64\n",
      " 50  secondary_cleaner.state.floatbank5_b_level  5290 non-null   float64\n",
      " 51  secondary_cleaner.state.floatbank6_a_air    5290 non-null   float64\n",
      " 52  secondary_cleaner.state.floatbank6_a_level  5290 non-null   float64\n",
      " 53  final.output.recovery                       5290 non-null   float64\n",
      " 54  rougher.output.recovery                     5290 non-null   float64\n",
      "dtypes: float64(54), object(1)\n",
      "memory usage: 2.2+ MB\n"
     ]
    }
   ],
   "source": [
    "data_recovery_test = data_recovery_test.join(data_recovery_full.set_index('date')[['final.output.recovery','rougher.output.recovery']], on='date', how = 'left', lsuffix='left', rsuffix='right')\n",
    "data_recovery_test.info()"
   ]
  },
  {
   "cell_type": "code",
   "execution_count": 12,
   "metadata": {},
   "outputs": [
    {
     "data": {
      "text/html": [
       "<div>\n",
       "<style scoped>\n",
       "    .dataframe tbody tr th:only-of-type {\n",
       "        vertical-align: middle;\n",
       "    }\n",
       "\n",
       "    .dataframe tbody tr th {\n",
       "        vertical-align: top;\n",
       "    }\n",
       "\n",
       "    .dataframe thead th {\n",
       "        text-align: right;\n",
       "    }\n",
       "</style>\n",
       "<table border=\"1\" class=\"dataframe\">\n",
       "  <thead>\n",
       "    <tr style=\"text-align: right;\">\n",
       "      <th></th>\n",
       "      <th>date</th>\n",
       "      <th>primary_cleaner.input.sulfate</th>\n",
       "      <th>primary_cleaner.input.depressant</th>\n",
       "      <th>primary_cleaner.input.feed_size</th>\n",
       "      <th>primary_cleaner.input.xanthate</th>\n",
       "      <th>primary_cleaner.state.floatbank8_a_air</th>\n",
       "      <th>primary_cleaner.state.floatbank8_a_level</th>\n",
       "      <th>primary_cleaner.state.floatbank8_b_air</th>\n",
       "      <th>primary_cleaner.state.floatbank8_b_level</th>\n",
       "      <th>primary_cleaner.state.floatbank8_c_air</th>\n",
       "      <th>primary_cleaner.state.floatbank8_c_level</th>\n",
       "      <th>primary_cleaner.state.floatbank8_d_air</th>\n",
       "      <th>primary_cleaner.state.floatbank8_d_level</th>\n",
       "      <th>rougher.input.feed_ag</th>\n",
       "      <th>rougher.input.feed_pb</th>\n",
       "      <th>rougher.input.feed_rate</th>\n",
       "      <th>rougher.input.feed_size</th>\n",
       "      <th>rougher.input.feed_sol</th>\n",
       "      <th>rougher.input.feed_au</th>\n",
       "      <th>rougher.input.floatbank10_sulfate</th>\n",
       "      <th>rougher.input.floatbank10_xanthate</th>\n",
       "      <th>rougher.input.floatbank11_sulfate</th>\n",
       "      <th>rougher.input.floatbank11_xanthate</th>\n",
       "      <th>rougher.state.floatbank10_a_air</th>\n",
       "      <th>rougher.state.floatbank10_a_level</th>\n",
       "      <th>rougher.state.floatbank10_b_air</th>\n",
       "      <th>rougher.state.floatbank10_b_level</th>\n",
       "      <th>rougher.state.floatbank10_c_air</th>\n",
       "      <th>rougher.state.floatbank10_c_level</th>\n",
       "      <th>rougher.state.floatbank10_d_air</th>\n",
       "      <th>rougher.state.floatbank10_d_level</th>\n",
       "      <th>rougher.state.floatbank10_e_air</th>\n",
       "      <th>rougher.state.floatbank10_e_level</th>\n",
       "      <th>rougher.state.floatbank10_f_air</th>\n",
       "      <th>rougher.state.floatbank10_f_level</th>\n",
       "      <th>secondary_cleaner.state.floatbank2_a_air</th>\n",
       "      <th>secondary_cleaner.state.floatbank2_a_level</th>\n",
       "      <th>secondary_cleaner.state.floatbank2_b_air</th>\n",
       "      <th>secondary_cleaner.state.floatbank2_b_level</th>\n",
       "      <th>secondary_cleaner.state.floatbank3_a_air</th>\n",
       "      <th>secondary_cleaner.state.floatbank3_a_level</th>\n",
       "      <th>secondary_cleaner.state.floatbank3_b_air</th>\n",
       "      <th>secondary_cleaner.state.floatbank3_b_level</th>\n",
       "      <th>secondary_cleaner.state.floatbank4_a_air</th>\n",
       "      <th>secondary_cleaner.state.floatbank4_a_level</th>\n",
       "      <th>secondary_cleaner.state.floatbank4_b_air</th>\n",
       "      <th>secondary_cleaner.state.floatbank4_b_level</th>\n",
       "      <th>secondary_cleaner.state.floatbank5_a_air</th>\n",
       "      <th>secondary_cleaner.state.floatbank5_a_level</th>\n",
       "      <th>secondary_cleaner.state.floatbank5_b_air</th>\n",
       "      <th>secondary_cleaner.state.floatbank5_b_level</th>\n",
       "      <th>secondary_cleaner.state.floatbank6_a_air</th>\n",
       "      <th>secondary_cleaner.state.floatbank6_a_level</th>\n",
       "      <th>final.output.recovery</th>\n",
       "      <th>rougher.output.recovery</th>\n",
       "    </tr>\n",
       "  </thead>\n",
       "  <tbody>\n",
       "    <tr>\n",
       "      <th>0</th>\n",
       "      <td>2016-09-01 00:59:59</td>\n",
       "      <td>210.800909</td>\n",
       "      <td>14.993118</td>\n",
       "      <td>8.080000</td>\n",
       "      <td>1.005021</td>\n",
       "      <td>1398.981301</td>\n",
       "      <td>-500.225577</td>\n",
       "      <td>1399.144926</td>\n",
       "      <td>-499.919735</td>\n",
       "      <td>1400.102998</td>\n",
       "      <td>-500.704369</td>\n",
       "      <td>1399.001695</td>\n",
       "      <td>-499.485144</td>\n",
       "      <td>13.128569</td>\n",
       "      <td>5.636710</td>\n",
       "      <td>489.793655</td>\n",
       "      <td>62.710452</td>\n",
       "      <td>42.022440</td>\n",
       "      <td>12.084103</td>\n",
       "      <td>16.922877</td>\n",
       "      <td>6.153479</td>\n",
       "      <td>16.867518</td>\n",
       "      <td>6.150709</td>\n",
       "      <td>1001.849317</td>\n",
       "      <td>-350.301265</td>\n",
       "      <td>1249.738612</td>\n",
       "      <td>-399.107531</td>\n",
       "      <td>1249.750520</td>\n",
       "      <td>-399.396730</td>\n",
       "      <td>1198.287855</td>\n",
       "      <td>-399.488594</td>\n",
       "      <td>999.472250</td>\n",
       "      <td>-399.530962</td>\n",
       "      <td>949.566189</td>\n",
       "      <td>-398.180807</td>\n",
       "      <td>24.938200</td>\n",
       "      <td>-500.490963</td>\n",
       "      <td>14.947607</td>\n",
       "      <td>-500.013837</td>\n",
       "      <td>20.018166</td>\n",
       "      <td>-450.395995</td>\n",
       "      <td>13.987058</td>\n",
       "      <td>-449.831513</td>\n",
       "      <td>12.023554</td>\n",
       "      <td>-497.795834</td>\n",
       "      <td>8.016656</td>\n",
       "      <td>-501.289139</td>\n",
       "      <td>7.946562</td>\n",
       "      <td>-432.317850</td>\n",
       "      <td>4.872511</td>\n",
       "      <td>-500.037437</td>\n",
       "      <td>26.705889</td>\n",
       "      <td>-499.709414</td>\n",
       "      <td>70.273583</td>\n",
       "      <td>89.993421</td>\n",
       "    </tr>\n",
       "    <tr>\n",
       "      <th>1</th>\n",
       "      <td>2016-09-01 01:59:59</td>\n",
       "      <td>215.392455</td>\n",
       "      <td>14.987471</td>\n",
       "      <td>8.080000</td>\n",
       "      <td>0.990469</td>\n",
       "      <td>1398.777912</td>\n",
       "      <td>-500.057435</td>\n",
       "      <td>1398.055362</td>\n",
       "      <td>-499.778182</td>\n",
       "      <td>1396.151033</td>\n",
       "      <td>-499.240168</td>\n",
       "      <td>1399.508091</td>\n",
       "      <td>-500.416324</td>\n",
       "      <td>13.036280</td>\n",
       "      <td>5.526065</td>\n",
       "      <td>490.104534</td>\n",
       "      <td>61.961163</td>\n",
       "      <td>41.187903</td>\n",
       "      <td>11.918977</td>\n",
       "      <td>17.002532</td>\n",
       "      <td>5.999043</td>\n",
       "      <td>16.996063</td>\n",
       "      <td>6.002315</td>\n",
       "      <td>998.690785</td>\n",
       "      <td>-350.425704</td>\n",
       "      <td>1248.395457</td>\n",
       "      <td>-399.946025</td>\n",
       "      <td>1249.514451</td>\n",
       "      <td>-399.630810</td>\n",
       "      <td>1200.506459</td>\n",
       "      <td>-399.942434</td>\n",
       "      <td>1000.002114</td>\n",
       "      <td>-399.491528</td>\n",
       "      <td>950.200009</td>\n",
       "      <td>-405.787514</td>\n",
       "      <td>24.923466</td>\n",
       "      <td>-499.813963</td>\n",
       "      <td>14.930873</td>\n",
       "      <td>-500.764452</td>\n",
       "      <td>19.988503</td>\n",
       "      <td>-450.114024</td>\n",
       "      <td>14.092981</td>\n",
       "      <td>-450.059163</td>\n",
       "      <td>12.058140</td>\n",
       "      <td>-498.695773</td>\n",
       "      <td>8.130979</td>\n",
       "      <td>-499.634209</td>\n",
       "      <td>7.958270</td>\n",
       "      <td>-525.839648</td>\n",
       "      <td>4.878850</td>\n",
       "      <td>-500.162375</td>\n",
       "      <td>25.019940</td>\n",
       "      <td>-499.819438</td>\n",
       "      <td>68.910432</td>\n",
       "      <td>88.089657</td>\n",
       "    </tr>\n",
       "    <tr>\n",
       "      <th>2</th>\n",
       "      <td>2016-09-01 02:59:59</td>\n",
       "      <td>215.259946</td>\n",
       "      <td>12.884934</td>\n",
       "      <td>7.786667</td>\n",
       "      <td>0.996043</td>\n",
       "      <td>1398.493666</td>\n",
       "      <td>-500.868360</td>\n",
       "      <td>1398.860436</td>\n",
       "      <td>-499.764529</td>\n",
       "      <td>1398.075709</td>\n",
       "      <td>-502.151509</td>\n",
       "      <td>1399.497088</td>\n",
       "      <td>-499.715479</td>\n",
       "      <td>13.138412</td>\n",
       "      <td>5.426561</td>\n",
       "      <td>489.617969</td>\n",
       "      <td>66.903807</td>\n",
       "      <td>42.546294</td>\n",
       "      <td>12.091332</td>\n",
       "      <td>16.992520</td>\n",
       "      <td>5.850632</td>\n",
       "      <td>16.982096</td>\n",
       "      <td>5.853594</td>\n",
       "      <td>998.516720</td>\n",
       "      <td>-349.783538</td>\n",
       "      <td>1247.440748</td>\n",
       "      <td>-400.264330</td>\n",
       "      <td>1248.207204</td>\n",
       "      <td>-401.074405</td>\n",
       "      <td>1199.770026</td>\n",
       "      <td>-400.790582</td>\n",
       "      <td>999.925519</td>\n",
       "      <td>-399.236999</td>\n",
       "      <td>950.320481</td>\n",
       "      <td>-400.864340</td>\n",
       "      <td>24.908732</td>\n",
       "      <td>-500.304035</td>\n",
       "      <td>14.996511</td>\n",
       "      <td>-500.993821</td>\n",
       "      <td>20.039689</td>\n",
       "      <td>-450.263164</td>\n",
       "      <td>14.077881</td>\n",
       "      <td>-449.660997</td>\n",
       "      <td>11.962366</td>\n",
       "      <td>-498.767484</td>\n",
       "      <td>8.096893</td>\n",
       "      <td>-500.827423</td>\n",
       "      <td>8.071056</td>\n",
       "      <td>-500.801673</td>\n",
       "      <td>4.905125</td>\n",
       "      <td>-499.828510</td>\n",
       "      <td>24.994862</td>\n",
       "      <td>-500.622559</td>\n",
       "      <td>68.143213</td>\n",
       "      <td>88.412756</td>\n",
       "    </tr>\n",
       "    <tr>\n",
       "      <th>3</th>\n",
       "      <td>2016-09-01 03:59:59</td>\n",
       "      <td>215.336236</td>\n",
       "      <td>12.006805</td>\n",
       "      <td>7.640000</td>\n",
       "      <td>0.863514</td>\n",
       "      <td>1399.618111</td>\n",
       "      <td>-498.863574</td>\n",
       "      <td>1397.440120</td>\n",
       "      <td>-499.211024</td>\n",
       "      <td>1400.129303</td>\n",
       "      <td>-498.355873</td>\n",
       "      <td>1401.065165</td>\n",
       "      <td>-501.038738</td>\n",
       "      <td>12.400507</td>\n",
       "      <td>5.114758</td>\n",
       "      <td>476.618130</td>\n",
       "      <td>59.865919</td>\n",
       "      <td>41.060195</td>\n",
       "      <td>12.181597</td>\n",
       "      <td>16.532144</td>\n",
       "      <td>5.801935</td>\n",
       "      <td>16.515277</td>\n",
       "      <td>5.803657</td>\n",
       "      <td>1000.276604</td>\n",
       "      <td>-350.172597</td>\n",
       "      <td>1251.322675</td>\n",
       "      <td>-398.655289</td>\n",
       "      <td>1250.493702</td>\n",
       "      <td>-399.746728</td>\n",
       "      <td>1199.398691</td>\n",
       "      <td>-397.503052</td>\n",
       "      <td>1001.930679</td>\n",
       "      <td>-400.437573</td>\n",
       "      <td>950.735324</td>\n",
       "      <td>-399.802986</td>\n",
       "      <td>24.893998</td>\n",
       "      <td>-499.382374</td>\n",
       "      <td>14.916674</td>\n",
       "      <td>-499.862299</td>\n",
       "      <td>20.031100</td>\n",
       "      <td>-449.372570</td>\n",
       "      <td>14.013968</td>\n",
       "      <td>-449.526900</td>\n",
       "      <td>12.033091</td>\n",
       "      <td>-498.350935</td>\n",
       "      <td>8.074946</td>\n",
       "      <td>-499.474407</td>\n",
       "      <td>7.897085</td>\n",
       "      <td>-500.868509</td>\n",
       "      <td>4.931400</td>\n",
       "      <td>-499.963623</td>\n",
       "      <td>24.948919</td>\n",
       "      <td>-498.709987</td>\n",
       "      <td>67.776393</td>\n",
       "      <td>87.360133</td>\n",
       "    </tr>\n",
       "    <tr>\n",
       "      <th>4</th>\n",
       "      <td>2016-09-01 04:59:59</td>\n",
       "      <td>199.099327</td>\n",
       "      <td>10.682530</td>\n",
       "      <td>7.530000</td>\n",
       "      <td>0.805575</td>\n",
       "      <td>1401.268123</td>\n",
       "      <td>-500.808305</td>\n",
       "      <td>1398.128818</td>\n",
       "      <td>-499.504543</td>\n",
       "      <td>1402.172226</td>\n",
       "      <td>-500.810606</td>\n",
       "      <td>1399.480508</td>\n",
       "      <td>-499.374053</td>\n",
       "      <td>11.327427</td>\n",
       "      <td>4.767383</td>\n",
       "      <td>488.248117</td>\n",
       "      <td>63.315324</td>\n",
       "      <td>41.269161</td>\n",
       "      <td>11.290425</td>\n",
       "      <td>13.607257</td>\n",
       "      <td>5.738081</td>\n",
       "      <td>13.650053</td>\n",
       "      <td>5.739634</td>\n",
       "      <td>996.541302</td>\n",
       "      <td>-350.562517</td>\n",
       "      <td>1304.658848</td>\n",
       "      <td>-399.511519</td>\n",
       "      <td>1306.455515</td>\n",
       "      <td>-399.050685</td>\n",
       "      <td>1248.699349</td>\n",
       "      <td>-400.876894</td>\n",
       "      <td>1058.839106</td>\n",
       "      <td>-398.988239</td>\n",
       "      <td>949.645313</td>\n",
       "      <td>-399.277632</td>\n",
       "      <td>24.886905</td>\n",
       "      <td>-499.357375</td>\n",
       "      <td>14.979233</td>\n",
       "      <td>-500.186804</td>\n",
       "      <td>19.962364</td>\n",
       "      <td>-450.638828</td>\n",
       "      <td>14.009245</td>\n",
       "      <td>-450.022259</td>\n",
       "      <td>12.025367</td>\n",
       "      <td>-500.786497</td>\n",
       "      <td>8.054678</td>\n",
       "      <td>-500.397500</td>\n",
       "      <td>8.107890</td>\n",
       "      <td>-509.526725</td>\n",
       "      <td>4.957674</td>\n",
       "      <td>-500.360026</td>\n",
       "      <td>25.003331</td>\n",
       "      <td>-500.856333</td>\n",
       "      <td>61.467078</td>\n",
       "      <td>83.236367</td>\n",
       "    </tr>\n",
       "    <tr>\n",
       "      <th>...</th>\n",
       "      <td>...</td>\n",
       "      <td>...</td>\n",
       "      <td>...</td>\n",
       "      <td>...</td>\n",
       "      <td>...</td>\n",
       "      <td>...</td>\n",
       "      <td>...</td>\n",
       "      <td>...</td>\n",
       "      <td>...</td>\n",
       "      <td>...</td>\n",
       "      <td>...</td>\n",
       "      <td>...</td>\n",
       "      <td>...</td>\n",
       "      <td>...</td>\n",
       "      <td>...</td>\n",
       "      <td>...</td>\n",
       "      <td>...</td>\n",
       "      <td>...</td>\n",
       "      <td>...</td>\n",
       "      <td>...</td>\n",
       "      <td>...</td>\n",
       "      <td>...</td>\n",
       "      <td>...</td>\n",
       "      <td>...</td>\n",
       "      <td>...</td>\n",
       "      <td>...</td>\n",
       "      <td>...</td>\n",
       "      <td>...</td>\n",
       "      <td>...</td>\n",
       "      <td>...</td>\n",
       "      <td>...</td>\n",
       "      <td>...</td>\n",
       "      <td>...</td>\n",
       "      <td>...</td>\n",
       "      <td>...</td>\n",
       "      <td>...</td>\n",
       "      <td>...</td>\n",
       "      <td>...</td>\n",
       "      <td>...</td>\n",
       "      <td>...</td>\n",
       "      <td>...</td>\n",
       "      <td>...</td>\n",
       "      <td>...</td>\n",
       "      <td>...</td>\n",
       "      <td>...</td>\n",
       "      <td>...</td>\n",
       "      <td>...</td>\n",
       "      <td>...</td>\n",
       "      <td>...</td>\n",
       "      <td>...</td>\n",
       "      <td>...</td>\n",
       "      <td>...</td>\n",
       "      <td>...</td>\n",
       "      <td>...</td>\n",
       "      <td>...</td>\n",
       "    </tr>\n",
       "    <tr>\n",
       "      <th>5285</th>\n",
       "      <td>2017-12-31 19:59:59</td>\n",
       "      <td>173.957757</td>\n",
       "      <td>15.963399</td>\n",
       "      <td>8.070000</td>\n",
       "      <td>0.896701</td>\n",
       "      <td>1401.930554</td>\n",
       "      <td>-499.728848</td>\n",
       "      <td>1401.441445</td>\n",
       "      <td>-499.193423</td>\n",
       "      <td>1399.810313</td>\n",
       "      <td>-499.599127</td>\n",
       "      <td>1400.334792</td>\n",
       "      <td>-499.243459</td>\n",
       "      <td>11.638973</td>\n",
       "      <td>4.695306</td>\n",
       "      <td>521.685155</td>\n",
       "      <td>66.758479</td>\n",
       "      <td>42.022027</td>\n",
       "      <td>10.554544</td>\n",
       "      <td>10.109194</td>\n",
       "      <td>7.203935</td>\n",
       "      <td>10.110793</td>\n",
       "      <td>7.198171</td>\n",
       "      <td>1399.935264</td>\n",
       "      <td>-299.999637</td>\n",
       "      <td>1049.641991</td>\n",
       "      <td>-500.074887</td>\n",
       "      <td>951.923857</td>\n",
       "      <td>-499.648793</td>\n",
       "      <td>852.337438</td>\n",
       "      <td>-498.464443</td>\n",
       "      <td>851.436769</td>\n",
       "      <td>-500.285584</td>\n",
       "      <td>851.461345</td>\n",
       "      <td>-499.735650</td>\n",
       "      <td>21.912132</td>\n",
       "      <td>-499.915179</td>\n",
       "      <td>19.909080</td>\n",
       "      <td>-499.734909</td>\n",
       "      <td>24.939573</td>\n",
       "      <td>-500.098479</td>\n",
       "      <td>12.968448</td>\n",
       "      <td>-499.952023</td>\n",
       "      <td>13.995957</td>\n",
       "      <td>-500.157454</td>\n",
       "      <td>12.069155</td>\n",
       "      <td>-499.673279</td>\n",
       "      <td>7.977259</td>\n",
       "      <td>-499.516126</td>\n",
       "      <td>5.933319</td>\n",
       "      <td>-499.965973</td>\n",
       "      <td>8.987171</td>\n",
       "      <td>-499.755909</td>\n",
       "      <td>68.919891</td>\n",
       "      <td>95.172585</td>\n",
       "    </tr>\n",
       "    <tr>\n",
       "      <th>5286</th>\n",
       "      <td>2017-12-31 20:59:59</td>\n",
       "      <td>172.910270</td>\n",
       "      <td>16.002605</td>\n",
       "      <td>8.070000</td>\n",
       "      <td>0.896519</td>\n",
       "      <td>1447.075722</td>\n",
       "      <td>-494.716823</td>\n",
       "      <td>1448.851892</td>\n",
       "      <td>-465.963026</td>\n",
       "      <td>1443.890424</td>\n",
       "      <td>-503.587739</td>\n",
       "      <td>1447.653388</td>\n",
       "      <td>-480.403849</td>\n",
       "      <td>11.338091</td>\n",
       "      <td>4.478381</td>\n",
       "      <td>530.195798</td>\n",
       "      <td>62.560684</td>\n",
       "      <td>41.096377</td>\n",
       "      <td>10.254051</td>\n",
       "      <td>9.979495</td>\n",
       "      <td>7.200895</td>\n",
       "      <td>9.978855</td>\n",
       "      <td>7.201957</td>\n",
       "      <td>1406.122319</td>\n",
       "      <td>-299.057200</td>\n",
       "      <td>1055.715243</td>\n",
       "      <td>-498.250207</td>\n",
       "      <td>956.850266</td>\n",
       "      <td>-497.403941</td>\n",
       "      <td>855.386714</td>\n",
       "      <td>-495.702676</td>\n",
       "      <td>852.071335</td>\n",
       "      <td>-499.442753</td>\n",
       "      <td>851.328986</td>\n",
       "      <td>-496.579809</td>\n",
       "      <td>25.322301</td>\n",
       "      <td>-497.034975</td>\n",
       "      <td>23.310568</td>\n",
       "      <td>-498.892647</td>\n",
       "      <td>26.369171</td>\n",
       "      <td>-499.222375</td>\n",
       "      <td>17.704862</td>\n",
       "      <td>-499.545681</td>\n",
       "      <td>16.749781</td>\n",
       "      <td>-496.031539</td>\n",
       "      <td>13.365371</td>\n",
       "      <td>-499.122723</td>\n",
       "      <td>9.288553</td>\n",
       "      <td>-496.892967</td>\n",
       "      <td>7.372897</td>\n",
       "      <td>-499.942956</td>\n",
       "      <td>8.986832</td>\n",
       "      <td>-499.903761</td>\n",
       "      <td>68.440582</td>\n",
       "      <td>94.575036</td>\n",
       "    </tr>\n",
       "    <tr>\n",
       "      <th>5287</th>\n",
       "      <td>2017-12-31 21:59:59</td>\n",
       "      <td>171.135718</td>\n",
       "      <td>15.993669</td>\n",
       "      <td>8.070000</td>\n",
       "      <td>1.165996</td>\n",
       "      <td>1498.836182</td>\n",
       "      <td>-501.770403</td>\n",
       "      <td>1499.572353</td>\n",
       "      <td>-495.516347</td>\n",
       "      <td>1502.749213</td>\n",
       "      <td>-520.667442</td>\n",
       "      <td>1502.585343</td>\n",
       "      <td>-498.260225</td>\n",
       "      <td>11.285908</td>\n",
       "      <td>4.405327</td>\n",
       "      <td>546.306868</td>\n",
       "      <td>73.647513</td>\n",
       "      <td>41.095485</td>\n",
       "      <td>10.169094</td>\n",
       "      <td>10.182219</td>\n",
       "      <td>7.196255</td>\n",
       "      <td>10.185461</td>\n",
       "      <td>7.198676</td>\n",
       "      <td>1396.203070</td>\n",
       "      <td>-300.210722</td>\n",
       "      <td>1047.879742</td>\n",
       "      <td>-499.604248</td>\n",
       "      <td>948.963429</td>\n",
       "      <td>-499.549567</td>\n",
       "      <td>856.325597</td>\n",
       "      <td>-500.095616</td>\n",
       "      <td>850.614597</td>\n",
       "      <td>-499.473713</td>\n",
       "      <td>850.279578</td>\n",
       "      <td>-498.508374</td>\n",
       "      <td>29.075948</td>\n",
       "      <td>-500.528402</td>\n",
       "      <td>26.888005</td>\n",
       "      <td>-500.975799</td>\n",
       "      <td>28.000224</td>\n",
       "      <td>-500.565876</td>\n",
       "      <td>22.996528</td>\n",
       "      <td>-500.477583</td>\n",
       "      <td>19.994130</td>\n",
       "      <td>-499.791312</td>\n",
       "      <td>15.101425</td>\n",
       "      <td>-499.936252</td>\n",
       "      <td>10.989181</td>\n",
       "      <td>-498.347898</td>\n",
       "      <td>9.020944</td>\n",
       "      <td>-500.040448</td>\n",
       "      <td>8.982038</td>\n",
       "      <td>-497.789882</td>\n",
       "      <td>67.092759</td>\n",
       "      <td>93.018138</td>\n",
       "    </tr>\n",
       "    <tr>\n",
       "      <th>5288</th>\n",
       "      <td>2017-12-31 22:59:59</td>\n",
       "      <td>179.697158</td>\n",
       "      <td>15.438979</td>\n",
       "      <td>8.070000</td>\n",
       "      <td>1.501068</td>\n",
       "      <td>1498.466243</td>\n",
       "      <td>-500.483984</td>\n",
       "      <td>1497.986986</td>\n",
       "      <td>-519.200340</td>\n",
       "      <td>1496.569047</td>\n",
       "      <td>-487.479567</td>\n",
       "      <td>1502.688918</td>\n",
       "      <td>-501.569723</td>\n",
       "      <td>11.289710</td>\n",
       "      <td>4.343488</td>\n",
       "      <td>547.331405</td>\n",
       "      <td>78.066446</td>\n",
       "      <td>41.715740</td>\n",
       "      <td>10.071156</td>\n",
       "      <td>10.730915</td>\n",
       "      <td>7.200058</td>\n",
       "      <td>10.726349</td>\n",
       "      <td>7.200834</td>\n",
       "      <td>1403.942288</td>\n",
       "      <td>-300.030119</td>\n",
       "      <td>1049.802289</td>\n",
       "      <td>-499.795576</td>\n",
       "      <td>950.769390</td>\n",
       "      <td>-500.374645</td>\n",
       "      <td>847.647198</td>\n",
       "      <td>-499.920332</td>\n",
       "      <td>849.413040</td>\n",
       "      <td>-500.380529</td>\n",
       "      <td>850.075026</td>\n",
       "      <td>-500.478250</td>\n",
       "      <td>29.103185</td>\n",
       "      <td>-499.692672</td>\n",
       "      <td>27.051742</td>\n",
       "      <td>-499.858337</td>\n",
       "      <td>27.980387</td>\n",
       "      <td>-499.907225</td>\n",
       "      <td>23.046562</td>\n",
       "      <td>-499.744914</td>\n",
       "      <td>19.958760</td>\n",
       "      <td>-499.958750</td>\n",
       "      <td>15.026853</td>\n",
       "      <td>-499.723143</td>\n",
       "      <td>11.011607</td>\n",
       "      <td>-499.985046</td>\n",
       "      <td>9.009783</td>\n",
       "      <td>-499.937902</td>\n",
       "      <td>9.012660</td>\n",
       "      <td>-500.154284</td>\n",
       "      <td>68.061186</td>\n",
       "      <td>92.599042</td>\n",
       "    </tr>\n",
       "    <tr>\n",
       "      <th>5289</th>\n",
       "      <td>2017-12-31 23:59:59</td>\n",
       "      <td>181.556856</td>\n",
       "      <td>14.995850</td>\n",
       "      <td>8.070000</td>\n",
       "      <td>1.623454</td>\n",
       "      <td>1498.096303</td>\n",
       "      <td>-499.796922</td>\n",
       "      <td>1501.743791</td>\n",
       "      <td>-505.146931</td>\n",
       "      <td>1499.535978</td>\n",
       "      <td>-492.428226</td>\n",
       "      <td>1499.674340</td>\n",
       "      <td>-499.766717</td>\n",
       "      <td>10.904646</td>\n",
       "      <td>4.090591</td>\n",
       "      <td>564.540376</td>\n",
       "      <td>77.678700</td>\n",
       "      <td>40.891121</td>\n",
       "      <td>9.697259</td>\n",
       "      <td>10.789493</td>\n",
       "      <td>7.195776</td>\n",
       "      <td>10.792881</td>\n",
       "      <td>7.201037</td>\n",
       "      <td>1400.611544</td>\n",
       "      <td>-299.989405</td>\n",
       "      <td>1052.782756</td>\n",
       "      <td>-499.762966</td>\n",
       "      <td>950.793740</td>\n",
       "      <td>-499.357170</td>\n",
       "      <td>850.639537</td>\n",
       "      <td>-500.433782</td>\n",
       "      <td>850.370801</td>\n",
       "      <td>-500.819351</td>\n",
       "      <td>850.680188</td>\n",
       "      <td>-498.539198</td>\n",
       "      <td>29.098116</td>\n",
       "      <td>-500.429872</td>\n",
       "      <td>26.892401</td>\n",
       "      <td>-500.087131</td>\n",
       "      <td>28.023491</td>\n",
       "      <td>-500.170406</td>\n",
       "      <td>23.013559</td>\n",
       "      <td>-500.218801</td>\n",
       "      <td>20.034715</td>\n",
       "      <td>-500.728588</td>\n",
       "      <td>14.914199</td>\n",
       "      <td>-499.948518</td>\n",
       "      <td>10.986607</td>\n",
       "      <td>-500.658027</td>\n",
       "      <td>8.989497</td>\n",
       "      <td>-500.337588</td>\n",
       "      <td>8.988632</td>\n",
       "      <td>-500.764937</td>\n",
       "      <td>71.699976</td>\n",
       "      <td>91.177695</td>\n",
       "    </tr>\n",
       "  </tbody>\n",
       "</table>\n",
       "<p>5290 rows × 55 columns</p>\n",
       "</div>"
      ],
      "text/plain": [
       "                     date  primary_cleaner.input.sulfate  \\\n",
       "0     2016-09-01 00:59:59                     210.800909   \n",
       "1     2016-09-01 01:59:59                     215.392455   \n",
       "2     2016-09-01 02:59:59                     215.259946   \n",
       "3     2016-09-01 03:59:59                     215.336236   \n",
       "4     2016-09-01 04:59:59                     199.099327   \n",
       "...                   ...                            ...   \n",
       "5285  2017-12-31 19:59:59                     173.957757   \n",
       "5286  2017-12-31 20:59:59                     172.910270   \n",
       "5287  2017-12-31 21:59:59                     171.135718   \n",
       "5288  2017-12-31 22:59:59                     179.697158   \n",
       "5289  2017-12-31 23:59:59                     181.556856   \n",
       "\n",
       "      primary_cleaner.input.depressant  primary_cleaner.input.feed_size  \\\n",
       "0                            14.993118                         8.080000   \n",
       "1                            14.987471                         8.080000   \n",
       "2                            12.884934                         7.786667   \n",
       "3                            12.006805                         7.640000   \n",
       "4                            10.682530                         7.530000   \n",
       "...                                ...                              ...   \n",
       "5285                         15.963399                         8.070000   \n",
       "5286                         16.002605                         8.070000   \n",
       "5287                         15.993669                         8.070000   \n",
       "5288                         15.438979                         8.070000   \n",
       "5289                         14.995850                         8.070000   \n",
       "\n",
       "      primary_cleaner.input.xanthate  primary_cleaner.state.floatbank8_a_air  \\\n",
       "0                           1.005021                             1398.981301   \n",
       "1                           0.990469                             1398.777912   \n",
       "2                           0.996043                             1398.493666   \n",
       "3                           0.863514                             1399.618111   \n",
       "4                           0.805575                             1401.268123   \n",
       "...                              ...                                     ...   \n",
       "5285                        0.896701                             1401.930554   \n",
       "5286                        0.896519                             1447.075722   \n",
       "5287                        1.165996                             1498.836182   \n",
       "5288                        1.501068                             1498.466243   \n",
       "5289                        1.623454                             1498.096303   \n",
       "\n",
       "      primary_cleaner.state.floatbank8_a_level  \\\n",
       "0                                  -500.225577   \n",
       "1                                  -500.057435   \n",
       "2                                  -500.868360   \n",
       "3                                  -498.863574   \n",
       "4                                  -500.808305   \n",
       "...                                        ...   \n",
       "5285                               -499.728848   \n",
       "5286                               -494.716823   \n",
       "5287                               -501.770403   \n",
       "5288                               -500.483984   \n",
       "5289                               -499.796922   \n",
       "\n",
       "      primary_cleaner.state.floatbank8_b_air  \\\n",
       "0                                1399.144926   \n",
       "1                                1398.055362   \n",
       "2                                1398.860436   \n",
       "3                                1397.440120   \n",
       "4                                1398.128818   \n",
       "...                                      ...   \n",
       "5285                             1401.441445   \n",
       "5286                             1448.851892   \n",
       "5287                             1499.572353   \n",
       "5288                             1497.986986   \n",
       "5289                             1501.743791   \n",
       "\n",
       "      primary_cleaner.state.floatbank8_b_level  \\\n",
       "0                                  -499.919735   \n",
       "1                                  -499.778182   \n",
       "2                                  -499.764529   \n",
       "3                                  -499.211024   \n",
       "4                                  -499.504543   \n",
       "...                                        ...   \n",
       "5285                               -499.193423   \n",
       "5286                               -465.963026   \n",
       "5287                               -495.516347   \n",
       "5288                               -519.200340   \n",
       "5289                               -505.146931   \n",
       "\n",
       "      primary_cleaner.state.floatbank8_c_air  \\\n",
       "0                                1400.102998   \n",
       "1                                1396.151033   \n",
       "2                                1398.075709   \n",
       "3                                1400.129303   \n",
       "4                                1402.172226   \n",
       "...                                      ...   \n",
       "5285                             1399.810313   \n",
       "5286                             1443.890424   \n",
       "5287                             1502.749213   \n",
       "5288                             1496.569047   \n",
       "5289                             1499.535978   \n",
       "\n",
       "      primary_cleaner.state.floatbank8_c_level  \\\n",
       "0                                  -500.704369   \n",
       "1                                  -499.240168   \n",
       "2                                  -502.151509   \n",
       "3                                  -498.355873   \n",
       "4                                  -500.810606   \n",
       "...                                        ...   \n",
       "5285                               -499.599127   \n",
       "5286                               -503.587739   \n",
       "5287                               -520.667442   \n",
       "5288                               -487.479567   \n",
       "5289                               -492.428226   \n",
       "\n",
       "      primary_cleaner.state.floatbank8_d_air  \\\n",
       "0                                1399.001695   \n",
       "1                                1399.508091   \n",
       "2                                1399.497088   \n",
       "3                                1401.065165   \n",
       "4                                1399.480508   \n",
       "...                                      ...   \n",
       "5285                             1400.334792   \n",
       "5286                             1447.653388   \n",
       "5287                             1502.585343   \n",
       "5288                             1502.688918   \n",
       "5289                             1499.674340   \n",
       "\n",
       "      primary_cleaner.state.floatbank8_d_level  rougher.input.feed_ag  \\\n",
       "0                                  -499.485144              13.128569   \n",
       "1                                  -500.416324              13.036280   \n",
       "2                                  -499.715479              13.138412   \n",
       "3                                  -501.038738              12.400507   \n",
       "4                                  -499.374053              11.327427   \n",
       "...                                        ...                    ...   \n",
       "5285                               -499.243459              11.638973   \n",
       "5286                               -480.403849              11.338091   \n",
       "5287                               -498.260225              11.285908   \n",
       "5288                               -501.569723              11.289710   \n",
       "5289                               -499.766717              10.904646   \n",
       "\n",
       "      rougher.input.feed_pb  rougher.input.feed_rate  rougher.input.feed_size  \\\n",
       "0                  5.636710               489.793655                62.710452   \n",
       "1                  5.526065               490.104534                61.961163   \n",
       "2                  5.426561               489.617969                66.903807   \n",
       "3                  5.114758               476.618130                59.865919   \n",
       "4                  4.767383               488.248117                63.315324   \n",
       "...                     ...                      ...                      ...   \n",
       "5285               4.695306               521.685155                66.758479   \n",
       "5286               4.478381               530.195798                62.560684   \n",
       "5287               4.405327               546.306868                73.647513   \n",
       "5288               4.343488               547.331405                78.066446   \n",
       "5289               4.090591               564.540376                77.678700   \n",
       "\n",
       "      rougher.input.feed_sol  rougher.input.feed_au  \\\n",
       "0                  42.022440              12.084103   \n",
       "1                  41.187903              11.918977   \n",
       "2                  42.546294              12.091332   \n",
       "3                  41.060195              12.181597   \n",
       "4                  41.269161              11.290425   \n",
       "...                      ...                    ...   \n",
       "5285               42.022027              10.554544   \n",
       "5286               41.096377              10.254051   \n",
       "5287               41.095485              10.169094   \n",
       "5288               41.715740              10.071156   \n",
       "5289               40.891121               9.697259   \n",
       "\n",
       "      rougher.input.floatbank10_sulfate  rougher.input.floatbank10_xanthate  \\\n",
       "0                             16.922877                            6.153479   \n",
       "1                             17.002532                            5.999043   \n",
       "2                             16.992520                            5.850632   \n",
       "3                             16.532144                            5.801935   \n",
       "4                             13.607257                            5.738081   \n",
       "...                                 ...                                 ...   \n",
       "5285                          10.109194                            7.203935   \n",
       "5286                           9.979495                            7.200895   \n",
       "5287                          10.182219                            7.196255   \n",
       "5288                          10.730915                            7.200058   \n",
       "5289                          10.789493                            7.195776   \n",
       "\n",
       "      rougher.input.floatbank11_sulfate  rougher.input.floatbank11_xanthate  \\\n",
       "0                             16.867518                            6.150709   \n",
       "1                             16.996063                            6.002315   \n",
       "2                             16.982096                            5.853594   \n",
       "3                             16.515277                            5.803657   \n",
       "4                             13.650053                            5.739634   \n",
       "...                                 ...                                 ...   \n",
       "5285                          10.110793                            7.198171   \n",
       "5286                           9.978855                            7.201957   \n",
       "5287                          10.185461                            7.198676   \n",
       "5288                          10.726349                            7.200834   \n",
       "5289                          10.792881                            7.201037   \n",
       "\n",
       "      rougher.state.floatbank10_a_air  rougher.state.floatbank10_a_level  \\\n",
       "0                         1001.849317                        -350.301265   \n",
       "1                          998.690785                        -350.425704   \n",
       "2                          998.516720                        -349.783538   \n",
       "3                         1000.276604                        -350.172597   \n",
       "4                          996.541302                        -350.562517   \n",
       "...                               ...                                ...   \n",
       "5285                      1399.935264                        -299.999637   \n",
       "5286                      1406.122319                        -299.057200   \n",
       "5287                      1396.203070                        -300.210722   \n",
       "5288                      1403.942288                        -300.030119   \n",
       "5289                      1400.611544                        -299.989405   \n",
       "\n",
       "      rougher.state.floatbank10_b_air  rougher.state.floatbank10_b_level  \\\n",
       "0                         1249.738612                        -399.107531   \n",
       "1                         1248.395457                        -399.946025   \n",
       "2                         1247.440748                        -400.264330   \n",
       "3                         1251.322675                        -398.655289   \n",
       "4                         1304.658848                        -399.511519   \n",
       "...                               ...                                ...   \n",
       "5285                      1049.641991                        -500.074887   \n",
       "5286                      1055.715243                        -498.250207   \n",
       "5287                      1047.879742                        -499.604248   \n",
       "5288                      1049.802289                        -499.795576   \n",
       "5289                      1052.782756                        -499.762966   \n",
       "\n",
       "      rougher.state.floatbank10_c_air  rougher.state.floatbank10_c_level  \\\n",
       "0                         1249.750520                        -399.396730   \n",
       "1                         1249.514451                        -399.630810   \n",
       "2                         1248.207204                        -401.074405   \n",
       "3                         1250.493702                        -399.746728   \n",
       "4                         1306.455515                        -399.050685   \n",
       "...                               ...                                ...   \n",
       "5285                       951.923857                        -499.648793   \n",
       "5286                       956.850266                        -497.403941   \n",
       "5287                       948.963429                        -499.549567   \n",
       "5288                       950.769390                        -500.374645   \n",
       "5289                       950.793740                        -499.357170   \n",
       "\n",
       "      rougher.state.floatbank10_d_air  rougher.state.floatbank10_d_level  \\\n",
       "0                         1198.287855                        -399.488594   \n",
       "1                         1200.506459                        -399.942434   \n",
       "2                         1199.770026                        -400.790582   \n",
       "3                         1199.398691                        -397.503052   \n",
       "4                         1248.699349                        -400.876894   \n",
       "...                               ...                                ...   \n",
       "5285                       852.337438                        -498.464443   \n",
       "5286                       855.386714                        -495.702676   \n",
       "5287                       856.325597                        -500.095616   \n",
       "5288                       847.647198                        -499.920332   \n",
       "5289                       850.639537                        -500.433782   \n",
       "\n",
       "      rougher.state.floatbank10_e_air  rougher.state.floatbank10_e_level  \\\n",
       "0                          999.472250                        -399.530962   \n",
       "1                         1000.002114                        -399.491528   \n",
       "2                          999.925519                        -399.236999   \n",
       "3                         1001.930679                        -400.437573   \n",
       "4                         1058.839106                        -398.988239   \n",
       "...                               ...                                ...   \n",
       "5285                       851.436769                        -500.285584   \n",
       "5286                       852.071335                        -499.442753   \n",
       "5287                       850.614597                        -499.473713   \n",
       "5288                       849.413040                        -500.380529   \n",
       "5289                       850.370801                        -500.819351   \n",
       "\n",
       "      rougher.state.floatbank10_f_air  rougher.state.floatbank10_f_level  \\\n",
       "0                          949.566189                        -398.180807   \n",
       "1                          950.200009                        -405.787514   \n",
       "2                          950.320481                        -400.864340   \n",
       "3                          950.735324                        -399.802986   \n",
       "4                          949.645313                        -399.277632   \n",
       "...                               ...                                ...   \n",
       "5285                       851.461345                        -499.735650   \n",
       "5286                       851.328986                        -496.579809   \n",
       "5287                       850.279578                        -498.508374   \n",
       "5288                       850.075026                        -500.478250   \n",
       "5289                       850.680188                        -498.539198   \n",
       "\n",
       "      secondary_cleaner.state.floatbank2_a_air  \\\n",
       "0                                    24.938200   \n",
       "1                                    24.923466   \n",
       "2                                    24.908732   \n",
       "3                                    24.893998   \n",
       "4                                    24.886905   \n",
       "...                                        ...   \n",
       "5285                                 21.912132   \n",
       "5286                                 25.322301   \n",
       "5287                                 29.075948   \n",
       "5288                                 29.103185   \n",
       "5289                                 29.098116   \n",
       "\n",
       "      secondary_cleaner.state.floatbank2_a_level  \\\n",
       "0                                    -500.490963   \n",
       "1                                    -499.813963   \n",
       "2                                    -500.304035   \n",
       "3                                    -499.382374   \n",
       "4                                    -499.357375   \n",
       "...                                          ...   \n",
       "5285                                 -499.915179   \n",
       "5286                                 -497.034975   \n",
       "5287                                 -500.528402   \n",
       "5288                                 -499.692672   \n",
       "5289                                 -500.429872   \n",
       "\n",
       "      secondary_cleaner.state.floatbank2_b_air  \\\n",
       "0                                    14.947607   \n",
       "1                                    14.930873   \n",
       "2                                    14.996511   \n",
       "3                                    14.916674   \n",
       "4                                    14.979233   \n",
       "...                                        ...   \n",
       "5285                                 19.909080   \n",
       "5286                                 23.310568   \n",
       "5287                                 26.888005   \n",
       "5288                                 27.051742   \n",
       "5289                                 26.892401   \n",
       "\n",
       "      secondary_cleaner.state.floatbank2_b_level  \\\n",
       "0                                    -500.013837   \n",
       "1                                    -500.764452   \n",
       "2                                    -500.993821   \n",
       "3                                    -499.862299   \n",
       "4                                    -500.186804   \n",
       "...                                          ...   \n",
       "5285                                 -499.734909   \n",
       "5286                                 -498.892647   \n",
       "5287                                 -500.975799   \n",
       "5288                                 -499.858337   \n",
       "5289                                 -500.087131   \n",
       "\n",
       "      secondary_cleaner.state.floatbank3_a_air  \\\n",
       "0                                    20.018166   \n",
       "1                                    19.988503   \n",
       "2                                    20.039689   \n",
       "3                                    20.031100   \n",
       "4                                    19.962364   \n",
       "...                                        ...   \n",
       "5285                                 24.939573   \n",
       "5286                                 26.369171   \n",
       "5287                                 28.000224   \n",
       "5288                                 27.980387   \n",
       "5289                                 28.023491   \n",
       "\n",
       "      secondary_cleaner.state.floatbank3_a_level  \\\n",
       "0                                    -450.395995   \n",
       "1                                    -450.114024   \n",
       "2                                    -450.263164   \n",
       "3                                    -449.372570   \n",
       "4                                    -450.638828   \n",
       "...                                          ...   \n",
       "5285                                 -500.098479   \n",
       "5286                                 -499.222375   \n",
       "5287                                 -500.565876   \n",
       "5288                                 -499.907225   \n",
       "5289                                 -500.170406   \n",
       "\n",
       "      secondary_cleaner.state.floatbank3_b_air  \\\n",
       "0                                    13.987058   \n",
       "1                                    14.092981   \n",
       "2                                    14.077881   \n",
       "3                                    14.013968   \n",
       "4                                    14.009245   \n",
       "...                                        ...   \n",
       "5285                                 12.968448   \n",
       "5286                                 17.704862   \n",
       "5287                                 22.996528   \n",
       "5288                                 23.046562   \n",
       "5289                                 23.013559   \n",
       "\n",
       "      secondary_cleaner.state.floatbank3_b_level  \\\n",
       "0                                    -449.831513   \n",
       "1                                    -450.059163   \n",
       "2                                    -449.660997   \n",
       "3                                    -449.526900   \n",
       "4                                    -450.022259   \n",
       "...                                          ...   \n",
       "5285                                 -499.952023   \n",
       "5286                                 -499.545681   \n",
       "5287                                 -500.477583   \n",
       "5288                                 -499.744914   \n",
       "5289                                 -500.218801   \n",
       "\n",
       "      secondary_cleaner.state.floatbank4_a_air  \\\n",
       "0                                    12.023554   \n",
       "1                                    12.058140   \n",
       "2                                    11.962366   \n",
       "3                                    12.033091   \n",
       "4                                    12.025367   \n",
       "...                                        ...   \n",
       "5285                                 13.995957   \n",
       "5286                                 16.749781   \n",
       "5287                                 19.994130   \n",
       "5288                                 19.958760   \n",
       "5289                                 20.034715   \n",
       "\n",
       "      secondary_cleaner.state.floatbank4_a_level  \\\n",
       "0                                    -497.795834   \n",
       "1                                    -498.695773   \n",
       "2                                    -498.767484   \n",
       "3                                    -498.350935   \n",
       "4                                    -500.786497   \n",
       "...                                          ...   \n",
       "5285                                 -500.157454   \n",
       "5286                                 -496.031539   \n",
       "5287                                 -499.791312   \n",
       "5288                                 -499.958750   \n",
       "5289                                 -500.728588   \n",
       "\n",
       "      secondary_cleaner.state.floatbank4_b_air  \\\n",
       "0                                     8.016656   \n",
       "1                                     8.130979   \n",
       "2                                     8.096893   \n",
       "3                                     8.074946   \n",
       "4                                     8.054678   \n",
       "...                                        ...   \n",
       "5285                                 12.069155   \n",
       "5286                                 13.365371   \n",
       "5287                                 15.101425   \n",
       "5288                                 15.026853   \n",
       "5289                                 14.914199   \n",
       "\n",
       "      secondary_cleaner.state.floatbank4_b_level  \\\n",
       "0                                    -501.289139   \n",
       "1                                    -499.634209   \n",
       "2                                    -500.827423   \n",
       "3                                    -499.474407   \n",
       "4                                    -500.397500   \n",
       "...                                          ...   \n",
       "5285                                 -499.673279   \n",
       "5286                                 -499.122723   \n",
       "5287                                 -499.936252   \n",
       "5288                                 -499.723143   \n",
       "5289                                 -499.948518   \n",
       "\n",
       "      secondary_cleaner.state.floatbank5_a_air  \\\n",
       "0                                     7.946562   \n",
       "1                                     7.958270   \n",
       "2                                     8.071056   \n",
       "3                                     7.897085   \n",
       "4                                     8.107890   \n",
       "...                                        ...   \n",
       "5285                                  7.977259   \n",
       "5286                                  9.288553   \n",
       "5287                                 10.989181   \n",
       "5288                                 11.011607   \n",
       "5289                                 10.986607   \n",
       "\n",
       "      secondary_cleaner.state.floatbank5_a_level  \\\n",
       "0                                    -432.317850   \n",
       "1                                    -525.839648   \n",
       "2                                    -500.801673   \n",
       "3                                    -500.868509   \n",
       "4                                    -509.526725   \n",
       "...                                          ...   \n",
       "5285                                 -499.516126   \n",
       "5286                                 -496.892967   \n",
       "5287                                 -498.347898   \n",
       "5288                                 -499.985046   \n",
       "5289                                 -500.658027   \n",
       "\n",
       "      secondary_cleaner.state.floatbank5_b_air  \\\n",
       "0                                     4.872511   \n",
       "1                                     4.878850   \n",
       "2                                     4.905125   \n",
       "3                                     4.931400   \n",
       "4                                     4.957674   \n",
       "...                                        ...   \n",
       "5285                                  5.933319   \n",
       "5286                                  7.372897   \n",
       "5287                                  9.020944   \n",
       "5288                                  9.009783   \n",
       "5289                                  8.989497   \n",
       "\n",
       "      secondary_cleaner.state.floatbank5_b_level  \\\n",
       "0                                    -500.037437   \n",
       "1                                    -500.162375   \n",
       "2                                    -499.828510   \n",
       "3                                    -499.963623   \n",
       "4                                    -500.360026   \n",
       "...                                          ...   \n",
       "5285                                 -499.965973   \n",
       "5286                                 -499.942956   \n",
       "5287                                 -500.040448   \n",
       "5288                                 -499.937902   \n",
       "5289                                 -500.337588   \n",
       "\n",
       "      secondary_cleaner.state.floatbank6_a_air  \\\n",
       "0                                    26.705889   \n",
       "1                                    25.019940   \n",
       "2                                    24.994862   \n",
       "3                                    24.948919   \n",
       "4                                    25.003331   \n",
       "...                                        ...   \n",
       "5285                                  8.987171   \n",
       "5286                                  8.986832   \n",
       "5287                                  8.982038   \n",
       "5288                                  9.012660   \n",
       "5289                                  8.988632   \n",
       "\n",
       "      secondary_cleaner.state.floatbank6_a_level  final.output.recovery  \\\n",
       "0                                    -499.709414              70.273583   \n",
       "1                                    -499.819438              68.910432   \n",
       "2                                    -500.622559              68.143213   \n",
       "3                                    -498.709987              67.776393   \n",
       "4                                    -500.856333              61.467078   \n",
       "...                                          ...                    ...   \n",
       "5285                                 -499.755909              68.919891   \n",
       "5286                                 -499.903761              68.440582   \n",
       "5287                                 -497.789882              67.092759   \n",
       "5288                                 -500.154284              68.061186   \n",
       "5289                                 -500.764937              71.699976   \n",
       "\n",
       "      rougher.output.recovery  \n",
       "0                   89.993421  \n",
       "1                   88.089657  \n",
       "2                   88.412756  \n",
       "3                   87.360133  \n",
       "4                   83.236367  \n",
       "...                       ...  \n",
       "5285                95.172585  \n",
       "5286                94.575036  \n",
       "5287                93.018138  \n",
       "5288                92.599042  \n",
       "5289                91.177695  \n",
       "\n",
       "[5290 rows x 55 columns]"
      ]
     },
     "execution_count": 12,
     "metadata": {},
     "output_type": "execute_result"
    }
   ],
   "source": [
    "#Заменим еще раз пропуски после объединения\n",
    "data_recovery_test.ffill(axis = 0)"
   ]
  },
  {
   "cell_type": "markdown",
   "metadata": {},
   "source": [
    "**Вывод**. Данные подготовили."
   ]
  },
  {
   "cell_type": "markdown",
   "metadata": {},
   "source": [
    "## Анализ данных"
   ]
  },
  {
   "cell_type": "markdown",
   "metadata": {},
   "source": [
    "### Посмотрим, как меняется концентрация металлов (Au, Ag, Pb) на различных этапах очистки. Опишем выводы."
   ]
  },
  {
   "cell_type": "code",
   "execution_count": 13,
   "metadata": {},
   "outputs": [
    {
     "data": {
      "image/png": "[encoded data removed]",
      "text/plain": [
       "<Figure size 720x360 with 1 Axes>"
      ]
     },
     "metadata": {
      "needs_background": "light"
     },
     "output_type": "display_data"
    },
    {
     "data": {
      "image/png": "[encoded data removed]",
      "text/plain": [
       "<Figure size 720x360 with 1 Axes>"
      ]
     },
     "metadata": {
      "needs_background": "light"
     },
     "output_type": "display_data"
    },
    {
     "data": {
      "image/png": "[encoded data removed]",
      "text/plain": [
       "<Figure size 720x360 with 1 Axes>"
      ]
     },
     "metadata": {
      "needs_background": "light"
     },
     "output_type": "display_data"
    }
   ],
   "source": [
    "#rougher.input.feed - исходный\n",
    "#rougher.output.concentrate - после флотации \n",
    "#primary_cleaner.output.concentrate - после первичной очистки\n",
    "#final.output.concentrate - после вторичной очистки, финальный концентрат\n",
    "\n",
    "#Чтобы посмотреть, как меняется концентрация металлов, построим графики\n",
    "all_metals = ['au', 'ag', 'pb']\n",
    "\n",
    "for metal in all_metals:\n",
    "    plt.figure(figsize=(10,5))\n",
    "    plt.hist(data_recovery_train[f'rougher.input.feed_{metal}'], bins=100, label = 'Исходный', alpha=0.5)\n",
    "    plt.hist(data_recovery_train[f'rougher.output.concentrate_{metal}'], bins=100, label = 'После флотации', alpha=0.5)\n",
    "    plt.hist(data_recovery_train[f'primary_cleaner.output.concentrate_{metal}'], bins=100, label = 'После первичной очистки', alpha=0.5)\n",
    "    plt.hist(data_recovery_train[f'final.output.concentrate_{metal}'], bins=100, label = 'Финальный концентрат', alpha=0.5)\n",
    "    plt.legend()\n",
    "    plt.xlabel('Концентрация')\n",
    "    plt.ylabel('Количество')\n",
    "    plt.title(f'Концентрация {metal}')\n",
    "    plt.show()"
   ]
  },
  {
   "cell_type": "markdown",
   "metadata": {},
   "source": [
    "Из графиков видно, что с каждым этапом концентрация Au и Pb увеличивается. Ag сначала повышается, потом к финальному этапу снижается."
   ]
  },
  {
   "cell_type": "markdown",
   "metadata": {},
   "source": [
    "### Сравним распределения размеров гранул сырья на обучающей и тестовой выборках. Если распределения сильно отличаются друг от друга, оценка модели будет неправильной."
   ]
  },
  {
   "cell_type": "code",
   "execution_count": 14,
   "metadata": {
    "scrolled": true
   },
   "outputs": [
    {
     "data": {
      "image/png": "[encoded data removed]",
      "text/plain": [
       "<Figure size 720x360 with 1 Axes>"
      ]
     },
     "metadata": {
      "needs_background": "light"
     },
     "output_type": "display_data"
    }
   ],
   "source": [
    "#rougher.input.feed_size - исходный\n",
    "#primary_cleaner.input.feed_size - после первичной очистки\n",
    "\n",
    "#Чтобы сравнить распределения размеров гранул сырья на обучающей и тестовой выборках построим графики\n",
    "#Исходный\n",
    "plt.figure(figsize=(10,5))\n",
    "plt.hist(data_recovery_train['rougher.input.feed_size'], bins=100, label = 'Обучающая', alpha=0.5, density=True)\n",
    "plt.hist(data_recovery_test['rougher.input.feed_size'], bins=100, label = 'Тестовая', alpha=0.5, density=True)\n",
    "plt.legend()\n",
    "plt.xlabel('Размеры гранул')\n",
    "plt.ylabel('Доля')\n",
    "plt.title('Распределение размеров гранул сырья')\n",
    "plt.show()"
   ]
  },
  {
   "cell_type": "markdown",
   "metadata": {},
   "source": [
    "Оба графика имеют нормальное распределение. "
   ]
  },
  {
   "cell_type": "code",
   "execution_count": 15,
   "metadata": {},
   "outputs": [
    {
     "data": {
      "image/png": "[encoded data removed]",
      "text/plain": [
       "<Figure size 720x360 with 1 Axes>"
      ]
     },
     "metadata": {
      "needs_background": "light"
     },
     "output_type": "display_data"
    }
   ],
   "source": [
    "#После первичной очистки\n",
    "plt.figure(figsize=(10,5))\n",
    "plt.hist(data_recovery_train['primary_cleaner.input.feed_size'], bins=100, label = 'Обучающая', alpha=0.5, density=True)\n",
    "plt.hist(data_recovery_test['primary_cleaner.input.feed_size'], bins=100, label = 'Тестовая', alpha=0.5, density=True)\n",
    "plt.legend()\n",
    "plt.xlabel('Размеры гранул')\n",
    "plt.ylabel('Доля')\n",
    "plt.title('Распределение размеров гранул сырья')\n",
    "plt.show()"
   ]
  },
  {
   "cell_type": "markdown",
   "metadata": {},
   "source": [
    "Распределения размеров гранул сырья на обучающей и тестовой выборках похоже, что видно по долям на графиках."
   ]
  },
  {
   "cell_type": "markdown",
   "metadata": {},
   "source": [
    "### Исследуем суммарную концентрацию всех веществ на разных стадиях: в сырье, в черновом и финальном концентратах."
   ]
  },
  {
   "cell_type": "code",
   "execution_count": 16,
   "metadata": {
    "scrolled": true
   },
   "outputs": [
    {
     "data": {
      "image/png": "[encoded data removed]",
      "text/plain": [
       "<Figure size 720x360 with 1 Axes>"
      ]
     },
     "metadata": {
      "needs_background": "light"
     },
     "output_type": "display_data"
    }
   ],
   "source": [
    "#rougher.input.feed - исходный\n",
    "#rougher.output.concentrate - после флотации \n",
    "#primary_cleaner.output.concentrate - после первичной очистки\n",
    "#final.output.concentrate - после вторичной очистки, финальный концентрат\n",
    "\n",
    "#Чтобы посмотреть, как меняется суммарная концентрация металлов, построим графики\n",
    "all_stage = ['rougher.input.feed', 'rougher.output.concentrate', 'primary_cleaner.output.concentrate', 'final.output.concentrate']\n",
    "plt.figure(figsize=(10,5))\n",
    "for stage in all_stage:\n",
    "    plt.hist(data_recovery_train[f'{stage}_au']\n",
    "             + data_recovery_train[f'{stage}_ag']\n",
    "             + data_recovery_train[f'{stage}_pb'], bins=100, label = f'{stage}', alpha=0.5)\n",
    "plt.legend()\n",
    "plt.xlabel('Концентрация')\n",
    "plt.ylabel('Количество')\n",
    "plt.title(f'Концентрация {stage}')\n",
    "plt.show()"
   ]
  },
  {
   "cell_type": "markdown",
   "metadata": {},
   "source": [
    "Из графика видно, что суммарная концентрация металлов увеличивается с каждым этапом. Так же мы видим на нулевые и около нулевые значения. Это явная ошибка. Скорее всего это связано со сбоем измерительного оборудования. Удалим их, так как они повлияют на работу модели."
   ]
  },
  {
   "cell_type": "code",
   "execution_count": 17,
   "metadata": {},
   "outputs": [
    {
     "data": {
      "text/plain": [
       "(14149, 87)"
      ]
     },
     "execution_count": 17,
     "metadata": {},
     "output_type": "execute_result"
    }
   ],
   "source": [
    "data_recovery_train.shape"
   ]
  },
  {
   "cell_type": "code",
   "execution_count": 18,
   "metadata": {},
   "outputs": [],
   "source": [
    "#Удалим ошибочные данные\n",
    "all_stage = ['rougher.input.feed', 'rougher.output.concentrate', 'primary_cleaner.output.concentrate', 'final.output.concentrate']\n",
    "for stage in all_stage:\n",
    "    data_recovery_train = data_recovery_train.drop(data_recovery_train[data_recovery_train[f'{stage}_au'] < 1].index)\n",
    "    data_recovery_train = data_recovery_train.drop(data_recovery_train[data_recovery_train[f'{stage}_ag'] < 1].index)\n",
    "    data_recovery_train = data_recovery_train.drop(data_recovery_train[data_recovery_train[f'{stage}_pb'] < 1].index)"
   ]
  },
  {
   "cell_type": "code",
   "execution_count": 19,
   "metadata": {},
   "outputs": [
    {
     "data": {
      "text/plain": [
       "(13436, 87)"
      ]
     },
     "execution_count": 19,
     "metadata": {},
     "output_type": "execute_result"
    }
   ],
   "source": [
    "data_recovery_train.shape"
   ]
  },
  {
   "cell_type": "markdown",
   "metadata": {},
   "source": [
    "**Вывод**\n",
    "1. Из графиков видно, что с каждым этапом концентрация Au и Pb увеличивается. Ag сначала повышается, потом к финальному этапу снижается.\n",
    "2. Распределение размеров гранул сырья имеют нормальное распределение. Распределения размеров гранул сырья на обучающей и тестовой выборках похоже, что видно по долям на графиках.\n",
    "3. Из графика видно, что суммарная концентрация металлов увеличивается с каждым этапом. Так же мы видим на нулевые и около нулевые значения. Это явная ошибка. Скорее всего это связано со сбоем измерительного оборудования. Их удалили."
   ]
  },
  {
   "cell_type": "markdown",
   "metadata": {},
   "source": [
    "## Модель"
   ]
  },
  {
   "cell_type": "markdown",
   "metadata": {},
   "source": [
    "### Напишите функцию для вычисления итоговой sMAPE"
   ]
  },
  {
   "cell_type": "code",
   "execution_count": 20,
   "metadata": {},
   "outputs": [],
   "source": [
    "def smape(y_target, y_predict):\n",
    "     return 1 / len (y_target) * np.sum (np.abs (y_predict-y_target) / ((np.abs (y_target) + np.abs (y_predict)) / 2)) * 100    "
   ]
  },
  {
   "cell_type": "markdown",
   "metadata": {},
   "source": [
    "### Обучим разные модели и оценим их качество кросс-валидацией. Выберем лучшую модель и проверим её на тестовой выборке. Опишем выводы."
   ]
  },
  {
   "cell_type": "code",
   "execution_count": 21,
   "metadata": {},
   "outputs": [],
   "source": [
    "#Удалим столбец date\n",
    "data_recovery_train = data_recovery_train.drop(['date'], axis = 1)"
   ]
  },
  {
   "cell_type": "code",
   "execution_count": 22,
   "metadata": {
    "scrolled": true
   },
   "outputs": [],
   "source": [
    "#Для этого сначала выделим целевой признак и оставшиеся признаки и сохраним их в переменные\n",
    "\n",
    "#Нужно спрогнозировать сразу две величины:\n",
    "#эффективность обогащения чернового концентрата rougher.output.recovery;\n",
    "#эффективность обогащения финального концентрата final.output.recovery.\n",
    "\n",
    "target_rougher = data_recovery_train['rougher.output.recovery'].reset_index(drop=True)\n",
    "target_final = data_recovery_train['final.output.recovery'].reset_index(drop=True)\n",
    "features = data_recovery_train.drop(column, axis = 1)\n",
    "\n",
    "#Делить данные на блоки или валидационную и обучающую выборки функция не требует. \n",
    "#Все эти процедуры происходят автоматически. На выходе от каждой валидации получаем список оценок качества моделей. \n",
    "#Каждая оценка равна model.score() на валидацинной выборке.\n",
    "\n",
    "#Чтобы предупреждение не появлялось\n",
    "pd.options.mode.chained_assignment = None\n",
    "\n",
    "#Масштабирование данных\n",
    "feature_scaler = StandardScaler() \n",
    "features = feature_scaler.fit_transform(features) "
   ]
  },
  {
   "cell_type": "code",
   "execution_count": 23,
   "metadata": {},
   "outputs": [],
   "source": [
    "#Оценивать модель кроссвалидацией подбирать паарметры с кроссвалидацией, нужно на основе нашей метрики smape. \n",
    "#Для этого из нее нужно сделать scorer с помощью функции make_scorer\n",
    "smap_scoring = make_scorer(smape)"
   ]
  },
  {
   "cell_type": "markdown",
   "metadata": {},
   "source": [
    "#### Модель дерева решений"
   ]
  },
  {
   "cell_type": "code",
   "execution_count": 24,
   "metadata": {
    "scrolled": true
   },
   "outputs": [
    {
     "name": "stdout",
     "output_type": "stream",
     "text": [
      "7.316751200750149\n",
      "7.120869410731084\n",
      "6.97667481899457\n",
      "6.60668076583764\n",
      "6.824588039262132\n",
      "Лучшая средняя оценка качества модели rougher: 6.60668076583764 Глубина дерева: 4\n",
      "CPU times: user 4.24 s, sys: 65.7 ms, total: 4.31 s\n",
      "Wall time: 4.32 s\n"
     ]
    }
   ],
   "source": [
    "%%time\n",
    "\n",
    "best_model = None\n",
    "best_result = 1000\n",
    "best_depth = 0\n",
    "for depth in range(1, 6):\n",
    "    model = DecisionTreeRegressor(random_state=12345, max_depth=depth) # инициализируем модель DecisionTreeRegressor с параметром random_state=12345 и max_depth=depth\n",
    "    #Посчитаем оценки rougher.output.recovery, вызвав функцию cross_value_score с пятью блоками\n",
    "    scores_rougher = cross_val_score(model, features, target_rougher, cv=5, scoring=smap_scoring)\n",
    "    final_score_rougher = sum(scores_rougher) / len(scores_rougher)\n",
    "    #final_score_rougher = abs(scores_rougher.mean())\n",
    "    print(final_score_rougher)\n",
    "    if final_score_rougher < best_result:\n",
    "        best_model = model\n",
    "        best_result = final_score_rougher\n",
    "        best_depth = depth\n",
    "\n",
    "    #print('depth', depth, 'cross', f'{final_score_rougher:.2f}%') \n",
    "    \n",
    "print(\"Лучшая средняя оценка качества модели rougher:\", best_result, \"Глубина дерева:\", best_depth)\n"
   ]
  },
  {
   "cell_type": "code",
   "execution_count": 25,
   "metadata": {},
   "outputs": [
    {
     "name": "stdout",
     "output_type": "stream",
     "text": [
      "9.34220437475506\n",
      "9.105204738589105\n",
      "9.157993446840777\n",
      "9.672405810191092\n",
      "10.320259686915472\n",
      "Лучшая средняя оценка качества модели final: 9.105204738589105 Глубина дерева: 2\n",
      "CPU times: user 4.36 s, sys: 0 ns, total: 4.36 s\n",
      "Wall time: 4.37 s\n"
     ]
    }
   ],
   "source": [
    "%%time\n",
    "\n",
    "best_model = None\n",
    "best_result = 1000\n",
    "best_depth = 0\n",
    "for depth in range(1, 6):\n",
    "    model = DecisionTreeRegressor(random_state=12345, max_depth=depth) # инициализируем модель DecisionTreeRegressor с параметром random_state=12345 и max_depth=depth\n",
    "    #Посчитаем оценки rougher.output.recovery, вызвав функцию cross_value_score с пятью блоками\n",
    "    scores_final = cross_val_score(model, features, target_final, cv=5, scoring=smap_scoring)\n",
    "    final_score_final = sum(scores_final) / len(scores_final)\n",
    "    #final_score_rougher = abs(scores_rougher.mean())\n",
    "    print(final_score_final)\n",
    "    if final_score_final < best_result:\n",
    "        best_model = model\n",
    "        best_result = final_score_final\n",
    "        best_depth = depth\n",
    "    \n",
    "    #print('depth', depth, 'cross', f'{final_score_rougher:.2f}%')\n",
    "    \n",
    "print(\"Лучшая средняя оценка качества модели final:\", best_result, \"Глубина дерева:\", best_depth)"
   ]
  },
  {
   "cell_type": "markdown",
   "metadata": {},
   "source": [
    "#### Модель случайного леса"
   ]
  },
  {
   "cell_type": "code",
   "execution_count": 26,
   "metadata": {},
   "outputs": [],
   "source": [
    "#%%time\n",
    "\n",
    "#best_model = None\n",
    "#best_est = 0\n",
    "#best_depth = 0\n",
    "#best_result = 1000\n",
    "#for est in range(100,150,10):\n",
    "#    for depth in range(1,6,1):\n",
    "#        model = RandomForestRegressor(max_depth=depth, n_estimators=est, random_state=12345) # инициализируем модель RandomForestRegressor\n",
    "#        scores_rougher = cross_val_score(model, features, target_rougher, cv=5, scoring=smap_scoring)\n",
    "#        final_score_rougher = sum(scores_rougher) / len(scores_rougher)\n",
    "#        print(final_score_rougher)\n",
    "#        if final_score_rougher < best_result:\n",
    "#            best_model = model\n",
    "#            best_result = final_score_rougher\n",
    "#            best_depth = depth\n",
    "#            best_est = est\n",
    "#print(\"Лучшая средняя оценка качества модели rougher:\", best_result, \"Глубина дерева:\", best_depth, \"Количество деревьев:\", best_est)            "
   ]
  },
  {
   "attachments": {
    "image-4.png": {
     "image/png": "[encoded data removed]"
    }
   },
   "cell_type": "markdown",
   "metadata": {},
   "source": [
    "![image-4.png](attachment:image-4.png)"
   ]
  },
  {
   "cell_type": "code",
   "execution_count": 27,
   "metadata": {},
   "outputs": [],
   "source": [
    "#%%time\n",
    "\n",
    "#best_model = None\n",
    "#best_est = 0\n",
    "#best_depth = 0\n",
    "#best_result = 1000\n",
    "#for est in range(100,150,10):\n",
    "#    for depth in range(1,6,1):\n",
    "#        model = RandomForestRegressor(max_depth=depth, n_estimators=est, random_state=12345) # инициализируем модель RandomForestRegressor\n",
    "#        scores_final = cross_val_score(model, features, target_final, cv=5, scoring=smap_scoring)\n",
    "#        final_score_final = sum(scores_final) / len(scores_final)\n",
    "#        print(final_score_final)\n",
    "#        if final_score_final < best_result:\n",
    "#            best_model = model\n",
    "#            best_result = final_score_final\n",
    "#            best_depth = depth\n",
    "#            best_est = est\n",
    "#print(\"Лучшая средняя оценка качества модели final:\", best_result, \"Глубина дерева:\", best_depth, \"Количество деревьев:\", best_est)            "
   ]
  },
  {
   "attachments": {
    "image-3.png": {
     "image/png": "[encoded data removed]"
    }
   },
   "cell_type": "markdown",
   "metadata": {},
   "source": [
    "![image-3.png](attachment:image-3.png)"
   ]
  },
  {
   "cell_type": "markdown",
   "metadata": {},
   "source": [
    "#### Модель линейной регрессии"
   ]
  },
  {
   "cell_type": "code",
   "execution_count": 28,
   "metadata": {},
   "outputs": [
    {
     "name": "stdout",
     "output_type": "stream",
     "text": [
      "Средняя оценка качества модели rougher: 7.155059220934684\n",
      "CPU times: user 794 ms, sys: 756 ms, total: 1.55 s\n",
      "Wall time: 1.53 s\n"
     ]
    }
   ],
   "source": [
    "%%time\n",
    "\n",
    "model = LinearRegression() # инициализируем модель LinearRegression\n",
    "\n",
    "#Посчитаем оценки rougher.output.recovery, вызвав функцию cross_value_score с пятью блоками\n",
    "scores_rougher = cross_val_score(model, features, target_rougher, cv=5, scoring=smap_scoring)\n",
    "final_score_rougher = sum(scores_rougher) / len(scores_rougher)\n",
    "\n",
    "print('Средняя оценка качества модели rougher:', final_score_rougher)"
   ]
  },
  {
   "cell_type": "code",
   "execution_count": 29,
   "metadata": {},
   "outputs": [
    {
     "name": "stdout",
     "output_type": "stream",
     "text": [
      "Средняя оценка качества модели final: 10.949978643522169\n",
      "CPU times: user 813 ms, sys: 780 ms, total: 1.59 s\n",
      "Wall time: 1.6 s\n"
     ]
    }
   ],
   "source": [
    "%%time\n",
    "\n",
    "model = LinearRegression() # инициализируем модель LinearRegression\n",
    "\n",
    "#Посчитаем оценки final.output.recovery, вызвав функцию cross_value_score с пятью блоками\n",
    "scores_final = cross_val_score(model, features, target_final, cv=5, scoring=smap_scoring)\n",
    "final_score_final = sum(scores_final) / len(scores_final)\n",
    "\n",
    "print('Средняя оценка качества модели final:', final_score_final)"
   ]
  },
  {
   "cell_type": "markdown",
   "metadata": {},
   "source": [
    "#### Выберем лучшую модель"
   ]
  },
  {
   "cell_type": "markdown",
   "metadata": {},
   "source": [
    "Лучшая модель - модель случайного леса:\n",
    "1. Средняя оценка качества модели rougher: 6.116662887345929. Глубина дерева: 5. Количество деревьев: 110\n",
    "2. Средняя оценка качества модели final: 8.806217760831814. Глубина дерева: 4. Количество деревьев: 140"
   ]
  },
  {
   "cell_type": "markdown",
   "metadata": {},
   "source": [
    "#### Проверим модель на тестовой выборке"
   ]
  },
  {
   "cell_type": "code",
   "execution_count": 23,
   "metadata": {},
   "outputs": [],
   "source": [
    "#Удалим столбец date\n",
    "data_recovery_test = data_recovery_test.drop(['date'], axis = 1)"
   ]
  },
  {
   "cell_type": "code",
   "execution_count": 24,
   "metadata": {},
   "outputs": [
    {
     "name": "stdout",
     "output_type": "stream",
     "text": [
      "Средняя оценка качества модели rougher: 8.080868961918116\n",
      "Средняя оценка качества модели final: 9.865891240875154\n"
     ]
    }
   ],
   "source": [
    "#Для этого сначала выделим целевой признак и оставшиеся признаки и сохраним их в переменные\n",
    "target_rougher_test = data_recovery_test['rougher.output.recovery']\n",
    "target_final_test = data_recovery_test['final.output.recovery']\n",
    "test_features = data_recovery_test.drop(['rougher.output.recovery', 'final.output.recovery'], axis=1)\n",
    "\n",
    "#Чтобы предупреждение не появлялось\n",
    "pd.options.mode.chained_assignment = None\n",
    "\n",
    "#Масштабирование данных\n",
    "# feature_scaler = StandardScaler() \n",
    "test_features = feature_scaler.transform(test_features) # Скалер нельзя обучать на тестовых данных.\n",
    "\n",
    "model = RandomForestRegressor(max_depth=5, n_estimators=110, random_state=12345) # инициализируем модель RandomForestRegressor\n",
    "\n",
    "model.fit(features, target_rougher)\n",
    "rougher_predicted = model.predict(test_features)\n",
    "#Посчтиаем sMAPE для тестовой выборке\n",
    "result_rougher = smape(target_rougher_test, rougher_predicted)\n",
    "\n",
    "model = RandomForestRegressor(max_depth=4, n_estimators=140, random_state=12345)\n",
    "\n",
    "model.fit(features, target_final)\n",
    "final_predicted = model.predict(test_features)\n",
    "#Посчтиаем sMAPE для тестовой выборке\n",
    "result_final = smape(target_final_test, final_predicted)\n",
    "print('Средняя оценка качества модели rougher:', result_rougher)\n",
    "print('Средняя оценка качества модели final:', result_final)"
   ]
  },
  {
   "cell_type": "markdown",
   "metadata": {},
   "source": [
    "#### Посчитаем итоговое sMAPE"
   ]
  },
  {
   "cell_type": "code",
   "execution_count": 25,
   "metadata": {
    "scrolled": true
   },
   "outputs": [
    {
     "name": "stdout",
     "output_type": "stream",
     "text": [
      "Итоговое sMAPE 9.419635671135895\n"
     ]
    }
   ],
   "source": [
    "print('Итоговое sMAPE', 0.25 * result_rougher + 0.75 * result_final)"
   ]
  },
  {
   "cell_type": "markdown",
   "metadata": {},
   "source": [
    "#### Сравним с константной моделью DummyRegressor"
   ]
  },
  {
   "cell_type": "code",
   "execution_count": 26,
   "metadata": {},
   "outputs": [
    {
     "name": "stdout",
     "output_type": "stream",
     "text": [
      "Средняя оценка качества модели DummyRegressor rougher: 9.034877548711755\n",
      "Средняя оценка качества модели DummyRegressor final: 10.072893443245594\n",
      "Итоговое sMAPE 9.813389469612133\n"
     ]
    }
   ],
   "source": [
    "dummy_regr = DummyRegressor(strategy=\"mean\")\n",
    "\n",
    "dummy_regr.fit(features, target_rougher)\n",
    "dummy_rougher_predicted = dummy_regr.predict(test_features)\n",
    "dummy_result_rougher = smape(target_rougher_test, dummy_rougher_predicted)\n",
    "\n",
    "dummy_regr.fit(features, target_final)\n",
    "dummy_final_predicted = dummy_regr.predict(test_features)\n",
    "dummy_result_final = smape(target_final_test, dummy_final_predicted)\n",
    "\n",
    "print('Средняя оценка качества модели DummyRegressor rougher:', dummy_result_rougher)\n",
    "print('Средняя оценка качества модели DummyRegressor final:', dummy_result_final)\n",
    "\n",
    "print('Итоговое sMAPE', 0.25 * dummy_result_rougher + 0.75 * dummy_result_final)"
   ]
  },
  {
   "cell_type": "markdown",
   "metadata": {},
   "source": [
    "**Вывод**\n",
    "1. Написали функцию для вычисления итоговой sMAPE\n",
    "2. Обучили разные модели и оценили их качество кросс-валидацией: модели дерева решений, случайного леса и линейной регрессии.\n",
    "3. Выбрали лучшую модель - случайный лес.\n",
    "        - Средняя оценка качества модели rougher: 6.116662887345929. Глубина дерева: 5. Количество деревьев: 110\n",
    "        - Средняя оценка качества модели final: 8.806217760831814. Глубина дерева: 4. Количество деревьев: 140\n",
    "4. Посчитали итоговый sMAPE - 9.874883111927344\n",
    "5. Сравнили с константной моделью DummyRegressor\n",
    "        - Средняя оценка качества модели DummyRegressor rougher: 9.034877548711755\n",
    "        - Средняя оценка качества модели DummyRegressor final: 10.072893443245594\n",
    "        - Итоговое sMAPE 9.813389469612133"
   ]
  },
  {
   "cell_type": "markdown",
   "metadata": {},
   "source": [
    "## Чек-лист готовности проекта"
   ]
  },
  {
   "cell_type": "markdown",
   "metadata": {},
   "source": [
    "- [x]  Jupyter Notebook открыт\n",
    "- [x]  Весь код выполняется без ошибок\n",
    "- [x]  Ячейки с кодом расположены в порядке выполнения\n",
    "- [x]  Выполнен шаг 1: данные подготовлены\n",
    "    - [x]  Проверена формула вычисления эффективности обогащения\n",
    "    - [x]  Проанализированы признаки, недоступные в тестовой выборке\n",
    "    - [x]  Проведена предобработка данных\n",
    "- [x]  Выполнен шаг 2: данные проанализированы\n",
    "    - [x]  Исследовано изменение концентрации элементов на каждом этапе\n",
    "    - [x]  Проанализированы распределения размеров гранул на обучающей и тестовой выборках\n",
    "    - [x]  Исследованы суммарные концентрации\n",
    "- [x]  Выполнен шаг 3: построена модель прогнозирования\n",
    "    - [x]  Написана функция для вычисления итогового *sMAPE*\n",
    "    - [x]  Обучено и проверено несколько моделей\n",
    "    - [x]  Выбрана лучшая модель, её качество проверено на тестовой выборке"
   ]
  }
 ],
 "metadata": {
  "ExecuteTimeLog": [
   {
    "duration": 354,
    "start_time": "2023-03-28T07:02:37.477Z"
   },
   {
    "duration": 2840,
    "start_time": "2023-03-28T07:24:08.472Z"
   },
   {
    "duration": 229,
    "start_time": "2023-03-28T07:25:25.383Z"
   },
   {
    "duration": 6,
    "start_time": "2023-03-28T09:05:41.699Z"
   },
   {
    "duration": 222,
    "start_time": "2023-03-28T12:18:28.862Z"
   },
   {
    "duration": 18,
    "start_time": "2023-03-28T12:50:17.578Z"
   },
   {
    "duration": 630,
    "start_time": "2023-03-28T13:23:27.479Z"
   },
   {
    "duration": 7,
    "start_time": "2023-03-28T13:24:44.619Z"
   },
   {
    "duration": 88,
    "start_time": "2023-03-28T13:37:23.734Z"
   },
   {
    "duration": 228,
    "start_time": "2023-03-28T13:38:51.862Z"
   },
   {
    "duration": 89,
    "start_time": "2023-03-28T14:24:12.284Z"
   },
   {
    "duration": 11,
    "start_time": "2023-03-28T14:27:23.541Z"
   },
   {
    "duration": 9,
    "start_time": "2023-03-28T14:27:48.030Z"
   },
   {
    "duration": 47,
    "start_time": "2023-03-28T21:12:13.689Z"
   },
   {
    "duration": 1397,
    "start_time": "2023-03-28T21:13:07.881Z"
   },
   {
    "duration": 2991,
    "start_time": "2023-03-28T21:13:09.279Z"
   },
   {
    "duration": 241,
    "start_time": "2023-03-28T21:13:12.272Z"
   },
   {
    "duration": 103,
    "start_time": "2023-03-28T21:13:12.516Z"
   },
   {
    "duration": 297,
    "start_time": "2023-03-28T21:13:12.621Z"
   },
   {
    "duration": 7,
    "start_time": "2023-03-28T21:13:12.920Z"
   },
   {
    "duration": 111,
    "start_time": "2023-03-28T21:13:12.929Z"
   },
   {
    "duration": 8,
    "start_time": "2023-03-28T21:13:13.041Z"
   },
   {
    "duration": 22,
    "start_time": "2023-03-28T21:13:13.051Z"
   },
   {
    "duration": 256,
    "start_time": "2023-03-28T21:13:13.075Z"
   },
   {
    "duration": 1563,
    "start_time": "2023-03-28T21:15:29.583Z"
   },
   {
    "duration": 684,
    "start_time": "2023-03-28T21:15:54.888Z"
   },
   {
    "duration": 616,
    "start_time": "2023-03-28T21:17:47.211Z"
   },
   {
    "duration": 1986,
    "start_time": "2023-03-28T21:24:48.003Z"
   },
   {
    "duration": 2236,
    "start_time": "2023-03-28T21:25:39.300Z"
   },
   {
    "duration": 400,
    "start_time": "2023-03-28T21:36:45.077Z"
   },
   {
    "duration": 403,
    "start_time": "2023-03-28T21:37:55.026Z"
   },
   {
    "duration": 700,
    "start_time": "2023-03-28T21:58:19.483Z"
   },
   {
    "duration": 1052,
    "start_time": "2023-03-28T21:58:48.308Z"
   },
   {
    "duration": 878,
    "start_time": "2023-03-28T21:59:24.619Z"
   },
   {
    "duration": 703,
    "start_time": "2023-03-28T21:59:40.719Z"
   },
   {
    "duration": 7,
    "start_time": "2023-03-29T15:01:59.332Z"
   },
   {
    "duration": 2,
    "start_time": "2023-03-29T15:40:49.369Z"
   },
   {
    "duration": 52,
    "start_time": "2023-03-29T19:46:38.499Z"
   },
   {
    "duration": 1600,
    "start_time": "2023-03-29T20:18:07.898Z"
   },
   {
    "duration": 3103,
    "start_time": "2023-03-29T20:18:09.500Z"
   },
   {
    "duration": 318,
    "start_time": "2023-03-29T20:18:12.605Z"
   },
   {
    "duration": 104,
    "start_time": "2023-03-29T20:18:12.926Z"
   },
   {
    "duration": 300,
    "start_time": "2023-03-29T20:18:13.031Z"
   },
   {
    "duration": 9,
    "start_time": "2023-03-29T20:18:13.333Z"
   },
   {
    "duration": 133,
    "start_time": "2023-03-29T20:18:13.344Z"
   },
   {
    "duration": 15,
    "start_time": "2023-03-29T20:18:13.478Z"
   },
   {
    "duration": 7,
    "start_time": "2023-03-29T20:18:13.494Z"
   },
   {
    "duration": 2721,
    "start_time": "2023-03-29T20:18:13.503Z"
   },
   {
    "duration": 517,
    "start_time": "2023-03-29T20:18:16.226Z"
   },
   {
    "duration": 488,
    "start_time": "2023-03-29T20:18:16.744Z"
   },
   {
    "duration": 984,
    "start_time": "2023-03-29T20:18:17.235Z"
   },
   {
    "duration": 3,
    "start_time": "2023-03-29T20:18:18.221Z"
   },
   {
    "duration": 19,
    "start_time": "2023-03-29T20:18:18.226Z"
   },
   {
    "duration": 121,
    "start_time": "2023-03-29T20:20:51.925Z"
   },
   {
    "duration": 10,
    "start_time": "2023-03-29T20:21:39.328Z"
   },
   {
    "duration": 1374,
    "start_time": "2023-03-29T20:21:46.704Z"
   },
   {
    "duration": 718,
    "start_time": "2023-03-29T20:21:48.080Z"
   },
   {
    "duration": 304,
    "start_time": "2023-03-29T20:21:48.800Z"
   },
   {
    "duration": 137,
    "start_time": "2023-03-29T20:21:49.106Z"
   },
   {
    "duration": 283,
    "start_time": "2023-03-29T20:21:49.245Z"
   },
   {
    "duration": 8,
    "start_time": "2023-03-29T20:21:49.529Z"
   },
   {
    "duration": 131,
    "start_time": "2023-03-29T20:21:49.538Z"
   },
   {
    "duration": 18,
    "start_time": "2023-03-29T20:21:49.671Z"
   },
   {
    "duration": 13,
    "start_time": "2023-03-29T20:21:49.691Z"
   },
   {
    "duration": 2777,
    "start_time": "2023-03-29T20:21:49.707Z"
   },
   {
    "duration": 497,
    "start_time": "2023-03-29T20:21:52.488Z"
   },
   {
    "duration": 500,
    "start_time": "2023-03-29T20:21:52.987Z"
   },
   {
    "duration": 941,
    "start_time": "2023-03-29T20:21:53.489Z"
   },
   {
    "duration": 3,
    "start_time": "2023-03-29T20:21:54.432Z"
   },
   {
    "duration": 33,
    "start_time": "2023-03-29T20:21:54.437Z"
   },
   {
    "duration": 109,
    "start_time": "2023-03-29T21:30:57.854Z"
   },
   {
    "duration": 1375,
    "start_time": "2023-03-29T21:31:05.455Z"
   },
   {
    "duration": 705,
    "start_time": "2023-03-29T21:31:06.832Z"
   },
   {
    "duration": 289,
    "start_time": "2023-03-29T21:31:07.539Z"
   },
   {
    "duration": 101,
    "start_time": "2023-03-29T21:31:07.831Z"
   },
   {
    "duration": 280,
    "start_time": "2023-03-29T21:31:07.934Z"
   },
   {
    "duration": 7,
    "start_time": "2023-03-29T21:31:08.216Z"
   },
   {
    "duration": 122,
    "start_time": "2023-03-29T21:31:08.225Z"
   },
   {
    "duration": 9,
    "start_time": "2023-03-29T21:31:08.349Z"
   },
   {
    "duration": 6,
    "start_time": "2023-03-29T21:31:08.360Z"
   },
   {
    "duration": 2658,
    "start_time": "2023-03-29T21:31:08.368Z"
   },
   {
    "duration": 464,
    "start_time": "2023-03-29T21:31:11.027Z"
   },
   {
    "duration": 470,
    "start_time": "2023-03-29T21:31:11.493Z"
   },
   {
    "duration": 919,
    "start_time": "2023-03-29T21:31:11.965Z"
   },
   {
    "duration": 3,
    "start_time": "2023-03-29T21:31:12.887Z"
   },
   {
    "duration": 367,
    "start_time": "2023-03-29T21:31:12.891Z"
   },
   {
    "duration": 1397,
    "start_time": "2023-03-29T21:36:06.487Z"
   },
   {
    "duration": 738,
    "start_time": "2023-03-29T21:36:07.887Z"
   },
   {
    "duration": 302,
    "start_time": "2023-03-29T21:36:08.626Z"
   },
   {
    "duration": 121,
    "start_time": "2023-03-29T21:36:08.930Z"
   },
   {
    "duration": 438,
    "start_time": "2023-03-29T21:36:09.054Z"
   },
   {
    "duration": 11,
    "start_time": "2023-03-29T21:36:09.494Z"
   },
   {
    "duration": 132,
    "start_time": "2023-03-29T21:36:09.507Z"
   },
   {
    "duration": 11,
    "start_time": "2023-03-29T21:36:09.641Z"
   },
   {
    "duration": 9,
    "start_time": "2023-03-29T21:36:09.653Z"
   },
   {
    "duration": 2920,
    "start_time": "2023-03-29T21:36:09.664Z"
   },
   {
    "duration": 491,
    "start_time": "2023-03-29T21:36:12.587Z"
   },
   {
    "duration": 568,
    "start_time": "2023-03-29T21:36:13.080Z"
   },
   {
    "duration": 1100,
    "start_time": "2023-03-29T21:36:13.651Z"
   },
   {
    "duration": 4,
    "start_time": "2023-03-29T21:36:14.753Z"
   },
   {
    "duration": 77,
    "start_time": "2023-03-29T21:36:14.759Z"
   },
   {
    "duration": 1495,
    "start_time": "2023-03-29T22:13:18.282Z"
   },
   {
    "duration": 818,
    "start_time": "2023-03-29T22:13:19.779Z"
   },
   {
    "duration": 363,
    "start_time": "2023-03-29T22:13:20.603Z"
   },
   {
    "duration": 108,
    "start_time": "2023-03-29T22:13:20.969Z"
   },
   {
    "duration": 326,
    "start_time": "2023-03-29T22:13:21.092Z"
   },
   {
    "duration": 8,
    "start_time": "2023-03-29T22:13:21.420Z"
   },
   {
    "duration": 130,
    "start_time": "2023-03-29T22:13:21.430Z"
   },
   {
    "duration": 9,
    "start_time": "2023-03-29T22:13:21.562Z"
   },
   {
    "duration": 26,
    "start_time": "2023-03-29T22:13:21.572Z"
   },
   {
    "duration": 3108,
    "start_time": "2023-03-29T22:13:21.603Z"
   },
   {
    "duration": 582,
    "start_time": "2023-03-29T22:13:24.714Z"
   },
   {
    "duration": 640,
    "start_time": "2023-03-29T22:13:25.302Z"
   },
   {
    "duration": 1057,
    "start_time": "2023-03-29T22:13:25.944Z"
   },
   {
    "duration": 3,
    "start_time": "2023-03-29T22:13:27.003Z"
   },
   {
    "duration": 149,
    "start_time": "2023-03-29T22:13:27.010Z"
   },
   {
    "duration": 1489,
    "start_time": "2023-03-29T22:14:34.354Z"
   },
   {
    "duration": 761,
    "start_time": "2023-03-29T22:14:35.845Z"
   },
   {
    "duration": 308,
    "start_time": "2023-03-29T22:14:36.608Z"
   },
   {
    "duration": 99,
    "start_time": "2023-03-29T22:14:36.919Z"
   },
   {
    "duration": 294,
    "start_time": "2023-03-29T22:14:37.020Z"
   },
   {
    "duration": 8,
    "start_time": "2023-03-29T22:14:37.316Z"
   },
   {
    "duration": 125,
    "start_time": "2023-03-29T22:14:37.326Z"
   },
   {
    "duration": 9,
    "start_time": "2023-03-29T22:14:37.453Z"
   },
   {
    "duration": 32,
    "start_time": "2023-03-29T22:14:37.464Z"
   },
   {
    "duration": 2782,
    "start_time": "2023-03-29T22:14:37.500Z"
   },
   {
    "duration": 607,
    "start_time": "2023-03-29T22:14:40.287Z"
   },
   {
    "duration": 530,
    "start_time": "2023-03-29T22:14:40.905Z"
   },
   {
    "duration": 966,
    "start_time": "2023-03-29T22:14:41.437Z"
   },
   {
    "duration": 3,
    "start_time": "2023-03-29T22:14:42.405Z"
   },
   {
    "duration": 135,
    "start_time": "2023-03-29T22:14:42.410Z"
   },
   {
    "duration": 20,
    "start_time": "2023-03-29T22:21:25.928Z"
   },
   {
    "duration": 1387,
    "start_time": "2023-03-29T22:21:54.384Z"
   },
   {
    "duration": 754,
    "start_time": "2023-03-29T22:21:55.773Z"
   },
   {
    "duration": 293,
    "start_time": "2023-03-29T22:21:56.529Z"
   },
   {
    "duration": 103,
    "start_time": "2023-03-29T22:21:56.824Z"
   },
   {
    "duration": 276,
    "start_time": "2023-03-29T22:21:56.929Z"
   },
   {
    "duration": 7,
    "start_time": "2023-03-29T22:21:57.208Z"
   },
   {
    "duration": 140,
    "start_time": "2023-03-29T22:21:57.217Z"
   },
   {
    "duration": 11,
    "start_time": "2023-03-29T22:21:57.359Z"
   },
   {
    "duration": 7,
    "start_time": "2023-03-29T22:21:57.372Z"
   },
   {
    "duration": 2690,
    "start_time": "2023-03-29T22:21:57.389Z"
   },
   {
    "duration": 529,
    "start_time": "2023-03-29T22:22:00.081Z"
   },
   {
    "duration": 568,
    "start_time": "2023-03-29T22:22:00.612Z"
   },
   {
    "duration": 983,
    "start_time": "2023-03-29T22:22:01.182Z"
   },
   {
    "duration": 4,
    "start_time": "2023-03-29T22:22:02.167Z"
   },
   {
    "duration": 123,
    "start_time": "2023-03-29T22:22:02.174Z"
   },
   {
    "duration": 125,
    "start_time": "2023-03-29T22:24:16.351Z"
   },
   {
    "duration": 14,
    "start_time": "2023-03-29T22:24:45.157Z"
   },
   {
    "duration": 1436,
    "start_time": "2023-03-29T22:24:50.149Z"
   },
   {
    "duration": 764,
    "start_time": "2023-03-29T22:24:51.587Z"
   },
   {
    "duration": 289,
    "start_time": "2023-03-29T22:24:52.353Z"
   },
   {
    "duration": 95,
    "start_time": "2023-03-29T22:24:52.645Z"
   },
   {
    "duration": 307,
    "start_time": "2023-03-29T22:24:52.742Z"
   },
   {
    "duration": 7,
    "start_time": "2023-03-29T22:24:53.051Z"
   },
   {
    "duration": 142,
    "start_time": "2023-03-29T22:24:53.060Z"
   },
   {
    "duration": 9,
    "start_time": "2023-03-29T22:24:53.204Z"
   },
   {
    "duration": 8,
    "start_time": "2023-03-29T22:24:53.214Z"
   },
   {
    "duration": 2840,
    "start_time": "2023-03-29T22:24:53.224Z"
   },
   {
    "duration": 539,
    "start_time": "2023-03-29T22:24:56.066Z"
   },
   {
    "duration": 523,
    "start_time": "2023-03-29T22:24:56.607Z"
   },
   {
    "duration": 988,
    "start_time": "2023-03-29T22:24:57.131Z"
   },
   {
    "duration": 4,
    "start_time": "2023-03-29T22:24:58.120Z"
   },
   {
    "duration": 25,
    "start_time": "2023-03-29T22:24:58.125Z"
   },
   {
    "duration": 93,
    "start_time": "2023-03-29T22:24:58.152Z"
   },
   {
    "duration": 1494,
    "start_time": "2023-03-30T07:42:55.005Z"
   },
   {
    "duration": 2797,
    "start_time": "2023-03-30T07:42:56.501Z"
   },
   {
    "duration": 249,
    "start_time": "2023-03-30T07:42:59.300Z"
   },
   {
    "duration": 84,
    "start_time": "2023-03-30T07:42:59.551Z"
   },
   {
    "duration": 250,
    "start_time": "2023-03-30T07:42:59.636Z"
   },
   {
    "duration": 7,
    "start_time": "2023-03-30T07:42:59.888Z"
   },
   {
    "duration": 120,
    "start_time": "2023-03-30T07:42:59.896Z"
   },
   {
    "duration": 10,
    "start_time": "2023-03-30T07:43:00.018Z"
   },
   {
    "duration": 28,
    "start_time": "2023-03-30T07:43:00.030Z"
   },
   {
    "duration": 2200,
    "start_time": "2023-03-30T07:43:00.061Z"
   },
   {
    "duration": 423,
    "start_time": "2023-03-30T07:43:02.263Z"
   },
   {
    "duration": 438,
    "start_time": "2023-03-30T07:43:02.688Z"
   },
   {
    "duration": 764,
    "start_time": "2023-03-30T07:43:03.127Z"
   },
   {
    "duration": 4,
    "start_time": "2023-03-30T07:43:03.892Z"
   },
   {
    "duration": 36,
    "start_time": "2023-03-30T07:43:03.897Z"
   },
   {
    "duration": 96,
    "start_time": "2023-03-30T07:43:03.935Z"
   },
   {
    "duration": 67,
    "start_time": "2023-03-30T07:45:31.672Z"
   },
   {
    "duration": 65,
    "start_time": "2023-03-30T07:47:50.106Z"
   },
   {
    "duration": 1293,
    "start_time": "2023-03-30T07:47:56.108Z"
   },
   {
    "duration": 634,
    "start_time": "2023-03-30T07:47:57.403Z"
   },
   {
    "duration": 273,
    "start_time": "2023-03-30T07:47:58.039Z"
   },
   {
    "duration": 88,
    "start_time": "2023-03-30T07:47:58.314Z"
   },
   {
    "duration": 261,
    "start_time": "2023-03-30T07:47:58.404Z"
   },
   {
    "duration": 6,
    "start_time": "2023-03-30T07:47:58.672Z"
   },
   {
    "duration": 122,
    "start_time": "2023-03-30T07:47:58.679Z"
   },
   {
    "duration": 9,
    "start_time": "2023-03-30T07:47:58.802Z"
   },
   {
    "duration": 9,
    "start_time": "2023-03-30T07:47:58.812Z"
   },
   {
    "duration": 2128,
    "start_time": "2023-03-30T07:47:58.823Z"
   },
   {
    "duration": 384,
    "start_time": "2023-03-30T07:48:00.953Z"
   },
   {
    "duration": 416,
    "start_time": "2023-03-30T07:48:01.339Z"
   },
   {
    "duration": 778,
    "start_time": "2023-03-30T07:48:01.757Z"
   },
   {
    "duration": 3,
    "start_time": "2023-03-30T07:48:02.536Z"
   },
   {
    "duration": 32,
    "start_time": "2023-03-30T07:48:02.540Z"
   },
   {
    "duration": 82,
    "start_time": "2023-03-30T07:48:02.573Z"
   },
   {
    "duration": 67,
    "start_time": "2023-03-30T07:50:18.567Z"
   },
   {
    "duration": 66,
    "start_time": "2023-03-30T07:51:30.105Z"
   },
   {
    "duration": 85,
    "start_time": "2023-03-30T07:51:52.061Z"
   },
   {
    "duration": 236,
    "start_time": "2023-03-30T08:01:17.985Z"
   },
   {
    "duration": 1351,
    "start_time": "2023-03-30T08:02:03.344Z"
   },
   {
    "duration": 676,
    "start_time": "2023-03-30T08:02:04.697Z"
   },
   {
    "duration": 238,
    "start_time": "2023-03-30T08:02:05.375Z"
   },
   {
    "duration": 84,
    "start_time": "2023-03-30T08:02:05.615Z"
   },
   {
    "duration": 234,
    "start_time": "2023-03-30T08:02:05.700Z"
   },
   {
    "duration": 6,
    "start_time": "2023-03-30T08:02:05.936Z"
   },
   {
    "duration": 148,
    "start_time": "2023-03-30T08:02:05.943Z"
   },
   {
    "duration": 8,
    "start_time": "2023-03-30T08:02:06.092Z"
   },
   {
    "duration": 11,
    "start_time": "2023-03-30T08:02:06.101Z"
   },
   {
    "duration": 2292,
    "start_time": "2023-03-30T08:02:06.114Z"
   },
   {
    "duration": 417,
    "start_time": "2023-03-30T08:02:08.408Z"
   },
   {
    "duration": 435,
    "start_time": "2023-03-30T08:02:08.826Z"
   },
   {
    "duration": 813,
    "start_time": "2023-03-30T08:02:09.263Z"
   },
   {
    "duration": 3,
    "start_time": "2023-03-30T08:02:10.077Z"
   },
   {
    "duration": 17,
    "start_time": "2023-03-30T08:02:10.082Z"
   },
   {
    "duration": 153,
    "start_time": "2023-03-30T08:02:10.101Z"
   },
   {
    "duration": 3,
    "start_time": "2023-03-30T08:37:23.723Z"
   },
   {
    "duration": 83,
    "start_time": "2023-03-30T09:13:14.126Z"
   },
   {
    "duration": 1338,
    "start_time": "2023-03-30T09:13:28.170Z"
   },
   {
    "duration": 655,
    "start_time": "2023-03-30T09:13:29.510Z"
   },
   {
    "duration": 249,
    "start_time": "2023-03-30T09:13:30.166Z"
   },
   {
    "duration": 88,
    "start_time": "2023-03-30T09:13:30.418Z"
   },
   {
    "duration": 223,
    "start_time": "2023-03-30T09:13:30.507Z"
   },
   {
    "duration": 6,
    "start_time": "2023-03-30T09:13:30.731Z"
   },
   {
    "duration": 51,
    "start_time": "2023-03-30T09:13:30.738Z"
   },
   {
    "duration": 120,
    "start_time": "2023-03-30T09:13:30.790Z"
   },
   {
    "duration": 9,
    "start_time": "2023-03-30T09:13:30.911Z"
   },
   {
    "duration": 44,
    "start_time": "2023-03-30T09:13:30.922Z"
   },
   {
    "duration": 2238,
    "start_time": "2023-03-30T09:13:30.967Z"
   },
   {
    "duration": 396,
    "start_time": "2023-03-30T09:13:33.207Z"
   },
   {
    "duration": 424,
    "start_time": "2023-03-30T09:13:33.605Z"
   },
   {
    "duration": 856,
    "start_time": "2023-03-30T09:13:34.030Z"
   },
   {
    "duration": 3,
    "start_time": "2023-03-30T09:13:34.888Z"
   },
   {
    "duration": 16,
    "start_time": "2023-03-30T09:13:34.892Z"
   },
   {
    "duration": 2357,
    "start_time": "2023-03-30T09:13:34.909Z"
   },
   {
    "duration": 13,
    "start_time": "2023-03-30T09:18:49.290Z"
   },
   {
    "duration": 2281,
    "start_time": "2023-03-30T09:18:52.414Z"
   },
   {
    "duration": 1276,
    "start_time": "2023-03-30T09:19:01.529Z"
   },
   {
    "duration": 677,
    "start_time": "2023-03-30T09:19:02.807Z"
   },
   {
    "duration": 250,
    "start_time": "2023-03-30T09:19:03.486Z"
   },
   {
    "duration": 80,
    "start_time": "2023-03-30T09:19:03.738Z"
   },
   {
    "duration": 236,
    "start_time": "2023-03-30T09:19:03.820Z"
   },
   {
    "duration": 17,
    "start_time": "2023-03-30T09:19:04.057Z"
   },
   {
    "duration": 4,
    "start_time": "2023-03-30T09:19:04.076Z"
   },
   {
    "duration": 106,
    "start_time": "2023-03-30T09:19:04.081Z"
   },
   {
    "duration": 8,
    "start_time": "2023-03-30T09:19:04.188Z"
   },
   {
    "duration": 6,
    "start_time": "2023-03-30T09:19:04.198Z"
   },
   {
    "duration": 2292,
    "start_time": "2023-03-30T09:19:04.205Z"
   },
   {
    "duration": 390,
    "start_time": "2023-03-30T09:19:06.498Z"
   },
   {
    "duration": 434,
    "start_time": "2023-03-30T09:19:06.890Z"
   },
   {
    "duration": 764,
    "start_time": "2023-03-30T09:19:07.326Z"
   },
   {
    "duration": 3,
    "start_time": "2023-03-30T09:19:08.092Z"
   },
   {
    "duration": 27,
    "start_time": "2023-03-30T09:19:08.096Z"
   },
   {
    "duration": 148,
    "start_time": "2023-03-30T09:19:08.125Z"
   },
   {
    "duration": 40,
    "start_time": "2023-03-30T09:20:30.572Z"
   },
   {
    "duration": 1314,
    "start_time": "2023-03-30T09:21:32.930Z"
   },
   {
    "duration": 630,
    "start_time": "2023-03-30T09:21:34.246Z"
   },
   {
    "duration": 279,
    "start_time": "2023-03-30T09:21:34.878Z"
   },
   {
    "duration": 89,
    "start_time": "2023-03-30T09:21:35.159Z"
   },
   {
    "duration": 257,
    "start_time": "2023-03-30T09:21:35.250Z"
   },
   {
    "duration": 7,
    "start_time": "2023-03-30T09:21:35.509Z"
   },
   {
    "duration": 11,
    "start_time": "2023-03-30T09:21:35.518Z"
   },
   {
    "duration": 113,
    "start_time": "2023-03-30T09:21:35.530Z"
   },
   {
    "duration": 9,
    "start_time": "2023-03-30T09:21:35.644Z"
   },
   {
    "duration": 22,
    "start_time": "2023-03-30T09:21:35.655Z"
   },
   {
    "duration": 2448,
    "start_time": "2023-03-30T09:21:35.679Z"
   },
   {
    "duration": 420,
    "start_time": "2023-03-30T09:21:38.128Z"
   },
   {
    "duration": 433,
    "start_time": "2023-03-30T09:21:38.550Z"
   },
   {
    "duration": 832,
    "start_time": "2023-03-30T09:21:38.984Z"
   },
   {
    "duration": 3,
    "start_time": "2023-03-30T09:21:39.818Z"
   },
   {
    "duration": 35,
    "start_time": "2023-03-30T09:21:39.822Z"
   },
   {
    "duration": 1416,
    "start_time": "2023-03-30T09:21:39.859Z"
   },
   {
    "duration": 5082,
    "start_time": "2023-03-30T09:25:01.515Z"
   },
   {
    "duration": 124,
    "start_time": "2023-03-30T12:08:56.522Z"
   },
   {
    "duration": 1367,
    "start_time": "2023-03-30T12:09:04.974Z"
   },
   {
    "duration": 635,
    "start_time": "2023-03-30T12:09:06.343Z"
   },
   {
    "duration": 257,
    "start_time": "2023-03-30T12:09:06.980Z"
   },
   {
    "duration": 77,
    "start_time": "2023-03-30T12:09:07.238Z"
   },
   {
    "duration": 238,
    "start_time": "2023-03-30T12:09:07.317Z"
   },
   {
    "duration": 15,
    "start_time": "2023-03-30T12:09:07.557Z"
   },
   {
    "duration": 2,
    "start_time": "2023-03-30T12:09:07.574Z"
   },
   {
    "duration": 99,
    "start_time": "2023-03-30T12:09:07.578Z"
   },
   {
    "duration": 8,
    "start_time": "2023-03-30T12:09:07.678Z"
   },
   {
    "duration": 12,
    "start_time": "2023-03-30T12:09:07.688Z"
   },
   {
    "duration": 2147,
    "start_time": "2023-03-30T12:09:07.701Z"
   },
   {
    "duration": 378,
    "start_time": "2023-03-30T12:09:09.849Z"
   },
   {
    "duration": 383,
    "start_time": "2023-03-30T12:09:10.228Z"
   },
   {
    "duration": 755,
    "start_time": "2023-03-30T12:09:10.612Z"
   },
   {
    "duration": 4,
    "start_time": "2023-03-30T12:09:11.368Z"
   },
   {
    "duration": 41,
    "start_time": "2023-03-30T12:09:11.373Z"
   },
   {
    "duration": 40,
    "start_time": "2023-03-30T12:09:11.416Z"
   },
   {
    "duration": 4767,
    "start_time": "2023-03-30T12:09:11.458Z"
   },
   {
    "duration": 2252,
    "start_time": "2023-03-30T12:09:16.227Z"
   },
   {
    "duration": 4725,
    "start_time": "2023-03-30T12:13:07.002Z"
   },
   {
    "duration": 4734,
    "start_time": "2023-03-30T12:13:25.649Z"
   },
   {
    "duration": 5147,
    "start_time": "2023-03-30T12:43:36.384Z"
   },
   {
    "duration": 474,
    "start_time": "2023-03-30T13:26:06.945Z"
   },
   {
    "duration": 5210,
    "start_time": "2023-03-30T13:27:16.940Z"
   },
   {
    "duration": 4761,
    "start_time": "2023-03-30T13:29:29.220Z"
   },
   {
    "duration": 3,
    "start_time": "2023-03-30T13:55:56.485Z"
   },
   {
    "duration": 224,
    "start_time": "2023-03-30T14:27:18.746Z"
   },
   {
    "duration": 5020,
    "start_time": "2023-03-30T14:43:07.298Z"
   },
   {
    "duration": 4793,
    "start_time": "2023-03-30T14:44:41.049Z"
   },
   {
    "duration": 4590,
    "start_time": "2023-03-30T14:46:27.117Z"
   },
   {
    "duration": 20,
    "start_time": "2023-03-30T15:02:47.119Z"
   },
   {
    "duration": 1912,
    "start_time": "2023-03-30T15:03:41.593Z"
   },
   {
    "duration": 770,
    "start_time": "2023-03-30T15:03:43.508Z"
   },
   {
    "duration": 249,
    "start_time": "2023-03-30T15:03:44.283Z"
   },
   {
    "duration": 82,
    "start_time": "2023-03-30T15:03:44.533Z"
   },
   {
    "duration": 282,
    "start_time": "2023-03-30T15:03:44.617Z"
   },
   {
    "duration": 8,
    "start_time": "2023-03-30T15:03:44.901Z"
   },
   {
    "duration": 4,
    "start_time": "2023-03-30T15:03:44.911Z"
   },
   {
    "duration": 138,
    "start_time": "2023-03-30T15:03:44.917Z"
   },
   {
    "duration": 8,
    "start_time": "2023-03-30T15:03:45.057Z"
   },
   {
    "duration": 57,
    "start_time": "2023-03-30T15:03:45.066Z"
   },
   {
    "duration": 2669,
    "start_time": "2023-03-30T15:03:45.124Z"
   },
   {
    "duration": 466,
    "start_time": "2023-03-30T15:03:47.795Z"
   },
   {
    "duration": 495,
    "start_time": "2023-03-30T15:03:48.263Z"
   },
   {
    "duration": 899,
    "start_time": "2023-03-30T15:03:48.761Z"
   },
   {
    "duration": 10,
    "start_time": "2023-03-30T15:03:49.662Z"
   },
   {
    "duration": 29,
    "start_time": "2023-03-30T15:03:49.675Z"
   },
   {
    "duration": 38,
    "start_time": "2023-03-30T15:03:49.709Z"
   },
   {
    "duration": 5525,
    "start_time": "2023-03-30T15:03:49.748Z"
   },
   {
    "duration": 5483,
    "start_time": "2023-03-30T15:03:55.275Z"
   },
   {
    "duration": 1315,
    "start_time": "2023-03-30T15:33:03.813Z"
   },
   {
    "duration": 690,
    "start_time": "2023-03-30T15:33:05.130Z"
   },
   {
    "duration": 304,
    "start_time": "2023-03-30T15:33:05.822Z"
   },
   {
    "duration": 101,
    "start_time": "2023-03-30T15:33:06.129Z"
   },
   {
    "duration": 313,
    "start_time": "2023-03-30T15:33:06.232Z"
   },
   {
    "duration": 12,
    "start_time": "2023-03-30T15:33:06.547Z"
   },
   {
    "duration": 14,
    "start_time": "2023-03-30T15:33:06.563Z"
   },
   {
    "duration": 112,
    "start_time": "2023-03-30T15:33:06.579Z"
   },
   {
    "duration": 9,
    "start_time": "2023-03-30T15:33:06.693Z"
   },
   {
    "duration": 7,
    "start_time": "2023-03-30T15:33:06.705Z"
   },
   {
    "duration": 2184,
    "start_time": "2023-03-30T15:33:06.714Z"
   },
   {
    "duration": 439,
    "start_time": "2023-03-30T15:33:08.900Z"
   },
   {
    "duration": 435,
    "start_time": "2023-03-30T15:33:09.340Z"
   },
   {
    "duration": 795,
    "start_time": "2023-03-30T15:33:09.777Z"
   },
   {
    "duration": 4,
    "start_time": "2023-03-30T15:33:10.573Z"
   },
   {
    "duration": 16,
    "start_time": "2023-03-30T15:33:10.578Z"
   },
   {
    "duration": 30,
    "start_time": "2023-03-30T15:33:10.596Z"
   },
   {
    "duration": 4684,
    "start_time": "2023-03-30T15:33:10.628Z"
   },
   {
    "duration": 4674,
    "start_time": "2023-03-30T15:33:15.313Z"
   },
   {
    "duration": 166387,
    "start_time": "2023-03-30T15:33:19.989Z"
   },
   {
    "duration": 2706,
    "start_time": "2023-03-30T15:36:06.377Z"
   },
   {
    "duration": 452,
    "start_time": "2023-03-30T15:36:09.084Z"
   },
   {
    "duration": 1771,
    "start_time": "2023-03-30T19:00:19.339Z"
   },
   {
    "duration": 2171,
    "start_time": "2023-03-30T19:00:21.112Z"
   },
   {
    "duration": 357,
    "start_time": "2023-03-30T19:00:23.285Z"
   },
   {
    "duration": 122,
    "start_time": "2023-03-30T19:00:23.644Z"
   },
   {
    "duration": 325,
    "start_time": "2023-03-30T19:00:23.767Z"
   },
   {
    "duration": 10,
    "start_time": "2023-03-30T19:00:24.094Z"
   },
   {
    "duration": 21,
    "start_time": "2023-03-30T19:00:24.106Z"
   },
   {
    "duration": 125,
    "start_time": "2023-03-30T19:00:24.129Z"
   },
   {
    "duration": 11,
    "start_time": "2023-03-30T19:00:24.256Z"
   },
   {
    "duration": 8,
    "start_time": "2023-03-30T19:00:24.270Z"
   },
   {
    "duration": 2885,
    "start_time": "2023-03-30T19:00:24.279Z"
   },
   {
    "duration": 533,
    "start_time": "2023-03-30T19:00:27.165Z"
   },
   {
    "duration": 523,
    "start_time": "2023-03-30T19:00:27.701Z"
   },
   {
    "duration": 1020,
    "start_time": "2023-03-30T19:00:28.226Z"
   },
   {
    "duration": 4,
    "start_time": "2023-03-30T19:00:29.248Z"
   },
   {
    "duration": 11,
    "start_time": "2023-03-30T19:00:29.254Z"
   },
   {
    "duration": 29,
    "start_time": "2023-03-30T19:00:29.267Z"
   },
   {
    "duration": 4821,
    "start_time": "2023-03-30T19:00:29.297Z"
   },
   {
    "duration": 4688,
    "start_time": "2023-03-30T19:00:34.120Z"
   },
   {
    "duration": 1682650,
    "start_time": "2023-03-30T19:00:38.810Z"
   },
   {
    "duration": 2667,
    "start_time": "2023-03-30T19:28:41.462Z"
   },
   {
    "duration": 614,
    "start_time": "2023-03-30T19:28:44.131Z"
   },
   {
    "duration": 1325,
    "start_time": "2023-03-30T19:30:20.001Z"
   },
   {
    "duration": 1060,
    "start_time": "2023-03-30T19:30:38.764Z"
   },
   {
    "duration": 1445,
    "start_time": "2023-03-30T19:34:22.509Z"
   },
   {
    "duration": 658,
    "start_time": "2023-03-30T19:34:23.956Z"
   },
   {
    "duration": 307,
    "start_time": "2023-03-30T19:34:24.616Z"
   },
   {
    "duration": 128,
    "start_time": "2023-03-30T19:34:24.926Z"
   },
   {
    "duration": 295,
    "start_time": "2023-03-30T19:34:25.056Z"
   },
   {
    "duration": 9,
    "start_time": "2023-03-30T19:34:25.353Z"
   },
   {
    "duration": 12,
    "start_time": "2023-03-30T19:34:25.364Z"
   },
   {
    "duration": 129,
    "start_time": "2023-03-30T19:34:25.378Z"
   },
   {
    "duration": 15,
    "start_time": "2023-03-30T19:34:25.509Z"
   },
   {
    "duration": 7,
    "start_time": "2023-03-30T19:34:25.527Z"
   },
   {
    "duration": 2796,
    "start_time": "2023-03-30T19:34:25.536Z"
   },
   {
    "duration": 506,
    "start_time": "2023-03-30T19:34:28.334Z"
   },
   {
    "duration": 505,
    "start_time": "2023-03-30T19:34:28.842Z"
   },
   {
    "duration": 1017,
    "start_time": "2023-03-30T19:34:29.349Z"
   },
   {
    "duration": 4,
    "start_time": "2023-03-30T19:34:30.368Z"
   },
   {
    "duration": 32,
    "start_time": "2023-03-30T19:34:30.375Z"
   },
   {
    "duration": 51,
    "start_time": "2023-03-30T19:34:30.410Z"
   },
   {
    "duration": 4648,
    "start_time": "2023-03-30T19:34:30.464Z"
   },
   {
    "duration": 4573,
    "start_time": "2023-03-30T19:34:35.114Z"
   },
   {
    "duration": 5,
    "start_time": "2023-03-30T19:34:39.689Z"
   },
   {
    "duration": 1687249,
    "start_time": "2023-03-30T19:34:39.695Z"
   },
   {
    "duration": 1384,
    "start_time": "2023-03-30T20:02:46.945Z"
   },
   {
    "duration": 1500,
    "start_time": "2023-03-30T20:02:48.331Z"
   },
   {
    "duration": 553,
    "start_time": "2023-03-30T20:02:49.834Z"
   },
   {
    "duration": 1737,
    "start_time": "2023-03-30T20:20:02.202Z"
   },
   {
    "duration": 7,
    "start_time": "2023-03-30T20:43:56.817Z"
   },
   {
    "duration": 1379,
    "start_time": "2023-03-30T20:44:02.240Z"
   },
   {
    "duration": 684,
    "start_time": "2023-03-30T20:44:03.621Z"
   },
   {
    "duration": 301,
    "start_time": "2023-03-30T20:44:04.306Z"
   },
   {
    "duration": 101,
    "start_time": "2023-03-30T20:44:04.609Z"
   },
   {
    "duration": 291,
    "start_time": "2023-03-30T20:44:04.724Z"
   },
   {
    "duration": 12,
    "start_time": "2023-03-30T20:44:05.023Z"
   },
   {
    "duration": 4,
    "start_time": "2023-03-30T20:44:05.036Z"
   },
   {
    "duration": 149,
    "start_time": "2023-03-30T20:44:05.042Z"
   },
   {
    "duration": 10,
    "start_time": "2023-03-30T20:44:05.194Z"
   },
   {
    "duration": 8,
    "start_time": "2023-03-30T20:44:05.222Z"
   },
   {
    "duration": 8,
    "start_time": "2023-03-30T20:44:05.233Z"
   },
   {
    "duration": 2750,
    "start_time": "2023-03-30T20:44:05.243Z"
   },
   {
    "duration": 502,
    "start_time": "2023-03-30T20:44:07.995Z"
   },
   {
    "duration": 503,
    "start_time": "2023-03-30T20:44:08.499Z"
   },
   {
    "duration": 981,
    "start_time": "2023-03-30T20:44:09.003Z"
   },
   {
    "duration": 3,
    "start_time": "2023-03-30T20:44:09.986Z"
   },
   {
    "duration": 18,
    "start_time": "2023-03-30T20:44:09.991Z"
   },
   {
    "duration": 33,
    "start_time": "2023-03-30T20:44:10.011Z"
   },
   {
    "duration": 4611,
    "start_time": "2023-03-30T20:44:10.046Z"
   },
   {
    "duration": 4640,
    "start_time": "2023-03-30T20:44:14.659Z"
   },
   {
    "duration": 5,
    "start_time": "2023-03-30T20:44:19.301Z"
   },
   {
    "duration": 19,
    "start_time": "2023-03-30T20:44:19.308Z"
   },
   {
    "duration": 1499,
    "start_time": "2023-03-30T20:44:19.329Z"
   },
   {
    "duration": 1293,
    "start_time": "2023-03-30T20:44:20.830Z"
   },
   {
    "duration": 281,
    "start_time": "2023-03-30T20:44:22.127Z"
   },
   {
    "duration": 4,
    "start_time": "2023-03-30T20:49:35.025Z"
   },
   {
    "duration": 23,
    "start_time": "2023-03-30T20:54:35.560Z"
   },
   {
    "duration": 1388,
    "start_time": "2023-03-30T20:54:47.777Z"
   },
   {
    "duration": 725,
    "start_time": "2023-03-30T20:54:49.167Z"
   },
   {
    "duration": 397,
    "start_time": "2023-03-30T20:54:49.894Z"
   },
   {
    "duration": 162,
    "start_time": "2023-03-30T20:54:50.294Z"
   },
   {
    "duration": 354,
    "start_time": "2023-03-30T20:54:50.458Z"
   },
   {
    "duration": 15,
    "start_time": "2023-03-30T20:54:50.814Z"
   },
   {
    "duration": 9,
    "start_time": "2023-03-30T20:54:50.831Z"
   },
   {
    "duration": 134,
    "start_time": "2023-03-30T20:54:50.842Z"
   },
   {
    "duration": 10,
    "start_time": "2023-03-30T20:54:50.978Z"
   },
   {
    "duration": 12,
    "start_time": "2023-03-30T20:54:50.990Z"
   },
   {
    "duration": 27,
    "start_time": "2023-03-30T20:54:51.004Z"
   },
   {
    "duration": 3011,
    "start_time": "2023-03-30T20:54:51.034Z"
   },
   {
    "duration": 519,
    "start_time": "2023-03-30T20:54:54.047Z"
   },
   {
    "duration": 518,
    "start_time": "2023-03-30T20:54:54.568Z"
   },
   {
    "duration": 1044,
    "start_time": "2023-03-30T20:54:55.087Z"
   },
   {
    "duration": 4,
    "start_time": "2023-03-30T20:54:56.134Z"
   },
   {
    "duration": 11,
    "start_time": "2023-03-30T20:54:56.140Z"
   },
   {
    "duration": 36,
    "start_time": "2023-03-30T20:54:56.153Z"
   },
   {
    "duration": 4870,
    "start_time": "2023-03-30T20:54:56.192Z"
   },
   {
    "duration": 4738,
    "start_time": "2023-03-30T20:55:01.064Z"
   },
   {
    "duration": 5,
    "start_time": "2023-03-30T20:55:05.804Z"
   },
   {
    "duration": 14,
    "start_time": "2023-03-30T20:55:05.823Z"
   },
   {
    "duration": 1394,
    "start_time": "2023-03-30T20:55:05.839Z"
   },
   {
    "duration": 1496,
    "start_time": "2023-03-30T20:55:07.235Z"
   },
   {
    "duration": 499,
    "start_time": "2023-03-30T20:55:08.734Z"
   },
   {
    "duration": 5,
    "start_time": "2023-03-30T20:55:52.891Z"
   },
   {
    "duration": 317,
    "start_time": "2023-03-30T20:55:53.608Z"
   },
   {
    "duration": 240,
    "start_time": "2023-03-30T20:56:13.193Z"
   },
   {
    "duration": 351,
    "start_time": "2023-03-30T20:56:31.973Z"
   },
   {
    "duration": 664,
    "start_time": "2023-03-30T20:59:16.163Z"
   },
   {
    "duration": 523,
    "start_time": "2023-03-30T21:11:27.109Z"
   },
   {
    "duration": 511,
    "start_time": "2023-03-30T21:13:24.949Z"
   },
   {
    "duration": 635,
    "start_time": "2023-03-30T21:13:34.941Z"
   },
   {
    "duration": 80,
    "start_time": "2023-03-30T21:15:52.961Z"
   },
   {
    "duration": 4777,
    "start_time": "2023-03-31T14:38:10.448Z"
   },
   {
    "duration": 788,
    "start_time": "2023-03-31T14:38:15.226Z"
   },
   {
    "duration": 265,
    "start_time": "2023-03-31T14:38:16.016Z"
   },
   {
    "duration": 115,
    "start_time": "2023-03-31T14:38:16.284Z"
   },
   {
    "duration": 293,
    "start_time": "2023-03-31T14:38:16.409Z"
   },
   {
    "duration": 20,
    "start_time": "2023-03-31T14:38:16.705Z"
   },
   {
    "duration": 39,
    "start_time": "2023-03-31T14:38:16.727Z"
   },
   {
    "duration": 183,
    "start_time": "2023-03-31T14:38:16.768Z"
   },
   {
    "duration": 8,
    "start_time": "2023-03-31T14:38:16.952Z"
   },
   {
    "duration": 56,
    "start_time": "2023-03-31T14:38:16.962Z"
   },
   {
    "duration": 16,
    "start_time": "2023-03-31T14:38:17.020Z"
   },
   {
    "duration": 2481,
    "start_time": "2023-03-31T14:38:17.038Z"
   },
   {
    "duration": 488,
    "start_time": "2023-03-31T14:38:19.521Z"
   },
   {
    "duration": 442,
    "start_time": "2023-03-31T14:38:20.011Z"
   },
   {
    "duration": 917,
    "start_time": "2023-03-31T14:38:20.455Z"
   },
   {
    "duration": 3,
    "start_time": "2023-03-31T14:38:21.373Z"
   },
   {
    "duration": 7,
    "start_time": "2023-03-31T14:38:21.377Z"
   },
   {
    "duration": 40,
    "start_time": "2023-03-31T14:38:21.386Z"
   },
   {
    "duration": 24,
    "start_time": "2023-03-31T14:38:21.427Z"
   },
   {
    "duration": 10,
    "start_time": "2023-03-31T14:39:10.589Z"
   },
   {
    "duration": 10,
    "start_time": "2023-03-31T14:39:31.902Z"
   },
   {
    "duration": 1682,
    "start_time": "2023-03-31T18:06:02.473Z"
   },
   {
    "duration": 2149,
    "start_time": "2023-03-31T18:06:04.524Z"
   },
   {
    "duration": 42,
    "start_time": "2023-03-31T18:17:55.435Z"
   },
   {
    "duration": 39,
    "start_time": "2023-03-31T18:18:40.718Z"
   },
   {
    "duration": 47,
    "start_time": "2023-03-31T18:18:55.795Z"
   },
   {
    "duration": 9,
    "start_time": "2023-03-31T18:19:09.022Z"
   },
   {
    "duration": 10,
    "start_time": "2023-03-31T18:19:18.657Z"
   },
   {
    "duration": 124,
    "start_time": "2023-03-31T18:34:03.628Z"
   },
   {
    "duration": 81,
    "start_time": "2023-03-31T18:44:20.992Z"
   },
   {
    "duration": 108,
    "start_time": "2023-03-31T18:55:11.647Z"
   },
   {
    "duration": 94,
    "start_time": "2023-03-31T19:54:12.671Z"
   },
   {
    "duration": 38,
    "start_time": "2023-03-31T19:54:40.501Z"
   },
   {
    "duration": 37,
    "start_time": "2023-03-31T20:00:02.018Z"
   },
   {
    "duration": 15,
    "start_time": "2023-03-31T20:01:16.419Z"
   },
   {
    "duration": 19,
    "start_time": "2023-03-31T20:01:42.929Z"
   },
   {
    "duration": 19,
    "start_time": "2023-03-31T20:10:23.439Z"
   },
   {
    "duration": 18,
    "start_time": "2023-03-31T20:20:03.015Z"
   },
   {
    "duration": 16,
    "start_time": "2023-03-31T20:25:20.744Z"
   },
   {
    "duration": 43,
    "start_time": "2023-03-31T20:33:03.645Z"
   },
   {
    "duration": 26,
    "start_time": "2023-03-31T20:34:52.661Z"
   },
   {
    "duration": 34,
    "start_time": "2023-03-31T20:35:10.560Z"
   },
   {
    "duration": 33,
    "start_time": "2023-03-31T20:36:34.877Z"
   },
   {
    "duration": 50,
    "start_time": "2023-03-31T20:38:49.677Z"
   },
   {
    "duration": 29,
    "start_time": "2023-03-31T20:40:58.491Z"
   },
   {
    "duration": 34,
    "start_time": "2023-03-31T20:41:26.905Z"
   },
   {
    "duration": 36,
    "start_time": "2023-03-31T20:41:53.079Z"
   },
   {
    "duration": 17,
    "start_time": "2023-03-31T20:42:33.522Z"
   },
   {
    "duration": 20,
    "start_time": "2023-03-31T20:43:48.831Z"
   },
   {
    "duration": 1488,
    "start_time": "2023-03-31T20:43:59.939Z"
   },
   {
    "duration": 760,
    "start_time": "2023-03-31T20:44:01.430Z"
   },
   {
    "duration": 369,
    "start_time": "2023-03-31T20:44:02.193Z"
   },
   {
    "duration": 119,
    "start_time": "2023-03-31T20:44:02.565Z"
   },
   {
    "duration": 305,
    "start_time": "2023-03-31T20:44:02.686Z"
   },
   {
    "duration": 18,
    "start_time": "2023-03-31T20:44:02.993Z"
   },
   {
    "duration": 4,
    "start_time": "2023-03-31T20:44:03.018Z"
   },
   {
    "duration": 138,
    "start_time": "2023-03-31T20:44:03.024Z"
   },
   {
    "duration": 58,
    "start_time": "2023-03-31T20:44:03.164Z"
   },
   {
    "duration": 9,
    "start_time": "2023-03-31T20:44:03.225Z"
   },
   {
    "duration": 7,
    "start_time": "2023-03-31T20:44:03.235Z"
   },
   {
    "duration": 13,
    "start_time": "2023-03-31T20:44:03.244Z"
   },
   {
    "duration": 2899,
    "start_time": "2023-03-31T20:44:03.259Z"
   },
   {
    "duration": 504,
    "start_time": "2023-03-31T20:44:06.160Z"
   },
   {
    "duration": 583,
    "start_time": "2023-03-31T20:44:06.666Z"
   },
   {
    "duration": 1157,
    "start_time": "2023-03-31T20:44:07.251Z"
   },
   {
    "duration": 6,
    "start_time": "2023-03-31T20:44:08.412Z"
   },
   {
    "duration": 9,
    "start_time": "2023-03-31T20:44:08.420Z"
   },
   {
    "duration": 30,
    "start_time": "2023-03-31T20:44:08.431Z"
   },
   {
    "duration": 163,
    "start_time": "2023-03-31T20:44:08.463Z"
   },
   {
    "duration": 174,
    "start_time": "2023-03-31T20:44:08.628Z"
   },
   {
    "duration": 8,
    "start_time": "2023-03-31T20:44:08.806Z"
   },
   {
    "duration": 6,
    "start_time": "2023-03-31T20:44:08.818Z"
   },
   {
    "duration": 32,
    "start_time": "2023-03-31T20:44:08.826Z"
   },
   {
    "duration": 59,
    "start_time": "2023-03-31T20:44:08.860Z"
   },
   {
    "duration": 6,
    "start_time": "2023-03-31T20:44:08.921Z"
   },
   {
    "duration": 158,
    "start_time": "2023-03-31T20:44:08.929Z"
   },
   {
    "duration": 14,
    "start_time": "2023-03-31T20:44:35.797Z"
   },
   {
    "duration": 30,
    "start_time": "2023-03-31T20:45:16.882Z"
   },
   {
    "duration": 22,
    "start_time": "2023-03-31T20:47:40.152Z"
   },
   {
    "duration": 23,
    "start_time": "2023-03-31T20:48:02.037Z"
   },
   {
    "duration": 23,
    "start_time": "2023-03-31T20:48:55.718Z"
   },
   {
    "duration": 1456,
    "start_time": "2023-03-31T20:49:06.061Z"
   },
   {
    "duration": 738,
    "start_time": "2023-03-31T20:49:07.519Z"
   },
   {
    "duration": 324,
    "start_time": "2023-03-31T20:49:08.259Z"
   },
   {
    "duration": 96,
    "start_time": "2023-03-31T20:49:08.586Z"
   },
   {
    "duration": 288,
    "start_time": "2023-03-31T20:49:08.683Z"
   },
   {
    "duration": 7,
    "start_time": "2023-03-31T20:49:08.973Z"
   },
   {
    "duration": 4,
    "start_time": "2023-03-31T20:49:08.982Z"
   },
   {
    "duration": 114,
    "start_time": "2023-03-31T20:49:09.009Z"
   },
   {
    "duration": 48,
    "start_time": "2023-03-31T20:49:09.124Z"
   },
   {
    "duration": 8,
    "start_time": "2023-03-31T20:49:09.175Z"
   },
   {
    "duration": 7,
    "start_time": "2023-03-31T20:49:09.184Z"
   },
   {
    "duration": 31,
    "start_time": "2023-03-31T20:49:09.192Z"
   },
   {
    "duration": 2899,
    "start_time": "2023-03-31T20:49:09.225Z"
   },
   {
    "duration": 543,
    "start_time": "2023-03-31T20:49:12.126Z"
   },
   {
    "duration": 519,
    "start_time": "2023-03-31T20:49:12.671Z"
   },
   {
    "duration": 1027,
    "start_time": "2023-03-31T20:49:13.192Z"
   },
   {
    "duration": 4,
    "start_time": "2023-03-31T20:49:14.221Z"
   },
   {
    "duration": 16,
    "start_time": "2023-03-31T20:49:14.226Z"
   },
   {
    "duration": 33,
    "start_time": "2023-03-31T20:49:14.244Z"
   },
   {
    "duration": 161,
    "start_time": "2023-03-31T20:49:14.279Z"
   },
   {
    "duration": 169,
    "start_time": "2023-03-31T20:49:14.441Z"
   },
   {
    "duration": 5,
    "start_time": "2023-03-31T20:49:14.619Z"
   },
   {
    "duration": 7,
    "start_time": "2023-03-31T20:49:14.625Z"
   },
   {
    "duration": 35,
    "start_time": "2023-03-31T20:49:14.634Z"
   },
   {
    "duration": 59,
    "start_time": "2023-03-31T20:49:14.671Z"
   },
   {
    "duration": 4,
    "start_time": "2023-03-31T20:49:14.732Z"
   },
   {
    "duration": 138,
    "start_time": "2023-03-31T20:49:14.738Z"
   },
   {
    "duration": 30,
    "start_time": "2023-03-31T20:49:47.392Z"
   },
   {
    "duration": 1461,
    "start_time": "2023-03-31T20:49:51.908Z"
   },
   {
    "duration": 765,
    "start_time": "2023-03-31T20:49:53.371Z"
   },
   {
    "duration": 311,
    "start_time": "2023-03-31T20:49:54.138Z"
   },
   {
    "duration": 97,
    "start_time": "2023-03-31T20:49:54.451Z"
   },
   {
    "duration": 283,
    "start_time": "2023-03-31T20:49:54.550Z"
   },
   {
    "duration": 7,
    "start_time": "2023-03-31T20:49:54.835Z"
   },
   {
    "duration": 25,
    "start_time": "2023-03-31T20:49:54.843Z"
   },
   {
    "duration": 118,
    "start_time": "2023-03-31T20:49:54.869Z"
   },
   {
    "duration": 76,
    "start_time": "2023-03-31T20:49:54.989Z"
   },
   {
    "duration": 9,
    "start_time": "2023-03-31T20:49:55.068Z"
   },
   {
    "duration": 6,
    "start_time": "2023-03-31T20:49:55.078Z"
   },
   {
    "duration": 44,
    "start_time": "2023-03-31T20:49:55.086Z"
   },
   {
    "duration": 2878,
    "start_time": "2023-03-31T20:49:55.132Z"
   },
   {
    "duration": 514,
    "start_time": "2023-03-31T20:49:58.014Z"
   },
   {
    "duration": 531,
    "start_time": "2023-03-31T20:49:58.530Z"
   },
   {
    "duration": 1023,
    "start_time": "2023-03-31T20:49:59.063Z"
   },
   {
    "duration": 4,
    "start_time": "2023-03-31T20:50:00.088Z"
   },
   {
    "duration": 25,
    "start_time": "2023-03-31T20:50:00.094Z"
   },
   {
    "duration": 35,
    "start_time": "2023-03-31T20:50:00.121Z"
   },
   {
    "duration": 177,
    "start_time": "2023-03-31T20:50:00.159Z"
   },
   {
    "duration": 179,
    "start_time": "2023-03-31T20:50:00.338Z"
   },
   {
    "duration": 5,
    "start_time": "2023-03-31T20:50:00.519Z"
   },
   {
    "duration": 42,
    "start_time": "2023-03-31T20:50:00.525Z"
   },
   {
    "duration": 58,
    "start_time": "2023-03-31T20:50:00.569Z"
   },
   {
    "duration": 35,
    "start_time": "2023-03-31T20:50:00.629Z"
   },
   {
    "duration": 5,
    "start_time": "2023-03-31T20:50:00.665Z"
   },
   {
    "duration": 157,
    "start_time": "2023-03-31T20:50:00.672Z"
   },
   {
    "duration": 1429,
    "start_time": "2023-03-31T20:52:19.366Z"
   },
   {
    "duration": 756,
    "start_time": "2023-03-31T20:52:20.797Z"
   },
   {
    "duration": 308,
    "start_time": "2023-03-31T20:52:21.555Z"
   },
   {
    "duration": 131,
    "start_time": "2023-03-31T20:52:21.866Z"
   },
   {
    "duration": 312,
    "start_time": "2023-03-31T20:52:22.006Z"
   },
   {
    "duration": 8,
    "start_time": "2023-03-31T20:52:22.320Z"
   },
   {
    "duration": 15,
    "start_time": "2023-03-31T20:52:22.329Z"
   },
   {
    "duration": 121,
    "start_time": "2023-03-31T20:52:22.346Z"
   },
   {
    "duration": 61,
    "start_time": "2023-03-31T20:52:22.468Z"
   },
   {
    "duration": 8,
    "start_time": "2023-03-31T20:52:22.532Z"
   },
   {
    "duration": 10,
    "start_time": "2023-03-31T20:52:22.541Z"
   },
   {
    "duration": 28,
    "start_time": "2023-03-31T20:52:22.553Z"
   },
   {
    "duration": 2848,
    "start_time": "2023-03-31T20:52:22.582Z"
   },
   {
    "duration": 500,
    "start_time": "2023-03-31T20:52:25.432Z"
   },
   {
    "duration": 521,
    "start_time": "2023-03-31T20:52:25.934Z"
   },
   {
    "duration": 997,
    "start_time": "2023-03-31T20:52:26.457Z"
   },
   {
    "duration": 3,
    "start_time": "2023-03-31T20:52:27.456Z"
   },
   {
    "duration": 11,
    "start_time": "2023-03-31T20:52:27.461Z"
   },
   {
    "duration": 43,
    "start_time": "2023-03-31T20:52:27.474Z"
   },
   {
    "duration": 141,
    "start_time": "2023-03-31T20:52:27.519Z"
   },
   {
    "duration": 131,
    "start_time": "2023-03-31T20:52:27.662Z"
   },
   {
    "duration": 15,
    "start_time": "2023-03-31T20:52:27.794Z"
   },
   {
    "duration": 8,
    "start_time": "2023-03-31T20:52:27.812Z"
   },
   {
    "duration": 111,
    "start_time": "2023-03-31T20:52:27.822Z"
   },
   {
    "duration": 29,
    "start_time": "2023-03-31T20:52:27.935Z"
   },
   {
    "duration": 4,
    "start_time": "2023-03-31T20:52:27.966Z"
   },
   {
    "duration": 157,
    "start_time": "2023-03-31T20:52:27.972Z"
   },
   {
    "duration": 56,
    "start_time": "2023-03-31T20:53:35.264Z"
   },
   {
    "duration": 519,
    "start_time": "2023-03-31T21:43:36.582Z"
   },
   {
    "duration": 501,
    "start_time": "2023-03-31T21:43:47.773Z"
   },
   {
    "duration": 629,
    "start_time": "2023-03-31T21:44:12.288Z"
   },
   {
    "duration": 500,
    "start_time": "2023-03-31T21:44:17.560Z"
   },
   {
    "duration": 501,
    "start_time": "2023-03-31T21:44:36.035Z"
   },
   {
    "duration": 471,
    "start_time": "2023-03-31T21:44:40.419Z"
   },
   {
    "duration": 85,
    "start_time": "2023-03-31T22:14:16.477Z"
   },
   {
    "duration": 76,
    "start_time": "2023-03-31T22:14:22.179Z"
   },
   {
    "duration": 85,
    "start_time": "2023-03-31T22:14:57.349Z"
   },
   {
    "duration": 99,
    "start_time": "2023-03-31T22:15:49.491Z"
   },
   {
    "duration": 1443,
    "start_time": "2023-03-31T22:15:56.170Z"
   },
   {
    "duration": 736,
    "start_time": "2023-03-31T22:15:57.617Z"
   },
   {
    "duration": 297,
    "start_time": "2023-03-31T22:15:58.355Z"
   },
   {
    "duration": 92,
    "start_time": "2023-03-31T22:15:58.654Z"
   },
   {
    "duration": 284,
    "start_time": "2023-03-31T22:15:58.748Z"
   },
   {
    "duration": 7,
    "start_time": "2023-03-31T22:15:59.034Z"
   },
   {
    "duration": 3,
    "start_time": "2023-03-31T22:15:59.043Z"
   },
   {
    "duration": 118,
    "start_time": "2023-03-31T22:15:59.048Z"
   },
   {
    "duration": 54,
    "start_time": "2023-03-31T22:15:59.168Z"
   },
   {
    "duration": 9,
    "start_time": "2023-03-31T22:15:59.225Z"
   },
   {
    "duration": 9,
    "start_time": "2023-03-31T22:15:59.235Z"
   },
   {
    "duration": 36,
    "start_time": "2023-03-31T22:15:59.245Z"
   },
   {
    "duration": 71,
    "start_time": "2023-03-31T22:15:59.283Z"
   },
   {
    "duration": 2934,
    "start_time": "2023-03-31T22:15:59.356Z"
   },
   {
    "duration": 507,
    "start_time": "2023-03-31T22:16:02.292Z"
   },
   {
    "duration": 488,
    "start_time": "2023-03-31T22:16:02.801Z"
   },
   {
    "duration": 994,
    "start_time": "2023-03-31T22:16:03.291Z"
   },
   {
    "duration": 74,
    "start_time": "2023-03-31T22:16:04.287Z"
   },
   {
    "duration": 0,
    "start_time": "2023-03-31T22:16:04.363Z"
   },
   {
    "duration": 0,
    "start_time": "2023-03-31T22:16:04.365Z"
   },
   {
    "duration": 0,
    "start_time": "2023-03-31T22:16:04.366Z"
   },
   {
    "duration": 0,
    "start_time": "2023-03-31T22:16:04.367Z"
   },
   {
    "duration": 0,
    "start_time": "2023-03-31T22:16:04.369Z"
   },
   {
    "duration": 0,
    "start_time": "2023-03-31T22:16:04.370Z"
   },
   {
    "duration": 0,
    "start_time": "2023-03-31T22:16:04.371Z"
   },
   {
    "duration": 0,
    "start_time": "2023-03-31T22:16:04.372Z"
   },
   {
    "duration": 0,
    "start_time": "2023-03-31T22:16:04.373Z"
   },
   {
    "duration": 0,
    "start_time": "2023-03-31T22:16:04.374Z"
   },
   {
    "duration": 0,
    "start_time": "2023-03-31T22:16:04.375Z"
   },
   {
    "duration": 79,
    "start_time": "2023-03-31T22:18:07.878Z"
   },
   {
    "duration": 99,
    "start_time": "2023-03-31T22:20:17.675Z"
   },
   {
    "duration": 87,
    "start_time": "2023-03-31T22:20:29.636Z"
   },
   {
    "duration": 10,
    "start_time": "2023-03-31T22:21:45.610Z"
   },
   {
    "duration": 7,
    "start_time": "2023-03-31T22:21:59.361Z"
   },
   {
    "duration": 96,
    "start_time": "2023-03-31T22:22:29.647Z"
   },
   {
    "duration": 74,
    "start_time": "2023-03-31T22:22:51.592Z"
   },
   {
    "duration": 81,
    "start_time": "2023-03-31T22:23:00.363Z"
   },
   {
    "duration": 15,
    "start_time": "2023-03-31T22:23:37.051Z"
   },
   {
    "duration": 15,
    "start_time": "2023-03-31T22:23:55.615Z"
   },
   {
    "duration": 5,
    "start_time": "2023-03-31T22:24:14.041Z"
   },
   {
    "duration": 16,
    "start_time": "2023-03-31T22:24:49.631Z"
   },
   {
    "duration": 17,
    "start_time": "2023-03-31T22:25:06.675Z"
   },
   {
    "duration": 19,
    "start_time": "2023-03-31T22:25:17.840Z"
   },
   {
    "duration": 10,
    "start_time": "2023-03-31T22:25:26.659Z"
   },
   {
    "duration": 10,
    "start_time": "2023-03-31T22:25:40.790Z"
   },
   {
    "duration": 8,
    "start_time": "2023-03-31T22:27:27.837Z"
   },
   {
    "duration": 24,
    "start_time": "2023-03-31T22:27:31.895Z"
   },
   {
    "duration": 15,
    "start_time": "2023-03-31T22:27:41.456Z"
   },
   {
    "duration": 16,
    "start_time": "2023-03-31T22:28:14.160Z"
   },
   {
    "duration": 16,
    "start_time": "2023-03-31T22:31:41.720Z"
   },
   {
    "duration": 16,
    "start_time": "2023-03-31T22:31:46.724Z"
   },
   {
    "duration": 16,
    "start_time": "2023-03-31T22:31:59.022Z"
   },
   {
    "duration": 16,
    "start_time": "2023-03-31T22:32:33.271Z"
   },
   {
    "duration": 16,
    "start_time": "2023-03-31T22:32:38.714Z"
   },
   {
    "duration": 19,
    "start_time": "2023-03-31T22:32:59.251Z"
   },
   {
    "duration": 22,
    "start_time": "2023-03-31T22:33:02.589Z"
   },
   {
    "duration": 15,
    "start_time": "2023-03-31T22:33:09.938Z"
   },
   {
    "duration": 9,
    "start_time": "2023-03-31T22:33:31.359Z"
   },
   {
    "duration": 11,
    "start_time": "2023-03-31T22:33:47.312Z"
   },
   {
    "duration": 15,
    "start_time": "2023-03-31T22:34:23.476Z"
   },
   {
    "duration": 26,
    "start_time": "2023-03-31T22:34:29.296Z"
   },
   {
    "duration": 21,
    "start_time": "2023-03-31T22:38:24.998Z"
   },
   {
    "duration": 4,
    "start_time": "2023-03-31T22:38:48.067Z"
   },
   {
    "duration": 16,
    "start_time": "2023-03-31T22:39:33.928Z"
   },
   {
    "duration": 15,
    "start_time": "2023-03-31T22:39:41.469Z"
   },
   {
    "duration": 15,
    "start_time": "2023-03-31T22:39:53.658Z"
   },
   {
    "duration": 20,
    "start_time": "2023-03-31T22:40:20.598Z"
   },
   {
    "duration": 49,
    "start_time": "2023-03-31T22:42:36.042Z"
   },
   {
    "duration": 5,
    "start_time": "2023-03-31T22:42:47.043Z"
   },
   {
    "duration": 15,
    "start_time": "2023-03-31T22:43:24.119Z"
   },
   {
    "duration": 1462,
    "start_time": "2023-03-31T22:43:31.212Z"
   },
   {
    "duration": 739,
    "start_time": "2023-03-31T22:43:32.676Z"
   },
   {
    "duration": 313,
    "start_time": "2023-03-31T22:43:33.419Z"
   },
   {
    "duration": 107,
    "start_time": "2023-03-31T22:43:33.735Z"
   },
   {
    "duration": 284,
    "start_time": "2023-03-31T22:43:33.844Z"
   },
   {
    "duration": 8,
    "start_time": "2023-03-31T22:43:34.130Z"
   },
   {
    "duration": 9,
    "start_time": "2023-03-31T22:43:34.139Z"
   },
   {
    "duration": 122,
    "start_time": "2023-03-31T22:43:34.149Z"
   },
   {
    "duration": 54,
    "start_time": "2023-03-31T22:43:34.272Z"
   },
   {
    "duration": 8,
    "start_time": "2023-03-31T22:43:34.329Z"
   },
   {
    "duration": 6,
    "start_time": "2023-03-31T22:43:34.339Z"
   },
   {
    "duration": 28,
    "start_time": "2023-03-31T22:43:34.347Z"
   },
   {
    "duration": 80,
    "start_time": "2023-03-31T22:43:34.377Z"
   },
   {
    "duration": 2839,
    "start_time": "2023-03-31T22:43:34.459Z"
   },
   {
    "duration": 514,
    "start_time": "2023-03-31T22:43:37.299Z"
   },
   {
    "duration": 485,
    "start_time": "2023-03-31T22:43:37.821Z"
   },
   {
    "duration": 963,
    "start_time": "2023-03-31T22:43:38.318Z"
   },
   {
    "duration": 21,
    "start_time": "2023-03-31T22:43:39.283Z"
   },
   {
    "duration": 14,
    "start_time": "2023-03-31T22:43:39.307Z"
   },
   {
    "duration": 50,
    "start_time": "2023-03-31T22:43:39.322Z"
   },
   {
    "duration": 4,
    "start_time": "2023-03-31T22:43:39.374Z"
   },
   {
    "duration": 4,
    "start_time": "2023-03-31T22:43:39.380Z"
   },
   {
    "duration": 23,
    "start_time": "2023-03-31T22:43:39.385Z"
   },
   {
    "duration": 24,
    "start_time": "2023-03-31T22:43:39.418Z"
   },
   {
    "duration": 117,
    "start_time": "2023-03-31T22:43:39.444Z"
   },
   {
    "duration": 121,
    "start_time": "2023-03-31T22:43:39.562Z"
   },
   {
    "duration": 27,
    "start_time": "2023-03-31T22:43:39.685Z"
   },
   {
    "duration": 5,
    "start_time": "2023-03-31T22:43:39.719Z"
   },
   {
    "duration": 25,
    "start_time": "2023-03-31T22:43:39.726Z"
   },
   {
    "duration": 25,
    "start_time": "2023-03-31T22:43:39.753Z"
   },
   {
    "duration": 4,
    "start_time": "2023-03-31T22:43:39.781Z"
   },
   {
    "duration": 132,
    "start_time": "2023-03-31T22:43:39.804Z"
   },
   {
    "duration": 5,
    "start_time": "2023-03-31T22:46:40.945Z"
   },
   {
    "duration": 40,
    "start_time": "2023-03-31T22:46:49.322Z"
   },
   {
    "duration": 1369,
    "start_time": "2023-03-31T22:46:56.265Z"
   },
   {
    "duration": 716,
    "start_time": "2023-03-31T22:46:57.636Z"
   },
   {
    "duration": 286,
    "start_time": "2023-03-31T22:46:58.353Z"
   },
   {
    "duration": 112,
    "start_time": "2023-03-31T22:46:58.641Z"
   },
   {
    "duration": 268,
    "start_time": "2023-03-31T22:46:58.756Z"
   },
   {
    "duration": 8,
    "start_time": "2023-03-31T22:46:59.026Z"
   },
   {
    "duration": 4,
    "start_time": "2023-03-31T22:46:59.036Z"
   },
   {
    "duration": 150,
    "start_time": "2023-03-31T22:46:59.041Z"
   },
   {
    "duration": 55,
    "start_time": "2023-03-31T22:46:59.193Z"
   },
   {
    "duration": 11,
    "start_time": "2023-03-31T22:46:59.249Z"
   },
   {
    "duration": 7,
    "start_time": "2023-03-31T22:46:59.262Z"
   },
   {
    "duration": 57,
    "start_time": "2023-03-31T22:46:59.271Z"
   },
   {
    "duration": 51,
    "start_time": "2023-03-31T22:46:59.331Z"
   },
   {
    "duration": 2725,
    "start_time": "2023-03-31T22:46:59.405Z"
   },
   {
    "duration": 526,
    "start_time": "2023-03-31T22:47:02.132Z"
   },
   {
    "duration": 499,
    "start_time": "2023-03-31T22:47:02.659Z"
   },
   {
    "duration": 965,
    "start_time": "2023-03-31T22:47:03.159Z"
   },
   {
    "duration": 16,
    "start_time": "2023-03-31T22:47:04.126Z"
   },
   {
    "duration": 10,
    "start_time": "2023-03-31T22:47:04.144Z"
   },
   {
    "duration": 62,
    "start_time": "2023-03-31T22:47:04.156Z"
   },
   {
    "duration": 4,
    "start_time": "2023-03-31T22:47:04.220Z"
   },
   {
    "duration": 11,
    "start_time": "2023-03-31T22:47:04.226Z"
   },
   {
    "duration": 14,
    "start_time": "2023-03-31T22:47:04.239Z"
   },
   {
    "duration": 28,
    "start_time": "2023-03-31T22:47:04.255Z"
   },
   {
    "duration": 136,
    "start_time": "2023-03-31T22:47:04.285Z"
   },
   {
    "duration": 118,
    "start_time": "2023-03-31T22:47:04.423Z"
   },
   {
    "duration": 4,
    "start_time": "2023-03-31T22:47:04.543Z"
   },
   {
    "duration": 8,
    "start_time": "2023-03-31T22:47:04.549Z"
   },
   {
    "duration": 48,
    "start_time": "2023-03-31T22:47:04.558Z"
   },
   {
    "duration": 34,
    "start_time": "2023-03-31T22:47:04.608Z"
   },
   {
    "duration": 6,
    "start_time": "2023-03-31T22:47:04.644Z"
   },
   {
    "duration": 138,
    "start_time": "2023-03-31T22:47:04.652Z"
   },
   {
    "duration": 77,
    "start_time": "2023-03-31T22:49:57.418Z"
   },
   {
    "duration": 18,
    "start_time": "2023-03-31T22:50:10.331Z"
   },
   {
    "duration": 770,
    "start_time": "2023-03-31T22:50:36.450Z"
   },
   {
    "duration": 45,
    "start_time": "2023-03-31T22:51:36.389Z"
   },
   {
    "duration": 22,
    "start_time": "2023-03-31T22:52:16.496Z"
   },
   {
    "duration": 1331,
    "start_time": "2023-03-31T22:52:39.945Z"
   },
   {
    "duration": 740,
    "start_time": "2023-03-31T22:52:41.278Z"
   },
   {
    "duration": 270,
    "start_time": "2023-03-31T22:52:42.023Z"
   },
   {
    "duration": 100,
    "start_time": "2023-03-31T22:52:42.302Z"
   },
   {
    "duration": 257,
    "start_time": "2023-03-31T22:52:42.409Z"
   },
   {
    "duration": 8,
    "start_time": "2023-03-31T22:52:42.668Z"
   },
   {
    "duration": 12,
    "start_time": "2023-03-31T22:52:42.678Z"
   },
   {
    "duration": 113,
    "start_time": "2023-03-31T22:52:42.705Z"
   },
   {
    "duration": 48,
    "start_time": "2023-03-31T22:52:42.821Z"
   },
   {
    "duration": 8,
    "start_time": "2023-03-31T22:52:42.871Z"
   },
   {
    "duration": 7,
    "start_time": "2023-03-31T22:52:42.880Z"
   },
   {
    "duration": 40,
    "start_time": "2023-03-31T22:52:42.888Z"
   },
   {
    "duration": 50,
    "start_time": "2023-03-31T22:52:42.930Z"
   },
   {
    "duration": 2715,
    "start_time": "2023-03-31T22:52:42.982Z"
   },
   {
    "duration": 484,
    "start_time": "2023-03-31T22:52:45.702Z"
   },
   {
    "duration": 477,
    "start_time": "2023-03-31T22:52:46.187Z"
   },
   {
    "duration": 1011,
    "start_time": "2023-03-31T22:52:46.666Z"
   },
   {
    "duration": 15,
    "start_time": "2023-03-31T22:52:47.679Z"
   },
   {
    "duration": 9,
    "start_time": "2023-03-31T22:52:47.702Z"
   },
   {
    "duration": 53,
    "start_time": "2023-03-31T22:52:47.717Z"
   },
   {
    "duration": 4,
    "start_time": "2023-03-31T22:52:47.771Z"
   },
   {
    "duration": 4,
    "start_time": "2023-03-31T22:52:47.777Z"
   },
   {
    "duration": 21,
    "start_time": "2023-03-31T22:52:47.783Z"
   },
   {
    "duration": 29,
    "start_time": "2023-03-31T22:52:47.805Z"
   },
   {
    "duration": 125,
    "start_time": "2023-03-31T22:52:47.836Z"
   },
   {
    "duration": 140,
    "start_time": "2023-03-31T22:52:47.964Z"
   },
   {
    "duration": 5,
    "start_time": "2023-03-31T22:52:48.108Z"
   },
   {
    "duration": 10,
    "start_time": "2023-03-31T22:52:48.118Z"
   },
   {
    "duration": 24,
    "start_time": "2023-03-31T22:52:48.129Z"
   },
   {
    "duration": 22,
    "start_time": "2023-03-31T22:52:48.154Z"
   },
   {
    "duration": 29,
    "start_time": "2023-03-31T22:52:48.178Z"
   },
   {
    "duration": 138,
    "start_time": "2023-03-31T22:52:48.208Z"
   },
   {
    "duration": 12,
    "start_time": "2023-03-31T22:52:58.328Z"
   },
   {
    "duration": 1440,
    "start_time": "2023-03-31T22:53:02.589Z"
   },
   {
    "duration": 731,
    "start_time": "2023-03-31T22:53:04.031Z"
   },
   {
    "duration": 292,
    "start_time": "2023-03-31T22:53:04.763Z"
   },
   {
    "duration": 118,
    "start_time": "2023-03-31T22:53:05.057Z"
   },
   {
    "duration": 290,
    "start_time": "2023-03-31T22:53:05.177Z"
   },
   {
    "duration": 8,
    "start_time": "2023-03-31T22:53:05.468Z"
   },
   {
    "duration": 4,
    "start_time": "2023-03-31T22:53:05.478Z"
   },
   {
    "duration": 115,
    "start_time": "2023-03-31T22:53:05.483Z"
   },
   {
    "duration": 55,
    "start_time": "2023-03-31T22:53:05.601Z"
   },
   {
    "duration": 9,
    "start_time": "2023-03-31T22:53:05.659Z"
   },
   {
    "duration": 7,
    "start_time": "2023-03-31T22:53:05.669Z"
   },
   {
    "duration": 53,
    "start_time": "2023-03-31T22:53:05.678Z"
   },
   {
    "duration": 76,
    "start_time": "2023-03-31T22:53:05.733Z"
   },
   {
    "duration": 2802,
    "start_time": "2023-03-31T22:53:05.811Z"
   },
   {
    "duration": 480,
    "start_time": "2023-03-31T22:53:08.619Z"
   },
   {
    "duration": 472,
    "start_time": "2023-03-31T22:53:09.100Z"
   },
   {
    "duration": 972,
    "start_time": "2023-03-31T22:53:09.574Z"
   },
   {
    "duration": 16,
    "start_time": "2023-03-31T22:53:10.548Z"
   },
   {
    "duration": 4,
    "start_time": "2023-03-31T22:53:10.566Z"
   },
   {
    "duration": 69,
    "start_time": "2023-03-31T22:53:10.572Z"
   },
   {
    "duration": 3,
    "start_time": "2023-03-31T22:53:10.643Z"
   },
   {
    "duration": 4,
    "start_time": "2023-03-31T22:53:10.648Z"
   },
   {
    "duration": 7,
    "start_time": "2023-03-31T22:53:10.653Z"
   },
   {
    "duration": 21,
    "start_time": "2023-03-31T22:53:10.661Z"
   },
   {
    "duration": 124,
    "start_time": "2023-03-31T22:53:10.704Z"
   },
   {
    "duration": 129,
    "start_time": "2023-03-31T22:53:10.830Z"
   },
   {
    "duration": 4,
    "start_time": "2023-03-31T22:53:10.961Z"
   },
   {
    "duration": 7,
    "start_time": "2023-03-31T22:53:10.968Z"
   },
   {
    "duration": 50,
    "start_time": "2023-03-31T22:53:10.976Z"
   },
   {
    "duration": 23,
    "start_time": "2023-03-31T22:53:11.027Z"
   },
   {
    "duration": 4,
    "start_time": "2023-03-31T22:53:11.051Z"
   },
   {
    "duration": 166,
    "start_time": "2023-03-31T22:53:11.057Z"
   },
   {
    "duration": 100,
    "start_time": "2023-03-31T22:56:02.329Z"
   },
   {
    "duration": 3,
    "start_time": "2023-03-31T22:59:02.794Z"
   },
   {
    "duration": 89,
    "start_time": "2023-03-31T23:09:59.277Z"
   },
   {
    "duration": 1315,
    "start_time": "2023-03-31T23:10:08.160Z"
   },
   {
    "duration": 733,
    "start_time": "2023-03-31T23:10:09.477Z"
   },
   {
    "duration": 277,
    "start_time": "2023-03-31T23:10:10.216Z"
   },
   {
    "duration": 98,
    "start_time": "2023-03-31T23:10:10.495Z"
   },
   {
    "duration": 262,
    "start_time": "2023-03-31T23:10:10.602Z"
   },
   {
    "duration": 8,
    "start_time": "2023-03-31T23:10:10.866Z"
   },
   {
    "duration": 5,
    "start_time": "2023-03-31T23:10:10.876Z"
   },
   {
    "duration": 145,
    "start_time": "2023-03-31T23:10:10.882Z"
   },
   {
    "duration": 49,
    "start_time": "2023-03-31T23:10:11.029Z"
   },
   {
    "duration": 8,
    "start_time": "2023-03-31T23:10:11.081Z"
   },
   {
    "duration": 8,
    "start_time": "2023-03-31T23:10:11.091Z"
   },
   {
    "duration": 31,
    "start_time": "2023-03-31T23:10:11.105Z"
   },
   {
    "duration": 69,
    "start_time": "2023-03-31T23:10:11.138Z"
   },
   {
    "duration": 2820,
    "start_time": "2023-03-31T23:10:11.214Z"
   },
   {
    "duration": 495,
    "start_time": "2023-03-31T23:10:14.036Z"
   },
   {
    "duration": 488,
    "start_time": "2023-03-31T23:10:14.533Z"
   },
   {
    "duration": 970,
    "start_time": "2023-03-31T23:10:15.023Z"
   },
   {
    "duration": 13,
    "start_time": "2023-03-31T23:10:15.995Z"
   },
   {
    "duration": 85,
    "start_time": "2023-03-31T23:10:16.010Z"
   },
   {
    "duration": 4,
    "start_time": "2023-03-31T23:10:16.097Z"
   },
   {
    "duration": 12,
    "start_time": "2023-03-31T23:10:16.104Z"
   },
   {
    "duration": 11,
    "start_time": "2023-03-31T23:10:16.117Z"
   },
   {
    "duration": 24,
    "start_time": "2023-03-31T23:10:16.130Z"
   },
   {
    "duration": 131,
    "start_time": "2023-03-31T23:10:16.156Z"
   },
   {
    "duration": 0,
    "start_time": "2023-03-31T23:10:16.289Z"
   },
   {
    "duration": 0,
    "start_time": "2023-03-31T23:10:16.291Z"
   },
   {
    "duration": 0,
    "start_time": "2023-03-31T23:10:16.292Z"
   },
   {
    "duration": 0,
    "start_time": "2023-03-31T23:10:16.294Z"
   },
   {
    "duration": 0,
    "start_time": "2023-03-31T23:10:16.303Z"
   },
   {
    "duration": 0,
    "start_time": "2023-03-31T23:10:16.304Z"
   },
   {
    "duration": 0,
    "start_time": "2023-03-31T23:10:16.310Z"
   },
   {
    "duration": 0,
    "start_time": "2023-03-31T23:10:16.311Z"
   },
   {
    "duration": 1378,
    "start_time": "2023-03-31T23:11:21.373Z"
   },
   {
    "duration": 732,
    "start_time": "2023-03-31T23:11:22.753Z"
   },
   {
    "duration": 299,
    "start_time": "2023-03-31T23:11:23.487Z"
   },
   {
    "duration": 119,
    "start_time": "2023-03-31T23:11:23.788Z"
   },
   {
    "duration": 258,
    "start_time": "2023-03-31T23:11:23.918Z"
   },
   {
    "duration": 8,
    "start_time": "2023-03-31T23:11:24.180Z"
   },
   {
    "duration": 13,
    "start_time": "2023-03-31T23:11:24.204Z"
   },
   {
    "duration": 132,
    "start_time": "2023-03-31T23:11:24.219Z"
   },
   {
    "duration": 49,
    "start_time": "2023-03-31T23:11:24.352Z"
   },
   {
    "duration": 14,
    "start_time": "2023-03-31T23:11:24.404Z"
   },
   {
    "duration": 25,
    "start_time": "2023-03-31T23:11:24.420Z"
   },
   {
    "duration": 37,
    "start_time": "2023-03-31T23:11:24.446Z"
   },
   {
    "duration": 59,
    "start_time": "2023-03-31T23:11:24.485Z"
   },
   {
    "duration": 2728,
    "start_time": "2023-03-31T23:11:24.546Z"
   },
   {
    "duration": 484,
    "start_time": "2023-03-31T23:11:27.275Z"
   },
   {
    "duration": 498,
    "start_time": "2023-03-31T23:11:27.760Z"
   },
   {
    "duration": 960,
    "start_time": "2023-03-31T23:11:28.260Z"
   },
   {
    "duration": 4,
    "start_time": "2023-03-31T23:11:29.222Z"
   },
   {
    "duration": 56,
    "start_time": "2023-03-31T23:11:29.227Z"
   },
   {
    "duration": 3,
    "start_time": "2023-03-31T23:11:29.285Z"
   },
   {
    "duration": 23,
    "start_time": "2023-03-31T23:11:29.290Z"
   },
   {
    "duration": 6,
    "start_time": "2023-03-31T23:11:29.315Z"
   },
   {
    "duration": 27,
    "start_time": "2023-03-31T23:11:29.322Z"
   },
   {
    "duration": 3,
    "start_time": "2023-03-31T23:11:29.351Z"
   },
   {
    "duration": 197,
    "start_time": "2023-03-31T23:11:29.355Z"
   },
   {
    "duration": 110,
    "start_time": "2023-03-31T23:11:29.554Z"
   },
   {
    "duration": 5,
    "start_time": "2023-03-31T23:11:29.666Z"
   },
   {
    "duration": 4,
    "start_time": "2023-03-31T23:11:29.675Z"
   },
   {
    "duration": 45,
    "start_time": "2023-03-31T23:11:29.681Z"
   },
   {
    "duration": 25,
    "start_time": "2023-03-31T23:11:29.728Z"
   },
   {
    "duration": 5,
    "start_time": "2023-03-31T23:11:29.755Z"
   },
   {
    "duration": 52,
    "start_time": "2023-03-31T23:11:29.762Z"
   },
   {
    "duration": 111,
    "start_time": "2023-03-31T23:12:12.919Z"
   },
   {
    "duration": 117,
    "start_time": "2023-03-31T23:12:44.832Z"
   },
   {
    "duration": 3,
    "start_time": "2023-03-31T23:14:09.838Z"
   },
   {
    "duration": 126,
    "start_time": "2023-03-31T23:14:17.343Z"
   },
   {
    "duration": 110,
    "start_time": "2023-03-31T23:14:40.348Z"
   },
   {
    "duration": 1395,
    "start_time": "2023-03-31T23:14:47.556Z"
   },
   {
    "duration": 720,
    "start_time": "2023-03-31T23:14:48.953Z"
   },
   {
    "duration": 292,
    "start_time": "2023-03-31T23:14:49.675Z"
   },
   {
    "duration": 116,
    "start_time": "2023-03-31T23:14:49.969Z"
   },
   {
    "duration": 270,
    "start_time": "2023-03-31T23:14:50.104Z"
   },
   {
    "duration": 8,
    "start_time": "2023-03-31T23:14:50.376Z"
   },
   {
    "duration": 46,
    "start_time": "2023-03-31T23:14:50.386Z"
   },
   {
    "duration": 128,
    "start_time": "2023-03-31T23:14:50.434Z"
   },
   {
    "duration": 57,
    "start_time": "2023-03-31T23:14:50.564Z"
   },
   {
    "duration": 9,
    "start_time": "2023-03-31T23:14:50.623Z"
   },
   {
    "duration": 7,
    "start_time": "2023-03-31T23:14:50.634Z"
   },
   {
    "duration": 28,
    "start_time": "2023-03-31T23:14:50.642Z"
   },
   {
    "duration": 76,
    "start_time": "2023-03-31T23:14:50.672Z"
   },
   {
    "duration": 2858,
    "start_time": "2023-03-31T23:14:50.751Z"
   },
   {
    "duration": 507,
    "start_time": "2023-03-31T23:14:53.611Z"
   },
   {
    "duration": 501,
    "start_time": "2023-03-31T23:14:54.120Z"
   },
   {
    "duration": 960,
    "start_time": "2023-03-31T23:14:54.622Z"
   },
   {
    "duration": 4,
    "start_time": "2023-03-31T23:14:55.584Z"
   },
   {
    "duration": 70,
    "start_time": "2023-03-31T23:14:55.609Z"
   },
   {
    "duration": 4,
    "start_time": "2023-03-31T23:14:55.681Z"
   },
   {
    "duration": 8,
    "start_time": "2023-03-31T23:14:55.686Z"
   },
   {
    "duration": 23,
    "start_time": "2023-03-31T23:14:55.696Z"
   },
   {
    "duration": 20,
    "start_time": "2023-03-31T23:14:55.721Z"
   },
   {
    "duration": 3,
    "start_time": "2023-03-31T23:14:55.742Z"
   },
   {
    "duration": 124,
    "start_time": "2023-03-31T23:14:55.746Z"
   },
   {
    "duration": 134,
    "start_time": "2023-03-31T23:14:55.871Z"
   },
   {
    "duration": 10,
    "start_time": "2023-03-31T23:14:56.010Z"
   },
   {
    "duration": 4,
    "start_time": "2023-03-31T23:14:56.022Z"
   },
   {
    "duration": 30,
    "start_time": "2023-03-31T23:14:56.029Z"
   },
   {
    "duration": 44,
    "start_time": "2023-03-31T23:14:56.061Z"
   },
   {
    "duration": 6,
    "start_time": "2023-03-31T23:14:56.115Z"
   },
   {
    "duration": 136,
    "start_time": "2023-03-31T23:14:56.123Z"
   },
   {
    "duration": 5,
    "start_time": "2023-03-31T23:15:28.729Z"
   },
   {
    "duration": 15,
    "start_time": "2023-03-31T23:17:43.644Z"
   },
   {
    "duration": 1389,
    "start_time": "2023-03-31T23:20:08.243Z"
   },
   {
    "duration": 720,
    "start_time": "2023-03-31T23:20:09.634Z"
   },
   {
    "duration": 282,
    "start_time": "2023-03-31T23:20:10.355Z"
   },
   {
    "duration": 98,
    "start_time": "2023-03-31T23:20:10.640Z"
   },
   {
    "duration": 272,
    "start_time": "2023-03-31T23:20:10.739Z"
   },
   {
    "duration": 9,
    "start_time": "2023-03-31T23:20:11.015Z"
   },
   {
    "duration": 3,
    "start_time": "2023-03-31T23:20:11.025Z"
   },
   {
    "duration": 122,
    "start_time": "2023-03-31T23:20:11.029Z"
   },
   {
    "duration": 64,
    "start_time": "2023-03-31T23:20:11.153Z"
   },
   {
    "duration": 9,
    "start_time": "2023-03-31T23:20:11.220Z"
   },
   {
    "duration": 6,
    "start_time": "2023-03-31T23:20:11.230Z"
   },
   {
    "duration": 31,
    "start_time": "2023-03-31T23:20:11.237Z"
   },
   {
    "duration": 73,
    "start_time": "2023-03-31T23:20:11.269Z"
   },
   {
    "duration": 2770,
    "start_time": "2023-03-31T23:20:11.343Z"
   },
   {
    "duration": 474,
    "start_time": "2023-03-31T23:20:14.115Z"
   },
   {
    "duration": 466,
    "start_time": "2023-03-31T23:20:14.590Z"
   },
   {
    "duration": 973,
    "start_time": "2023-03-31T23:20:15.058Z"
   },
   {
    "duration": 6,
    "start_time": "2023-03-31T23:20:16.033Z"
   },
   {
    "duration": 7,
    "start_time": "2023-03-31T23:20:16.040Z"
   },
   {
    "duration": 8,
    "start_time": "2023-03-31T23:20:16.049Z"
   },
   {
    "duration": 19,
    "start_time": "2023-03-31T23:20:16.059Z"
   },
   {
    "duration": 4,
    "start_time": "2023-03-31T23:20:16.080Z"
   },
   {
    "duration": 38,
    "start_time": "2023-03-31T23:20:16.086Z"
   },
   {
    "duration": 33,
    "start_time": "2023-03-31T23:20:16.126Z"
   },
   {
    "duration": 4,
    "start_time": "2023-03-31T23:20:16.160Z"
   },
   {
    "duration": 156,
    "start_time": "2023-03-31T23:20:16.165Z"
   },
   {
    "duration": 155,
    "start_time": "2023-03-31T23:20:16.325Z"
   },
   {
    "duration": 4,
    "start_time": "2023-03-31T23:20:16.483Z"
   },
   {
    "duration": 26,
    "start_time": "2023-03-31T23:20:16.488Z"
   },
   {
    "duration": 29,
    "start_time": "2023-03-31T23:20:16.517Z"
   },
   {
    "duration": 26,
    "start_time": "2023-03-31T23:20:16.548Z"
   },
   {
    "duration": 31,
    "start_time": "2023-03-31T23:20:16.575Z"
   },
   {
    "duration": 123,
    "start_time": "2023-03-31T23:20:16.614Z"
   },
   {
    "duration": 45,
    "start_time": "2023-03-31T23:20:38.729Z"
   },
   {
    "duration": 151,
    "start_time": "2023-03-31T23:23:29.984Z"
   },
   {
    "duration": 1411,
    "start_time": "2023-03-31T23:26:38.846Z"
   },
   {
    "duration": 711,
    "start_time": "2023-03-31T23:26:40.259Z"
   },
   {
    "duration": 297,
    "start_time": "2023-03-31T23:26:40.972Z"
   },
   {
    "duration": 91,
    "start_time": "2023-03-31T23:26:41.270Z"
   },
   {
    "duration": 293,
    "start_time": "2023-03-31T23:26:41.363Z"
   },
   {
    "duration": 8,
    "start_time": "2023-03-31T23:26:41.659Z"
   },
   {
    "duration": 4,
    "start_time": "2023-03-31T23:26:41.669Z"
   },
   {
    "duration": 149,
    "start_time": "2023-03-31T23:26:41.674Z"
   },
   {
    "duration": 59,
    "start_time": "2023-03-31T23:26:41.825Z"
   },
   {
    "duration": 11,
    "start_time": "2023-03-31T23:26:41.888Z"
   },
   {
    "duration": 13,
    "start_time": "2023-03-31T23:26:41.902Z"
   },
   {
    "duration": 30,
    "start_time": "2023-03-31T23:26:41.916Z"
   },
   {
    "duration": 73,
    "start_time": "2023-03-31T23:26:41.948Z"
   },
   {
    "duration": 2709,
    "start_time": "2023-03-31T23:26:42.024Z"
   },
   {
    "duration": 503,
    "start_time": "2023-03-31T23:26:44.735Z"
   },
   {
    "duration": 509,
    "start_time": "2023-03-31T23:26:45.239Z"
   },
   {
    "duration": 994,
    "start_time": "2023-03-31T23:26:45.750Z"
   },
   {
    "duration": 5,
    "start_time": "2023-03-31T23:26:46.746Z"
   },
   {
    "duration": 4,
    "start_time": "2023-03-31T23:26:46.752Z"
   },
   {
    "duration": 6,
    "start_time": "2023-03-31T23:26:46.758Z"
   },
   {
    "duration": 38,
    "start_time": "2023-03-31T23:26:46.765Z"
   },
   {
    "duration": 8,
    "start_time": "2023-03-31T23:26:46.812Z"
   },
   {
    "duration": 10,
    "start_time": "2023-03-31T23:26:46.823Z"
   },
   {
    "duration": 27,
    "start_time": "2023-03-31T23:26:46.835Z"
   },
   {
    "duration": 3,
    "start_time": "2023-03-31T23:26:46.864Z"
   },
   {
    "duration": 174,
    "start_time": "2023-03-31T23:26:46.869Z"
   },
   {
    "duration": 141,
    "start_time": "2023-03-31T23:26:47.046Z"
   },
   {
    "duration": 25,
    "start_time": "2023-03-31T23:26:47.190Z"
   },
   {
    "duration": 4,
    "start_time": "2023-03-31T23:26:47.216Z"
   },
   {
    "duration": 42,
    "start_time": "2023-03-31T23:26:47.222Z"
   },
   {
    "duration": 26,
    "start_time": "2023-03-31T23:26:47.266Z"
   },
   {
    "duration": 17,
    "start_time": "2023-03-31T23:26:47.293Z"
   },
   {
    "duration": 124,
    "start_time": "2023-03-31T23:26:47.318Z"
   },
   {
    "duration": 1348,
    "start_time": "2023-03-31T23:33:37.447Z"
   },
   {
    "duration": 713,
    "start_time": "2023-03-31T23:33:38.797Z"
   },
   {
    "duration": 283,
    "start_time": "2023-03-31T23:33:39.516Z"
   },
   {
    "duration": 104,
    "start_time": "2023-03-31T23:33:39.801Z"
   },
   {
    "duration": 279,
    "start_time": "2023-03-31T23:33:39.906Z"
   },
   {
    "duration": 7,
    "start_time": "2023-03-31T23:33:40.186Z"
   },
   {
    "duration": 10,
    "start_time": "2023-03-31T23:33:40.195Z"
   },
   {
    "duration": 121,
    "start_time": "2023-03-31T23:33:40.214Z"
   },
   {
    "duration": 2,
    "start_time": "2023-03-31T23:33:40.337Z"
   },
   {
    "duration": 10,
    "start_time": "2023-03-31T23:33:40.342Z"
   },
   {
    "duration": 6,
    "start_time": "2023-03-31T23:33:40.354Z"
   },
   {
    "duration": 55,
    "start_time": "2023-03-31T23:33:40.362Z"
   },
   {
    "duration": 55,
    "start_time": "2023-03-31T23:33:40.419Z"
   },
   {
    "duration": 2722,
    "start_time": "2023-03-31T23:33:40.476Z"
   },
   {
    "duration": 488,
    "start_time": "2023-03-31T23:33:43.200Z"
   },
   {
    "duration": 475,
    "start_time": "2023-03-31T23:33:43.690Z"
   },
   {
    "duration": 951,
    "start_time": "2023-03-31T23:33:44.167Z"
   },
   {
    "duration": 5,
    "start_time": "2023-03-31T23:33:45.119Z"
   },
   {
    "duration": 4,
    "start_time": "2023-03-31T23:33:45.125Z"
   },
   {
    "duration": 7,
    "start_time": "2023-03-31T23:33:45.131Z"
   },
   {
    "duration": 16,
    "start_time": "2023-03-31T23:33:45.140Z"
   },
   {
    "duration": 3,
    "start_time": "2023-03-31T23:33:45.158Z"
   },
   {
    "duration": 13,
    "start_time": "2023-03-31T23:33:45.163Z"
   },
   {
    "duration": 45,
    "start_time": "2023-03-31T23:33:45.178Z"
   },
   {
    "duration": 2,
    "start_time": "2023-03-31T23:33:45.225Z"
   },
   {
    "duration": 4568,
    "start_time": "2023-03-31T23:33:45.229Z"
   },
   {
    "duration": 4481,
    "start_time": "2023-03-31T23:33:49.805Z"
   },
   {
    "duration": 3,
    "start_time": "2023-03-31T23:33:54.290Z"
   },
   {
    "duration": 5,
    "start_time": "2023-03-31T23:33:54.302Z"
   },
   {
    "duration": 1997,
    "start_time": "2023-03-31T23:33:54.308Z"
   },
   {
    "duration": 1712,
    "start_time": "2023-03-31T23:33:56.307Z"
   },
   {
    "duration": 6,
    "start_time": "2023-03-31T23:33:58.106Z"
   },
   {
    "duration": 993,
    "start_time": "2023-03-31T23:33:58.115Z"
   },
   {
    "duration": 38,
    "start_time": "2023-03-31T23:39:06.027Z"
   },
   {
    "duration": 1364,
    "start_time": "2023-03-31T23:39:24.353Z"
   },
   {
    "duration": 719,
    "start_time": "2023-03-31T23:39:25.719Z"
   },
   {
    "duration": 303,
    "start_time": "2023-03-31T23:39:26.440Z"
   },
   {
    "duration": 98,
    "start_time": "2023-03-31T23:39:26.746Z"
   },
   {
    "duration": 285,
    "start_time": "2023-03-31T23:39:26.846Z"
   },
   {
    "duration": 7,
    "start_time": "2023-03-31T23:39:27.132Z"
   },
   {
    "duration": 4,
    "start_time": "2023-03-31T23:39:27.141Z"
   },
   {
    "duration": 13,
    "start_time": "2023-03-31T23:39:27.146Z"
   },
   {
    "duration": 5,
    "start_time": "2023-03-31T23:39:27.160Z"
   },
   {
    "duration": 10,
    "start_time": "2023-03-31T23:39:27.167Z"
   },
   {
    "duration": 34,
    "start_time": "2023-03-31T23:39:27.179Z"
   },
   {
    "duration": 29,
    "start_time": "2023-03-31T23:39:27.215Z"
   },
   {
    "duration": 78,
    "start_time": "2023-03-31T23:39:27.246Z"
   },
   {
    "duration": 2659,
    "start_time": "2023-03-31T23:39:27.326Z"
   },
   {
    "duration": 486,
    "start_time": "2023-03-31T23:39:29.986Z"
   },
   {
    "duration": 514,
    "start_time": "2023-03-31T23:39:30.474Z"
   },
   {
    "duration": 989,
    "start_time": "2023-03-31T23:39:30.989Z"
   },
   {
    "duration": 5,
    "start_time": "2023-03-31T23:39:31.979Z"
   },
   {
    "duration": 22,
    "start_time": "2023-03-31T23:39:31.985Z"
   },
   {
    "duration": 42,
    "start_time": "2023-03-31T23:39:32.008Z"
   },
   {
    "duration": 45,
    "start_time": "2023-03-31T23:39:32.052Z"
   },
   {
    "duration": 11,
    "start_time": "2023-03-31T23:39:32.099Z"
   },
   {
    "duration": 30,
    "start_time": "2023-03-31T23:39:32.111Z"
   },
   {
    "duration": 39,
    "start_time": "2023-03-31T23:39:32.142Z"
   },
   {
    "duration": 5,
    "start_time": "2023-03-31T23:39:32.183Z"
   },
   {
    "duration": 4555,
    "start_time": "2023-03-31T23:39:32.190Z"
   },
   {
    "duration": 4487,
    "start_time": "2023-03-31T23:39:36.747Z"
   },
   {
    "duration": 4,
    "start_time": "2023-03-31T23:39:41.237Z"
   },
   {
    "duration": 6,
    "start_time": "2023-03-31T23:39:41.243Z"
   },
   {
    "duration": 2352,
    "start_time": "2023-03-31T23:39:41.251Z"
   },
   {
    "duration": 1612,
    "start_time": "2023-03-31T23:39:43.605Z"
   },
   {
    "duration": 6,
    "start_time": "2023-03-31T23:39:45.223Z"
   },
   {
    "duration": 1207,
    "start_time": "2023-03-31T23:39:45.304Z"
   },
   {
    "duration": 1397,
    "start_time": "2023-03-31T23:41:19.938Z"
   },
   {
    "duration": 750,
    "start_time": "2023-03-31T23:41:21.337Z"
   },
   {
    "duration": 287,
    "start_time": "2023-03-31T23:41:22.089Z"
   },
   {
    "duration": 102,
    "start_time": "2023-03-31T23:41:22.378Z"
   },
   {
    "duration": 277,
    "start_time": "2023-03-31T23:41:22.482Z"
   },
   {
    "duration": 7,
    "start_time": "2023-03-31T23:41:22.761Z"
   },
   {
    "duration": 6,
    "start_time": "2023-03-31T23:41:22.769Z"
   },
   {
    "duration": 43,
    "start_time": "2023-03-31T23:41:22.776Z"
   },
   {
    "duration": 10,
    "start_time": "2023-03-31T23:41:22.820Z"
   },
   {
    "duration": 7,
    "start_time": "2023-03-31T23:41:22.832Z"
   },
   {
    "duration": 28,
    "start_time": "2023-03-31T23:41:22.840Z"
   },
   {
    "duration": 79,
    "start_time": "2023-03-31T23:41:22.871Z"
   },
   {
    "duration": 2701,
    "start_time": "2023-03-31T23:41:22.952Z"
   },
   {
    "duration": 497,
    "start_time": "2023-03-31T23:41:25.655Z"
   },
   {
    "duration": 481,
    "start_time": "2023-03-31T23:41:26.154Z"
   },
   {
    "duration": 982,
    "start_time": "2023-03-31T23:41:26.636Z"
   },
   {
    "duration": 5,
    "start_time": "2023-03-31T23:41:27.619Z"
   },
   {
    "duration": 56,
    "start_time": "2023-03-31T23:41:27.625Z"
   },
   {
    "duration": 4,
    "start_time": "2023-03-31T23:41:27.683Z"
   },
   {
    "duration": 29,
    "start_time": "2023-03-31T23:41:27.688Z"
   },
   {
    "duration": 7,
    "start_time": "2023-03-31T23:41:27.718Z"
   },
   {
    "duration": 27,
    "start_time": "2023-03-31T23:41:27.726Z"
   },
   {
    "duration": 3,
    "start_time": "2023-03-31T23:41:27.754Z"
   },
   {
    "duration": 4238,
    "start_time": "2023-03-31T23:41:27.759Z"
   },
   {
    "duration": 4178,
    "start_time": "2023-03-31T23:41:31.998Z"
   },
   {
    "duration": 5,
    "start_time": "2023-03-31T23:41:36.178Z"
   },
   {
    "duration": 33,
    "start_time": "2023-03-31T23:41:36.184Z"
   },
   {
    "duration": 1685,
    "start_time": "2023-03-31T23:41:36.221Z"
   },
   {
    "duration": 1706,
    "start_time": "2023-03-31T23:41:37.908Z"
   },
   {
    "duration": 7,
    "start_time": "2023-03-31T23:41:39.616Z"
   },
   {
    "duration": 1082,
    "start_time": "2023-03-31T23:41:39.625Z"
   },
   {
    "duration": 4221,
    "start_time": "2023-03-31T23:42:46.730Z"
   },
   {
    "duration": 1354,
    "start_time": "2023-03-31T23:44:43.471Z"
   },
   {
    "duration": 717,
    "start_time": "2023-03-31T23:44:44.827Z"
   },
   {
    "duration": 290,
    "start_time": "2023-03-31T23:44:45.545Z"
   },
   {
    "duration": 94,
    "start_time": "2023-03-31T23:44:45.837Z"
   },
   {
    "duration": 284,
    "start_time": "2023-03-31T23:44:45.933Z"
   },
   {
    "duration": 7,
    "start_time": "2023-03-31T23:44:46.219Z"
   },
   {
    "duration": 3,
    "start_time": "2023-03-31T23:44:46.228Z"
   },
   {
    "duration": 14,
    "start_time": "2023-03-31T23:44:46.232Z"
   },
   {
    "duration": 12,
    "start_time": "2023-03-31T23:44:46.248Z"
   },
   {
    "duration": 9,
    "start_time": "2023-03-31T23:44:46.262Z"
   },
   {
    "duration": 53,
    "start_time": "2023-03-31T23:44:46.272Z"
   },
   {
    "duration": 52,
    "start_time": "2023-03-31T23:44:46.327Z"
   },
   {
    "duration": 2796,
    "start_time": "2023-03-31T23:44:46.380Z"
   },
   {
    "duration": 490,
    "start_time": "2023-03-31T23:44:49.178Z"
   },
   {
    "duration": 509,
    "start_time": "2023-03-31T23:44:49.670Z"
   },
   {
    "duration": 958,
    "start_time": "2023-03-31T23:44:50.180Z"
   },
   {
    "duration": 4,
    "start_time": "2023-03-31T23:44:51.141Z"
   },
   {
    "duration": 68,
    "start_time": "2023-03-31T23:44:51.147Z"
   },
   {
    "duration": 4,
    "start_time": "2023-03-31T23:44:51.217Z"
   },
   {
    "duration": 7,
    "start_time": "2023-03-31T23:44:51.223Z"
   },
   {
    "duration": 11,
    "start_time": "2023-03-31T23:44:51.232Z"
   },
   {
    "duration": 21,
    "start_time": "2023-03-31T23:44:51.245Z"
   },
   {
    "duration": 3,
    "start_time": "2023-03-31T23:44:51.268Z"
   },
   {
    "duration": 4183,
    "start_time": "2023-03-31T23:44:51.272Z"
   },
   {
    "duration": 4243,
    "start_time": "2023-03-31T23:44:55.457Z"
   },
   {
    "duration": 1491933,
    "start_time": "2023-03-31T23:44:59.702Z"
   },
   {
    "duration": 1523756,
    "start_time": "2023-04-01T00:09:51.637Z"
   },
   {
    "duration": 1911,
    "start_time": "2023-04-01T00:35:15.396Z"
   },
   {
    "duration": 2104,
    "start_time": "2023-04-01T00:35:17.309Z"
   },
   {
    "duration": 10,
    "start_time": "2023-04-01T00:35:19.415Z"
   },
   {
    "duration": 1081,
    "start_time": "2023-04-01T00:35:19.428Z"
   },
   {
    "duration": 46,
    "start_time": "2023-04-01T11:00:26.755Z"
   },
   {
    "duration": 1501,
    "start_time": "2023-04-01T11:00:35.468Z"
   },
   {
    "duration": 3001,
    "start_time": "2023-04-01T11:00:36.971Z"
   },
   {
    "duration": 263,
    "start_time": "2023-04-01T11:00:39.973Z"
   },
   {
    "duration": 94,
    "start_time": "2023-04-01T11:00:40.239Z"
   },
   {
    "duration": 260,
    "start_time": "2023-04-01T11:00:40.335Z"
   },
   {
    "duration": 7,
    "start_time": "2023-04-01T11:00:40.597Z"
   },
   {
    "duration": 15,
    "start_time": "2023-04-01T11:00:40.606Z"
   },
   {
    "duration": 20,
    "start_time": "2023-04-01T11:00:40.623Z"
   },
   {
    "duration": 13,
    "start_time": "2023-04-01T11:00:40.645Z"
   },
   {
    "duration": 6,
    "start_time": "2023-04-01T11:00:40.661Z"
   },
   {
    "duration": 29,
    "start_time": "2023-04-01T11:00:40.668Z"
   },
   {
    "duration": 61,
    "start_time": "2023-04-01T11:00:40.698Z"
   },
   {
    "duration": 2305,
    "start_time": "2023-04-01T11:00:40.760Z"
   },
   {
    "duration": 437,
    "start_time": "2023-04-01T11:00:43.067Z"
   },
   {
    "duration": 409,
    "start_time": "2023-04-01T11:00:43.506Z"
   },
   {
    "duration": 857,
    "start_time": "2023-04-01T11:00:43.916Z"
   },
   {
    "duration": 4,
    "start_time": "2023-04-01T11:00:44.774Z"
   },
   {
    "duration": 62,
    "start_time": "2023-04-01T11:00:44.779Z"
   },
   {
    "duration": 3,
    "start_time": "2023-04-01T11:00:44.843Z"
   },
   {
    "duration": 10,
    "start_time": "2023-04-01T11:00:44.848Z"
   },
   {
    "duration": 14,
    "start_time": "2023-04-01T11:00:44.860Z"
   },
   {
    "duration": 28,
    "start_time": "2023-04-01T11:00:44.875Z"
   },
   {
    "duration": 2,
    "start_time": "2023-04-01T11:00:44.905Z"
   },
   {
    "duration": 3855,
    "start_time": "2023-04-01T11:00:44.909Z"
   },
   {
    "duration": 3975,
    "start_time": "2023-04-01T11:00:48.765Z"
   },
   {
    "duration": 2,
    "start_time": "2023-04-01T11:00:52.742Z"
   },
   {
    "duration": 13,
    "start_time": "2023-04-01T11:00:52.745Z"
   },
   {
    "duration": 1177,
    "start_time": "2023-04-01T11:00:52.761Z"
   },
   {
    "duration": 1497,
    "start_time": "2023-04-01T11:00:53.941Z"
   },
   {
    "duration": 229,
    "start_time": "2023-04-01T11:00:55.440Z"
   },
   {
    "duration": 0,
    "start_time": "2023-04-01T11:00:55.671Z"
   },
   {
    "duration": 0,
    "start_time": "2023-04-01T11:00:55.672Z"
   },
   {
    "duration": 30,
    "start_time": "2023-04-01T11:07:13.775Z"
   },
   {
    "duration": 5,
    "start_time": "2023-04-01T11:07:55.697Z"
   },
   {
    "duration": 13,
    "start_time": "2023-04-01T11:07:57.287Z"
   },
   {
    "duration": 1351,
    "start_time": "2023-04-01T11:09:45.567Z"
   },
   {
    "duration": 702,
    "start_time": "2023-04-01T11:09:46.920Z"
   },
   {
    "duration": 265,
    "start_time": "2023-04-01T11:09:47.624Z"
   },
   {
    "duration": 119,
    "start_time": "2023-04-01T11:09:47.891Z"
   },
   {
    "duration": 254,
    "start_time": "2023-04-01T11:09:48.013Z"
   },
   {
    "duration": 8,
    "start_time": "2023-04-01T11:09:48.269Z"
   },
   {
    "duration": 16,
    "start_time": "2023-04-01T11:09:48.278Z"
   },
   {
    "duration": 25,
    "start_time": "2023-04-01T11:09:48.295Z"
   },
   {
    "duration": 15,
    "start_time": "2023-04-01T11:09:48.321Z"
   },
   {
    "duration": 9,
    "start_time": "2023-04-01T11:09:48.339Z"
   },
   {
    "duration": 37,
    "start_time": "2023-04-01T11:09:48.350Z"
   },
   {
    "duration": 85,
    "start_time": "2023-04-01T11:09:48.388Z"
   },
   {
    "duration": 2409,
    "start_time": "2023-04-01T11:09:48.475Z"
   },
   {
    "duration": 442,
    "start_time": "2023-04-01T11:09:50.886Z"
   },
   {
    "duration": 431,
    "start_time": "2023-04-01T11:09:51.333Z"
   },
   {
    "duration": 901,
    "start_time": "2023-04-01T11:09:51.767Z"
   },
   {
    "duration": 5,
    "start_time": "2023-04-01T11:09:52.670Z"
   },
   {
    "duration": 69,
    "start_time": "2023-04-01T11:09:52.676Z"
   },
   {
    "duration": 4,
    "start_time": "2023-04-01T11:09:52.747Z"
   },
   {
    "duration": 10,
    "start_time": "2023-04-01T11:09:52.753Z"
   },
   {
    "duration": 10,
    "start_time": "2023-04-01T11:09:52.765Z"
   },
   {
    "duration": 28,
    "start_time": "2023-04-01T11:09:52.777Z"
   },
   {
    "duration": 4,
    "start_time": "2023-04-01T11:09:52.807Z"
   },
   {
    "duration": 4297,
    "start_time": "2023-04-01T11:09:52.813Z"
   },
   {
    "duration": 3969,
    "start_time": "2023-04-01T11:09:57.112Z"
   },
   {
    "duration": 2,
    "start_time": "2023-04-01T11:10:01.083Z"
   },
   {
    "duration": 33,
    "start_time": "2023-04-01T11:10:01.087Z"
   },
   {
    "duration": 1314,
    "start_time": "2023-04-01T11:10:01.123Z"
   },
   {
    "duration": 1498,
    "start_time": "2023-04-01T11:10:02.440Z"
   },
   {
    "duration": 6,
    "start_time": "2023-04-01T11:10:03.940Z"
   },
   {
    "duration": 586,
    "start_time": "2023-04-01T11:10:03.948Z"
   },
   {
    "duration": 5,
    "start_time": "2023-04-01T11:10:04.537Z"
   },
   {
    "duration": 480,
    "start_time": "2023-04-01T11:14:31.258Z"
   },
   {
    "duration": 390,
    "start_time": "2023-04-01T11:19:19.853Z"
   },
   {
    "duration": 686,
    "start_time": "2023-04-01T11:25:10.318Z"
   },
   {
    "duration": 464,
    "start_time": "2023-04-01T11:25:19.887Z"
   },
   {
    "duration": 732,
    "start_time": "2023-04-01T11:25:34.902Z"
   },
   {
    "duration": 4,
    "start_time": "2023-04-01T11:26:35.877Z"
   },
   {
    "duration": 4,
    "start_time": "2023-04-01T11:30:43.000Z"
   },
   {
    "duration": 7,
    "start_time": "2023-04-01T11:41:26.191Z"
   },
   {
    "duration": 6,
    "start_time": "2023-04-01T11:46:41.964Z"
   },
   {
    "duration": 8,
    "start_time": "2023-04-01T11:46:45.503Z"
   },
   {
    "duration": 1527,
    "start_time": "2023-04-01T11:46:56.902Z"
   },
   {
    "duration": 751,
    "start_time": "2023-04-01T11:46:58.432Z"
   },
   {
    "duration": 308,
    "start_time": "2023-04-01T11:46:59.185Z"
   },
   {
    "duration": 99,
    "start_time": "2023-04-01T11:46:59.495Z"
   },
   {
    "duration": 342,
    "start_time": "2023-04-01T11:46:59.597Z"
   },
   {
    "duration": 9,
    "start_time": "2023-04-01T11:46:59.941Z"
   },
   {
    "duration": 15,
    "start_time": "2023-04-01T11:46:59.952Z"
   },
   {
    "duration": 19,
    "start_time": "2023-04-01T11:46:59.969Z"
   },
   {
    "duration": 11,
    "start_time": "2023-04-01T11:46:59.990Z"
   },
   {
    "duration": 35,
    "start_time": "2023-04-01T11:47:00.003Z"
   },
   {
    "duration": 52,
    "start_time": "2023-04-01T11:47:00.040Z"
   },
   {
    "duration": 55,
    "start_time": "2023-04-01T11:47:00.094Z"
   },
   {
    "duration": 2789,
    "start_time": "2023-04-01T11:47:00.151Z"
   },
   {
    "duration": 540,
    "start_time": "2023-04-01T11:47:02.943Z"
   },
   {
    "duration": 555,
    "start_time": "2023-04-01T11:47:03.486Z"
   },
   {
    "duration": 1080,
    "start_time": "2023-04-01T11:47:04.044Z"
   },
   {
    "duration": 10,
    "start_time": "2023-04-01T11:47:05.126Z"
   },
   {
    "duration": 75,
    "start_time": "2023-04-01T11:47:05.138Z"
   },
   {
    "duration": 4,
    "start_time": "2023-04-01T11:47:05.215Z"
   },
   {
    "duration": 14,
    "start_time": "2023-04-01T11:47:05.222Z"
   },
   {
    "duration": 11,
    "start_time": "2023-04-01T11:47:05.238Z"
   },
   {
    "duration": 25,
    "start_time": "2023-04-01T11:47:05.251Z"
   },
   {
    "duration": 3,
    "start_time": "2023-04-01T11:47:05.278Z"
   },
   {
    "duration": 4558,
    "start_time": "2023-04-01T11:47:05.282Z"
   },
   {
    "duration": 4590,
    "start_time": "2023-04-01T11:47:09.841Z"
   },
   {
    "duration": 3,
    "start_time": "2023-04-01T11:47:14.434Z"
   },
   {
    "duration": 14,
    "start_time": "2023-04-01T11:47:14.439Z"
   },
   {
    "duration": 1595,
    "start_time": "2023-04-01T11:47:14.455Z"
   },
   {
    "duration": 1681,
    "start_time": "2023-04-01T11:47:16.053Z"
   },
   {
    "duration": 6,
    "start_time": "2023-04-01T11:47:17.736Z"
   },
   {
    "duration": 498,
    "start_time": "2023-04-01T11:47:17.744Z"
   },
   {
    "duration": 90,
    "start_time": "2023-04-01T11:47:18.245Z"
   },
   {
    "duration": 7,
    "start_time": "2023-04-01T11:47:18.337Z"
   },
   {
    "duration": 124,
    "start_time": "2023-04-01T11:50:24.893Z"
   },
   {
    "duration": 14,
    "start_time": "2023-04-01T11:50:54.715Z"
   },
   {
    "duration": 10,
    "start_time": "2023-04-01T11:52:06.266Z"
   },
   {
    "duration": 10,
    "start_time": "2023-04-01T11:53:30.459Z"
   },
   {
    "duration": 10,
    "start_time": "2023-04-01T11:53:51.001Z"
   },
   {
    "duration": 9,
    "start_time": "2023-04-01T11:56:02.402Z"
   },
   {
    "duration": 2671,
    "start_time": "2023-04-02T08:33:54.686Z"
   },
   {
    "duration": 838,
    "start_time": "2023-04-02T08:33:57.359Z"
   },
   {
    "duration": 309,
    "start_time": "2023-04-02T08:33:58.199Z"
   },
   {
    "duration": 113,
    "start_time": "2023-04-02T08:33:58.510Z"
   },
   {
    "duration": 261,
    "start_time": "2023-04-02T08:33:58.625Z"
   },
   {
    "duration": 8,
    "start_time": "2023-04-02T08:33:58.887Z"
   },
   {
    "duration": 5,
    "start_time": "2023-04-02T08:33:58.896Z"
   },
   {
    "duration": 11,
    "start_time": "2023-04-02T08:33:58.902Z"
   },
   {
    "duration": 7,
    "start_time": "2023-04-02T08:33:58.915Z"
   },
   {
    "duration": 51,
    "start_time": "2023-04-02T08:33:58.924Z"
   },
   {
    "duration": 26,
    "start_time": "2023-04-02T08:33:58.984Z"
   },
   {
    "duration": 79,
    "start_time": "2023-04-02T08:33:59.012Z"
   },
   {
    "duration": 2763,
    "start_time": "2023-04-02T08:33:59.092Z"
   },
   {
    "duration": 505,
    "start_time": "2023-04-02T08:34:01.868Z"
   },
   {
    "duration": 456,
    "start_time": "2023-04-02T08:34:02.374Z"
   },
   {
    "duration": 903,
    "start_time": "2023-04-02T08:34:02.831Z"
   },
   {
    "duration": 18,
    "start_time": "2023-04-02T08:34:03.735Z"
   },
   {
    "duration": 59,
    "start_time": "2023-04-02T08:34:03.755Z"
   },
   {
    "duration": 3,
    "start_time": "2023-04-02T08:34:03.816Z"
   },
   {
    "duration": 45,
    "start_time": "2023-04-02T08:34:03.820Z"
   },
   {
    "duration": 15,
    "start_time": "2023-04-02T08:34:03.878Z"
   },
   {
    "duration": 18,
    "start_time": "2023-04-02T08:34:03.895Z"
   },
   {
    "duration": 7,
    "start_time": "2023-04-02T08:34:03.915Z"
   },
   {
    "duration": 5055,
    "start_time": "2023-04-02T08:34:03.923Z"
   },
   {
    "duration": 5203,
    "start_time": "2023-04-02T08:34:48.526Z"
   },
   {
    "duration": 5417,
    "start_time": "2023-04-02T08:35:28.599Z"
   },
   {
    "duration": 1877,
    "start_time": "2023-04-02T10:42:35.142Z"
   },
   {
    "duration": 3197,
    "start_time": "2023-04-02T10:42:37.021Z"
   },
   {
    "duration": 335,
    "start_time": "2023-04-02T10:42:40.220Z"
   },
   {
    "duration": 110,
    "start_time": "2023-04-02T10:42:40.557Z"
   },
   {
    "duration": 308,
    "start_time": "2023-04-02T10:42:40.669Z"
   },
   {
    "duration": 8,
    "start_time": "2023-04-02T10:42:40.979Z"
   },
   {
    "duration": 11,
    "start_time": "2023-04-02T10:42:40.989Z"
   },
   {
    "duration": 36,
    "start_time": "2023-04-02T10:42:41.002Z"
   },
   {
    "duration": 9,
    "start_time": "2023-04-02T10:42:41.039Z"
   },
   {
    "duration": 7,
    "start_time": "2023-04-02T10:42:41.050Z"
   },
   {
    "duration": 37,
    "start_time": "2023-04-02T10:42:41.059Z"
   },
   {
    "duration": 78,
    "start_time": "2023-04-02T10:42:41.098Z"
   },
   {
    "duration": 2723,
    "start_time": "2023-04-02T10:42:41.178Z"
   },
   {
    "duration": 506,
    "start_time": "2023-04-02T10:42:43.903Z"
   },
   {
    "duration": 491,
    "start_time": "2023-04-02T10:42:44.411Z"
   },
   {
    "duration": 1034,
    "start_time": "2023-04-02T10:42:44.904Z"
   },
   {
    "duration": 3,
    "start_time": "2023-04-02T10:42:45.941Z"
   },
   {
    "duration": 81,
    "start_time": "2023-04-02T10:42:45.946Z"
   },
   {
    "duration": 5,
    "start_time": "2023-04-02T10:42:46.030Z"
   },
   {
    "duration": 21,
    "start_time": "2023-04-02T10:42:46.037Z"
   },
   {
    "duration": 20,
    "start_time": "2023-04-02T10:42:46.061Z"
   },
   {
    "duration": 30,
    "start_time": "2023-04-02T10:42:46.083Z"
   },
   {
    "duration": 3,
    "start_time": "2023-04-02T10:42:46.115Z"
   },
   {
    "duration": 4594,
    "start_time": "2023-04-02T10:42:46.120Z"
   },
   {
    "duration": 4615,
    "start_time": "2023-04-02T10:42:50.718Z"
   },
   {
    "duration": 3,
    "start_time": "2023-04-02T10:42:55.335Z"
   },
   {
    "duration": 16,
    "start_time": "2023-04-02T10:42:55.340Z"
   },
   {
    "duration": 1385,
    "start_time": "2023-04-02T10:42:55.359Z"
   },
   {
    "duration": 1492,
    "start_time": "2023-04-02T10:42:56.747Z"
   },
   {
    "duration": 94,
    "start_time": "2023-04-02T10:42:58.242Z"
   },
   {
    "duration": 599,
    "start_time": "2023-04-02T10:42:58.339Z"
   },
   {
    "duration": 5,
    "start_time": "2023-04-02T10:42:58.940Z"
   },
   {
    "duration": 94,
    "start_time": "2023-04-02T10:42:58.947Z"
   },
   {
    "duration": 1717,
    "start_time": "2023-04-02T10:47:30.821Z"
   },
   {
    "duration": 826,
    "start_time": "2023-04-02T10:47:32.540Z"
   },
   {
    "duration": 340,
    "start_time": "2023-04-02T10:47:33.368Z"
   },
   {
    "duration": 132,
    "start_time": "2023-04-02T10:47:33.710Z"
   },
   {
    "duration": 302,
    "start_time": "2023-04-02T10:47:33.843Z"
   },
   {
    "duration": 10,
    "start_time": "2023-04-02T10:47:34.147Z"
   },
   {
    "duration": 14,
    "start_time": "2023-04-02T10:47:34.160Z"
   },
   {
    "duration": 32,
    "start_time": "2023-04-02T10:47:34.176Z"
   },
   {
    "duration": 10,
    "start_time": "2023-04-02T10:47:34.211Z"
   },
   {
    "duration": 10,
    "start_time": "2023-04-02T10:47:34.236Z"
   },
   {
    "duration": 49,
    "start_time": "2023-04-02T10:47:34.249Z"
   },
   {
    "duration": 79,
    "start_time": "2023-04-02T10:47:34.301Z"
   },
   {
    "duration": 2956,
    "start_time": "2023-04-02T10:47:34.382Z"
   },
   {
    "duration": 502,
    "start_time": "2023-04-02T10:47:37.340Z"
   },
   {
    "duration": 498,
    "start_time": "2023-04-02T10:47:37.844Z"
   },
   {
    "duration": 993,
    "start_time": "2023-04-02T10:47:38.344Z"
   },
   {
    "duration": 4,
    "start_time": "2023-04-02T10:47:39.339Z"
   },
   {
    "duration": 69,
    "start_time": "2023-04-02T10:47:39.345Z"
   },
   {
    "duration": 4,
    "start_time": "2023-04-02T10:47:39.415Z"
   },
   {
    "duration": 27,
    "start_time": "2023-04-02T10:47:39.420Z"
   },
   {
    "duration": 16,
    "start_time": "2023-04-02T10:47:39.449Z"
   },
   {
    "duration": 24,
    "start_time": "2023-04-02T10:47:39.466Z"
   },
   {
    "duration": 4,
    "start_time": "2023-04-02T10:47:39.492Z"
   },
   {
    "duration": 4377,
    "start_time": "2023-04-02T10:47:39.498Z"
   },
   {
    "duration": 4473,
    "start_time": "2023-04-02T10:47:43.877Z"
   },
   {
    "duration": 3,
    "start_time": "2023-04-02T10:47:48.352Z"
   },
   {
    "duration": 21,
    "start_time": "2023-04-02T10:47:48.357Z"
   },
   {
    "duration": 1459,
    "start_time": "2023-04-02T10:47:48.382Z"
   },
   {
    "duration": 1995,
    "start_time": "2023-04-02T10:47:49.844Z"
   },
   {
    "duration": 6,
    "start_time": "2023-04-02T10:47:51.842Z"
   },
   {
    "duration": 683,
    "start_time": "2023-04-02T10:47:51.851Z"
   },
   {
    "duration": 5,
    "start_time": "2023-04-02T10:47:52.537Z"
   },
   {
    "duration": 96,
    "start_time": "2023-04-02T10:47:52.544Z"
   },
   {
    "duration": 1589,
    "start_time": "2023-04-02T10:52:57.754Z"
   },
   {
    "duration": 843,
    "start_time": "2023-04-02T10:52:59.346Z"
   },
   {
    "duration": 392,
    "start_time": "2023-04-02T10:53:00.192Z"
   },
   {
    "duration": 111,
    "start_time": "2023-04-02T10:53:00.587Z"
   },
   {
    "duration": 372,
    "start_time": "2023-04-02T10:53:00.700Z"
   },
   {
    "duration": 9,
    "start_time": "2023-04-02T10:53:01.074Z"
   },
   {
    "duration": 17,
    "start_time": "2023-04-02T10:53:01.085Z"
   },
   {
    "duration": 36,
    "start_time": "2023-04-02T10:53:01.105Z"
   },
   {
    "duration": 23,
    "start_time": "2023-04-02T10:53:01.143Z"
   },
   {
    "duration": 11,
    "start_time": "2023-04-02T10:53:01.170Z"
   },
   {
    "duration": 57,
    "start_time": "2023-04-02T10:53:01.183Z"
   },
   {
    "duration": 68,
    "start_time": "2023-04-02T10:53:01.242Z"
   },
   {
    "duration": 3118,
    "start_time": "2023-04-02T10:53:01.311Z"
   },
   {
    "duration": 558,
    "start_time": "2023-04-02T10:53:04.431Z"
   },
   {
    "duration": 559,
    "start_time": "2023-04-02T10:53:04.991Z"
   },
   {
    "duration": 1083,
    "start_time": "2023-04-02T10:53:05.552Z"
   },
   {
    "duration": 5,
    "start_time": "2023-04-02T10:53:06.640Z"
   },
   {
    "duration": 98,
    "start_time": "2023-04-02T10:53:06.647Z"
   },
   {
    "duration": 6,
    "start_time": "2023-04-02T10:53:06.747Z"
   },
   {
    "duration": 42,
    "start_time": "2023-04-02T10:53:06.755Z"
   },
   {
    "duration": 39,
    "start_time": "2023-04-02T10:53:06.799Z"
   },
   {
    "duration": 52,
    "start_time": "2023-04-02T10:53:06.840Z"
   },
   {
    "duration": 24,
    "start_time": "2023-04-02T10:53:06.895Z"
   },
   {
    "duration": 5126,
    "start_time": "2023-04-02T10:53:06.922Z"
   },
   {
    "duration": 5227,
    "start_time": "2023-04-02T10:53:12.051Z"
   },
   {
    "duration": 4,
    "start_time": "2023-04-02T10:53:17.281Z"
   },
   {
    "duration": 13,
    "start_time": "2023-04-02T10:53:17.287Z"
   },
   {
    "duration": 1936,
    "start_time": "2023-04-02T10:53:17.306Z"
   },
   {
    "duration": 1797,
    "start_time": "2023-04-02T10:53:19.245Z"
   },
   {
    "duration": 89,
    "start_time": "2023-04-02T10:53:21.045Z"
   },
   {
    "duration": 1401,
    "start_time": "2023-04-02T10:53:21.137Z"
   },
   {
    "duration": 10,
    "start_time": "2023-04-02T10:53:22.540Z"
   },
   {
    "duration": 182,
    "start_time": "2023-04-02T10:53:22.554Z"
   },
   {
    "duration": 1435,
    "start_time": "2023-04-02T10:55:51.422Z"
   },
   {
    "duration": 761,
    "start_time": "2023-04-02T10:55:52.859Z"
   },
   {
    "duration": 298,
    "start_time": "2023-04-02T10:55:53.622Z"
   },
   {
    "duration": 119,
    "start_time": "2023-04-02T10:55:53.922Z"
   },
   {
    "duration": 297,
    "start_time": "2023-04-02T10:55:54.043Z"
   },
   {
    "duration": 8,
    "start_time": "2023-04-02T10:55:54.342Z"
   },
   {
    "duration": 9,
    "start_time": "2023-04-02T10:55:54.351Z"
   },
   {
    "duration": 18,
    "start_time": "2023-04-02T10:55:54.361Z"
   },
   {
    "duration": 10,
    "start_time": "2023-04-02T10:55:54.380Z"
   },
   {
    "duration": 12,
    "start_time": "2023-04-02T10:55:54.393Z"
   },
   {
    "duration": 53,
    "start_time": "2023-04-02T10:55:54.407Z"
   },
   {
    "duration": 51,
    "start_time": "2023-04-02T10:55:54.462Z"
   },
   {
    "duration": 2848,
    "start_time": "2023-04-02T10:55:54.515Z"
   },
   {
    "duration": 507,
    "start_time": "2023-04-02T10:55:57.365Z"
   },
   {
    "duration": 523,
    "start_time": "2023-04-02T10:55:57.874Z"
   },
   {
    "duration": 1013,
    "start_time": "2023-04-02T10:55:58.398Z"
   },
   {
    "duration": 4,
    "start_time": "2023-04-02T10:55:59.413Z"
   },
   {
    "duration": 65,
    "start_time": "2023-04-02T10:55:59.419Z"
   },
   {
    "duration": 5,
    "start_time": "2023-04-02T10:55:59.487Z"
   },
   {
    "duration": 7,
    "start_time": "2023-04-02T10:55:59.494Z"
   },
   {
    "duration": 13,
    "start_time": "2023-04-02T10:55:59.503Z"
   },
   {
    "duration": 49,
    "start_time": "2023-04-02T10:55:59.518Z"
   },
   {
    "duration": 42,
    "start_time": "2023-04-02T10:55:59.568Z"
   },
   {
    "duration": 4661,
    "start_time": "2023-04-02T10:55:59.612Z"
   },
   {
    "duration": 4713,
    "start_time": "2023-04-02T10:56:04.275Z"
   },
   {
    "duration": 1474239,
    "start_time": "2023-04-02T10:56:08.990Z"
   },
   {
    "duration": 1483669,
    "start_time": "2023-04-02T11:20:43.231Z"
   },
   {
    "duration": 1327,
    "start_time": "2023-04-02T11:45:26.905Z"
   },
   {
    "duration": 1396,
    "start_time": "2023-04-02T11:45:28.236Z"
   },
   {
    "duration": 4,
    "start_time": "2023-04-02T11:45:29.635Z"
   },
   {
    "duration": 596,
    "start_time": "2023-04-02T11:45:29.642Z"
   },
   {
    "duration": 94,
    "start_time": "2023-04-02T11:45:30.240Z"
   },
   {
    "duration": 23,
    "start_time": "2023-04-02T11:45:30.336Z"
   },
   {
    "duration": 1515,
    "start_time": "2023-04-02T12:13:22.318Z"
   },
   {
    "duration": 829,
    "start_time": "2023-04-02T12:13:23.835Z"
   },
   {
    "duration": 328,
    "start_time": "2023-04-02T12:13:24.666Z"
   },
   {
    "duration": 119,
    "start_time": "2023-04-02T12:13:24.998Z"
   },
   {
    "duration": 343,
    "start_time": "2023-04-02T12:13:25.136Z"
   },
   {
    "duration": 8,
    "start_time": "2023-04-02T12:13:25.481Z"
   },
   {
    "duration": 48,
    "start_time": "2023-04-02T12:13:25.491Z"
   },
   {
    "duration": 69,
    "start_time": "2023-04-02T12:13:25.541Z"
   },
   {
    "duration": 57,
    "start_time": "2023-04-02T12:13:25.612Z"
   },
   {
    "duration": 38,
    "start_time": "2023-04-02T12:13:25.673Z"
   },
   {
    "duration": 79,
    "start_time": "2023-04-02T12:13:25.713Z"
   },
   {
    "duration": 55,
    "start_time": "2023-04-02T12:13:25.794Z"
   },
   {
    "duration": 3027,
    "start_time": "2023-04-02T12:13:25.852Z"
   },
   {
    "duration": 520,
    "start_time": "2023-04-02T12:13:28.881Z"
   },
   {
    "duration": 513,
    "start_time": "2023-04-02T12:13:29.403Z"
   },
   {
    "duration": 1054,
    "start_time": "2023-04-02T12:13:29.918Z"
   },
   {
    "duration": 4,
    "start_time": "2023-04-02T12:13:30.974Z"
   },
   {
    "duration": 107,
    "start_time": "2023-04-02T12:13:30.980Z"
   },
   {
    "duration": 21,
    "start_time": "2023-04-02T12:13:31.089Z"
   },
   {
    "duration": 35,
    "start_time": "2023-04-02T12:13:31.112Z"
   },
   {
    "duration": 59,
    "start_time": "2023-04-02T12:13:31.149Z"
   },
   {
    "duration": 42,
    "start_time": "2023-04-02T12:13:31.210Z"
   },
   {
    "duration": 40,
    "start_time": "2023-04-02T12:13:31.254Z"
   },
   {
    "duration": 4427,
    "start_time": "2023-04-02T12:13:31.296Z"
   },
   {
    "duration": 4429,
    "start_time": "2023-04-02T12:13:35.725Z"
   },
   {
    "duration": 2,
    "start_time": "2023-04-02T12:13:40.156Z"
   },
   {
    "duration": 14,
    "start_time": "2023-04-02T12:13:40.160Z"
   },
   {
    "duration": 1657,
    "start_time": "2023-04-02T12:13:40.177Z"
   },
   {
    "duration": 1403,
    "start_time": "2023-04-02T12:13:41.838Z"
   },
   {
    "duration": 92,
    "start_time": "2023-04-02T12:13:43.244Z"
   },
   {
    "duration": 812,
    "start_time": "2023-04-02T12:13:43.339Z"
   },
   {
    "duration": 80,
    "start_time": "2023-04-02T12:13:44.155Z"
   },
   {
    "duration": 39,
    "start_time": "2023-04-02T12:13:44.237Z"
   },
   {
    "duration": 1578,
    "start_time": "2023-04-02T12:16:43.663Z"
   },
   {
    "duration": 832,
    "start_time": "2023-04-02T12:16:45.249Z"
   },
   {
    "duration": 344,
    "start_time": "2023-04-02T12:16:46.083Z"
   },
   {
    "duration": 118,
    "start_time": "2023-04-02T12:16:46.430Z"
   },
   {
    "duration": 314,
    "start_time": "2023-04-02T12:16:46.551Z"
   },
   {
    "duration": 10,
    "start_time": "2023-04-02T12:16:46.867Z"
   },
   {
    "duration": 4,
    "start_time": "2023-04-02T12:16:46.879Z"
   },
   {
    "duration": 26,
    "start_time": "2023-04-02T12:16:46.885Z"
   },
   {
    "duration": 30,
    "start_time": "2023-04-02T12:16:46.913Z"
   },
   {
    "duration": 9,
    "start_time": "2023-04-02T12:16:46.952Z"
   },
   {
    "duration": 34,
    "start_time": "2023-04-02T12:16:46.962Z"
   },
   {
    "duration": 105,
    "start_time": "2023-04-02T12:16:46.998Z"
   },
   {
    "duration": 3169,
    "start_time": "2023-04-02T12:16:47.105Z"
   },
   {
    "duration": 575,
    "start_time": "2023-04-02T12:16:50.276Z"
   },
   {
    "duration": 561,
    "start_time": "2023-04-02T12:16:50.854Z"
   },
   {
    "duration": 1125,
    "start_time": "2023-04-02T12:16:51.418Z"
   },
   {
    "duration": 10,
    "start_time": "2023-04-02T12:16:52.544Z"
   },
   {
    "duration": 99,
    "start_time": "2023-04-02T12:16:52.556Z"
   },
   {
    "duration": 8,
    "start_time": "2023-04-02T12:16:52.661Z"
   },
   {
    "duration": 15,
    "start_time": "2023-04-02T12:16:52.671Z"
   },
   {
    "duration": 18,
    "start_time": "2023-04-02T12:16:52.688Z"
   },
   {
    "duration": 40,
    "start_time": "2023-04-02T12:16:52.708Z"
   },
   {
    "duration": 8,
    "start_time": "2023-04-02T12:16:52.753Z"
   },
   {
    "duration": 5254,
    "start_time": "2023-04-02T12:16:52.762Z"
   },
   {
    "duration": 4907,
    "start_time": "2023-04-02T12:16:58.018Z"
   },
   {
    "duration": 14,
    "start_time": "2023-04-02T12:17:02.927Z"
   },
   {
    "duration": 14,
    "start_time": "2023-04-02T12:17:02.949Z"
   },
   {
    "duration": 2098,
    "start_time": "2023-04-02T12:17:02.966Z"
   },
   {
    "duration": 2530,
    "start_time": "2023-04-02T12:17:05.133Z"
   },
   {
    "duration": 6,
    "start_time": "2023-04-02T12:17:07.666Z"
   },
   {
    "duration": 2174,
    "start_time": "2023-04-02T12:17:07.674Z"
   },
   {
    "duration": 9,
    "start_time": "2023-04-02T12:17:09.854Z"
   },
   {
    "duration": 82,
    "start_time": "2023-04-02T12:17:09.865Z"
   },
   {
    "duration": 1942,
    "start_time": "2023-04-02T12:17:16.251Z"
   },
   {
    "duration": 815,
    "start_time": "2023-04-02T12:17:18.195Z"
   },
   {
    "duration": 301,
    "start_time": "2023-04-02T12:17:19.012Z"
   },
   {
    "duration": 103,
    "start_time": "2023-04-02T12:17:19.316Z"
   },
   {
    "duration": 301,
    "start_time": "2023-04-02T12:17:19.438Z"
   },
   {
    "duration": 10,
    "start_time": "2023-04-02T12:17:19.747Z"
   },
   {
    "duration": 16,
    "start_time": "2023-04-02T12:17:19.758Z"
   },
   {
    "duration": 20,
    "start_time": "2023-04-02T12:17:19.776Z"
   },
   {
    "duration": 10,
    "start_time": "2023-04-02T12:17:19.798Z"
   },
   {
    "duration": 37,
    "start_time": "2023-04-02T12:17:19.811Z"
   },
   {
    "duration": 33,
    "start_time": "2023-04-02T12:17:19.851Z"
   },
   {
    "duration": 80,
    "start_time": "2023-04-02T12:17:19.886Z"
   },
   {
    "duration": 2999,
    "start_time": "2023-04-02T12:17:19.968Z"
   },
   {
    "duration": 573,
    "start_time": "2023-04-02T12:17:22.971Z"
   },
   {
    "duration": 568,
    "start_time": "2023-04-02T12:17:23.550Z"
   },
   {
    "duration": 1148,
    "start_time": "2023-04-02T12:17:24.122Z"
   },
   {
    "duration": 5,
    "start_time": "2023-04-02T12:17:25.273Z"
   },
   {
    "duration": 81,
    "start_time": "2023-04-02T12:17:25.280Z"
   },
   {
    "duration": 5,
    "start_time": "2023-04-02T12:17:25.363Z"
   },
   {
    "duration": 10,
    "start_time": "2023-04-02T12:17:25.369Z"
   },
   {
    "duration": 19,
    "start_time": "2023-04-02T12:17:25.381Z"
   },
   {
    "duration": 41,
    "start_time": "2023-04-02T12:17:25.402Z"
   },
   {
    "duration": 3,
    "start_time": "2023-04-02T12:17:25.446Z"
   },
   {
    "duration": 4930,
    "start_time": "2023-04-02T12:17:25.455Z"
   },
   {
    "duration": 4854,
    "start_time": "2023-04-02T12:17:30.388Z"
   },
   {
    "duration": 7,
    "start_time": "2023-04-02T12:17:35.246Z"
   },
   {
    "duration": 21,
    "start_time": "2023-04-02T12:17:35.254Z"
   },
   {
    "duration": 3664,
    "start_time": "2023-04-02T12:17:35.280Z"
   },
   {
    "duration": 2311,
    "start_time": "2023-04-02T12:17:38.950Z"
   },
   {
    "duration": 6,
    "start_time": "2023-04-02T12:17:41.333Z"
   },
   {
    "duration": 814,
    "start_time": "2023-04-02T12:17:41.340Z"
   },
   {
    "duration": 5,
    "start_time": "2023-04-02T12:17:42.158Z"
   },
   {
    "duration": 110,
    "start_time": "2023-04-02T12:17:42.165Z"
   },
   {
    "duration": 1687,
    "start_time": "2023-04-02T12:27:01.342Z"
   },
   {
    "duration": 780,
    "start_time": "2023-04-02T12:27:03.032Z"
   },
   {
    "duration": 314,
    "start_time": "2023-04-02T12:27:03.815Z"
   },
   {
    "duration": 109,
    "start_time": "2023-04-02T12:27:04.134Z"
   },
   {
    "duration": 293,
    "start_time": "2023-04-02T12:27:04.245Z"
   },
   {
    "duration": 9,
    "start_time": "2023-04-02T12:27:04.540Z"
   },
   {
    "duration": 6,
    "start_time": "2023-04-02T12:27:04.551Z"
   },
   {
    "duration": 22,
    "start_time": "2023-04-02T12:27:04.558Z"
   },
   {
    "duration": 11,
    "start_time": "2023-04-02T12:27:04.582Z"
   },
   {
    "duration": 8,
    "start_time": "2023-04-02T12:27:04.595Z"
   },
   {
    "duration": 57,
    "start_time": "2023-04-02T12:27:04.605Z"
   },
   {
    "duration": 71,
    "start_time": "2023-04-02T12:27:04.664Z"
   },
   {
    "duration": 2820,
    "start_time": "2023-04-02T12:27:04.737Z"
   },
   {
    "duration": 506,
    "start_time": "2023-04-02T12:27:07.559Z"
   },
   {
    "duration": 456,
    "start_time": "2023-04-02T12:27:08.068Z"
   },
   {
    "duration": 964,
    "start_time": "2023-04-02T12:27:08.526Z"
   },
   {
    "duration": 5,
    "start_time": "2023-04-02T12:27:09.492Z"
   },
   {
    "duration": 82,
    "start_time": "2023-04-02T12:27:09.498Z"
   },
   {
    "duration": 5,
    "start_time": "2023-04-02T12:27:09.594Z"
   },
   {
    "duration": 17,
    "start_time": "2023-04-02T12:27:09.601Z"
   },
   {
    "duration": 20,
    "start_time": "2023-04-02T12:27:09.620Z"
   },
   {
    "duration": 39,
    "start_time": "2023-04-02T12:27:09.642Z"
   },
   {
    "duration": 10,
    "start_time": "2023-04-02T12:27:09.684Z"
   },
   {
    "duration": 4552,
    "start_time": "2023-04-02T12:27:09.697Z"
   },
   {
    "duration": 4507,
    "start_time": "2023-04-02T12:27:14.251Z"
   },
   {
    "duration": 3,
    "start_time": "2023-04-02T12:27:18.760Z"
   },
   {
    "duration": 7,
    "start_time": "2023-04-02T12:27:18.765Z"
   },
   {
    "duration": 1464,
    "start_time": "2023-04-02T12:27:18.775Z"
   },
   {
    "duration": 1697,
    "start_time": "2023-04-02T12:27:20.242Z"
   },
   {
    "duration": 92,
    "start_time": "2023-04-02T12:27:21.943Z"
   },
   {
    "duration": 800,
    "start_time": "2023-04-02T12:27:22.039Z"
   },
   {
    "duration": 5,
    "start_time": "2023-04-02T12:27:22.842Z"
   },
   {
    "duration": 90,
    "start_time": "2023-04-02T12:27:22.850Z"
   },
   {
    "duration": 1692,
    "start_time": "2023-04-02T12:28:55.055Z"
   },
   {
    "duration": 750,
    "start_time": "2023-04-02T12:28:56.749Z"
   },
   {
    "duration": 308,
    "start_time": "2023-04-02T12:28:57.502Z"
   },
   {
    "duration": 95,
    "start_time": "2023-04-02T12:28:57.813Z"
   },
   {
    "duration": 312,
    "start_time": "2023-04-02T12:28:57.910Z"
   },
   {
    "duration": 15,
    "start_time": "2023-04-02T12:28:58.224Z"
   },
   {
    "duration": 10,
    "start_time": "2023-04-02T12:28:58.241Z"
   },
   {
    "duration": 15,
    "start_time": "2023-04-02T12:28:58.253Z"
   },
   {
    "duration": 10,
    "start_time": "2023-04-02T12:28:58.269Z"
   },
   {
    "duration": 8,
    "start_time": "2023-04-02T12:28:58.281Z"
   },
   {
    "duration": 61,
    "start_time": "2023-04-02T12:28:58.291Z"
   },
   {
    "duration": 55,
    "start_time": "2023-04-02T12:28:58.353Z"
   },
   {
    "duration": 2778,
    "start_time": "2023-04-02T12:28:58.409Z"
   },
   {
    "duration": 487,
    "start_time": "2023-04-02T12:29:01.189Z"
   },
   {
    "duration": 486,
    "start_time": "2023-04-02T12:29:01.678Z"
   },
   {
    "duration": 945,
    "start_time": "2023-04-02T12:29:02.167Z"
   },
   {
    "duration": 5,
    "start_time": "2023-04-02T12:29:03.114Z"
   },
   {
    "duration": 76,
    "start_time": "2023-04-02T12:29:03.121Z"
   },
   {
    "duration": 4,
    "start_time": "2023-04-02T12:29:03.198Z"
   },
   {
    "duration": 18,
    "start_time": "2023-04-02T12:29:03.203Z"
   },
   {
    "duration": 29,
    "start_time": "2023-04-02T12:29:03.223Z"
   },
   {
    "duration": 27,
    "start_time": "2023-04-02T12:29:03.253Z"
   },
   {
    "duration": 39,
    "start_time": "2023-04-02T12:29:03.282Z"
   },
   {
    "duration": 4311,
    "start_time": "2023-04-02T12:29:03.323Z"
   },
   {
    "duration": 4402,
    "start_time": "2023-04-02T12:29:07.636Z"
   },
   {
    "duration": 1520,
    "start_time": "2023-04-02T12:56:41.787Z"
   },
   {
    "duration": 723,
    "start_time": "2023-04-02T12:56:43.308Z"
   },
   {
    "duration": 345,
    "start_time": "2023-04-02T12:56:44.033Z"
   },
   {
    "duration": 91,
    "start_time": "2023-04-02T12:56:44.380Z"
   },
   {
    "duration": 296,
    "start_time": "2023-04-02T12:56:44.473Z"
   },
   {
    "duration": 8,
    "start_time": "2023-04-02T12:56:44.771Z"
   },
   {
    "duration": 22,
    "start_time": "2023-04-02T12:56:44.781Z"
   },
   {
    "duration": 27,
    "start_time": "2023-04-02T12:56:44.806Z"
   },
   {
    "duration": 16,
    "start_time": "2023-04-02T12:56:44.836Z"
   },
   {
    "duration": 8,
    "start_time": "2023-04-02T12:56:44.855Z"
   },
   {
    "duration": 41,
    "start_time": "2023-04-02T12:56:44.865Z"
   },
   {
    "duration": 68,
    "start_time": "2023-04-02T12:56:44.908Z"
   },
   {
    "duration": 2794,
    "start_time": "2023-04-02T12:56:44.978Z"
   },
   {
    "duration": 509,
    "start_time": "2023-04-02T12:56:47.774Z"
   },
   {
    "duration": 464,
    "start_time": "2023-04-02T12:56:48.285Z"
   },
   {
    "duration": 943,
    "start_time": "2023-04-02T12:56:48.751Z"
   },
   {
    "duration": 4,
    "start_time": "2023-04-02T12:56:49.695Z"
   },
   {
    "duration": 70,
    "start_time": "2023-04-02T12:56:49.701Z"
   },
   {
    "duration": 4,
    "start_time": "2023-04-02T12:56:49.773Z"
   },
   {
    "duration": 25,
    "start_time": "2023-04-02T12:56:49.778Z"
   },
   {
    "duration": 19,
    "start_time": "2023-04-02T12:56:49.805Z"
   },
   {
    "duration": 23,
    "start_time": "2023-04-02T12:56:49.826Z"
   },
   {
    "duration": 3,
    "start_time": "2023-04-02T12:56:49.851Z"
   },
   {
    "duration": 4414,
    "start_time": "2023-04-02T12:56:49.856Z"
   },
   {
    "duration": 4725,
    "start_time": "2023-04-02T12:56:54.272Z"
   },
   {
    "duration": 3,
    "start_time": "2023-04-02T12:56:58.999Z"
   },
   {
    "duration": 7,
    "start_time": "2023-04-02T12:56:59.006Z"
   },
   {
    "duration": 1324,
    "start_time": "2023-04-02T12:56:59.016Z"
   },
   {
    "duration": 1690,
    "start_time": "2023-04-02T12:57:00.344Z"
   },
   {
    "duration": 10,
    "start_time": "2023-04-02T12:57:02.039Z"
   },
   {
    "duration": 804,
    "start_time": "2023-04-02T12:57:02.134Z"
   },
   {
    "duration": 94,
    "start_time": "2023-04-02T12:57:02.941Z"
   },
   {
    "duration": 55,
    "start_time": "2023-04-02T12:57:03.037Z"
   },
   {
    "duration": 1474,
    "start_time": "2023-04-02T12:59:31.308Z"
   },
   {
    "duration": 708,
    "start_time": "2023-04-02T12:59:32.784Z"
   },
   {
    "duration": 312,
    "start_time": "2023-04-02T12:59:33.494Z"
   },
   {
    "duration": 92,
    "start_time": "2023-04-02T12:59:33.809Z"
   },
   {
    "duration": 311,
    "start_time": "2023-04-02T12:59:33.903Z"
   },
   {
    "duration": 19,
    "start_time": "2023-04-02T12:59:34.216Z"
   },
   {
    "duration": 4,
    "start_time": "2023-04-02T12:59:34.238Z"
   },
   {
    "duration": 24,
    "start_time": "2023-04-02T12:59:34.244Z"
   },
   {
    "duration": 13,
    "start_time": "2023-04-02T12:59:34.270Z"
   },
   {
    "duration": 9,
    "start_time": "2023-04-02T12:59:34.286Z"
   },
   {
    "duration": 66,
    "start_time": "2023-04-02T12:59:34.297Z"
   },
   {
    "duration": 54,
    "start_time": "2023-04-02T12:59:34.365Z"
   },
   {
    "duration": 2831,
    "start_time": "2023-04-02T12:59:34.434Z"
   },
   {
    "duration": 512,
    "start_time": "2023-04-02T12:59:37.267Z"
   },
   {
    "duration": 545,
    "start_time": "2023-04-02T12:59:37.781Z"
   },
   {
    "duration": 962,
    "start_time": "2023-04-02T12:59:38.328Z"
   },
   {
    "duration": 4,
    "start_time": "2023-04-02T12:59:39.291Z"
   },
   {
    "duration": 69,
    "start_time": "2023-04-02T12:59:39.297Z"
   },
   {
    "duration": 5,
    "start_time": "2023-04-02T12:59:39.367Z"
   },
   {
    "duration": 22,
    "start_time": "2023-04-02T12:59:39.374Z"
   },
   {
    "duration": 27,
    "start_time": "2023-04-02T12:59:39.398Z"
   },
   {
    "duration": 40,
    "start_time": "2023-04-02T12:59:39.426Z"
   },
   {
    "duration": 4,
    "start_time": "2023-04-02T12:59:39.469Z"
   },
   {
    "duration": 4289,
    "start_time": "2023-04-02T12:59:39.474Z"
   },
   {
    "duration": 4425,
    "start_time": "2023-04-02T12:59:43.765Z"
   },
   {
    "duration": 1562313,
    "start_time": "2023-04-02T12:59:48.192Z"
   },
   {
    "duration": 1484773,
    "start_time": "2023-04-02T13:25:50.506Z"
   },
   {
    "duration": 2450,
    "start_time": "2023-04-02T13:50:35.283Z"
   },
   {
    "duration": 2095,
    "start_time": "2023-04-02T13:50:37.740Z"
   },
   {
    "duration": 8,
    "start_time": "2023-04-02T13:50:39.843Z"
   },
   {
    "duration": 1191,
    "start_time": "2023-04-02T13:50:39.853Z"
   },
   {
    "duration": 4,
    "start_time": "2023-04-02T13:50:41.053Z"
   },
   {
    "duration": 12,
    "start_time": "2023-04-02T13:50:41.058Z"
   },
   {
    "duration": 1402,
    "start_time": "2023-04-02T14:38:34.276Z"
   },
   {
    "duration": 723,
    "start_time": "2023-04-02T14:38:35.680Z"
   },
   {
    "duration": 307,
    "start_time": "2023-04-02T14:38:36.405Z"
   },
   {
    "duration": 144,
    "start_time": "2023-04-02T14:38:36.714Z"
   },
   {
    "duration": 330,
    "start_time": "2023-04-02T14:38:36.860Z"
   },
   {
    "duration": 10,
    "start_time": "2023-04-02T14:38:37.192Z"
   },
   {
    "duration": 5,
    "start_time": "2023-04-02T14:38:37.205Z"
   },
   {
    "duration": 35,
    "start_time": "2023-04-02T14:38:37.212Z"
   },
   {
    "duration": 13,
    "start_time": "2023-04-02T14:38:37.249Z"
   },
   {
    "duration": 9,
    "start_time": "2023-04-02T14:38:37.265Z"
   },
   {
    "duration": 63,
    "start_time": "2023-04-02T14:38:37.277Z"
   },
   {
    "duration": 56,
    "start_time": "2023-04-02T14:38:37.342Z"
   },
   {
    "duration": 2801,
    "start_time": "2023-04-02T14:38:37.400Z"
   },
   {
    "duration": 498,
    "start_time": "2023-04-02T14:38:40.203Z"
   },
   {
    "duration": 491,
    "start_time": "2023-04-02T14:38:40.702Z"
   },
   {
    "duration": 961,
    "start_time": "2023-04-02T14:38:41.195Z"
   },
   {
    "duration": 4,
    "start_time": "2023-04-02T14:38:42.158Z"
   },
   {
    "duration": 71,
    "start_time": "2023-04-02T14:38:42.164Z"
   },
   {
    "duration": 4,
    "start_time": "2023-04-02T14:38:42.237Z"
   },
   {
    "duration": 12,
    "start_time": "2023-04-02T14:38:42.243Z"
   },
   {
    "duration": 18,
    "start_time": "2023-04-02T14:38:42.257Z"
   },
   {
    "duration": 33,
    "start_time": "2023-04-02T14:38:42.277Z"
   },
   {
    "duration": 24,
    "start_time": "2023-04-02T14:38:42.312Z"
   },
   {
    "duration": 4334,
    "start_time": "2023-04-02T14:38:42.338Z"
   },
   {
    "duration": 4379,
    "start_time": "2023-04-02T14:38:46.674Z"
   },
   {
    "duration": 3,
    "start_time": "2023-04-02T14:38:51.055Z"
   },
   {
    "duration": 18,
    "start_time": "2023-04-02T14:38:51.060Z"
   },
   {
    "duration": 1553,
    "start_time": "2023-04-02T14:38:51.082Z"
   },
   {
    "duration": 1604,
    "start_time": "2023-04-02T14:38:52.637Z"
   },
   {
    "duration": 90,
    "start_time": "2023-04-02T14:38:54.245Z"
   },
   {
    "duration": 47929,
    "start_time": "2023-04-02T14:38:54.338Z"
   },
   {
    "duration": 3,
    "start_time": "2023-04-02T14:39:42.269Z"
   },
   {
    "duration": 12,
    "start_time": "2023-04-02T14:39:42.274Z"
   },
   {
    "duration": 2350,
    "start_time": "2023-04-02T16:10:31.473Z"
   },
   {
    "duration": 1770,
    "start_time": "2023-04-02T16:10:33.825Z"
   },
   {
    "duration": 235,
    "start_time": "2023-04-02T16:10:35.596Z"
   },
   {
    "duration": 83,
    "start_time": "2023-04-02T16:10:35.833Z"
   },
   {
    "duration": 232,
    "start_time": "2023-04-02T16:10:35.918Z"
   },
   {
    "duration": 17,
    "start_time": "2023-04-02T16:10:36.151Z"
   },
   {
    "duration": 3,
    "start_time": "2023-04-02T16:10:36.170Z"
   },
   {
    "duration": 16,
    "start_time": "2023-04-02T16:10:36.175Z"
   },
   {
    "duration": 9,
    "start_time": "2023-04-02T16:10:36.193Z"
   },
   {
    "duration": 7,
    "start_time": "2023-04-02T16:10:36.204Z"
   },
   {
    "duration": 56,
    "start_time": "2023-04-02T16:10:36.213Z"
   },
   {
    "duration": 60,
    "start_time": "2023-04-02T16:10:36.271Z"
   },
   {
    "duration": 2246,
    "start_time": "2023-04-02T16:10:36.333Z"
   },
   {
    "duration": 398,
    "start_time": "2023-04-02T16:10:38.582Z"
   },
   {
    "duration": 426,
    "start_time": "2023-04-02T16:10:38.982Z"
   },
   {
    "duration": 787,
    "start_time": "2023-04-02T16:10:39.409Z"
   },
   {
    "duration": 4,
    "start_time": "2023-04-02T16:10:40.197Z"
   },
   {
    "duration": 45,
    "start_time": "2023-04-02T16:10:40.203Z"
   },
   {
    "duration": 20,
    "start_time": "2023-04-02T16:10:40.249Z"
   },
   {
    "duration": 12,
    "start_time": "2023-04-02T16:10:40.271Z"
   },
   {
    "duration": 8,
    "start_time": "2023-04-02T16:10:40.284Z"
   },
   {
    "duration": 19,
    "start_time": "2023-04-02T16:10:40.293Z"
   },
   {
    "duration": 4,
    "start_time": "2023-04-02T16:11:52.205Z"
   },
   {
    "duration": 41022,
    "start_time": "2023-04-02T16:11:57.519Z"
   },
   {
    "duration": 4,
    "start_time": "2023-04-02T16:12:48.640Z"
   },
   {
    "duration": 12,
    "start_time": "2023-04-02T16:12:56.743Z"
   }
  ],
  "kernelspec": {
   "display_name": "Python 3 (ipykernel)",
   "language": "python",
   "name": "python3"
  },
  "language_info": {
   "codemirror_mode": {
    "name": "ipython",
    "version": 3
   },
   "file_extension": ".py",
   "mimetype": "text/x-python",
   "name": "python",
   "nbconvert_exporter": "python",
   "pygments_lexer": "ipython3",
   "version": "3.13.5"
  },
  "toc": {
   "base_numbering": 1,
   "nav_menu": {},
   "number_sections": true,
   "sideBar": true,
   "skip_h1_title": true,
   "title_cell": "Содержание",
   "title_sidebar": "Contents",
   "toc_cell": true,
   "toc_position": {
    "height": "calc(100% - 180px)",
    "left": "10px",
    "top": "150px",
    "width": "165px"
   },
   "toc_section_display": true,
   "toc_window_display": true
  }
 },
 "nbformat": 4,
 "nbformat_minor": 4
}
